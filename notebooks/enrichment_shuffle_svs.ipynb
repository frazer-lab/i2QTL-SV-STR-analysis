{
 "cells": [
  {
   "cell_type": "code",
   "execution_count": 1,
   "metadata": {
    "collapsed": true
   },
   "outputs": [],
   "source": [
    "%matplotlib inline\n",
    "from __future__ import division\n",
    "import numpy as np\n",
    "import os\n",
    "import sys\n",
    "import datetime\n",
    "from subprocess import call\n",
    "import subprocess\n",
    "import glob\n",
    "import djPyi2 as DJ\n",
    "from djPyi2 import Common as CM\n",
    "from djPyi2 import mpltools as axtools\n",
    "\n",
    "\n",
    "import pandas as pd\n",
    "import csv\n",
    "import seaborn as sns\n",
    "import matplotlib as mpl\n",
    "import matplotlib.pyplot as plt\n",
    "import copy \n",
    "import pybedtools as pbt\n",
    "import ciepy\n",
    "import cardipspy as cpy\n",
    "import itertools\n",
    "import tempfile\n",
    "import six\n",
    "import networkx as nx\n",
    "import scipy.stats as stats\n",
    "pd.set_option('display.max_columns', 500)\n",
    "pd.set_option('display.max_rows', 100)\n",
    "from mpl_toolkits.axes_grid1 import  make_axes_locatable\n",
    "import datetime\n",
    "\n",
    "from scipy.stats import mode\n",
    "dy_name = 'enrichment_shuffle_svs'\n",
    "\n",
    "private_out = os.path.join(DJ.root, 'private_output', dy_name)\n",
    "if not os.path.exists(private_out):\n",
    "    cpy.makedir(private_out)"
   ]
  },
  {
   "cell_type": "markdown",
   "metadata": {},
   "source": [
    "# Set pbt temp dir"
   ]
  },
  {
   "cell_type": "code",
   "execution_count": 2,
   "metadata": {
    "collapsed": true
   },
   "outputs": [],
   "source": [
    "pybedtools_tempdir = private_out + '/temp'"
   ]
  },
  {
   "cell_type": "code",
   "execution_count": 4,
   "metadata": {
    "collapsed": true
   },
   "outputs": [],
   "source": [
    "DJ.makedir(pybedtools_tempdir)"
   ]
  },
  {
   "cell_type": "code",
   "execution_count": 5,
   "metadata": {},
   "outputs": [],
   "source": [
    "pbt.set_tempdir(pybedtools_tempdir)"
   ]
  },
  {
   "cell_type": "markdown",
   "metadata": {},
   "source": [
    "# Set up parallel engines (to do shuffling/permutations)"
   ]
  },
  {
   "cell_type": "code",
   "execution_count": 222,
   "metadata": {
    "collapsed": true
   },
   "outputs": [],
   "source": [
    "# import socket\n",
    "# if socket.gethostname() == 'fl-hn1' or socket.gethostname() == 'fl-hn2':\n",
    "#     pbt.set_tempdir(pybedtools_tempdir)"
   ]
  },
  {
   "cell_type": "code",
   "execution_count": 10,
   "metadata": {
    "collapsed": true
   },
   "outputs": [],
   "source": [
    "from ipyparallel import Client"
   ]
  },
  {
   "cell_type": "code",
   "execution_count": 11,
   "metadata": {},
   "outputs": [
    {
     "name": "stdout",
     "output_type": "stream",
     "text": [
      "Cluster has 100 engines.\n"
     ]
    }
   ],
   "source": [
    "parallel_client = Client(profile='parallel-flh2')\n",
    "dview = parallel_client[:]\n",
    "print('Cluster has {} engines.'.format(len(parallel_client.ids)))"
   ]
  },
  {
   "cell_type": "code",
   "execution_count": 12,
   "metadata": {},
   "outputs": [
    {
     "name": "stdout",
     "output_type": "stream",
     "text": [
      "importing pybedtools on engine(s)\n",
      "importing pandas on engine(s)\n",
      "importing subprocess on engine(s)\n",
      "importing os on engine(s)\n",
      "importing copy on engine(s)\n",
      "importing numpy on engine(s)\n",
      "importing scipy on engine(s)\n"
     ]
    }
   ],
   "source": [
    "with dview.sync_imports():\n",
    "    import pybedtools as pbt\n",
    "    import pandas as pd\n",
    "    import subprocess\n",
    "    import os\n",
    "    import copy\n",
    "    import numpy\n",
    "    import scipy"
   ]
  },
  {
   "cell_type": "code",
   "execution_count": 13,
   "metadata": {
    "collapsed": true
   },
   "outputs": [],
   "source": [
    "%px pbt = pybedtools\n",
    "%px pd = pandas\n",
    "%px np = numpy\n",
    "%px pbt.set_tempdir('/frazer01/projects/hipsci/analysis/i2QTL-sv-analysis/private_output/enrichment_shuffle_svs/temp')"
   ]
  },
  {
   "cell_type": "markdown",
   "metadata": {},
   "source": [
    "# Make Bed Files For Enrichments"
   ]
  },
  {
   "cell_type": "code",
   "execution_count": 14,
   "metadata": {
    "collapsed": true
   },
   "outputs": [],
   "source": [
    "def prep_combined_info(df):\n",
    "    df = df.copy()\n",
    "    df['chrom'] = df.Chr\n",
    "    df['Chr'] = df.Chr.apply(lambda x: 'chr{}'.format(x))\n",
    "    df['Start'] = df.Start.astype(int)\n",
    "    df['End'] = df['End'].astype(int)\n",
    "    df = df[df.SVTYPE != 'Non_Bi']\n",
    "    \n",
    "    inds = df[df.Caller == 'GS_LCNV'].index.tolist()\n",
    "    df.loc[inds, 'SVTYPE_i2QTL_unrel'] = df.loc[inds, 'SVTYPE']\n",
    "    df.loc[inds, 'SVTYPE_iPSCORE'] = df.loc[inds, 'SVTYPE']\n",
    "    df.loc[inds, 'SVTYPE_hipsci_fib'] = df.loc[inds, 'SVTYPE']\n",
    "    df = df[df.MAF_i2QTL_unrel > 0]\n",
    "    \n",
    "    inds = df[(df.SVTYPE_i2QTL_unrel == 'mCNV') & (df.NNREF_i2QTL_unrel == 1)].index.tolist()\n",
    "    df.loc[inds, 'SVTYPE_i2QTL_unrel'] = 'DUP'\n",
    "    \n",
    "    df['frequency_category'] = False\n",
    "    inds = df[df.MAF_i2QTL_unrel > 0.05].index\n",
    "    df.loc[inds, 'frequency_category'] = 'common'\n",
    "    \n",
    "    inds = df[(df.MAF_i2QTL_unrel <= 0.05) & (df.NNREF_i2QTL_unrel > 1)].index\n",
    "    df.loc[inds, 'frequency_category'] = 'rare'\n",
    "    \n",
    "    inds = df[(df.NNREF_i2QTL_unrel == 1) & (df.SVTYPE_i2QTL_unrel != 'mCNV')].index \n",
    "    df.loc[inds, 'frequency_category'] = 'singleton'\n",
    "    \n",
    "    df['SVTYPE_Freq'] = df.SVTYPE_i2QTL_unrel + '_' + df.frequency_category\n",
    "    \n",
    "    return df\n",
    "\n",
    "def prep_hipstr(df):\n",
    "    df = df.copy()\n",
    "    df = df[df.in_vcf==True]\n",
    "    df['START'] = df.START.astype(int)\n",
    "    df['END'] = df['END'].astype(int)\n",
    "    df['NREF_DOSAGE_i2QTL_unrel'] = df['NREF_DOSAGE_i2QTL_unrel'].astype(int)\n",
    "    df['NREF_FRAC_DOSAGE_i2QTL_unrel'] = df['NREF_FRAC_DOSAGE_i2QTL_unrel'].astype(float)\n",
    "    df['NREF_DOSAGE_i2QTL_unrel'] = df['NREF_DOSAGE_i2QTL_unrel'].astype(int)\n",
    "    df = df.sort_values(['CHROM', 'START', 'END'])\n",
    "    df = df[df['NREF_DOSAGE_i2QTL_unrel'] > 0]\n",
    "    df['CHROM'] = df['CHROM'].apply(lambda x: 'chr{}'.format(x))\n",
    "    \n",
    "    df['frequency_category'] = False\n",
    "    # common \n",
    "    inds = df[df['NREF_FRAC_DOSAGE_i2QTL_unrel'] > 0.05].index\n",
    "    df.loc[inds, 'frequency_category'] = 'common'\n",
    "    \n",
    "    # rare but not singletons\n",
    "    inds = df[(df['NREF_FRAC_DOSAGE_i2QTL_unrel'] <= 0.05) & (df.NREF_DOSAGE_i2QTL_unrel > 1)].index\n",
    "    df.loc[inds, 'frequency_category'] = 'rare'\n",
    "\n",
    "    # singleton variants in i2QTL unrel\n",
    "    inds = df[(df['NREF_DOSAGE_i2QTL_unrel'] == 1)].index\n",
    "    df.loc[inds, 'frequency_category'] = 'singleton'\n",
    "    \n",
    "    df['SVTYPE_Freq'] = df.SVTYPE + '_' + df.frequency_category\n",
    "    \n",
    "    return df\n",
    "\n",
    "\n",
    "def add_chr(bt):\n",
    "    \"\"\"Add 'chr' to chromosomes for BedTool object\n",
    "    Parameters\n",
    "    ----------\n",
    "    bt : pybedtools.BedTool\n",
    "        BedTool to add 'chr' to.\n",
    "    Returns\n",
    "    -------\n",
    "    out : pybedtools.BedTool\n",
    "        New BedTool with 'chr' added to chromosome names.\n",
    "    \"\"\"\n",
    "    try:\n",
    "        df = pd.read_table(bt.fn, header=None, dtype=str)\n",
    "    # If the try fails, I assume that's because the file has a trackline. Note\n",
    "    # that I don't preserve the trackline (I'm not sure how pybedtools keeps\n",
    "    # track of it anyway).\n",
    "    except pd.parser.CParserError:\n",
    "        df = pd.read_table(bt.fn, header=None, skiprows=1, dtype=str)\n",
    "    df[0] = 'chr' + df[0]\n",
    "    s = '\\n'.join(df.astype(str).apply(lambda x: '\\t'.join(x), axis=1)) + '\\n'\n",
    "    out = pbt.BedTool(s, from_string=True)\n",
    "    return out"
   ]
  },
  {
   "cell_type": "markdown",
   "metadata": {},
   "source": [
    "# Make Single Input Bed with SV/STRs\n",
    "We will label each SVTYPE and its frequency label for convenience when counting up intersections"
   ]
  },
  {
   "cell_type": "code",
   "execution_count": 92,
   "metadata": {
    "collapsed": true
   },
   "outputs": [],
   "source": [
    "bed_output = private_out + '/bed_files_svs'\n",
    "DJ.makedir(bed_output)"
   ]
  },
  {
   "cell_type": "code",
   "execution_count": 153,
   "metadata": {},
   "outputs": [],
   "source": [
    "combined_non_redun_info = pd.read_pickle('/frazer01/projects/hipsci/analysis/i2QTL-sv-analysis/private_output/combine_mc_variant_info/combined_non_redun_info_new.pkl').pipe(prep_combined_info)\n",
    "# combined_non_redun_info = combined_non_redun_info[combined_non_redun_info.SVTYPE != 'Non_Bi']"
   ]
  },
  {
   "cell_type": "code",
   "execution_count": 154,
   "metadata": {},
   "outputs": [],
   "source": [
    "cols = ['Chr', 'Start', 'End', 'ID', 'SVTYPE_Freq']\n",
    "\n",
    "fn_bedtool = os.path.join(bed_output, 'SV_non_redun_all.bed')\n",
    "bt_sv = pbt.BedTool.from_dataframe(combined_non_redun_info[cols]).moveto(fn_bedtool)"
   ]
  },
  {
   "cell_type": "code",
   "execution_count": 31,
   "metadata": {
    "collapsed": true
   },
   "outputs": [],
   "source": [
    "hipstr_combined_annotations = pd.read_pickle('/frazer01/projects/hipsci/analysis/i2QTL-sv-analysis/private_output/hipstr_final_vcf/hipstr_combined_annotations.pkl').pipe(prep_hipstr)"
   ]
  },
  {
   "cell_type": "code",
   "execution_count": 33,
   "metadata": {
    "collapsed": true
   },
   "outputs": [],
   "source": [
    "cols =['CHROM', 'START', 'END', 'ID', 'SVTYPE_Freq']"
   ]
  },
  {
   "cell_type": "code",
   "execution_count": 107,
   "metadata": {},
   "outputs": [],
   "source": [
    "fn_bedtool = os.path.join(bed_output, 'STR_non_redun_all.bed')\n",
    "bt_str = pbt.BedTool.from_dataframe(hipstr_combined_annotations[cols]).moveto(fn_bedtool)"
   ]
  },
  {
   "cell_type": "code",
   "execution_count": 93,
   "metadata": {
    "collapsed": true
   },
   "outputs": [],
   "source": [
    "fn_bedtool = os.path.join(bed_output, 'STR_non_redun_all.bed')\n",
    "bt_str = pbt.BedTool(fn_bedtool)"
   ]
  },
  {
   "cell_type": "code",
   "execution_count": 155,
   "metadata": {
    "collapsed": true
   },
   "outputs": [],
   "source": [
    "bed_output = private_out + '/bed_files_permutations'\n",
    "DJ.makedir(bed_output)"
   ]
  },
  {
   "cell_type": "code",
   "execution_count": 157,
   "metadata": {
    "collapsed": true
   },
   "outputs": [],
   "source": [
    "## permutation 0 is non-permuted data\n",
    "fn_bedtool = os.path.join(bed_output, 'vars_all_perm0.bed')\n",
    "bt_all = bt_sv.cat(bt_str, postmerge=False).sort().moveto(fn_bedtool)"
   ]
  },
  {
   "cell_type": "markdown",
   "metadata": {},
   "source": [
    "# Number of Vars per Category"
   ]
  },
  {
   "cell_type": "code",
   "execution_count": 251,
   "metadata": {},
   "outputs": [],
   "source": [
    "vars_per_cat_dict = combined_non_redun_info.SVTYPE_Freq.value_counts().to_dict()\n",
    "\n",
    "d = hipstr_combined_annotations.SVTYPE_Freq.value_counts().to_dict()\n",
    "\n",
    "vars_per_cat_dict.update(d)"
   ]
  },
  {
   "cell_type": "code",
   "execution_count": 255,
   "metadata": {},
   "outputs": [],
   "source": [
    "# vdj = pd.read_table('/frazer01/home/djakubosky/reference_MD/Homo_sapiens_assembly19/Homo_sapiens_assembly19.vdjregions.bed')\n",
    "\n",
    "# vdj_bt =  pbt.BedTool.from_dataframe(vdj[''])"
   ]
  },
  {
   "cell_type": "markdown",
   "metadata": {},
   "source": [
    "# Shuffle Beds"
   ]
  },
  {
   "cell_type": "code",
   "execution_count": 369,
   "metadata": {
    "collapsed": true
   },
   "outputs": [],
   "source": [
    "lumpy_exclude = '/software/speedseq-20151103/annotations/ceph18.b37.lumpy.exclude.2014-01-15.bed'\n",
    "\n",
    "fn_lumpy_exclude = private_out + '/lumpy_exclude.bed'\n",
    "lumpy_bt = add_chr(pbt.BedTool(lumpy_exclude)).moveto(fn_lumpy_exclude)\n",
    "genome_chroms = ['chr{}'.format(i) for i in range(1,23) + ['X', 'Y']]"
   ]
  },
  {
   "cell_type": "code",
   "execution_count": 301,
   "metadata": {},
   "outputs": [],
   "source": [
    "genome_hg19 = pd.read_table('/publicdata/gencode_v19_20151104/txdb/hg19.size')\n",
    "genome_hg19 = genome_hg19.set_index('chrom', drop = False)\n",
    "genome_hg19 = genome_hg19.loc[genome_chroms]"
   ]
  },
  {
   "cell_type": "code",
   "execution_count": 306,
   "metadata": {
    "collapsed": true
   },
   "outputs": [],
   "source": [
    "fn_genome = private_out + '/hg19.txt'\n",
    "genome_hg19[['chrom', 'length']].to_csv(fn_genome, header = False, index = False, sep = '\\t')"
   ]
  },
  {
   "cell_type": "code",
   "execution_count": 373,
   "metadata": {
    "collapsed": true
   },
   "outputs": [],
   "source": [
    "bed_output = private_out + '/bed_files_svs'\n",
    "DJ.makedir(bed_output)"
   ]
  },
  {
   "cell_type": "code",
   "execution_count": 332,
   "metadata": {
    "collapsed": true
   },
   "outputs": [],
   "source": [
    "cols = ['Chr', 'Start', 'End', 'ID', 'SVTYPE_Freq']\n",
    "\n",
    "fn_bedtool = os.path.join(bed_output, 'lumpy_non_redun_all.bed')\n",
    "bt_lumpy = pbt.BedTool.from_dataframe(combined_non_redun_info[combined_non_redun_info.Caller == 'SS'][cols]).moveto(fn_bedtool)\n",
    "\n",
    "fn_bedtool = os.path.join(bed_output, 'gs_melt_non_redun_all.bed')\n",
    "bt_non_lumpy = pbt.BedTool.from_dataframe(combined_non_redun_info[combined_non_redun_info.Caller != 'SS'][cols]).moveto(fn_bedtool)\n",
    "\n",
    "fn_bedtool = os.path.join(bed_output, 'sv_str_no_lumpy_non_redun_all.bed')\n",
    "bt_str_non_lumpy = bt_non_lumpy.cat(bt_str, postmerge=False).sort().moveto(fn_bedtool)"
   ]
  },
  {
   "cell_type": "markdown",
   "metadata": {},
   "source": [
    "# Make Labeled Feature Bed\n",
    "Bedfile containing genes/exons/promoters with an ID column to label them - this will be used to intersect/avoid multiple intersections to get info for different categories"
   ]
  },
  {
   "cell_type": "code",
   "execution_count": 201,
   "metadata": {
    "collapsed": true
   },
   "outputs": [],
   "source": [
    "# feature bedfiles (genes etc)\n",
    "bed_output = private_out + '/bed_files_features'\n",
    "DJ.makedir(bed_output)\n",
    "\n",
    "genes_bed = \"/publicdata/gencode_v19_20151104/genes.bed\"\n",
    "exons_bed = \"/publicdata/gencode_v19_20151104/exons.bed\"\n",
    "promoters_bed = \"/publicdata/gencode_v19_20151104/promoters.bed\"\n",
    "\n",
    "# add identifiers to bed files and cat them together\n",
    "\n",
    "fn_bedtool_genes =  os.path.join(bed_output, 'genes_id.bed')\n",
    "\n",
    "! cat /publicdata/gencode_v19_20151104/genes.bed | awk ' { print $0 \"\\tgene\"  } '  > /frazer01/projects/hipsci/analysis/i2QTL-sv-analysis/private_output/enrichment_shuffle_svs/bed_files_features/genes_id.bed\n",
    "\n",
    "fn_bedtool_exons =  os.path.join(bed_output, 'exons_id.bed')\n",
    "\n",
    "! cat /publicdata/gencode_v19_20151104/exons.bed | awk ' { print $0 \"\\texon\"  } '  > /frazer01/projects/hipsci/analysis/i2QTL-sv-analysis/private_output/enrichment_shuffle_svs/bed_files_features/exons_id.bed\n",
    "\n",
    "fn_bedtool_promoters =  os.path.join(bed_output, 'promoters_id.bed')\n",
    "\n",
    "! cat /publicdata/gencode_v19_20151104/promoters.bed | awk ' { print $0 \"\\tpromoter\"  } '  > /frazer01/projects/hipsci/analysis/i2QTL-sv-analysis/private_output/enrichment_shuffle_svs/bed_files_features/promoters_id.bed\n",
    "\n",
    "fn_bedtool =  os.path.join(bed_output, 'genic_features_all.bed')\n",
    "\n",
    "! cat {fn_bedtool_genes} {fn_bedtool_exons} {fn_bedtool_promoters} | sort-bed - > {fn_bedtool}"
   ]
  },
  {
   "cell_type": "code",
   "execution_count": 15,
   "metadata": {
    "collapsed": true
   },
   "outputs": [],
   "source": [
    "def perform_shuffle(bt_lumpy, bt_str_non_lumpy, seed = 0, genome = 'hg19', lumpy_exclude = False,\n",
    "                   bed_output = False):\n",
    "    \n",
    "    if bed_output:\n",
    "        fn_perm = os.path.join(bed_output, 'vars_all_perm{}.bed'.format(seed))\n",
    "        bt_perm = (bt_lumpy.shuffle(genome = 'hg19', chrom= True, seed = seed, excl= lumpy_exclude)\n",
    "                   .cat(bt_str_non_lumpy.shuffle(genome='hg19', seed=seed, chrom=True), postmerge=False)\n",
    "                   .sort()\n",
    "                   .moveto(fn_perm))\n",
    "                \n",
    "    else:\n",
    "        bt_perm = (bt_lumpy.shuffle(genome = 'hg19', chrom= True, seed = seed, excl= lumpy_exclude)\n",
    "                   .cat(bt_str_non_lumpy.shuffle(genome='hg19', seed=seed, chrom=True), postmerge=False)\n",
    "                   .sort())\n",
    "    return bt_perm"
   ]
  },
  {
   "cell_type": "code",
   "execution_count": 16,
   "metadata": {
    "collapsed": true
   },
   "outputs": [],
   "source": [
    "def categorize_intersect(intersect_types):\n",
    "    if len(intersect_types) == 1:\n",
    "        out = intersect_types.pop()\n",
    "        if out == 'intersects_gene':\n",
    "            return 'intersects_intron'\n",
    "        else:\n",
    "            return out\n",
    "    hierarchy = ['contains_gene', 'contains_exon', 'intersects_exon', 'intersects_promoter']    \n",
    "    for i in hierarchy:\n",
    "        if i in intersect_types:\n",
    "            return i\n",
    "    else:\n",
    "        return 'missed case'\n",
    "\n",
    "def intersect_bt_counts(bt1, bt2):\n",
    "    \"\"\" process the intersect with genes/exons/promoters from gencode\n",
    "    output mutually exclusive categories: contains gene > contains exon > intersects exon > \n",
    "    intersects promoter > intergenic  \n",
    "    \n",
    "    count these for all categories specified in fifth column of bedfile \"\"\"\n",
    "    \n",
    "    intersect = bt1.intersect(bt2, wo=True)\n",
    "    # read the intersect line by line and count up the intersect_scenarios\n",
    "    out_counts = {}\n",
    "    with open(intersect.fn, 'r') as F:\n",
    "        count = 0\n",
    "        var_count = 1\n",
    "        ID_current = False\n",
    "        intersect_types = []\n",
    "        for line in F:\n",
    "            contains = False\n",
    "            line = line.rstrip() \n",
    "            lin_spl = line.split()\n",
    "            \n",
    "            # start end of A\n",
    "        \n",
    "            ID_A = lin_spl[3]\n",
    "      \n",
    "            if count == 0:\n",
    "                ID_current = copy.deepcopy(ID_A)\n",
    "                intersect_types = []\n",
    "                \n",
    "            if ID_A != ID_current:\n",
    "                if len(intersect_types) > 0:\n",
    "                    var_count +=1\n",
    "                    category = categorize_intersect(set(intersect_types))\n",
    "                    out_counts[category_A] = out_counts.get(category_A, {})\n",
    "                    out_counts[category_A][category] = out_counts[category_A].get(category, 0) + 1\n",
    "                else:\n",
    "                    print intersect_types, ID_A, category_A\n",
    "                    break \n",
    "                ID_current = copy.deepcopy(ID_A)\n",
    "                intersect_types = []\n",
    "            \n",
    "            category_A = lin_spl[4]    \n",
    "            start, end = int(lin_spl[1]), int(lin_spl[2])\n",
    "            length_A = end - start\n",
    "            \n",
    "            start, end = int(lin_spl[6]), int(lin_spl[7])\n",
    "            length_B = end - start\n",
    "            \n",
    "            category_B = lin_spl[11]\n",
    "            overlap = int(lin_spl[-1])\n",
    "            \n",
    "            if overlap >= length_B:\n",
    "                out_type = \"{}_{}\".format('contains', category_B)\n",
    "                intersect_types.append(out_type)\n",
    "            else:\n",
    "                out_type = \"{}_{}\".format('intersects', category_B)\n",
    "                intersect_types.append(out_type)              \n",
    "            count +=1\n",
    "            \n",
    "    return out_counts"
   ]
  },
  {
   "cell_type": "code",
   "execution_count": 17,
   "metadata": {
    "collapsed": true
   },
   "outputs": [],
   "source": [
    "def process_counts(data, num_per_cat, seed):\n",
    "    tdf = pd.DataFrame(data).T.fillna(0)\n",
    "    cols = 'contains_exon\tcontains_gene\tintersects_exon\tintersects_intron\tintersects_promoter'.split()\n",
    "    tdf['intergenic'] = num_per_cat - tdf[cols].sum(axis = 1)\n",
    "    tdf['seed'] = seed\n",
    "    \n",
    "    return tdf"
   ]
  },
  {
   "cell_type": "code",
   "execution_count": 18,
   "metadata": {},
   "outputs": [],
   "source": [
    "def shuffle_vars_and_intersect_and_count(bt_lumpy, bt_str_non_lumpy, bt_genetic_feat, num_per_cat, \n",
    "                                         seed = 0, lumpy_exclude=False,\n",
    "                                        bed_output = False):\n",
    "    \n",
    "    vars_perm_bed = perform_shuffle(bt_lumpy, bt_str_non_lumpy, seed=seed, genome='hg19', lumpy_exclude=False,\n",
    "                                    bed_output=bed_output)\n",
    "\n",
    "    data = intersect_bt_counts(vars_perm_bed, bt_genetic_feat)\n",
    "    df = process_counts(data, num_per_cat, seed)\n",
    "    \n",
    "    return df"
   ]
  },
  {
   "cell_type": "code",
   "execution_count": 19,
   "metadata": {
    "collapsed": true
   },
   "outputs": [],
   "source": [
    "def get_phylop_conservation(scores):\n",
    "    \"\"\" take the string output from bwtools and compute the mean conservation for the site if there is one\"\"\"\n",
    "    \n",
    "    scores = scores.replace(\"NA,\", \"\")\n",
    "    scores = scores.replace(\",NA\", \"\")\n",
    "\n",
    "    if scores == 'NA':\n",
    "        conservation = 0\n",
    "    else:\n",
    "        data = map(float, scores.split(','))\n",
    "        conservation = np.mean(data)\n",
    "    \n",
    "    return conservation\n",
    "\n",
    "def prep_df_phylop(out_dict, seed=False):\n",
    "    mean_dict = {}\n",
    "    std_dict = {}\n",
    "    \n",
    "    for k,v in out_dict.iteritems():\n",
    "        m = np.mean(v)\n",
    "        std = np.std(v)\n",
    "        mean_dict[k] = m\n",
    "        std_dict[k] = std\n",
    "    s1 = pd.Series(mean_dict).to_frame('mean_phylop')\n",
    "    s2 = pd.Series(std_dict).to_frame('std_phylop')\n",
    "    df = pd.concat([s1, s2], axis = 1)\n",
    "    if seed:\n",
    "        df['seed'] = seed\n",
    "    \n",
    "    return df\n",
    "\n",
    "def compute_phylop_per_category(bed_file, seed):\n",
    "    f = r'print $1\"\\t\"$2\"\\t\"$3\"\\t\"$5'\n",
    "    f = \"awk '{{{}}}'\".format(f)\n",
    "    command = f + ' ' + bed_file + '| bwtool extract bed /dev/stdin /publicdata/phyloP100way_20160224/hg19.100way.phyloP100way.bw /dev/stdout '\n",
    "    \n",
    "    \n",
    "    interval_phylo = subprocess.Popen(command, shell = True, stdout=subprocess.PIPE)\n",
    "\n",
    "    out_dict = {}\n",
    "    count = 0\n",
    "    \n",
    "    for line in interval_phylo.stdout:\n",
    "        count +=1\n",
    "        line = line.rstrip()\n",
    "        lin_spl = line.split()\n",
    "        var_type = lin_spl[3]\n",
    "        scores = lin_spl[5]\n",
    "        conservation = get_phylop_conservation(scores) \n",
    "\n",
    "        out_dict[var_type] = out_dict.get(var_type, []) + [conservation]\n",
    "    \n",
    "    df_out = prep_df_phylop(out_dict, seed=seed)\n",
    "    \n",
    "    return df_out\n",
    "    "
   ]
  },
  {
   "cell_type": "code",
   "execution_count": 23,
   "metadata": {
    "collapsed": true
   },
   "outputs": [],
   "source": [
    "out_phylo = private_out + '/out_stats_phylo'\n",
    "DJ.makedir(out_phylo)"
   ]
  },
  {
   "cell_type": "code",
   "execution_count": 24,
   "metadata": {},
   "outputs": [
    {
     "data": {
      "text/plain": [
       "'/frazer01/projects/hipsci/analysis/i2QTL-sv-analysis/private_output/enrichment_shuffle_svs/out_stats_phylo'"
      ]
     },
     "execution_count": 24,
     "metadata": {},
     "output_type": "execute_result"
    }
   ],
   "source": [
    "out_phylo"
   ]
  },
  {
   "cell_type": "code",
   "execution_count": 25,
   "metadata": {
    "collapsed": true
   },
   "outputs": [],
   "source": [
    "def get_phylop_for_seed(seed):\n",
    "    bed_fn = '/frazer01/projects/hipsci/analysis/i2QTL-sv-analysis/private_output/enrichment_shuffle_svs/bed_files_permutations/vars_all_perm{}.bed'.format(seed)\n",
    "    out_phylo = '/frazer01/projects/hipsci/analysis/i2QTL-sv-analysis/private_output/enrichment_shuffle_svs/out_stats_phylo'\n",
    "    out_name = os.path.join(out_phylo, 'phylo_perm{}.stat'.format(seed))\n",
    "    df = compute_phylop_per_category(bed_fn, seed)\n",
    "    df.to_csv(out_name, sep = '\\t')\n",
    "    \n",
    "    return df\n",
    "    "
   ]
  },
  {
   "cell_type": "code",
   "execution_count": 26,
   "metadata": {
    "collapsed": true
   },
   "outputs": [],
   "source": []
  },
  {
   "cell_type": "code",
   "execution_count": null,
   "metadata": {
    "collapsed": true
   },
   "outputs": [],
   "source": []
  },
  {
   "cell_type": "code",
   "execution_count": 806,
   "metadata": {
    "collapsed": true
   },
   "outputs": [],
   "source": [
    "observed_bed = '/frazer01/projects/hipsci/analysis/i2QTL-sv-analysis/private_output/enrichment_shuffle_svs/bed_files_permutations/vars_all_perm0.bed'"
   ]
  },
  {
   "cell_type": "markdown",
   "metadata": {},
   "source": [
    "# Observed Genic Intersections"
   ]
  },
  {
   "cell_type": "code",
   "execution_count": 278,
   "metadata": {},
   "outputs": [],
   "source": [
    "num_per_cat = pd.Series(vars_per_cat_dict, name='total_sv')"
   ]
  },
  {
   "cell_type": "code",
   "execution_count": 94,
   "metadata": {},
   "outputs": [],
   "source": [
    "bed_output_features = private_out + '/bed_files_features'\n",
    "fn_bed_genetic_features = os.path.join(bed_output_features, 'genic_features_all.bed')\n",
    "bed_output_perm = private_out + '/bed_files_permutations'\n",
    "fn_perm0 = os.path.join(bed_output_perm, \"vars_all_perm0.bed\")"
   ]
  },
  {
   "cell_type": "code",
   "execution_count": 95,
   "metadata": {
    "collapsed": true
   },
   "outputs": [],
   "source": [
    "bt_sv_str = pbt.BedTool(fn_perm0)\n",
    "bt_genetic_feat = pbt.BedTool(fn_bed_genetic_features)"
   ]
  },
  {
   "cell_type": "code",
   "execution_count": 96,
   "metadata": {
    "collapsed": true
   },
   "outputs": [],
   "source": [
    "genes_bt = pbt.BedTool('/frazer01/projects/hipsci/analysis/i2QTL-sv-analysis/private_output/enrichment_shuffle_svs/bed_files_features/genes_id.bed')"
   ]
  },
  {
   "cell_type": "code",
   "execution_count": 99,
   "metadata": {},
   "outputs": [],
   "source": [
    "t = bt_str.intersect(genes_bt, wo= True, F = 1)"
   ]
  },
  {
   "cell_type": "code",
   "execution_count": 239,
   "metadata": {},
   "outputs": [
    {
     "data": {
      "text/plain": [
       "'/frazer01/projects/hipsci/analysis/i2QTL-sv-analysis/private_output/enrichment_shuffle_svs/bed_files_svs/STR_non_redun_all.bed'"
      ]
     },
     "execution_count": 239,
     "metadata": {},
     "output_type": "execute_result"
    }
   ],
   "source": [
    "bt_str.fn"
   ]
  },
  {
   "cell_type": "code",
   "execution_count": 103,
   "metadata": {},
   "outputs": [
    {
     "name": "stdout",
     "output_type": "stream",
     "text": [
      "chr3\t38948802\t38948880\tHuman_STR_931903\tSTR_common\tchr3\t38948804\t38948880\tENSG00000215941.1\t.\t+\tgene\t76\n",
      " chr7\t115985903\t115985998\tHuman_STR_1361526\tSTR_common\tchr7\t115985908\t115985998\tENSG00000216076.1\t.\t-\tgene\t90\n",
      " "
     ]
    }
   ],
   "source": [
    "t.head(5)"
   ]
  },
  {
   "cell_type": "code",
   "execution_count": null,
   "metadata": {
    "collapsed": true
   },
   "outputs": [],
   "source": [
    "map"
   ]
  },
  {
   "cell_type": "code",
   "execution_count": 395,
   "metadata": {
    "collapsed": true
   },
   "outputs": [],
   "source": [
    "# intersection with no permutation"
   ]
  },
  {
   "cell_type": "code",
   "execution_count": 829,
   "metadata": {
    "collapsed": true
   },
   "outputs": [],
   "source": [
    "data = intersect_bt_counts(bt_sv_str, bt_genetic_feat)\n",
    "df_observed = process_counts(data, num_per_cat, 0)\n",
    "df_observed['SVTYPE_Freq'] = df_observed.index"
   ]
  },
  {
   "cell_type": "markdown",
   "metadata": {},
   "source": [
    "# PhyloP Observed"
   ]
  },
  {
   "cell_type": "code",
   "execution_count": 811,
   "metadata": {},
   "outputs": [
    {
     "name": "stdout",
     "output_type": "stream",
     "text": [
      "50000\n",
      "100000\n",
      "200000\n",
      "400000\n"
     ]
    }
   ],
   "source": [
    "t = compute_phylop_per_category(observed_bed, 0)"
   ]
  },
  {
   "cell_type": "code",
   "execution_count": 827,
   "metadata": {
    "collapsed": true
   },
   "outputs": [],
   "source": [
    "observed_phylop = prep_df_phylop(t)"
   ]
  },
  {
   "cell_type": "code",
   "execution_count": 865,
   "metadata": {},
   "outputs": [
    {
     "name": "stdout",
     "output_type": "stream",
     "text": [
      "observed_phylop = pd.read_pickle('/frazer01/projects/hipsci/analysis/i2QTL-sv-analysis/private_output/enrichment_shuffle_svs/observed_phylop.pkl')\n",
      "observed_phylop = pd.read_csv('/frazer01/projects/hipsci/analysis/i2QTL-sv-analysis/private_output/enrichment_shuffle_svs/observed_phylop.tsv', sep='\\t')\n",
      "# all vars recorded: /frazer01/projects/hipsci/analysis/i2QTL-sv-analysis/private_output/enrichment_shuffle_svs/load_saved_nb_variables.py\n",
      "# pickled vars recorded:/frazer01/projects/hipsci/analysis/i2QTL-sv-analysis/private_output/enrichment_shuffle_svs/load_pickled_nb_variables.py\n"
     ]
    }
   ],
   "source": [
    "CM.save_dataframe('observed_phylop', observed_phylop, private_out)"
   ]
  },
  {
   "cell_type": "code",
   "execution_count": 1059,
   "metadata": {
    "collapsed": true
   },
   "outputs": [],
   "source": [
    "observed_phylop = pd.read_pickle('/frazer01/projects/hipsci/analysis/i2QTL-sv-analysis/private_output/enrichment_shuffle_svs/observed_phylop.pkl')"
   ]
  },
  {
   "cell_type": "code",
   "execution_count": 626,
   "metadata": {
    "collapsed": true
   },
   "outputs": [],
   "source": [
    "# df_observed = process_counts(data, num_per_cat, 0)\n",
    "# df_observed['SVTYPE_Freq'] = df_observed.index"
   ]
  },
  {
   "cell_type": "markdown",
   "metadata": {},
   "source": [
    "# Perform Permuations and Intersections in Parallel"
   ]
  },
  {
   "cell_type": "code",
   "execution_count": 1078,
   "metadata": {
    "collapsed": true
   },
   "outputs": [],
   "source": [
    "dview.push(dict(perform_shuffle=perform_shuffle, \n",
    "                categorize_intersect=categorize_intersect,\n",
    "               intersect_bt_counts = intersect_bt_counts,\n",
    "                shuffle_vars_and_intersect_and_count= shuffle_vars_and_intersect_and_count,\n",
    "               process_counts=process_counts,\n",
    "               num_per_cat=num_per_cat));"
   ]
  },
  {
   "cell_type": "code",
   "execution_count": 1079,
   "metadata": {},
   "outputs": [],
   "source": [
    "dview.push(dict(bt_genetic_feat = bt_genetic_feat,\n",
    "               bt_lumpy=bt_lumpy,\n",
    "               bt_str_non_lumpy= bt_str_non_lumpy,\n",
    "               fn_lumpy_exclude=fn_lumpy_exclude,\n",
    "               bed_output_perm=bed_output_perm));"
   ]
  },
  {
   "cell_type": "code",
   "execution_count": 875,
   "metadata": {
    "collapsed": true
   },
   "outputs": [],
   "source": [
    "permutations = range(1, 1001)\n",
    "\n",
    "# launch the permuations- return df for each perm of the counts (contains gene, intersects exon etc. \n",
    "# labeled with seed\n",
    "\n",
    "permutation_dfs = dview.map_sync(lambda x: shuffle_vars_and_intersect_and_count(bt_lumpy, bt_str_non_lumpy, bt_genetic_feat, num_per_cat, seed = x, lumpy_exclude=fn_lumpy_exclude, bed_output = bed_output_perm), permutations)"
   ]
  },
  {
   "cell_type": "code",
   "execution_count": 481,
   "metadata": {},
   "outputs": [],
   "source": [
    "perm_df_long = pd.concat(permutation_dfs)"
   ]
  },
  {
   "cell_type": "code",
   "execution_count": 1080,
   "metadata": {
    "collapsed": true
   },
   "outputs": [],
   "source": [
    "permutations = range(1001, 5001)"
   ]
  },
  {
   "cell_type": "code",
   "execution_count": 1081,
   "metadata": {
    "collapsed": true
   },
   "outputs": [],
   "source": [
    "permutation_dfs = dview.map_async(lambda x: shuffle_vars_and_intersect_and_count(bt_lumpy, bt_str_non_lumpy, bt_genetic_feat, num_per_cat, seed = x, lumpy_exclude=fn_lumpy_exclude, bed_output = bed_output_perm), permutations)"
   ]
  },
  {
   "cell_type": "code",
   "execution_count": 1092,
   "metadata": {},
   "outputs": [],
   "source": [
    "permutation_dfs2 = pd.concat(permutation_dfs)\n",
    "permutation_dfs2['SVTYPE_Freq'] = permutation_dfs2.index"
   ]
  },
  {
   "cell_type": "code",
   "execution_count": 1093,
   "metadata": {},
   "outputs": [
    {
     "data": {
      "text/plain": [
       "(29000, 8)"
      ]
     },
     "execution_count": 1093,
     "metadata": {},
     "output_type": "execute_result"
    }
   ],
   "source": [
    "perm_df_long."
   ]
  },
  {
   "cell_type": "code",
   "execution_count": 1095,
   "metadata": {},
   "outputs": [],
   "source": [
    "perm_df_long_all = pd.concat([perm_df_long, permutation_dfs2])"
   ]
  },
  {
   "cell_type": "code",
   "execution_count": 482,
   "metadata": {},
   "outputs": [],
   "source": [
    "perm_df_long['SVTYPE_Freq'] = perm_df_long.index"
   ]
  },
  {
   "cell_type": "code",
   "execution_count": 483,
   "metadata": {},
   "outputs": [
    {
     "data": {
      "text/plain": [
       "<matplotlib.axes._subplots.AxesSubplot at 0x7f152593b590>"
      ]
     },
     "execution_count": 483,
     "metadata": {},
     "output_type": "execute_result"
    },
    {
     "data": {
      "image/png": "[encoded data removed]",
      "text/plain": [
       "<Figure size 600x400 with 1 Axes>"
      ]
     },
     "metadata": {},
     "output_type": "display_data"
    }
   ],
   "source": [
    "perm_df_long.groupby('SVTYPE_Freq').get_group('DEL_common').contains_exon.hist()"
   ]
  },
  {
   "cell_type": "code",
   "execution_count": 1096,
   "metadata": {},
   "outputs": [
    {
     "name": "stdout",
     "output_type": "stream",
     "text": [
      "perm_df_genic_elements_long = pd.read_pickle('/frazer01/projects/hipsci/analysis/i2QTL-sv-analysis/private_output/enrichment_shuffle_svs/perm_df_genic_elements_long.pkl')\n",
      "perm_df_genic_elements_long = pd.read_csv('/frazer01/projects/hipsci/analysis/i2QTL-sv-analysis/private_output/enrichment_shuffle_svs/perm_df_genic_elements_long.tsv', sep='\\t')\n",
      "# all vars recorded: /frazer01/projects/hipsci/analysis/i2QTL-sv-analysis/private_output/enrichment_shuffle_svs/load_saved_nb_variables.py\n",
      "# pickled vars recorded:/frazer01/projects/hipsci/analysis/i2QTL-sv-analysis/private_output/enrichment_shuffle_svs/load_pickled_nb_variables.py\n"
     ]
    }
   ],
   "source": [
    "CM.save_dataframe('perm_df_genic_elements_long', perm_df_long_all, private_out)"
   ]
  },
  {
   "cell_type": "code",
   "execution_count": 486,
   "metadata": {},
   "outputs": [
    {
     "name": "stdout",
     "output_type": "stream",
     "text": [
      "observed_df_genic_elements = pd.read_pickle('/frazer01/projects/hipsci/analysis/i2QTL-sv-analysis/private_output/enrichment_shuffle_svs/observed_df_genic_elements.pkl')\n",
      "observed_df_genic_elements = pd.read_csv('/frazer01/projects/hipsci/analysis/i2QTL-sv-analysis/private_output/enrichment_shuffle_svs/observed_df_genic_elements.tsv', sep='\\t')\n",
      "# all vars recorded: /frazer01/projects/hipsci/analysis/i2QTL-sv-analysis/private_output/enrichment_shuffle_svs/load_saved_nb_variables.py\n",
      "# pickled vars recorded:/frazer01/projects/hipsci/analysis/i2QTL-sv-analysis/private_output/enrichment_shuffle_svs/load_pickled_nb_variables.py\n"
     ]
    }
   ],
   "source": [
    "CM.save_dataframe('observed_df_genic_elements', df_observed, private_out)"
   ]
  },
  {
   "cell_type": "markdown",
   "metadata": {},
   "source": [
    "# Perform PhyloP calculations in Parallel"
   ]
  },
  {
   "cell_type": "code",
   "execution_count": 27,
   "metadata": {
    "collapsed": true
   },
   "outputs": [],
   "source": [
    "dview.push(dict(get_phylop_conservation=get_phylop_conservation, \n",
    "                get_phylop_for_seed=get_phylop_for_seed,\n",
    "               prep_df_phylop = prep_df_phylop,\n",
    "                compute_phylop_per_category = compute_phylop_per_category));"
   ]
  },
  {
   "cell_type": "code",
   "execution_count": 915,
   "metadata": {
    "collapsed": true
   },
   "outputs": [],
   "source": [
    "permutations = range(1, 101)"
   ]
  },
  {
   "cell_type": "code",
   "execution_count": 916,
   "metadata": {},
   "outputs": [],
   "source": [
    "phylop_perm_dfs1 = dview.map_sync(lambda x: get_phylop_for_seed(x), permutations)"
   ]
  },
  {
   "cell_type": "code",
   "execution_count": 922,
   "metadata": {},
   "outputs": [],
   "source": [
    "phylop_perm_dfs1 = pd.concat(phylop_perm_dfs1)"
   ]
  },
  {
   "cell_type": "code",
   "execution_count": 924,
   "metadata": {},
   "outputs": [
    {
     "name": "stdout",
     "output_type": "stream",
     "text": [
      "phylop_perm_dfs1 = pd.read_pickle('/frazer01/projects/hipsci/analysis/i2QTL-sv-analysis/private_output/enrichment_shuffle_svs/phylop_perm_dfs1.pkl')\n",
      "phylop_perm_dfs1 = pd.read_csv('/frazer01/projects/hipsci/analysis/i2QTL-sv-analysis/private_output/enrichment_shuffle_svs/phylop_perm_dfs1.tsv', sep='\\t')\n",
      "# all vars recorded: /frazer01/projects/hipsci/analysis/i2QTL-sv-analysis/private_output/enrichment_shuffle_svs/load_saved_nb_variables.py\n",
      "# pickled vars recorded:/frazer01/projects/hipsci/analysis/i2QTL-sv-analysis/private_output/enrichment_shuffle_svs/load_pickled_nb_variables.py\n"
     ]
    }
   ],
   "source": [
    "CM.save_dataframe('phylop_perm_dfs1', phylop_perm_dfs1, private_out)"
   ]
  },
  {
   "cell_type": "code",
   "execution_count": 1097,
   "metadata": {
    "collapsed": true
   },
   "outputs": [],
   "source": [
    "permutations = range(101, 1001)"
   ]
  },
  {
   "cell_type": "code",
   "execution_count": 941,
   "metadata": {
    "collapsed": true
   },
   "outputs": [],
   "source": [
    "# this will actually take a while- so lets use async\n",
    "phylop_perm_dfs_other = dview.map_async(lambda x: get_phylop_for_seed(x), permutations)"
   ]
  },
  {
   "cell_type": "code",
   "execution_count": 983,
   "metadata": {},
   "outputs": [],
   "source": [
    "phylop_perm_dfs_other = pd.concat(phylop_perm_dfs_other)"
   ]
  },
  {
   "cell_type": "code",
   "execution_count": 1051,
   "metadata": {},
   "outputs": [],
   "source": [
    "phylop_perm_all = pd.concat([phylop_perm_dfs1, phylop_perm_dfs_other])"
   ]
  },
  {
   "cell_type": "code",
   "execution_count": 1052,
   "metadata": {},
   "outputs": [],
   "source": [
    "phylop_perm_all['SVTYPE_Freq'] = phylop_perm_all.index"
   ]
  },
  {
   "cell_type": "code",
   "execution_count": 990,
   "metadata": {},
   "outputs": [
    {
     "name": "stdout",
     "output_type": "stream",
     "text": [
      "phylop_perm_all = pd.read_pickle('/frazer01/projects/hipsci/analysis/i2QTL-sv-analysis/private_output/enrichment_shuffle_svs/phylop_perm_all.pkl')\n",
      "phylop_perm_all = pd.read_csv('/frazer01/projects/hipsci/analysis/i2QTL-sv-analysis/private_output/enrichment_shuffle_svs/phylop_perm_all.tsv', sep='\\t')\n",
      "# all vars recorded: /frazer01/projects/hipsci/analysis/i2QTL-sv-analysis/private_output/enrichment_shuffle_svs/load_saved_nb_variables.py\n",
      "# pickled vars recorded:/frazer01/projects/hipsci/analysis/i2QTL-sv-analysis/private_output/enrichment_shuffle_svs/load_pickled_nb_variables.py\n"
     ]
    }
   ],
   "source": [
    "CM.save_dataframe('phylop_perm_all', phylop_perm_all, private_out)"
   ]
  },
  {
   "cell_type": "code",
   "execution_count": 53,
   "metadata": {
    "collapsed": true
   },
   "outputs": [],
   "source": [
    "phylop_perm_all = pd.read_pickle('/frazer01/projects/hipsci/analysis/i2QTL-sv-analysis/private_output/enrichment_shuffle_svs/phylop_perm_all.pkl')"
   ]
  },
  {
   "cell_type": "code",
   "execution_count": 55,
   "metadata": {},
   "outputs": [
    {
     "data": {
      "text/plain": [
       "<matplotlib.axes._subplots.AxesSubplot at 0x7f8558c86fd0>"
      ]
     },
     "execution_count": 55,
     "metadata": {},
     "output_type": "execute_result"
    },
    {
     "data": {
      "image/png": "[encoded data removed]",
      "text/plain": [
       "<Figure size 600x400 with 1 Axes>"
      ]
     },
     "metadata": {},
     "output_type": "display_data"
    }
   ],
   "source": [
    "phylop_perm_all.groupby('SVTYPE_Freq').get_group('ALU_common')['mean_phylop'].hist()"
   ]
  },
  {
   "cell_type": "code",
   "execution_count": 28,
   "metadata": {
    "collapsed": true
   },
   "outputs": [],
   "source": [
    "permutations = range(1001, 5001)\n",
    "phylop_perm_dfs_other2 = dview.map_async(lambda x: get_phylop_for_seed(x), permutations)"
   ]
  },
  {
   "cell_type": "markdown",
   "metadata": {},
   "source": [
    "# Read back in permutation output "
   ]
  },
  {
   "cell_type": "code",
   "execution_count": 126,
   "metadata": {
    "collapsed": true
   },
   "outputs": [],
   "source": [
    "def prep_df_phylo_out(df):\n",
    "    df = df.copy()\n",
    "    df['SVTYPE_Freq'] = df.index\n",
    "    return df\n",
    "    "
   ]
  },
  {
   "cell_type": "code",
   "execution_count": 139,
   "metadata": {
    "collapsed": true
   },
   "outputs": [],
   "source": [
    "out_fns = glob.glob('/frazer01/projects/hipsci/analysis/i2QTL-sv-analysis/private_output/enrichment_shuffle_svs/out_stats_phylo/*.stat')"
   ]
  },
  {
   "cell_type": "code",
   "execution_count": 141,
   "metadata": {},
   "outputs": [],
   "source": [
    "phylo_perm_dfs = []\n",
    "for f in out_fns:\n",
    "    df = pd.read_table(f, index_col=0)\n",
    "    phylo_perm_dfs.append(df)"
   ]
  },
  {
   "cell_type": "code",
   "execution_count": 142,
   "metadata": {},
   "outputs": [],
   "source": [
    "phylo_perm_4k = pd.concat(phylo_perm_dfs)\n",
    "phylo_perm_4k = phylo_perm_4k.pipe(prep_df_phylo_out)"
   ]
  },
  {
   "cell_type": "code",
   "execution_count": 124,
   "metadata": {
    "collapsed": true
   },
   "outputs": [],
   "source": [
    "phylop_perm_1k = pd.read_pickle('/frazer01/projects/hipsci/analysis/i2QTL-sv-analysis/private_output/enrichment_shuffle_svs/phylop_perm_all.pkl')"
   ]
  },
  {
   "cell_type": "code",
   "execution_count": 143,
   "metadata": {},
   "outputs": [],
   "source": [
    "phylo_perm_5k = pd.concat([phylop_perm_1k, phylo_perm_4k])"
   ]
  },
  {
   "cell_type": "code",
   "execution_count": 150,
   "metadata": {},
   "outputs": [
    {
     "name": "stdout",
     "output_type": "stream",
     "text": [
      "phylop_perm_5k = pd.read_pickle('/frazer01/projects/hipsci/analysis/i2QTL-sv-analysis/private_output/enrichment_shuffle_svs/phylop_perm_5k.pkl')\n",
      "phylop_perm_5k = pd.read_csv('/frazer01/projects/hipsci/analysis/i2QTL-sv-analysis/private_output/enrichment_shuffle_svs/phylop_perm_5k.tsv', sep='\\t')\n",
      "# all vars recorded: /frazer01/projects/hipsci/analysis/i2QTL-sv-analysis/private_output/enrichment_shuffle_svs/load_saved_nb_variables.py\n",
      "# pickled vars recorded:/frazer01/projects/hipsci/analysis/i2QTL-sv-analysis/private_output/enrichment_shuffle_svs/load_pickled_nb_variables.py\n"
     ]
    }
   ],
   "source": [
    "CM.save_dataframe('phylop_perm_5k', phylo_perm_5k, private_out)"
   ]
  },
  {
   "cell_type": "markdown",
   "metadata": {},
   "source": [
    "# Compute Z scores for Genetic Intersect Categories"
   ]
  },
  {
   "cell_type": "code",
   "execution_count": 215,
   "metadata": {
    "collapsed": true
   },
   "outputs": [],
   "source": [
    "perm_df_genic_elements_long = pd.read_pickle('/frazer01/projects/hipsci/analysis/i2QTL-sv-analysis/private_output/enrichment_shuffle_svs/perm_df_genic_elements_long.pkl')\n",
    "\n",
    "df_observed =  pd.read_pickle('/frazer01/projects/hipsci/analysis/i2QTL-sv-analysis/private_output/enrichment_shuffle_svs/observed_df_genic_elements.pkl')\n",
    "\n",
    "perm_df_long = perm_df_genic_elements_long\n",
    "\n",
    "perm_mean = perm_df_long.groupby('SVTYPE_Freq').mean()\n",
    "perm_sd = perm_df_long.groupby('SVTYPE_Freq').std()\n",
    "cols = 'contains_exon\tcontains_gene\tintersects_exon\tintersects_intron\tintersects_promoter\tintergenic'.split()"
   ]
  },
  {
   "cell_type": "code",
   "execution_count": 216,
   "metadata": {},
   "outputs": [],
   "source": [
    "signif_thresh = 0.05/29\n",
    "\n",
    "zscore_thresh = (0.05/2)*(1/29)\n",
    "\n",
    "signif_z = abs(stats.norm.ppf(zscore_thresh))"
   ]
  },
  {
   "cell_type": "code",
   "execution_count": 217,
   "metadata": {},
   "outputs": [],
   "source": [
    "df_observed_z = df_observed.copy()\n",
    "df_observed_p = df_observed.copy()\n",
    "for c in cols:\n",
    "    mean = perm_mean[c]\n",
    "    sd = perm_sd[c]\n",
    "    obs = df_observed[c]\n",
    "    \n",
    "    col_name_out_z = \"{}_Z\".format(c)\n",
    "    col_name_out_p = \"{}_p\".format(c)\n",
    "    \n",
    "    z_score = (obs - mean)/ sd\n",
    "    df_observed_z[c] = z_score\n",
    "    z_score = z_score.fillna(0)\n",
    "    \n",
    "    p_values = z_score.apply(lambda x: stats.norm.sf(abs(x))*2)\n",
    "    \n",
    "    df_observed_z[c] = z_score\n",
    "    df_observed_p[c] = p_values \n",
    "    df_observed[col_name_out_z] = z_score \n",
    "    df_observed[col_name_out_p] = p_values\n",
    "   "
   ]
  },
  {
   "cell_type": "code",
   "execution_count": 218,
   "metadata": {
    "collapsed": true
   },
   "outputs": [],
   "source": [
    "def prep_df_observed(df):\n",
    "    df = df.copy()\n",
    "    df = df.fillna(0)\n",
    "    df['SVTYPE_Freq'] = df.index\n",
    "    df['SVTYPE'] = df.SVTYPE_Freq.apply(lambda x: x.split('_')[0])\n",
    "    df['Frequency'] = df.SVTYPE_Freq.apply(lambda x: x.split('_')[1])\n",
    "    return df"
   ]
  },
  {
   "cell_type": "code",
   "execution_count": 219,
   "metadata": {},
   "outputs": [],
   "source": [
    "df_observed = df_observed.pipe(prep_df_observed)\n",
    "df_observed_z = df_observed_z.pipe(prep_df_observed)"
   ]
  },
  {
   "cell_type": "code",
   "execution_count": 220,
   "metadata": {},
   "outputs": [],
   "source": [
    "cols = 'contains_exon\tcontains_gene\tintersects_exon\tintersects_intron\tintersects_promoter\tintergenic'.split()\n",
    "for_plot = pd.melt(df_observed_z, id_vars=['SVTYPE', 'Frequency'], value_vars= cols).fillna(0)"
   ]
  },
  {
   "cell_type": "code",
   "execution_count": 221,
   "metadata": {},
   "outputs": [],
   "source": [
    "\n",
    "var_classes_all = ['DEL', 'DUP','mCNV', 'BND', 'INV', 'rMEI','LINE1', 'ALU', 'SVA', 'STR']\n",
    "order_freq = ['common', 'rare', 'singleton']\n",
    "\n",
    "cols = 'contains_exon\tcontains_gene\tintersects_exon\tintersects_intron\tintersects_promoter\tintergenic'.split()\n",
    "order_dict = dict(zip(['common', 'rare', 'singleton', 'gap'], range(4)))\n",
    "order_dict_svtype = dict(zip(var_classes_all, range(len(var_classes_all))))\n",
    "\n",
    "\n",
    "for_plot['order_freq'] = for_plot.Frequency.apply(lambda x: order_dict[x])\n",
    "for_plot['order_svtype'] = for_plot.SVTYPE.apply(lambda x: order_dict_svtype[x])\n",
    "for_plot = for_plot.sort_values(['variable', 'order_svtype', 'order_freq'])\n",
    "# tick_labels = for_plot_gapped.index.tolist()\n",
    "# tick_labels_mod = [i if i.split('_')[1] != 'gap' else '' for i in tick_labels]"
   ]
  },
  {
   "cell_type": "code",
   "execution_count": 222,
   "metadata": {},
   "outputs": [],
   "source": [
    "cols = 'contains_exon\tcontains_gene\tintersects_exon\tintersects_intron\tintersects_promoter\tintergenic'.split()\n",
    "df_observed['total_sv'] = df_observed[cols].sum(axis = 1)"
   ]
  },
  {
   "cell_type": "code",
   "execution_count": 231,
   "metadata": {},
   "outputs": [],
   "source": [
    "dfs = []\n",
    "for c in cols:\n",
    "    name_out = \"{}_FC\".format(c)\n",
    "    perm_mean_c = perm_mean[c]\n",
    "    \n",
    "    \n",
    "    diff = (df_observed[c] - perm_mean_c) \n",
    "    dfs.append(diff.to_frame(c))\n",
    "    \n",
    "    FC = diff/perm_mean_c\n",
    "    df_observed[name_out] = FC\n",
    "    "
   ]
  },
  {
   "cell_type": "code",
   "execution_count": 108,
   "metadata": {},
   "outputs": [],
   "source": [
    "for c in cols:\n",
    "    name_out = \"{}_log2\".format(c)\n",
    "    perm_mean_c = perm_mean[c]\n",
    "    df_observed[name_out] = np.log2((df_observed[c] + 1 /df_observed.total_sv)  / (perm_mean_c +1 / df_observed.total_sv))"
   ]
  },
  {
   "cell_type": "code",
   "execution_count": 110,
   "metadata": {},
   "outputs": [],
   "source": [
    "cols = 'contains_exon_log2\tcontains_gene_log2\tintersects_exon_log2\tintersects_intron_log2\tintersects_promoter_log2\tintergenic_log2'.split()"
   ]
  },
  {
   "cell_type": "code",
   "execution_count": 240,
   "metadata": {},
   "outputs": [
    {
     "name": "stdout",
     "output_type": "stream",
     "text": [
      "observed_df_genic_elements = pd.read_pickle('/frazer01/projects/hipsci/analysis/i2QTL-sv-analysis/private_output/enrichment_shuffle_svs/observed_df_genic_elements.pkl')\n",
      "observed_df_genic_elements = pd.read_csv('/frazer01/projects/hipsci/analysis/i2QTL-sv-analysis/private_output/enrichment_shuffle_svs/observed_df_genic_elements.tsv', sep='\\t')\n",
      "# all vars recorded: /frazer01/projects/hipsci/analysis/i2QTL-sv-analysis/private_output/enrichment_shuffle_svs/load_saved_nb_variables.py\n",
      "# pickled vars recorded:/frazer01/projects/hipsci/analysis/i2QTL-sv-analysis/private_output/enrichment_shuffle_svs/load_pickled_nb_variables.py\n"
     ]
    }
   ],
   "source": [
    "CM.save_dataframe('observed_df_genic_elements', df_observed, private_out)"
   ]
  },
  {
   "cell_type": "code",
   "execution_count": 241,
   "metadata": {},
   "outputs": [
    {
     "name": "stdout",
     "output_type": "stream",
     "text": [
      "genetic_elements_p = pd.read_pickle('/frazer01/projects/hipsci/analysis/i2QTL-sv-analysis/private_output/enrichment_shuffle_svs/genetic_elements_p.pkl')\n",
      "genetic_elements_p = pd.read_csv('/frazer01/projects/hipsci/analysis/i2QTL-sv-analysis/private_output/enrichment_shuffle_svs/genetic_elements_p.tsv', sep='\\t')\n",
      "# all vars recorded: /frazer01/projects/hipsci/analysis/i2QTL-sv-analysis/private_output/enrichment_shuffle_svs/load_saved_nb_variables.py\n",
      "# pickled vars recorded:/frazer01/projects/hipsci/analysis/i2QTL-sv-analysis/private_output/enrichment_shuffle_svs/load_pickled_nb_variables.py\n"
     ]
    }
   ],
   "source": [
    "CM.save_dataframe('genetic_elements_p', df_observed_p, private_out)"
   ]
  },
  {
   "cell_type": "code",
   "execution_count": 242,
   "metadata": {},
   "outputs": [
    {
     "name": "stdout",
     "output_type": "stream",
     "text": [
      "observed_genic_elements_z = pd.read_pickle('/frazer01/projects/hipsci/analysis/i2QTL-sv-analysis/private_output/enrichment_shuffle_svs/observed_genic_elements_z.pkl')\n",
      "observed_genic_elements_z = pd.read_csv('/frazer01/projects/hipsci/analysis/i2QTL-sv-analysis/private_output/enrichment_shuffle_svs/observed_genic_elements_z.tsv', sep='\\t')\n",
      "# all vars recorded: /frazer01/projects/hipsci/analysis/i2QTL-sv-analysis/private_output/enrichment_shuffle_svs/load_saved_nb_variables.py\n",
      "# pickled vars recorded:/frazer01/projects/hipsci/analysis/i2QTL-sv-analysis/private_output/enrichment_shuffle_svs/load_pickled_nb_variables.py\n"
     ]
    }
   ],
   "source": [
    "CM.save_dataframe('observed_genic_elements_z', df_observed_z, private_out)"
   ]
  },
  {
   "cell_type": "code",
   "execution_count": 1111,
   "metadata": {},
   "outputs": [
    {
     "name": "stdout",
     "output_type": "stream",
     "text": [
      "genic_elements_z_plot = pd.read_pickle('/frazer01/projects/hipsci/analysis/i2QTL-sv-analysis/private_output/enrichment_shuffle_svs/genic_elements_z_plot.pkl')\n",
      "genic_elements_z_plot = pd.read_csv('/frazer01/projects/hipsci/analysis/i2QTL-sv-analysis/private_output/enrichment_shuffle_svs/genic_elements_z_plot.tsv', sep='\\t')\n",
      "# all vars recorded: /frazer01/projects/hipsci/analysis/i2QTL-sv-analysis/private_output/enrichment_shuffle_svs/load_saved_nb_variables.py\n",
      "# pickled vars recorded:/frazer01/projects/hipsci/analysis/i2QTL-sv-analysis/private_output/enrichment_shuffle_svs/load_pickled_nb_variables.py\n"
     ]
    }
   ],
   "source": [
    "CM.save_dataframe('genic_elements_z_plot', for_plot, private_out)"
   ]
  },
  {
   "cell_type": "code",
   "execution_count": 38,
   "metadata": {
    "collapsed": true
   },
   "outputs": [],
   "source": [
    "\n",
    "observed_df_genic_elements = pd.read_pickle('/frazer01/projects/hipsci/analysis/i2QTL-sv-analysis/private_output/enrichment_shuffle_svs/observed_df_genic_elements.pkl')"
   ]
  },
  {
   "cell_type": "markdown",
   "metadata": {},
   "source": [
    "# Compute Z scores PhyloP"
   ]
  },
  {
   "cell_type": "code",
   "execution_count": 151,
   "metadata": {},
   "outputs": [],
   "source": [
    "def get_z_scores_and_pvals(df_observed, c, perm_mean, perm_sd):\n",
    "    df_observed_z = df_observed.copy()\n",
    "    df_observed_p = df_observed.copy()\n",
    "    mean = perm_mean\n",
    "    sd = perm_sd\n",
    "    obs = df_observed[c]\n",
    "    \n",
    "    col_name_out = \"{}_Z\".format(c)\n",
    "    col_name_out_p = \"{}_p\".format(c)\n",
    "\n",
    "    z_score = (obs - mean)/ sd\n",
    "    df_observed_z[c] = z_score\n",
    "    z_score = z_score.fillna(0)\n",
    "    p_values = z_score.apply(lambda x: stats.norm.sf(abs(x))*2)\n",
    "\n",
    "    df_observed_z[c] = z_score\n",
    "    df_observed_p[c] = p_values \n",
    "    df_observed[col_name_out] = z_score \n",
    "    df_observed[col_name_out_p] = p_values\n",
    "    return df_observed, df_observed_p, df_observed_z\n"
   ]
  },
  {
   "cell_type": "code",
   "execution_count": 152,
   "metadata": {},
   "outputs": [],
   "source": [
    "def prep_for_plot(df_observed_z, cols):\n",
    "    df_observed_z = df_observed_z.pipe(prep_df_observed)\n",
    "    \n",
    "    for_plot = pd.melt(df_observed_z, id_vars=['SVTYPE', 'Frequency', 'SVTYPE_Freq'], value_vars= cols).fillna(0)\n",
    "    var_classes_all = ['DEL', 'DUP','mCNV', 'BND', 'INV', 'rMEI','LINE1', 'ALU', 'SVA', 'STR']\n",
    "    order_freq = ['common', 'rare', 'singleton']\n",
    "    order_dict = dict(zip(['common', 'rare', 'singleton', 'gap'], range(4)))\n",
    "    order_dict_svtype = dict(zip(var_classes_all, range(len(var_classes_all))))\n",
    "\n",
    "\n",
    "    for_plot['order_freq'] = for_plot.Frequency.apply(lambda x: order_dict[x])\n",
    "    for_plot['order_svtype'] = for_plot.SVTYPE.apply(lambda x: order_dict_svtype[x])\n",
    "    for_plot = for_plot.sort_values(['variable', 'order_svtype', 'order_freq'])\n",
    "    return for_plot"
   ]
  },
  {
   "cell_type": "code",
   "execution_count": 154,
   "metadata": {},
   "outputs": [],
   "source": [
    "perm_mean = phylo_perm_5k.groupby('SVTYPE_Freq').mean_phylop.mean()\n",
    "perm_sd = phylo_perm_5k.groupby('SVTYPE_Freq').mean_phylop.std()\n",
    "\n",
    "signif_thresh = 0.05/29\n",
    "zscore_thresh = (0.05/2)*(1/29)\n",
    "signif_z = abs(stats.norm.ppf(zscore_thresh))"
   ]
  },
  {
   "cell_type": "code",
   "execution_count": 189,
   "metadata": {
    "collapsed": true
   },
   "outputs": [],
   "source": [
    "conv = {True:1, False:-1}"
   ]
  },
  {
   "cell_type": "code",
   "execution_count": 190,
   "metadata": {
    "collapsed": true
   },
   "outputs": [],
   "source": [
    "observed_phylop['up_or_down'] = observed_phylop.FC.apply(lambda x: conv[(x > 0)])"
   ]
  },
  {
   "cell_type": "code",
   "execution_count": 192,
   "metadata": {},
   "outputs": [],
   "source": [
    "observed_phylop['log2FC'] = np.log2(np.abs(observed_phylop.FC))"
   ]
  },
  {
   "cell_type": "code",
   "execution_count": 193,
   "metadata": {
    "collapsed": true
   },
   "outputs": [],
   "source": [
    "observed_phylop['log2FC'] = observed_phylop['log2FC'] * observed_phylop.up_or_down"
   ]
  },
  {
   "cell_type": "code",
   "execution_count": 185,
   "metadata": {},
   "outputs": [
    {
     "name": "stderr",
     "output_type": "stream",
     "text": [
      "/frazer01/home/djakubosky/software/anaconda/lib/python2.7/site-packages/ipykernel/__main__.py:1: RuntimeWarning: invalid value encountered in log2\n",
      "  if __name__ == '__main__':\n"
     ]
    },
    {
     "data": {
      "text/plain": [
       "nan"
      ]
     },
     "execution_count": 185,
     "metadata": {},
     "output_type": "execute_result"
    }
   ],
   "source": [
    "np.log2(-0.18)"
   ]
  },
  {
   "cell_type": "code",
   "execution_count": 155,
   "metadata": {
    "collapsed": true
   },
   "outputs": [],
   "source": [
    "observed_phylop = pd.read_pickle('/frazer01/projects/hipsci/analysis/i2QTL-sv-analysis/private_output/enrichment_shuffle_svs/observed_phylop.pkl')"
   ]
  },
  {
   "cell_type": "code",
   "execution_count": 1048,
   "metadata": {},
   "outputs": [
    {
     "data": {
      "text/plain": [
       "<matplotlib.axes._subplots.AxesSubplot at 0x7f1548fc1f50>"
      ]
     },
     "execution_count": 1048,
     "metadata": {},
     "output_type": "execute_result"
    },
    {
     "data": {
      "image/png": "[encoded data removed]",
      "text/plain": [
       "<Figure size 600x400 with 1 Axes>"
      ]
     },
     "metadata": {},
     "output_type": "display_data"
    }
   ],
   "source": [
    "phylop_perm_all.groupby('SVTYPE_Freq').get_group('DEL_singleton').mean_phylop.hist()"
   ]
  },
  {
   "cell_type": "code",
   "execution_count": 156,
   "metadata": {},
   "outputs": [],
   "source": [
    "observed_phylop['SVTYPE_Freq'] = observed_phylop.index"
   ]
  },
  {
   "cell_type": "code",
   "execution_count": 157,
   "metadata": {},
   "outputs": [],
   "source": [
    "observed_phylop = observed_phylop.pipe(prep_df_observed)"
   ]
  },
  {
   "cell_type": "code",
   "execution_count": 158,
   "metadata": {},
   "outputs": [],
   "source": [
    "observed_phylop, phylop_p, phylop_z = get_z_scores_and_pvals(observed_phylop, 'mean_phylop', perm_mean, perm_sd)"
   ]
  },
  {
   "cell_type": "code",
   "execution_count": 159,
   "metadata": {},
   "outputs": [],
   "source": [
    "phylop_z['perm_mean'] = perm_mean"
   ]
  },
  {
   "cell_type": "code",
   "execution_count": 160,
   "metadata": {},
   "outputs": [],
   "source": [
    "observed_phylop['perm_mean']= perm_mean\n",
    "observed_phylop['perm_sd'] = perm_sd"
   ]
  },
  {
   "cell_type": "code",
   "execution_count": 161,
   "metadata": {
    "collapsed": true
   },
   "outputs": [],
   "source": [
    "observed_phylop['diff'] = observed_phylop['mean_phylop'] - observed_phylop['perm_mean']"
   ]
  },
  {
   "cell_type": "code",
   "execution_count": 162,
   "metadata": {
    "collapsed": true
   },
   "outputs": [],
   "source": [
    "observed_phylop['Z'] = observed_phylop['diff'] / observed_phylop['perm_sd']"
   ]
  },
  {
   "cell_type": "code",
   "execution_count": 169,
   "metadata": {},
   "outputs": [],
   "source": [
    "observed_phylop['FC'] = observed_phylop['diff']/observed_phylop.perm_mean"
   ]
  },
  {
   "cell_type": "code",
   "execution_count": 174,
   "metadata": {},
   "outputs": [
    {
     "name": "stderr",
     "output_type": "stream",
     "text": [
      "/frazer01/home/djakubosky/software/anaconda/lib/python2.7/site-packages/ipykernel/__main__.py:1: RuntimeWarning: invalid value encountered in log2\n",
      "  if __name__ == '__main__':\n"
     ]
    }
   ],
   "source": [
    "observed_phylop['log2FC'] = np.log2(observed_phylop.FC)"
   ]
  },
  {
   "cell_type": "code",
   "execution_count": 207,
   "metadata": {},
   "outputs": [
    {
     "data": {
      "text/plain": [
       "<matplotlib.axes._subplots.AxesSubplot at 0x7f85395e1d10>"
      ]
     },
     "execution_count": 207,
     "metadata": {},
     "output_type": "execute_result"
    },
    {
     "data": {
      "image/png": "[encoded data removed]",
      "text/plain": [
       "<Figure size 600x400 with 1 Axes>"
      ]
     },
     "metadata": {},
     "output_type": "display_data"
    }
   ],
   "source": [
    "observed_phylop[~observed_phylop.SVTYPE.isin([])]['FC'].plot(kind = 'barh')"
   ]
  },
  {
   "cell_type": "code",
   "execution_count": 201,
   "metadata": {},
   "outputs": [
    {
     "data": {
      "text/plain": [
       "<matplotlib.axes._subplots.AxesSubplot at 0x7f8539b4fad0>"
      ]
     },
     "execution_count": 201,
     "metadata": {},
     "output_type": "execute_result"
    },
    {
     "data": {
      "image/png": "[encoded data removed]",
      "text/plain": [
       "<Figure size 600x400 with 1 Axes>"
      ]
     },
     "metadata": {},
     "output_type": "display_data"
    }
   ],
   "source": [
    "observed_phylop[observed_phylop.SVTYPE !='STR']['FC'].plot(kind = 'barh')"
   ]
  },
  {
   "cell_type": "code",
   "execution_count": 196,
   "metadata": {},
   "outputs": [
    {
     "data": {
      "text/plain": [
       "<matplotlib.axes._subplots.AxesSubplot at 0x7f8539e13950>"
      ]
     },
     "execution_count": 196,
     "metadata": {},
     "output_type": "execute_result"
    },
    {
     "data": {
      "image/png": "[encoded data removed]",
      "text/plain": [
       "<Figure size 600x400 with 1 Axes>"
      ]
     },
     "metadata": {},
     "output_type": "display_data"
    }
   ],
   "source": [
    "observed_phylop['log2FC'].plot(kind = 'barh')"
   ]
  },
  {
   "cell_type": "code",
   "execution_count": 199,
   "metadata": {},
   "outputs": [
    {
     "name": "stdout",
     "output_type": "stream",
     "text": [
      "phylop_summary = pd.read_pickle('/frazer01/projects/hipsci/analysis/i2QTL-sv-analysis/private_output/enrichment_shuffle_svs/phylop_summary.pkl')\n",
      "phylop_summary = pd.read_csv('/frazer01/projects/hipsci/analysis/i2QTL-sv-analysis/private_output/enrichment_shuffle_svs/phylop_summary.tsv', sep='\\t')\n",
      "# all vars recorded: /frazer01/projects/hipsci/analysis/i2QTL-sv-analysis/private_output/enrichment_shuffle_svs/load_saved_nb_variables.py\n",
      "# pickled vars recorded:/frazer01/projects/hipsci/analysis/i2QTL-sv-analysis/private_output/enrichment_shuffle_svs/load_pickled_nb_variables.py\n"
     ]
    }
   ],
   "source": [
    "CM.save_dataframe('phylop_summary', observed_phylop, private_out)"
   ]
  },
  {
   "cell_type": "code",
   "execution_count": 1082,
   "metadata": {},
   "outputs": [
    {
     "name": "stdout",
     "output_type": "stream",
     "text": [
      "phylop_z_1000perm = pd.read_pickle('/frazer01/projects/hipsci/analysis/i2QTL-sv-analysis/private_output/enrichment_shuffle_svs/phylop_z_1000perm.pkl')\n",
      "phylop_z_1000perm = pd.read_csv('/frazer01/projects/hipsci/analysis/i2QTL-sv-analysis/private_output/enrichment_shuffle_svs/phylop_z_1000perm.tsv', sep='\\t')\n",
      "# all vars recorded: /frazer01/projects/hipsci/analysis/i2QTL-sv-analysis/private_output/enrichment_shuffle_svs/load_saved_nb_variables.py\n",
      "# pickled vars recorded:/frazer01/projects/hipsci/analysis/i2QTL-sv-analysis/private_output/enrichment_shuffle_svs/load_pickled_nb_variables.py\n"
     ]
    }
   ],
   "source": [
    "CM.save_dataframe('phylop_z_1000perm', phylop_z, private_out)"
   ]
  },
  {
   "cell_type": "code",
   "execution_count": 1085,
   "metadata": {},
   "outputs": [
    {
     "name": "stdout",
     "output_type": "stream",
     "text": [
      "observed_phylop = pd.read_pickle('/frazer01/projects/hipsci/analysis/i2QTL-sv-analysis/private_output/enrichment_shuffle_svs/observed_phylop.pkl')\n",
      "observed_phylop = pd.read_csv('/frazer01/projects/hipsci/analysis/i2QTL-sv-analysis/private_output/enrichment_shuffle_svs/observed_phylop.tsv', sep='\\t')\n",
      "# all vars recorded: /frazer01/projects/hipsci/analysis/i2QTL-sv-analysis/private_output/enrichment_shuffle_svs/load_saved_nb_variables.py\n",
      "# pickled vars recorded:/frazer01/projects/hipsci/analysis/i2QTL-sv-analysis/private_output/enrichment_shuffle_svs/load_pickled_nb_variables.py\n"
     ]
    }
   ],
   "source": [
    "CM.save_dataframe('observed_phylop', observed_phylop, private_out)"
   ]
  }
 ],
 "metadata": {
  "kernelspec": {
   "display_name": "Python 2",
   "language": "python",
   "name": "python2"
  },
  "language_info": {
   "codemirror_mode": {
    "name": "ipython",
    "version": 2
   },
   "file_extension": ".py",
   "mimetype": "text/x-python",
   "name": "python",
   "nbconvert_exporter": "python",
   "pygments_lexer": "ipython2",
   "version": "2.7.15"
  }
 },
 "nbformat": 4,
 "nbformat_minor": 1
}
