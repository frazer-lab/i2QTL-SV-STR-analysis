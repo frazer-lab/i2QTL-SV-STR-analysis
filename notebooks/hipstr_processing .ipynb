{
 "cells": [
  {
   "cell_type": "code",
   "execution_count": 1,
   "metadata": {},
   "outputs": [],
   "source": [
    "%matplotlib inline\n",
    "from __future__ import division\n",
    "import numpy as np\n",
    "import os\n",
    "import sys\n",
    "import datetime\n",
    "from subprocess import call\n",
    "import subprocess\n",
    "import glob\n",
    "import djPyi2 as DJ\n",
    "from djPyi2 import Common as CM\n",
    "from djPyi2 import mpltools\n",
    "\n",
    "import pandas as pd\n",
    "import csv\n",
    "import seaborn as sns\n",
    "import matplotlib as mpl\n",
    "import matplotlib.pyplot as plt\n",
    "import copy \n",
    "import pybedtools as pbt\n",
    "import ciepy\n",
    "import cardipspy as cpy\n",
    "import itertools\n",
    "import tempfile\n",
    "import six\n",
    "import networkx as nx\n",
    "import scipy.stats as stats\n",
    "pd.set_option('display.max_columns', 500)\n",
    "pd.set_option('display.max_rows', 100)\n",
    "from mpl_toolkits.axes_grid1 import  make_axes_locatable\n",
    "import datetime\n",
    "\n",
    "from scipy.stats import mode\n",
    "dy_name = 'hipstr_processing'\n",
    "\n",
    "private_out = os.path.join(DJ.root, 'private_output', dy_name)\n",
    "if not os.path.exists(private_out):\n",
    "    cpy.makedir(private_out)"
   ]
  },
  {
   "cell_type": "code",
   "execution_count": 2,
   "metadata": {},
   "outputs": [],
   "source": [
    "import gzip"
   ]
  },
  {
   "cell_type": "code",
   "execution_count": 6,
   "metadata": {},
   "outputs": [],
   "source": [
    "# hipstr genotyping and de-novo \n",
    "hipstr_data_ipscore = '/frazer01/projects/hipsci/pipeline/WGS/HipSTR/output_ipscore_200/'\n",
    "hipstr_data_hipsci = '/frazer01/projects/hipsci/pipeline/WGS/HipSTR/output_hipsci_200/'"
   ]
  },
  {
   "cell_type": "code",
   "execution_count": 7,
   "metadata": {
    "collapsed": true
   },
   "outputs": [],
   "source": [
    "vcfs = glob.glob(hipstr_data_ipscore + '*.vcf.gz')"
   ]
  },
  {
   "cell_type": "code",
   "execution_count": 13,
   "metadata": {},
   "outputs": [],
   "source": [
    "for i in range(1,8102):\n",
    "    fn = '/frazer01/projects/hipsci/pipeline/WGS/HipSTR/output_ipscore_200/ref_{}.vcf.gz'.format(i)\n",
    "    header_end = \n",
    "    with open(fn, 'rU') as F:\n",
    "        \n",
    "        for line in F:\n",
    "    "
   ]
  },
  {
   "cell_type": "code",
   "execution_count": 77,
   "metadata": {
    "collapsed": true
   },
   "outputs": [],
   "source": [
    "out_dir = '/frazer01/projects/hipsci/pipeline/WGS/HipSTR/combined_results/'"
   ]
  },
  {
   "cell_type": "code",
   "execution_count": 15,
   "metadata": {
    "collapsed": true
   },
   "outputs": [],
   "source": [
    "fn_out = out_dir + 'hipstr_ipscore.vcf'\n",
    "\n",
    "with open(fn_out, 'w') as O:\n",
    "    for i in range(1,8102):\n",
    "        fn = '/frazer01/projects/hipsci/pipeline/WGS/HipSTR/output_ipscore_200/ref_{}.vcf.gz'.format(i)\n",
    "        header_end = CM.find_header_end(fn)\n",
    "        count = 0\n",
    "        with gzip.open(fn, 'rU') as F:\n",
    "            for line in F:\n",
    "                line = line.rstrip()\n",
    "                if i == 1:\n",
    "                    O.write(line + '\\n')\n",
    "                else:\n",
    "                    if count > (header_end-1):\n",
    "                        O.write(line + '\\n')  \n",
    "                count += 1"
   ]
  },
  {
   "cell_type": "code",
   "execution_count": null,
   "metadata": {},
   "outputs": [],
   "source": [
    "%%pypy\n",
    "import gzip\n",
    "\n",
    "def find_header_end(fn):\n",
    "    \"\"\" find header end line number of vcf or gzipped vcf\"\"\"\n",
    "\n",
    "    if fn.split('.').pop() == 'gz':\n",
    "        import gzip\n",
    "        F = gzip.open(fn, 'rU')\n",
    "    else:\n",
    "        F = open(fn, 'rU')\n",
    "\n",
    "\n",
    "    count = 0\n",
    "    for line in F:\n",
    "        count +=1\n",
    "        try: \n",
    "            spl = line.split('\\t')\n",
    "            spl0 = spl[0] \n",
    "            if spl[0]==\"#CHROM\":\n",
    "                F.close()\n",
    "                return count\n",
    "            if count > 2000:\n",
    "                F.close()\n",
    "                return 'incomplete or missing header, or very long header'\n",
    "        except:\n",
    "            break\n",
    "\n",
    "    F.close()\n",
    "\n",
    "out_dir = '/frazer01/projects/hipsci/pipeline/WGS/HipSTR/results/'\n",
    "fn_out = out_dir + 'hipstr_ipscore.vcf.gz'\n",
    "\n",
    "\n",
    "\n",
    "with gzip.open(fn_out, 'w') as O:\n",
    "    for i in range(1,8102):\n",
    "        fn = '/frazer01/projects/hipsci/pipeline/WGS/HipSTR/output_ipscore_200/ref_{}.vcf.gz'.format(i)\n",
    "        header_end = find_header_end(fn)\n",
    "        count = 0\n",
    "        with gzip.open(fn, 'rU') as F:\n",
    "            for line in F:\n",
    "                line = line.rstrip()\n",
    "                if i == 1:\n",
    "                    O.write(line + '\\n')\n",
    "                else:\n",
    "                    if count > (header_end-1):\n",
    "                        O.write(line + '\\n')  \n",
    "                count += 1"
   ]
  },
  {
   "cell_type": "code",
   "execution_count": 108,
   "metadata": {},
   "outputs": [],
   "source": [
    "T = gzip.open(fn_out, 'w')"
   ]
  },
  {
   "cell_type": "code",
   "execution_count": null,
   "metadata": {
    "collapsed": true
   },
   "outputs": [],
   "source": [
    "T.write('')"
   ]
  },
  {
   "cell_type": "code",
   "execution_count": null,
   "metadata": {
    "collapsed": true
   },
   "outputs": [],
   "source": [
    "fn_out = out_dir + 'hipstr_ipscore.vcf'\n",
    "\n",
    "with open(fn_out, 'w') as O:\n",
    "    for i in range(1,8102):\n",
    "        fn = '/frazer01/projects/hipsci/pipeline/WGS/HipSTR/output_ipscore_200/ref_{}.vcf.gz'.format(i)\n",
    "        header_end = CM.find_header_end(fn)\n",
    "        count = 0\n",
    "        with gzip.open(fn, 'rU') as F:\n",
    "            for line in F:\n",
    "                line = line.rstrip()\n",
    "                if i == 1:\n",
    "                    O.write(line + '\\n')\n",
    "                else:\n",
    "                    if count > (header_end-1):\n",
    "                        O.write(line + '\\n')  \n",
    "                count += 1"
   ]
  },
  {
   "cell_type": "code",
   "execution_count": 52,
   "metadata": {},
   "outputs": [],
   "source": [
    "fn_out = out_dir + 'hipstr_hipsci.vcf'\n",
    "problems = []\n",
    "with open(fn_out, 'w') as O:\n",
    "    for i in range(1,8102):\n",
    "        fn = '/frazer01/projects/hipsci/pipeline/WGS/HipSTR/output_hipsci_200/ref_{}.vcf.gz'.format(i)\n",
    "        header_end = CM.find_header_end(fn)\n",
    "        count = 0\n",
    "        try:\n",
    "            with gzip.open(fn, 'rU') as F:\n",
    "\n",
    "                for line in F:\n",
    "                    line = line.rstrip()\n",
    "                    if i == 1:\n",
    "                        O.write(line + '\\n')\n",
    "                    else:\n",
    "                        if count > (header_end-1):\n",
    "                            O.write(line + '\\n')  \n",
    "                    count += 1\n",
    "        except:\n",
    "            count +=1\n",
    "            problems.append(fn)"
   ]
  },
  {
   "cell_type": "code",
   "execution_count": 84,
   "metadata": {},
   "outputs": [
    {
     "data": {
      "text/plain": [
       "75"
      ]
     },
     "execution_count": 84,
     "metadata": {},
     "output_type": "execute_result"
    }
   ],
   "source": [
    "len(problems)"
   ]
  },
  {
   "cell_type": "code",
   "execution_count": null,
   "metadata": {
    "collapsed": true
   },
   "outputs": [],
   "source": [
    "qsub -t 7-8 HipSTR_hipsci_200.sh reference_200.list ../bam_hipsci_new.txt output_hipsci_200\n",
    "qsub -t 10 HipSTR_hipsci_200.sh reference_200.list ../bam_hipsci_new.txt output_hipsci_200\n"
   ]
  },
  {
   "cell_type": "code",
   "execution_count": 76,
   "metadata": {},
   "outputs": [
    {
     "data": {
      "text/plain": [
       "'/frazer01/projects/hipsci/analysis/i2QTL-sv-analysis/private_output/hipstr_qc_analysis/ipscore_genotype'"
      ]
     },
     "execution_count": 76,
     "metadata": {},
     "output_type": "execute_result"
    }
   ],
   "source": []
  },
  {
   "cell_type": "code",
   "execution_count": 85,
   "metadata": {},
   "outputs": [],
   "source": [
    "fn_out = os.path.join(out_dir + 'hipstr_ipscore_ref_hipsci.vcf')\n",
    "problems = []\n",
    "with open(fn_out, 'w') as O:\n",
    "    for i in range(1,8102):\n",
    "        fn = '/frazer01/projects/hipsci/pipeline/WGS/HipSTR/output_hipsci_geno_ipscore_200/ref_{}.vcf.gz'.format(i)\n",
    "        count = 0\n",
    "        try:\n",
    "            header_end = CM.find_header_end(fn)\n",
    "            with gzip.open(fn, 'rU') as F:\n",
    "\n",
    "                for line in F:\n",
    "                    line = line.rstrip()\n",
    "                    if i == 1:\n",
    "                        O.write(line + '\\n')\n",
    "                    else:\n",
    "                        if count > (header_end-1):\n",
    "                            O.write(line + '\\n')  \n",
    "                    count += 1\n",
    "        except:\n",
    "            count +=1\n",
    "            problems.append(fn)"
   ]
  },
  {
   "cell_type": "code",
   "execution_count": 78,
   "metadata": {
    "collapsed": true
   },
   "outputs": [],
   "source": [
    "fn_out = os.path.join(out_dir, 'hipstr_ipscore_ref_hipsci.vcf')\n",
    "problems = []\n",
    "with open(fn_out, 'w') as O:\n",
    "    for i in range(1,8102):\n",
    "        fn = '/frazer01/projects/hipsci/pipeline/WGS/HipSTR/output_hipsci_geno_ipscore_200/ref_{}.vcf.gz'.format(i)\n",
    "        count = 0\n",
    "        try:\n",
    "            header_end = CM.find_header_end(fn)\n",
    "\n",
    "        except:\n",
    "            count +=1\n",
    "            problems.append(fn)"
   ]
  },
  {
   "cell_type": "markdown",
   "metadata": {},
   "source": [
    "# Note that the missing ones 8027 + are Y chromosome regions and HipSci Bams don't have a Y chrom- thus there was no output"
   ]
  },
  {
   "cell_type": "markdown",
   "metadata": {},
   "source": [
    "# Run Extract Pipeline"
   ]
  },
  {
   "cell_type": "code",
   "execution_count": 4,
   "metadata": {},
   "outputs": [
    {
     "data": {
      "text/plain": [
       "'/frazer01/projects/hipsci/analysis/i2QTL-sv-analysis/notebooks/HipSTR_processing/hipstr_extract_replication.py'"
      ]
     },
     "execution_count": 4,
     "metadata": {},
     "output_type": "execute_result"
    }
   ],
   "source": [
    "DJ.convert_ipynb_to_script('/frazer01/projects/hipsci/analysis/i2QTL-sv-analysis/notebooks/HipSTR_processing/hipstr_extract_replication.ipynb')"
   ]
  },
  {
   "cell_type": "code",
   "execution_count": 5,
   "metadata": {
    "collapsed": true
   },
   "outputs": [],
   "source": [
    "extract_script = '/frazer01/projects/hipsci/analysis/i2QTL-sv-analysis/notebooks/HipSTR_processing/hipstr_extract_replication.py'"
   ]
  },
  {
   "cell_type": "markdown",
   "metadata": {},
   "source": [
    "# iPSCORE genotypes"
   ]
  },
  {
   "cell_type": "code",
   "execution_count": 87,
   "metadata": {
    "collapsed": true
   },
   "outputs": [],
   "source": [
    "fn_vcf= '/frazer01/projects/hipsci/pipeline/WGS/HipSTR/combined_results/hipstr_ipscore.vcf'\n",
    "\n",
    "out_dir = '/frazer01/projects/hipsci/analysis/i2QTL-sv-analysis/private_output/hipstr_qc_analysis/ipscore_geno'\n",
    "\n",
    "\n",
    "\n",
    "twin_fn = '/frazer01/projects/hipsci/analysis/i2QTL-sv-analysis/private_output/ipscore_sample_info/twins.tsv'\n",
    "pairs = [line.rstrip().split() for line in open(twin_fn)]    \n",
    "\n",
    "fn_ipscore = '/frazer01/projects/hipsci/analysis/i2QTL-sv-analysis/private_output/sample_info_combined/samples_ipscore.txt'\n",
    "\n",
    "samples = [line.rstrip() for line in open(fn_ipscore)]\n",
    "\n",
    "command = 'python {} -vcf {} -pairs {} -s {} -o {}'.format(extract_script, fn_vcf, twin_fn, fn_ipscore, out_dir)"
   ]
  },
  {
   "cell_type": "code",
   "execution_count": 88,
   "metadata": {},
   "outputs": [
    {
     "data": {
      "text/plain": [
       "'python /frazer01/projects/hipsci/analysis/i2QTL-sv-analysis/notebooks/HipSTR_processing/hipstr_extract_replication.py -vcf /frazer01/projects/hipsci/pipeline/WGS/HipSTR/combined_results/hipstr_ipscore.vcf -pairs /frazer01/projects/hipsci/analysis/i2QTL-sv-analysis/private_output/ipscore_sample_info/twins.tsv -s /frazer01/projects/hipsci/analysis/i2QTL-sv-analysis/private_output/sample_info_combined/samples_ipscore.txt -o /frazer01/projects/hipsci/analysis/i2QTL-sv-analysis/private_output/hipstr_qc_analysis/ipscore_geno'"
      ]
     },
     "execution_count": 88,
     "metadata": {},
     "output_type": "execute_result"
    }
   ],
   "source": [
    "command"
   ]
  },
  {
   "cell_type": "code",
   "execution_count": 89,
   "metadata": {},
   "outputs": [
    {
     "name": "stdout",
     "output_type": "stream",
     "text": [
      "Starting Variant Processing: 08/23/18- 14:28\n",
      "processed 50000 variants 08/23/18- 14:29\n",
      "processed 100000 variants 08/23/18- 14:30\n",
      "processed 150000 variants 08/23/18- 14:32\n",
      "processed 200000 variants 08/23/18- 14:33\n",
      "processed 250000 variants 08/23/18- 14:34\n",
      "processed 300000 variants 08/23/18- 14:36\n",
      "processed 350000 variants 08/23/18- 14:37\n",
      "processed 400000 variants 08/23/18- 14:38\n",
      "processed 450000 variants 08/23/18- 14:39\n",
      "processed 500000 variants 08/23/18- 14:41\n",
      "processed 550000 variants 08/23/18- 14:42\n",
      "processed 600000 variants 08/23/18- 14:43\n",
      "processed 650000 variants 08/23/18- 14:44\n",
      "processed 700000 variants 08/23/18- 14:45\n",
      "processed 750000 variants 08/23/18- 14:47\n",
      "processed 800000 variants 08/23/18- 14:48\n",
      "processed 850000 variants 08/23/18- 14:49\n",
      "processed 900000 variants 08/23/18- 14:51\n",
      "processed 950000 variants 08/23/18- 14:52\n",
      "processed 1000000 variants 08/23/18- 14:53\n",
      "processed 1050000 variants 08/23/18- 14:54\n",
      "processed 1100000 variants 08/23/18- 14:56\n",
      "processed 1150000 variants 08/23/18- 14:57\n",
      "processed 1200000 variants 08/23/18- 14:58\n",
      "processed 1250000 variants 08/23/18- 14:59\n",
      "processed 1300000 variants 08/23/18- 15:01\n",
      "processed 1350000 variants 08/23/18- 15:02\n",
      "processed 1400000 variants 08/23/18- 15:03\n",
      "processed 1450000 variants 08/23/18- 15:05\n",
      "processed 1500000 variants 08/23/18- 15:06\n",
      "processed 1550000 variants 08/23/18- 15:07\n",
      "number of variants: 1551744 number_all_missing: 34616\n",
      "Completed Variant Processing: 08/23/18- 15:07\n",
      "COMPLETE\n"
     ]
    }
   ],
   "source": [
    "! {command}"
   ]
  },
  {
   "cell_type": "code",
   "execution_count": 74,
   "metadata": {
    "collapsed": true
   },
   "outputs": [],
   "source": [
    "fn_vcf= '/frazer01/projects/hipsci/pipeline/WGS/HipSTR/combined_results/hipstr_ipscore.vcf'\n",
    "\n",
    "out_dir = '/frazer01/projects/hipsci/analysis/i2QTL-sv-analysis/private_output/hipstr_qc_analysis/ipscore_genotype'\n",
    "\n",
    "\n",
    "\n",
    "twin_fn = '/frazer01/projects/hipsci/analysis/i2QTL-sv-analysis/private_output/ipscore_sample_info/twins.tsv'\n",
    "pairs = [line.rstrip().split() for line in open(twin_fn)]    \n",
    "\n",
    "fn_ipscore = '/frazer01/projects/hipsci/analysis/i2QTL-sv-analysis/private_output/sample_info_combined/samples_ipscore.txt'\n",
    "\n",
    "samples = [line.rstrip() for line in open(fn_ipscore)]\n",
    "\n",
    "command = 'python {} -vcf {} -pairs {} -s {} -o {}'.format(extract_script, fn_vcf, twin_fn, fn_ipscore, out_dir)"
   ]
  },
  {
   "cell_type": "code",
   "execution_count": 75,
   "metadata": {},
   "outputs": [
    {
     "name": "stdout",
     "output_type": "stream",
     "text": [
      "Starting Variant Processing: 08/23/18- 11:21\n",
      "processed 50000 variants 08/23/18- 11:22\n",
      "processed 100000 variants 08/23/18- 11:24\n",
      "processed 150000 variants 08/23/18- 11:25\n",
      "processed 200000 variants 08/23/18- 11:26\n",
      "processed 250000 variants 08/23/18- 11:28\n",
      "processed 300000 variants 08/23/18- 11:29\n",
      "processed 350000 variants 08/23/18- 11:30\n",
      "processed 400000 variants 08/23/18- 11:31\n",
      "processed 450000 variants 08/23/18- 11:33\n",
      "processed 500000 variants 08/23/18- 11:34\n",
      "processed 550000 variants 08/23/18- 11:35\n",
      "processed 600000 variants 08/23/18- 11:36\n",
      "processed 650000 variants 08/23/18- 11:37\n",
      "processed 700000 variants 08/23/18- 11:39\n",
      "processed 750000 variants 08/23/18- 11:40\n",
      "processed 800000 variants 08/23/18- 11:41\n",
      "processed 850000 variants 08/23/18- 11:42\n",
      "processed 900000 variants 08/23/18- 11:44\n",
      "processed 950000 variants 08/23/18- 11:45\n",
      "processed 1000000 variants 08/23/18- 11:46\n",
      "processed 1050000 variants 08/23/18- 11:47\n",
      "processed 1100000 variants 08/23/18- 11:49\n",
      "processed 1150000 variants 08/23/18- 11:50\n",
      "processed 1200000 variants 08/23/18- 11:51\n",
      "processed 1250000 variants 08/23/18- 11:52\n",
      "processed 1300000 variants 08/23/18- 11:54\n",
      "processed 1350000 variants 08/23/18- 11:55\n",
      "processed 1400000 variants 08/23/18- 11:56\n",
      "processed 1450000 variants 08/23/18- 11:57\n",
      "processed 1500000 variants 08/23/18- 11:59\n",
      "processed 1550000 variants 08/23/18- 12:00\n",
      "number of variants: 1551744 number_all_missing: 34616\n",
      "Completed Variant Processing: 08/23/18- 12:00\n",
      "COMPLETE\n"
     ]
    }
   ],
   "source": [
    "! {command}"
   ]
  },
  {
   "cell_type": "code",
   "execution_count": 90,
   "metadata": {
    "collapsed": true
   },
   "outputs": [],
   "source": [
    "fn_vcf= '/frazer01/projects/hipsci/pipeline/WGS/HipSTR/combined_results/hipstr_ipscore_ref_hipsci.vcf'\n",
    "\n",
    "out_dir = '/frazer01/projects/hipsci/analysis/i2QTL-sv-analysis/private_output/hipstr_qc_analysis/ipscore_hipsci_ref'\n",
    "DJ.makedir(out_dir)\n",
    "\n",
    "\n",
    "twin_fn = '/frazer01/projects/hipsci/analysis/i2QTL-sv-analysis/private_output/ipscore_sample_info/twins.tsv'\n",
    "pairs = [line.rstrip().split() for line in open(twin_fn)]    \n",
    "\n",
    "fn_ipscore = '/frazer01/projects/hipsci/analysis/i2QTL-sv-analysis/private_output/sample_info_combined/samples_ipscore.txt'\n",
    "\n",
    "samples = [line.rstrip() for line in open(fn_ipscore)]\n",
    "\n",
    "command = 'python {} -vcf {} -pairs {} -s {} -o {}'.format(extract_script, fn_vcf, twin_fn, fn_ipscore, out_dir)"
   ]
  },
  {
   "cell_type": "code",
   "execution_count": 92,
   "metadata": {},
   "outputs": [
    {
     "name": "stdout",
     "output_type": "stream",
     "text": [
      "Starting Variant Processing: 08/23/18- 18:39\n",
      "processed 50000 variants 08/23/18- 18:40\n",
      "processed 100000 variants 08/23/18- 18:41\n",
      "processed 150000 variants 08/23/18- 18:43\n",
      "processed 200000 variants 08/23/18- 18:44\n",
      "processed 250000 variants 08/23/18- 18:45\n",
      "processed 300000 variants 08/23/18- 18:46\n",
      "processed 350000 variants 08/23/18- 18:48\n",
      "processed 400000 variants 08/23/18- 18:49\n",
      "processed 450000 variants 08/23/18- 18:50\n",
      "processed 500000 variants 08/23/18- 18:51\n",
      "processed 550000 variants 08/23/18- 18:52\n",
      "processed 600000 variants 08/23/18- 18:54\n",
      "processed 650000 variants 08/23/18- 18:55\n",
      "processed 700000 variants 08/23/18- 18:56\n",
      "processed 750000 variants 08/23/18- 18:57\n",
      "processed 800000 variants 08/23/18- 18:58\n",
      "processed 850000 variants 08/23/18- 19:00\n",
      "processed 900000 variants 08/23/18- 19:01\n",
      "processed 950000 variants 08/23/18- 19:02\n",
      "processed 1000000 variants 08/23/18- 19:03\n",
      "processed 1050000 variants 08/23/18- 19:05\n",
      "processed 1100000 variants 08/23/18- 19:06\n",
      "processed 1150000 variants 08/23/18- 19:07\n",
      "processed 1200000 variants 08/23/18- 19:08\n",
      "processed 1250000 variants 08/23/18- 19:10\n",
      "processed 1300000 variants 08/23/18- 19:11\n",
      "processed 1350000 variants 08/23/18- 19:12\n",
      "processed 1400000 variants 08/23/18- 19:13\n",
      "processed 1450000 variants 08/23/18- 19:14\n",
      "processed 1500000 variants 08/23/18- 19:16\n",
      "number of variants: 1516926 number_all_missing: 32009\n",
      "Completed Variant Processing: 08/23/18- 19:16\n",
      "COMPLETE\n"
     ]
    }
   ],
   "source": [
    "! {command}"
   ]
  },
  {
   "cell_type": "code",
   "execution_count": 101,
   "metadata": {
    "collapsed": true
   },
   "outputs": [],
   "source": [
    "fn_vcf= '/frazer01/projects/hipsci/pipeline/WGS/HipSTR/combined_results/hipstr_hipsci.vcf'\n",
    "\n",
    "out_dir = '/frazer01/projects/hipsci/analysis/i2QTL-sv-analysis/private_output/hipstr_qc_analysis/hipsci_geno'\n",
    "DJ.makedir(out_dir)\n",
    "\n",
    "\n",
    "fib_ipsc_fn = '/frazer01/projects/hipsci/analysis/i2QTL-sv-analysis/private_output/hipsci_sample_info/fib_ipsc.txt'\n",
    "pairs = [line.rstrip().split() for line in open(fib_ipsc_fn)]    \n",
    "\n",
    "fn_hipsci = '/frazer01/projects/hipsci/analysis/i2QTL-sv-analysis/private_output/sample_info_combined/samples_hipsci.txt'\n",
    "\n",
    "samples = [line.rstrip() for line in open(fn_ipscore)]\n",
    "\n",
    "command = 'python {} -vcf {} -pairs {} -s {} -o {}'.format(extract_script, fn_vcf, fib_ipsc_fn, fn_hipsci, out_dir)"
   ]
  },
  {
   "cell_type": "code",
   "execution_count": null,
   "metadata": {},
   "outputs": [],
   "source": [
    "O = ! {command}"
   ]
  },
  {
   "cell_type": "code",
   "execution_count": null,
   "metadata": {
    "collapsed": true
   },
   "outputs": [],
   "source": [
    "    #$ -cwd\n",
    "#$ -V\n",
    "#$ -e logs_error_hipsci\n",
    "#$ -o logs_out_hipsci\n",
    "#$ -pe smp 4\n",
    "\n",
    "/frazer01/home/djakubosky/software/HipSTR/HipSTR --bam-files ../bam_hipsci_trunc.txt --fasta /frazer01/publicdata/hs37d5/hs37d5.fa --regions /frazer01/home/djakubosky/software/HipSTR/references/split_ref_200/ref_7.bed --str-vcf output_hipsci_200/ref_7.vcf.gz"
   ]
  },
  {
   "cell_type": "code",
   "execution_count": 40,
   "metadata": {
    "collapsed": true
   },
   "outputs": [],
   "source": [
    "fn_out = out_dir + 'hipstr_hipsci.vcf'\n"
   ]
  },
  {
   "cell_type": "markdown",
   "metadata": {},
   "source": [
    "# After sample wise filtering"
   ]
  },
  {
   "cell_type": "code",
   "execution_count": 135,
   "metadata": {
    "collapsed": true
   },
   "outputs": [],
   "source": [
    "fn_vcf= '/frazer01/projects/hipsci/pipeline/WGS/HipSTR/combined_results/hipstr_ipscore.filt.vcf'\n",
    "\n",
    "out_dir = '/frazer01/projects/hipsci/analysis/i2QTL-sv-analysis/private_output/hipstr_qc_analysis/ipscore_filt_geno'\n",
    "DJ.makedir(out_dir)\n",
    "\n",
    "\n",
    "twin_fn = '/frazer01/projects/hipsci/analysis/i2QTL-sv-analysis/private_output/ipscore_sample_info/twins.tsv'\n",
    "pairs = [line.rstrip().split() for line in open(twin_fn)]    \n",
    "\n",
    "fn_ipscore = '/frazer01/projects/hipsci/analysis/i2QTL-sv-analysis/private_output/sample_info_combined/samples_ipscore.txt'\n",
    "\n",
    "samples = [line.rstrip() for line in open(fn_ipscore)]\n",
    "\n",
    "command = 'python {} -vcf {} -pairs {} -s {} -o {}'.format(extract_script, fn_vcf, twin_fn, fn_ipscore, out_dir)"
   ]
  },
  {
   "cell_type": "code",
   "execution_count": 175,
   "metadata": {
    "collapsed": true
   },
   "outputs": [],
   "source": [
    "fn_vcf= '/frazer01/projects/hipsci/pipeline/WGS/HipSTR/combined_results/hipstr_ipscore.filt.vcf'\n",
    "\n",
    "out_dir = '/frazer01/projects/hipsci/analysis/i2QTL-sv-analysis/private_output/hipstr_qc_analysis/ipscore_filt_geno2'\n",
    "DJ.makedir(out_dir)\n",
    "\n",
    "\n",
    "twin_fn = '/frazer01/projects/hipsci/analysis/i2QTL-sv-analysis/private_output/ipscore_sample_info/twins.tsv'\n",
    "pairs = [line.rstrip().split() for line in open(twin_fn)]    \n",
    "\n",
    "fn_ipscore = '/frazer01/projects/hipsci/analysis/i2QTL-sv-analysis/private_output/sample_info_combined/samples_ipscore.txt'\n",
    "\n",
    "samples = [line.rstrip() for line in open(fn_ipscore)]\n",
    "\n",
    "command = 'python {} -vcf {} -pairs {} -s {} -o {}'.format(extract_script, fn_vcf, twin_fn, fn_ipscore, out_dir)"
   ]
  },
  {
   "cell_type": "markdown",
   "metadata": {},
   "source": [
    "# After 1 sample was filtered from rr "
   ]
  },
  {
   "cell_type": "code",
   "execution_count": 12,
   "metadata": {},
   "outputs": [],
   "source": [
    "fn_vcf= '/frazer01/projects/hipsci/pipeline/WGS/HipSTR/combined_results/hipstr_ipscore.filt.vcf'\n",
    "\n",
    "out_dir = '/frazer01/projects/hipsci/analysis/i2QTL-sv-analysis/private_output/hipstr_qc_analysis/ipscore_filt_sr_geno'\n",
    "DJ.makedir(out_dir)\n",
    "\n",
    "\n",
    "twin_fn = '/frazer01/projects/hipsci/analysis/i2QTL-sv-analysis/private_output/ipscore_sample_info/twins.tsv'\n",
    "pairs = [line.rstrip().split() for line in open(twin_fn)]    \n",
    "\n",
    "fn_ipscore = '/frazer01/projects/hipsci/analysis/i2QTL-sv-analysis/private_output/hipstr_qc_analysis/ipscore_samples_filt.txt'\n",
    "\n",
    "fn_ipscore_unrel = '/frazer01/projects/hipsci/analysis/i2QTL-sv-analysis/private_output/sample_info_combined/samples_ipscore_unrel.txt'\n",
    "\n",
    "samples = [line.rstrip() for line in open(fn_ipscore)]\n",
    "\n",
    "command = 'python {} -vcf {} -pairs {} -s {} -unr {} -o {}'.format(extract_script, fn_vcf, twin_fn, fn_ipscore, fn_ipscore_unrel, out_dir)"
   ]
  },
  {
   "cell_type": "code",
   "execution_count": 13,
   "metadata": {},
   "outputs": [
    {
     "data": {
      "text/plain": [
       "'python /frazer01/projects/hipsci/analysis/i2QTL-sv-analysis/notebooks/HipSTR_processing/hipstr_extract_replication.py -vcf /frazer01/projects/hipsci/pipeline/WGS/HipSTR/combined_results/hipstr_ipscore.filt.vcf -pairs /frazer01/projects/hipsci/analysis/i2QTL-sv-analysis/private_output/ipscore_sample_info/twins.tsv -s /frazer01/projects/hipsci/analysis/i2QTL-sv-analysis/private_output/hipstr_qc_analysis/ipscore_samples_filt.txt -unr /frazer01/projects/hipsci/analysis/i2QTL-sv-analysis/private_output/sample_info_combined/samples_ipscore_unrel.txt -o /frazer01/projects/hipsci/analysis/i2QTL-sv-analysis/private_output/hipstr_qc_analysis/ipscore_filt_sr_geno'"
      ]
     },
     "execution_count": 13,
     "metadata": {},
     "output_type": "execute_result"
    }
   ],
   "source": [
    "command"
   ]
  },
  {
   "cell_type": "code",
   "execution_count": 153,
   "metadata": {},
   "outputs": [
    {
     "name": "stdout",
     "output_type": "stream",
     "text": [
      "Starting Variant Processing: 08/26/18- 23:32\n",
      "processed 50000 variants 08/26/18- 23:33\n",
      "processed 100000 variants 08/26/18- 23:35\n",
      "processed 150000 variants 08/26/18- 23:36\n",
      "processed 200000 variants 08/26/18- 23:38\n",
      "processed 250000 variants 08/26/18- 23:39\n",
      "processed 300000 variants 08/26/18- 23:41\n",
      "processed 350000 variants 08/26/18- 23:42\n",
      "processed 400000 variants 08/26/18- 23:44\n",
      "processed 450000 variants 08/26/18- 23:45\n",
      "processed 500000 variants 08/26/18- 23:46\n",
      "processed 550000 variants 08/26/18- 23:48\n",
      "processed 600000 variants 08/26/18- 23:49\n",
      "processed 650000 variants 08/26/18- 23:50\n",
      "processed 700000 variants 08/26/18- 23:52\n",
      "processed 750000 variants 08/26/18- 23:53\n",
      "processed 800000 variants 08/26/18- 23:55\n",
      "processed 850000 variants 08/26/18- 23:56\n",
      "processed 900000 variants 08/26/18- 23:57\n",
      "processed 950000 variants 08/26/18- 23:59\n",
      "processed 1000000 variants 08/27/18- 00:00\n",
      "processed 1050000 variants 08/27/18- 00:02\n",
      "processed 1100000 variants 08/27/18- 00:03\n",
      "processed 1150000 variants 08/27/18- 00:05\n",
      "processed 1200000 variants 08/27/18- 00:06\n",
      "processed 1250000 variants 08/27/18- 00:07\n",
      "processed 1300000 variants 08/27/18- 00:09\n",
      "processed 1350000 variants 08/27/18- 00:10\n",
      "processed 1400000 variants 08/27/18- 00:12\n",
      "processed 1450000 variants 08/27/18- 00:13\n",
      "processed 1500000 variants 08/27/18- 00:14\n",
      "processed 1550000 variants 08/27/18- 00:16\n",
      "number of variants: 1551744 number_all_missing: 105533\n",
      "Completed Variant Processing: 08/27/18- 00:16\n",
      "COMPLETE\n"
     ]
    }
   ],
   "source": [
    "! {command}"
   ]
  },
  {
   "cell_type": "code",
   "execution_count": 161,
   "metadata": {
    "collapsed": true
   },
   "outputs": [],
   "source": [
    "fn_vcf= '/frazer01/projects/hipsci/pipeline/WGS/HipSTR/combined_results/hipstr_ipscore_ref_hipsci.filt.vcf'\n",
    "\n",
    "out_dir = '/frazer01/projects/hipsci/analysis/i2QTL-sv-analysis/private_output/hipstr_qc_analysis/ipscore_hipsci_ref_filt_geno'\n",
    "DJ.makedir(out_dir)\n",
    "\n",
    "\n",
    "twin_fn = '/frazer01/projects/hipsci/analysis/i2QTL-sv-analysis/private_output/ipscore_sample_info/twins.tsv'\n",
    "pairs = [line.rstrip().split() for line in open(twin_fn)]    \n",
    "\n",
    "fn_ipscore = '/frazer01/projects/hipsci/analysis/i2QTL-sv-analysis/private_output/sample_info_combined/samples_ipscore.txt'\n",
    "\n",
    "samples = [line.rstrip() for line in open(fn_ipscore)]\n",
    "\n",
    "command = 'python {} -vcf {} -pairs {} -s {} -o {}'.format(extract_script, fn_vcf, twin_fn, fn_ipscore, out_dir)"
   ]
  },
  {
   "cell_type": "code",
   "execution_count": 186,
   "metadata": {
    "collapsed": true
   },
   "outputs": [],
   "source": [
    "fn_vcf= '/frazer01/projects/hipsci/pipeline/WGS/HipSTR/combined_results/hipstr_ipscore_ref_hipsci.filt.vcf'\n",
    "\n",
    "out_dir = '/frazer01/projects/hipsci/analysis/i2QTL-sv-analysis/private_output/hipstr_qc_analysis/ipscore_hipsci_ref_filt_geno2'\n",
    "DJ.makedir(out_dir)\n",
    "\n",
    "\n",
    "twin_fn = '/frazer01/projects/hipsci/analysis/i2QTL-sv-analysis/private_output/ipscore_sample_info/twins.tsv'\n",
    "pairs = [line.rstrip().split() for line in open(twin_fn)]    \n",
    "\n",
    "fn_ipscore = '/frazer01/projects/hipsci/analysis/i2QTL-sv-analysis/private_output/sample_info_combined/samples_ipscore.txt'\n",
    "\n",
    "samples = [line.rstrip() for line in open(fn_ipscore)]\n",
    "\n",
    "command = 'python {} -vcf {} -pairs {} -s {} -o {}'.format(extract_script, fn_vcf, twin_fn, fn_ipscore, out_dir)"
   ]
  },
  {
   "cell_type": "code",
   "execution_count": 187,
   "metadata": {},
   "outputs": [
    {
     "data": {
      "text/plain": [
       "'python /frazer01/projects/hipsci/analysis/i2QTL-sv-analysis/notebooks/HipSTR_processing/hipstr_extract_replication.py -vcf /frazer01/projects/hipsci/pipeline/WGS/HipSTR/combined_results/hipstr_ipscore_ref_hipsci.filt.vcf -pairs /frazer01/projects/hipsci/analysis/i2QTL-sv-analysis/private_output/ipscore_sample_info/twins.tsv -s /frazer01/projects/hipsci/analysis/i2QTL-sv-analysis/private_output/sample_info_combined/samples_ipscore.txt -o /frazer01/projects/hipsci/analysis/i2QTL-sv-analysis/private_output/hipstr_qc_analysis/ipscore_hipsci_ref_filt_geno2'"
      ]
     },
     "execution_count": 187,
     "metadata": {},
     "output_type": "execute_result"
    }
   ],
   "source": [
    "command"
   ]
  },
  {
   "cell_type": "markdown",
   "metadata": {},
   "source": [
    "# Reference Genotype Processing after Removing sample"
   ]
  },
  {
   "cell_type": "code",
   "execution_count": 7,
   "metadata": {
    "collapsed": true
   },
   "outputs": [],
   "source": [
    "fn_vcf= '/frazer01/projects/hipsci/pipeline/WGS/HipSTR/combined_results/hipstr_ipscore_ref_hipsci.filt.vcf'\n",
    "\n",
    "out_dir = '/frazer01/projects/hipsci/analysis/i2QTL-sv-analysis/private_output/hipstr_qc_analysis/ipscore_hipsci_ref_filt_sr_geno'\n",
    "DJ.makedir(out_dir)\n",
    "\n",
    "\n",
    "twin_fn = '/frazer01/projects/hipsci/analysis/i2QTL-sv-analysis/private_output/ipscore_sample_info/twins.tsv'\n",
    "pairs = [line.rstrip().split() for line in open(twin_fn)]    \n",
    "\n",
    "fn_ipscore = '/frazer01/projects/hipsci/analysis/i2QTL-sv-analysis/private_output/hipstr_qc_analysis/ipscore_samples_filt.txt'\n",
    "\n",
    "fn_ipscore_unrel = '/frazer01/projects/hipsci/analysis/i2QTL-sv-analysis/private_output/sample_info_combined/samples_ipscore_unrel.txt'\n",
    "\n",
    "samples = [line.rstrip() for line in open(fn_ipscore)]\n",
    "\n",
    "command = 'python {} -vcf {} -pairs {} -s {} -unr {} -o {}'.format(extract_script, fn_vcf, twin_fn, fn_ipscore, fn_ipscore_unrel, out_dir)"
   ]
  },
  {
   "cell_type": "code",
   "execution_count": 9,
   "metadata": {},
   "outputs": [
    {
     "data": {
      "text/plain": [
       "'python /frazer01/projects/hipsci/analysis/i2QTL-sv-analysis/notebooks/HipSTR_processing/hipstr_extract_replication.py -vcf /frazer01/projects/hipsci/pipeline/WGS/HipSTR/combined_results/hipstr_ipscore_ref_hipsci.filt.vcf -pairs /frazer01/projects/hipsci/analysis/i2QTL-sv-analysis/private_output/ipscore_sample_info/twins.tsv -s /frazer01/projects/hipsci/analysis/i2QTL-sv-analysis/private_output/hipstr_qc_analysis/ipscore_samples_filt.txt -unr /frazer01/projects/hipsci/analysis/i2QTL-sv-analysis/private_output/sample_info_combined/samples_ipscore_unrel.txt -o /frazer01/projects/hipsci/analysis/i2QTL-sv-analysis/private_output/hipstr_qc_analysis/ipscore_hipsci_ref_filt_sr_geno'"
      ]
     },
     "execution_count": 9,
     "metadata": {},
     "output_type": "execute_result"
    }
   ],
   "source": [
    "command"
   ]
  },
  {
   "cell_type": "code",
   "execution_count": 1,
   "metadata": {
    "collapsed": true
   },
   "outputs": [],
   "source": [
    "fn_ipscore_unrel = '/frazer01/projects/hipsci/analysis/i2QTL-sv-analysis/private_output/sample_info_combined/samples_ipscore_unrel.txt'"
   ]
  },
  {
   "cell_type": "markdown",
   "metadata": {},
   "source": [
    "# running\n",
    "\n",
    "        run\n",
    "python /frazer01/projects/hipsci/analysis/i2QTL-sv-analysis/notebooks/HipSTR_processing/hipstr_extract_replication.py -vcf /frazer01/projects/hipsci/pipeline/WGS/HipSTR/combined_results/hipstr_hipsci.filt.vcf -pairs /frazer01/projects/hipsci/analysis/i2QTL-sv-analysis/private_output/hipsci_sample_info/fib_ipsc.txt -s /frazer01/projects/hipsci/analysis/i2QTL-sv-analysis/private_output/sample_info_combined/samples_hipsci_fib.txt -o /frazer01/projects/hipsci/analysis/i2QTL-sv-analysis/private_output/hipstr_qc_analysis/hipsci_filt_geno2\n",
    "     run again to fix missing sample situation\n",
    "     \n",
    "python /frazer01/projects/hipsci/analysis/i2QTL-sv-analysis/notebooks/HipSTR_processing/hipstr_extract_replication.py -vcf /frazer01/projects/hipsci/pipeline/WGS/HipSTR/combined_results/hipstr_hipsci.filt.vcf -pairs /frazer01/projects/hipsci/analysis/i2QTL-sv-analysis/private_output/hipsci_sample_info/fib_ipsc.txt -s /frazer01/projects/hipsci/analysis/i2QTL-sv-analysis/private_output/sample_info_combined/samples_hipsci_fib.txt -o /frazer01/projects/hipsci/analysis/i2QTL-sv-analysis/private_output/hipstr_qc_analysis/hipsci_filt_geno\n",
    "\n",
    "\n",
    "\n",
    "python /frazer01/projects/hipsci/analysis/i2QTL-sv-analysis/notebooks/HipSTR_processing/hipstr_extract_replication.py -vcf /frazer01/projects/hipsci/pipeline/WGS/HipSTR/combined_results/hipstr_ipscore_ref_hipsci.filt.vcf -pairs /frazer01/projects/hipsci/analysis/i2QTL-sv-analysis/private_output/ipscore_sample_info/twins.tsv -s /frazer01/projects/hipsci/analysis/i2QTL-sv-analysis/private_output/sample_info_combined/samples_ipscore.txt -o /frazer01/projects/hipsci/analysis/i2QTL-sv-analysis/private_output/hipstr_qc_analysis/ipscore_hipsci_ref_filt_geno2'\n",
    "\n",
    "python /frazer01/projects/hipsci/analysis/i2QTL-sv-analysis/notebooks/HipSTR_processing/hipstr_extract_replication.py -vcf /frazer01/projects/hipsci/pipeline/WGS/HipSTR/combined_results/hipstr_ipscore.filt.vcf -pairs /frazer01/projects/hipsci/analysis/i2QTL-sv-analysis/private_output/ipscore_sample_info/twins.tsv -s /frazer01/projects/hipsci/analysis/i2QTL-sv-analysis/private_output/sample_info_combined/samples_ipscore.txt -o /frazer01/projects/hipsci/analysis/i2QTL-sv-analysis/private_output/hipstr_qc_analysis/ipscore_filt_geno2\n",
    "\n",
    "\n",
    "python /frazer01/projects/hipsci/analysis/i2QTL-sv-analysis/notebooks/HipSTR_processing/hipstr_extract_replication.py -vcf /frazer01/projects/hipsci/pipeline/WGS/HipSTR/combined_results/hipstr_ipscore_ref_hipsci.filt.vcf -pairs /frazer01/projects/hipsci/analysis/i2QTL-sv-analysis/private_output/ipscore_sample_info/twins.tsv -s /frazer01/projects/hipsci/analysis/i2QTL-sv-analysis/private_output/hipstr_qc_analysis/ipscore_samples_filt.txt -o /frazer01/projects/hipsci/analysis/i2QTL-sv-analysis/private_output/hipstr_qc_analysis/ipscore_hipsci_ref_filt_sr_geno\n",
    "\n",
    "python /frazer01/projects/hipsci/analysis/i2QTL-sv-analysis/notebooks/HipSTR_processing/hipstr_extract_replication.py -vcf /frazer01/projects/hipsci/pipeline/WGS/HipSTR/combined_results/hipstr_ipscore.filt.vcf -pairs /frazer01/projects/hipsci/analysis/i2QTL-sv-analysis/private_output/ipscore_sample_info/twins.tsv -s /frazer01/projects/hipsci/analysis/i2QTL-sv-analysis/private_output/hipstr_qc_analysis/ipscore_samples_filt.txt -o /frazer01/projects/hipsci/analysis/i2QTL-sv-analysis/private_output/hipstr_qc_analysis/ipscore_filt_sr_geno\n"
   ]
  },
  {
   "cell_type": "code",
   "execution_count": null,
   "metadata": {
    "collapsed": true
   },
   "outputs": [],
   "source": []
  },
  {
   "cell_type": "code",
   "execution_count": 188,
   "metadata": {
    "collapsed": true
   },
   "outputs": [],
   "source": [
    "# O = ! {command}"
   ]
  },
  {
   "cell_type": "code",
   "execution_count": 163,
   "metadata": {
    "collapsed": true
   },
   "outputs": [],
   "source": [
    "fn_vcf= '/frazer01/projects/hipsci/pipeline/WGS/HipSTR/combined_results/hipstr_hipsci.filt.vcf'\n",
    "\n",
    "out_dir = '/frazer01/projects/hipsci/analysis/i2QTL-sv-analysis/private_output/hipstr_qc_analysis/hipsci_filt_geno'\n",
    "DJ.makedir(out_dir)\n",
    "\n",
    "\n",
    "fib_ipsc_fn = '/frazer01/projects/hipsci/analysis/i2QTL-sv-analysis/private_output/hipsci_sample_info/fib_ipsc.txt'\n",
    "pairs = [line.rstrip().split() for line in open(fib_ipsc_fn)]    \n",
    "\n",
    "fn_hipsci = '/frazer01/projects/hipsci/analysis/i2QTL-sv-analysis/private_output/sample_info_combined/samples_hipsci.txt'\n",
    "\n",
    "samples = [line.rstrip() for line in open(fn_ipscore)]\n",
    "\n",
    "command = 'python {} -vcf {} -pairs {} -s {} -o {}'.format(extract_script, fn_vcf, fib_ipsc_fn, fn_hipsci, out_dir)"
   ]
  },
  {
   "cell_type": "code",
   "execution_count": 164,
   "metadata": {},
   "outputs": [
    {
     "data": {
      "text/plain": [
       "'python /frazer01/projects/hipsci/analysis/i2QTL-sv-analysis/notebooks/HipSTR_processing/hipstr_extract_replication.py -vcf /frazer01/projects/hipsci/pipeline/WGS/HipSTR/combined_results/hipstr_hipsci.filt.vcf -pairs /frazer01/projects/hipsci/analysis/i2QTL-sv-analysis/private_output/hipsci_sample_info/fib_ipsc.txt -s /frazer01/projects/hipsci/analysis/i2QTL-sv-analysis/private_output/sample_info_combined/samples_hipsci.txt -o /frazer01/projects/hipsci/analysis/i2QTL-sv-analysis/private_output/hipstr_qc_analysis/hipsci_filt_geno'"
      ]
     },
     "execution_count": 164,
     "metadata": {},
     "output_type": "execute_result"
    }
   ],
   "source": [
    "command"
   ]
  },
  {
   "cell_type": "code",
   "execution_count": 160,
   "metadata": {},
   "outputs": [
    {
     "name": "stdout",
     "output_type": "stream",
     "text": [
      "Starting Variant Processing: 08/27/18- 11:53\n",
      "processed 50000 variants 08/27/18- 12:00\n",
      "processed 100000 variants 08/27/18- 12:07\n",
      "processed 150000 variants 08/27/18- 12:13\n",
      "processed 200000 variants 08/27/18- 12:20\n",
      "processed 250000 variants 08/27/18- 12:25\n",
      "processed 300000 variants 08/27/18- 12:28\n",
      "processed 350000 variants 08/27/18- 12:32\n",
      "processed 400000 variants 08/27/18- 12:36\n",
      "processed 450000 variants 08/27/18- 12:40\n",
      "processed 500000 variants 08/27/18- 12:43\n",
      "processed 550000 variants 08/27/18- 12:46\n",
      "processed 600000 variants 08/27/18- 12:49\n",
      "processed 650000 variants 08/27/18- 12:52\n",
      "processed 700000 variants 08/27/18- 12:55\n",
      "processed 750000 variants 08/27/18- 12:58\n",
      "processed 800000 variants 08/27/18- 13:01\n",
      "processed 850000 variants 08/27/18- 13:05\n",
      "processed 900000 variants 08/27/18- 13:08\n",
      "processed 950000 variants 08/27/18- 13:11\n"
     ]
    }
   ],
   "source": [
    "! {command}"
   ]
  },
  {
   "cell_type": "code",
   "execution_count": 167,
   "metadata": {
    "collapsed": true
   },
   "outputs": [],
   "source": [
    "fn_vcf= '/frazer01/projects/hipsci/pipeline/WGS/HipSTR/combined_results/hipstr_hipsci.filt.vcf'\n",
    "\n",
    "out_dir = '/frazer01/projects/hipsci/analysis/i2QTL-sv-analysis/private_output/hipstr_qc_analysis/hipsci_filt_geno2'\n",
    "DJ.makedir(out_dir)\n",
    "\n",
    "\n",
    "fib_ipsc_fn = '/frazer01/projects/hipsci/analysis/i2QTL-sv-analysis/private_output/hipsci_sample_info/fib_ipsc.txt'\n",
    "pairs = [line.rstrip().split() for line in open(fib_ipsc_fn)]    \n",
    "\n",
    "fn_hipsci = '/frazer01/projects/hipsci/analysis/i2QTL-sv-analysis/private_output/sample_info_combined/samples_hipsci_fib.txt'\n",
    "\n",
    "samples = [line.rstrip() for line in open(fn_ipscore)]\n",
    "\n",
    "command = 'python {} -vcf {} -pairs {} -s {} -o {}'.format(extract_script, fn_vcf, fib_ipsc_fn, fn_hipsci, out_dir)"
   ]
  },
  {
   "cell_type": "markdown",
   "metadata": {},
   "source": [
    "# Filter the VCFs Sample-Wise"
   ]
  },
  {
   "cell_type": "code",
   "execution_count": null,
   "metadata": {
    "collapsed": true
   },
   "outputs": [],
   "source": [
    "command = "
   ]
  },
  {
   "cell_type": "code",
   "execution_count": null,
   "metadata": {
    "collapsed": true
   },
   "outputs": [],
   "source": [
    "python scripts/filter_vcf.py  --vcf                   diploid_calls.vcf.gz\n",
    "                              --min-call-qual         0.9\n",
    "                              --max-call-flank-indel  0.15\n",
    "                              --max-call-stutter      0.15\n",
    "\t\t\t      --min-call-allele-bias  -2\n",
    "\t\t\t      --min-call-strand-bias  -2"
   ]
  },
  {
   "cell_type": "code",
   "execution_count": 125,
   "metadata": {
    "collapsed": true
   },
   "outputs": [],
   "source": [
    "fn_vcf = '/frazer01/projects/hipsci/pipeline/WGS/HipSTR/combined_results/hipstr_ipscore_ref_hipsci.vcf.gz'"
   ]
  },
  {
   "cell_type": "code",
   "execution_count": 126,
   "metadata": {
    "collapsed": true
   },
   "outputs": [],
   "source": [
    "filter_script = '/frazer01/home/djakubosky/software/HipSTR/scripts/filter_vcf.py'"
   ]
  },
  {
   "cell_type": "code",
   "execution_count": 127,
   "metadata": {
    "collapsed": true
   },
   "outputs": [],
   "source": [
    "command = 'python {} --vcf {} --min-call-qual 0.9 --max-call-flank-indel 0.15 --max-call-stutter 0.15 --min-call-allele-bias -2 --min-call-strand-bias -2'.format(filter_script, fn_vcf)"
   ]
  },
  {
   "cell_type": "code",
   "execution_count": 128,
   "metadata": {},
   "outputs": [
    {
     "data": {
      "text/plain": [
       "'python /frazer01/home/djakubosky/software/HipSTR/scripts/filter_vcf.py --vcf /frazer01/projects/hipsci/pipeline/WGS/HipSTR/combined_results/hipstr_ipscore_ref_hipsci.vcf.gz --min-call-qual 0.9 --max-call-flank-indel 0.15 --max-call-stutter 0.15 --min-call-allele-bias -2 --min-call-strand-bias -2'"
      ]
     },
     "execution_count": 128,
     "metadata": {},
     "output_type": "execute_result"
    }
   ],
   "source": [
    "command"
   ]
  },
  {
   "cell_type": "markdown",
   "metadata": {},
   "source": [
    "# Dosage Cumulative Per Sample"
   ]
  },
  {
   "cell_type": "code",
   "execution_count": 15,
   "metadata": {},
   "outputs": [
    {
     "data": {
      "text/plain": [
       "'/frazer01/projects/hipsci/analysis/i2QTL-sv-analysis/notebooks/HipSTR_processing/hipstr_extract_dosage_cumulative.py'"
      ]
     },
     "execution_count": 15,
     "metadata": {},
     "output_type": "execute_result"
    }
   ],
   "source": [
    "DJ.convert_ipynb_to_script('/frazer01/projects/hipsci/analysis/i2QTL-sv-analysis/notebooks/HipSTR_processing/hipstr_extract_dosage_cumulative.ipynb')"
   ]
  },
  {
   "cell_type": "code",
   "execution_count": 16,
   "metadata": {
    "collapsed": true
   },
   "outputs": [],
   "source": [
    "dosage_script = '/frazer01/projects/hipsci/analysis/i2QTL-sv-analysis/notebooks/HipSTR_processing/hipstr_extract_dosage_cumulative.py'"
   ]
  },
  {
   "cell_type": "code",
   "execution_count": 17,
   "metadata": {},
   "outputs": [
    {
     "name": "stdout",
     "output_type": "stream",
     "text": [
      "usage: hipstr_extract_dosage_cumulative.py [-h] -vcf <vcf_file> -o <out_dir>\r\n",
      "\r\n",
      "command line utility to extract info and calculate replication rate for HipSTR\r\n",
      "vcf files\r\n",
      "\r\n",
      "optional arguments:\r\n",
      "  -h, --help            show this help message and exit\r\n",
      "  -vcf <vcf_file>, --vcf <vcf_file>\r\n",
      "                        vcf file from lumpy/speedseq pipeline, may be gzipped\r\n",
      "                        or not\r\n",
      "  -o <out_dir>, --output_dir <out_dir>\r\n",
      "                        output directory for summary output\r\n"
     ]
    }
   ],
   "source": [
    "! python {dosage_script} -h"
   ]
  },
  {
   "cell_type": "code",
   "execution_count": 18,
   "metadata": {
    "collapsed": true
   },
   "outputs": [],
   "source": [
    "fn_vcf = '/frazer01/projects/hipsci/analysis/i2QTL-sv-analysis/private_output/hipstr_final_vcf/hipstr_i2QTL_merged.filt.annot.477.vcf'\n",
    "\n",
    "out_dir = '/frazer01/projects/hipsci/analysis/i2QTL-sv-analysis/private_output/hipstr_processing'"
   ]
  },
  {
   "cell_type": "code",
   "execution_count": 19,
   "metadata": {
    "collapsed": true
   },
   "outputs": [],
   "source": [
    "command = \"python {} -vcf {} -o {}\".format(dosage_script, fn_vcf, out_dir)"
   ]
  },
  {
   "cell_type": "code",
   "execution_count": 20,
   "metadata": {},
   "outputs": [
    {
     "data": {
      "text/plain": [
       "'python /frazer01/projects/hipsci/analysis/i2QTL-sv-analysis/notebooks/HipSTR_processing/hipstr_extract_dosage_cumulative.py -vcf /frazer01/projects/hipsci/analysis/i2QTL-sv-analysis/private_output/hipstr_final_vcf/hipstr_i2QTL_merged.filt.annot.477.vcf -o /frazer01/projects/hipsci/analysis/i2QTL-sv-analysis/private_output/hipstr_processing'"
      ]
     },
     "execution_count": 20,
     "metadata": {},
     "output_type": "execute_result"
    }
   ],
   "source": [
    "command"
   ]
  },
  {
   "cell_type": "code",
   "execution_count": 6,
   "metadata": {
    "collapsed": true
   },
   "outputs": [],
   "source": [
    "out_dir = '/frazer01/projects/hipsci/analysis/i2QTL-sv-analysis/private_output/hipstr_final_vcf/info_final_vcf'\n",
    "DJ.makedir(out_dir)"
   ]
  },
  {
   "cell_type": "code",
   "execution_count": 1,
   "metadata": {},
   "outputs": [],
   "source": [
    "# script adapted to handle suffixes on the info columns because this was needed to merge ipscore and hipsci vcfs"
   ]
  },
  {
   "cell_type": "code",
   "execution_count": 19,
   "metadata": {
    "collapsed": true
   },
   "outputs": [],
   "source": [
    "extract_replication_v2 = DJ.convert_ipynb_to_script('/frazer01/projects/hipsci/analysis/i2QTL-sv-analysis/notebooks/HipSTR_processing/hipstr_extract_replication_v2.ipynb')"
   ]
  },
  {
   "cell_type": "code",
   "execution_count": 20,
   "metadata": {
    "collapsed": true
   },
   "outputs": [],
   "source": [
    "fn_vcf= '/frazer01/projects/hipsci/analysis/i2QTL-sv-analysis/private_output/hipstr_final_vcf/hipstr_i2QTL_merged.filt.annot.maf.dsf.477.vcf'\n",
    "    \n",
    "twin_fn = '/frazer01/projects/hipsci/analysis/i2QTL-sv-analysis/private_output/ipscore_sample_info/twins.tsv'\n",
    "pairs = [line.rstrip().split() for line in open(twin_fn)]    \n",
    "\n",
    "fn_ipscore = '/frazer01/projects/hipsci/analysis/i2QTL-sv-analysis/private_output/hipstr_final_vcf/WGS_Samples_477.txt'\n",
    "\n",
    "fn_ipscore_unrel = '/frazer01/projects/hipsci/analysis/i2QTL-sv-analysis/private_output/sample_info_combined/samples_i2qtl_unrel.txt'\n",
    "\n",
    "samples = [line.rstrip() for line in open(fn_ipscore)]\n",
    "\n",
    "suff = 'iPSCORE'\n",
    "\n",
    "command = 'python {} -vcf {} -pairs {} -s {} -unr {} -o {} -suff {}'.format(extract_replication_v2, fn_vcf, twin_fn, fn_ipscore, fn_ipscore_unrel, out_dir, suff)"
   ]
  },
  {
   "cell_type": "code",
   "execution_count": 21,
   "metadata": {},
   "outputs": [
    {
     "data": {
      "text/plain": [
       "'python /frazer01/projects/hipsci/analysis/i2QTL-sv-analysis/notebooks/HipSTR_processing/hipstr_extract_replication_v2.py -vcf /frazer01/projects/hipsci/analysis/i2QTL-sv-analysis/private_output/hipstr_final_vcf/hipstr_i2QTL_merged.filt.annot.maf.dsf.477.vcf -pairs /frazer01/projects/hipsci/analysis/i2QTL-sv-analysis/private_output/ipscore_sample_info/twins.tsv -s /frazer01/projects/hipsci/analysis/i2QTL-sv-analysis/private_output/hipstr_final_vcf/WGS_Samples_477.txt -unr /frazer01/projects/hipsci/analysis/i2QTL-sv-analysis/private_output/sample_info_combined/samples_i2qtl_unrel.txt -o /frazer01/projects/hipsci/analysis/i2QTL-sv-analysis/private_output/hipstr_final_vcf/info_final_vcf -suff iPSCORE'"
      ]
     },
     "execution_count": 21,
     "metadata": {},
     "output_type": "execute_result"
    }
   ],
   "source": [
    "command"
   ]
  },
  {
   "cell_type": "code",
   "execution_count": 22,
   "metadata": {},
   "outputs": [
    {
     "name": "stdout",
     "output_type": "stream",
     "text": [
      "Starting Variant Processing: 10/12/18- 17:07\n",
      "processed 50000 variants 10/12/18- 17:09\n",
      "processed 100000 variants 10/12/18- 17:12\n",
      "processed 150000 variants 10/12/18- 17:15\n",
      "processed 200000 variants 10/12/18- 17:18\n",
      "processed 250000 variants 10/12/18- 17:20\n",
      "processed 300000 variants 10/12/18- 17:23\n",
      "processed 350000 variants 10/12/18- 17:26\n",
      "processed 400000 variants 10/12/18- 17:28\n",
      "processed 450000 variants 10/12/18- 17:31\n",
      "processed 500000 variants 10/12/18- 17:34\n",
      "processed 550000 variants 10/12/18- 17:36\n",
      "processed 600000 variants 10/12/18- 17:39\n",
      "processed 650000 variants 10/12/18- 17:42\n",
      "processed 700000 variants 10/12/18- 17:45\n",
      "processed 750000 variants 10/12/18- 17:47\n",
      "number of variants: 764907 number_all_missing: 431412\n",
      "Completed Variant Processing: 10/12/18- 17:48\n",
      "COMPLETE\n"
     ]
    }
   ],
   "source": [
    "! {command}"
   ]
  },
  {
   "cell_type": "markdown",
   "metadata": {},
   "source": [
    "# Replication totally unfiltered ipscore twins"
   ]
  },
  {
   "cell_type": "code",
   "execution_count": 8,
   "metadata": {},
   "outputs": [],
   "source": [
    "# getting the replication rate of the sites without filtering on missing rates\n",
    "extract_nmr = DJ.convert_ipynb_to_script('/frazer01/projects/hipsci/analysis/i2QTL-sv-analysis/notebooks/HipSTR_processing/hipstr_extract_replication_nmr.ipynb')"
   ]
  },
  {
   "cell_type": "code",
   "execution_count": 3,
   "metadata": {},
   "outputs": [],
   "source": [
    "out_dir = '/frazer01/projects/hipsci/analysis/i2QTL-sv-analysis/private_output/hipstr_processing/rr_pre_filt'\n",
    "DJ.makedir(out_dir)"
   ]
  },
  {
   "cell_type": "code",
   "execution_count": 10,
   "metadata": {},
   "outputs": [
    {
     "data": {
      "text/plain": [
       "'/frazer01/projects/hipsci/analysis/i2QTL-sv-analysis/private_output/hipstr_processing/rr_pre_filt/ipscore_hipsci_ref'"
      ]
     },
     "execution_count": 10,
     "metadata": {},
     "output_type": "execute_result"
    }
   ],
   "source": [
    "out_dir"
   ]
  },
  {
   "cell_type": "code",
   "execution_count": 12,
   "metadata": {},
   "outputs": [],
   "source": [
    "out_dir1 = os.path.join(out_dir, 'ipscore_hipsci_ref')\n",
    "DJ.makedir(out_dir)"
   ]
  },
  {
   "cell_type": "code",
   "execution_count": 21,
   "metadata": {},
   "outputs": [],
   "source": [
    "fn_vcf= '/frazer01/projects/hipsci/pipeline/WGS/HipSTR/combined_results/hipstr_ipscore_ref_hipsci.vcf.gz'\n",
    "\n",
    "twin_fn = '/frazer01/projects/hipsci/analysis/i2QTL-sv-analysis/private_output/ipscore_sample_info/twins.tsv'\n",
    "pairs = [line.rstrip().split() for line in open(twin_fn)]    \n",
    "outdir = '/frazer01/projects/hipsci/analysis/i2QTL-sv-analysis/private_output/hipstr_processing/rr_pre_filt/ipscore_hipsci_ref'\n",
    "\n",
    "fn_ipscore = '/frazer01/projects/hipsci/analysis/i2QTL-sv-analysis/private_output/sample_info_combined/samples_ipscore.txt'\n",
    "fn_ipscore_unrel = '/frazer01/projects/hipsci/analysis/i2QTL-sv-analysis/private_output/sample_info_combined/samples_ipscore_unrel.txt'\n",
    "\n",
    "samples = [line.rstrip() for line in open(fn_ipscore)]"
   ]
  },
  {
   "cell_type": "code",
   "execution_count": 22,
   "metadata": {},
   "outputs": [],
   "source": [
    "command = 'python {} -vcf {} -pairs {} -s {} -unr {} -o {}'.format(extract_nmr, fn_vcf, \n",
    "                                                                   twin_fn, fn_ipscore, \n",
    "                                                                   fn_ipscore_unrel, outdir1)"
   ]
  },
  {
   "cell_type": "code",
   "execution_count": 25,
   "metadata": {},
   "outputs": [
    {
     "name": "stdout",
     "output_type": "stream",
     "text": [
      "python /frazer01/projects/hipsci/analysis/i2QTL-sv-analysis/notebooks/HipSTR_processing/hipstr_extract_replication_nmr.py -vcf /frazer01/projects/hipsci/pipeline/WGS/HipSTR/combined_results/hipstr_ipscore_ref_hipsci.vcf.gz -pairs /frazer01/projects/hipsci/analysis/i2QTL-sv-analysis/private_output/ipscore_sample_info/twins.tsv -s /frazer01/projects/hipsci/analysis/i2QTL-sv-analysis/private_output/sample_info_combined/samples_ipscore.txt -unr /frazer01/projects/hipsci/analysis/i2QTL-sv-analysis/private_output/sample_info_combined/samples_ipscore_unrel.txt -o /frazer01/projects/hipsci/analysis/i2QTL-sv-analysis/private_output/hipstr_processing/rr_pre_filt/ipscore_hipsci_ref\n",
      "Starting Variant Processing: 03/17/19- 20:25\n",
      "processed 50000 variants 03/17/19- 20:27\n",
      "processed 100000 variants 03/17/19- 20:29\n",
      "processed 150000 variants 03/17/19- 20:31\n",
      "processed 200000 variants 03/17/19- 20:33\n",
      "processed 250000 variants 03/17/19- 20:35\n",
      "processed 300000 variants 03/17/19- 20:37\n",
      "processed 350000 variants 03/17/19- 20:39\n",
      "processed 400000 variants 03/17/19- 20:41\n",
      "processed 450000 variants 03/17/19- 20:43\n",
      "processed 500000 variants 03/17/19- 20:45\n",
      "processed 550000 variants 03/17/19- 20:47\n",
      "processed 600000 variants 03/17/19- 20:49\n",
      "processed 650000 variants 03/17/19- 20:51\n",
      "processed 700000 variants 03/17/19- 20:53\n",
      "processed 750000 variants 03/17/19- 20:55\n",
      "processed 800000 variants 03/17/19- 20:57\n",
      "processed 850000 variants 03/17/19- 20:59\n",
      "processed 900000 variants 03/17/19- 21:01\n",
      "processed 950000 variants 03/17/19- 21:03\n",
      "processed 1000000 variants 03/17/19- 21:05\n",
      "processed 1050000 variants 03/17/19- 21:08\n",
      "processed 1100000 variants 03/17/19- 21:10\n",
      "processed 1150000 variants 03/17/19- 21:12\n",
      "processed 1200000 variants 03/17/19- 21:14\n",
      "processed 1250000 variants 03/17/19- 21:16\n",
      "processed 1300000 variants 03/17/19- 21:18\n",
      "processed 1350000 variants 03/17/19- 21:20\n",
      "processed 1400000 variants 03/17/19- 21:22\n",
      "processed 1450000 variants 03/17/19- 21:24\n",
      "processed 1500000 variants 03/17/19- 21:26\n",
      "number of variants: 1516926 number_all_missing: 32009\n",
      "Completed Variant Processing: 03/17/19- 21:26\n",
      "COMPLETE\n"
     ]
    }
   ],
   "source": [
    "print command\n",
    "! {command}"
   ]
  },
  {
   "cell_type": "code",
   "execution_count": 11,
   "metadata": {},
   "outputs": [],
   "source": [
    "out_dir2 = os.path.join(out_dir, 'hipsci2')\n",
    "DJ.makedir(out_dir2)"
   ]
  },
  {
   "cell_type": "code",
   "execution_count": 12,
   "metadata": {},
   "outputs": [],
   "source": [
    "fn_vcf= '/frazer01/projects/hipsci/pipeline/WGS/HipSTR/combined_results/hipstr_hipsci.vcf.gz'\n",
    "\n",
    "\n",
    "fib_ipsc_fn = '/frazer01/projects/hipsci/analysis/i2QTL-sv-analysis/private_output/hipsci_sample_info/fib_ipsc.txt'\n",
    "pairs = [line.rstrip().split() for line in open(fib_ipsc_fn)]    \n",
    "\n",
    "fn_hipsci = '/frazer01/projects/hipsci/analysis/i2QTL-sv-analysis/private_output/sample_info_combined/samples_hipsci_fib.txt'\n",
    "\n",
    "\n",
    "command = 'python {} -vcf {} -pairs {} -s {} -unr {} -o {}'.format(extract_nmr, fn_vcf,\n",
    "                                                                   fib_ipsc_fn, fn_hipsci, fn_hipsci, out_dir2)"
   ]
  },
  {
   "cell_type": "code",
   "execution_count": 10,
   "metadata": {},
   "outputs": [
    {
     "name": "stdout",
     "output_type": "stream",
     "text": [
      "python /frazer01/projects/hipsci/analysis/i2QTL-sv-analysis/notebooks/HipSTR_processing/hipstr_extract_replication_nmr.py -vcf /frazer01/projects/hipsci/pipeline/WGS/HipSTR/combined_results/hipstr_hipsci.vcf.gz -pairs /frazer01/projects/hipsci/analysis/i2QTL-sv-analysis/private_output/hipsci_sample_info/fib_ipsc.txt -s /frazer01/projects/hipsci/analysis/i2QTL-sv-analysis/private_output/sample_info_combined/samples_hipsci_fib.txt -unr /frazer01/projects/hipsci/analysis/i2QTL-sv-analysis/private_output/sample_info_combined/samples_hipsci_fib.txt -o /frazer01/projects/hipsci/analysis/i2QTL-sv-analysis/private_output/hipstr_processing/rr_pre_filt/hipsci\n",
      "Starting Variant Processing: 06/15/19- 19:35\n",
      "processed 50000 variants 06/15/19- 19:38\n",
      "processed 100000 variants 06/15/19- 19:41\n",
      "processed 150000 variants 06/15/19- 19:45\n",
      "processed 200000 variants 06/15/19- 19:48\n",
      "processed 250000 variants 06/15/19- 19:51\n",
      "processed 300000 variants 06/15/19- 19:54\n",
      "processed 350000 variants 06/15/19- 19:58\n",
      "processed 400000 variants 06/15/19- 20:01\n",
      "processed 450000 variants 06/15/19- 20:04\n",
      "processed 500000 variants 06/15/19- 20:07\n",
      "processed 550000 variants 06/15/19- 20:10\n",
      "processed 600000 variants 06/15/19- 20:13\n",
      "processed 650000 variants 06/15/19- 20:16\n",
      "processed 700000 variants 06/15/19- 20:20\n",
      "processed 750000 variants 06/15/19- 20:23\n",
      "processed 800000 variants 06/15/19- 20:26\n",
      "processed 850000 variants 06/15/19- 20:29\n",
      "processed 900000 variants 06/15/19- 20:32\n",
      "processed 950000 variants 06/15/19- 20:35\n",
      "processed 1000000 variants 06/15/19- 20:38\n",
      "processed 1050000 variants 06/15/19- 20:41\n",
      "processed 1100000 variants 06/15/19- 20:44\n",
      "processed 1150000 variants 06/15/19- 20:48\n",
      "processed 1200000 variants 06/15/19- 20:51\n",
      "processed 1250000 variants 06/15/19- 20:54\n",
      "processed 1300000 variants 06/15/19- 20:57\n",
      "processed 1350000 variants 06/15/19- 21:00\n",
      "processed 1400000 variants 06/15/19- 21:03\n",
      "processed 1450000 variants 06/15/19- 21:07\n",
      "processed 1500000 variants 06/15/19- 21:09\n",
      "number of variants: 1549840 number_all_missing: 4166\n",
      "Completed Variant Processing: 06/15/19- 21:12\n",
      "COMPLETE\n"
     ]
    }
   ],
   "source": []
  },
  {
   "cell_type": "code",
   "execution_count": 13,
   "metadata": {},
   "outputs": [
    {
     "name": "stdout",
     "output_type": "stream",
     "text": [
      "python /frazer01/projects/hipsci/analysis/i2QTL-sv-analysis/notebooks/HipSTR_processing/hipstr_extract_replication_nmr.py -vcf /frazer01/projects/hipsci/pipeline/WGS/HipSTR/combined_results/hipstr_hipsci.vcf.gz -pairs /frazer01/projects/hipsci/analysis/i2QTL-sv-analysis/private_output/hipsci_sample_info/fib_ipsc.txt -s /frazer01/projects/hipsci/analysis/i2QTL-sv-analysis/private_output/sample_info_combined/samples_hipsci_fib.txt -unr /frazer01/projects/hipsci/analysis/i2QTL-sv-analysis/private_output/sample_info_combined/samples_hipsci_fib.txt -o /frazer01/projects/hipsci/analysis/i2QTL-sv-analysis/private_output/hipstr_processing/rr_pre_filt/hipsci2\n",
      "Starting Variant Processing: 06/16/19- 21:34\n",
      "processed 50000 variants 06/16/19- 21:37\n",
      "processed 100000 variants 06/16/19- 21:40\n",
      "processed 150000 variants 06/16/19- 21:43\n",
      "processed 200000 variants 06/16/19- 21:46\n",
      "processed 250000 variants 06/16/19- 21:50\n",
      "processed 300000 variants 06/16/19- 21:53\n",
      "processed 350000 variants 06/16/19- 21:56\n",
      "processed 400000 variants 06/16/19- 21:59\n",
      "processed 450000 variants 06/16/19- 22:02\n",
      "processed 500000 variants 06/16/19- 22:05\n",
      "processed 550000 variants 06/16/19- 22:09\n",
      "processed 600000 variants 06/16/19- 22:12\n",
      "processed 650000 variants 06/16/19- 22:15\n",
      "processed 700000 variants 06/16/19- 22:18\n",
      "processed 750000 variants 06/16/19- 22:22\n",
      "processed 800000 variants 06/16/19- 22:25\n",
      "processed 850000 variants 06/16/19- 22:28\n",
      "processed 900000 variants 06/16/19- 22:31\n",
      "processed 950000 variants 06/16/19- 22:34\n",
      "processed 1000000 variants 06/16/19- 22:38\n",
      "processed 1050000 variants 06/16/19- 22:41\n",
      "processed 1100000 variants 06/16/19- 22:44\n",
      "processed 1150000 variants 06/16/19- 22:47\n",
      "processed 1200000 variants 06/16/19- 22:50\n",
      "processed 1250000 variants 06/16/19- 22:54\n",
      "processed 1300000 variants 06/16/19- 22:57\n",
      "processed 1350000 variants 06/16/19- 23:00\n",
      "processed 1400000 variants 06/16/19- 23:03\n",
      "processed 1450000 variants 06/16/19- 23:06\n",
      "processed 1500000 variants 06/16/19- 23:09\n",
      "number of variants: 1549840 number_all_missing: 4166\n",
      "Completed Variant Processing: 06/16/19- 23:12\n",
      "COMPLETE\n"
     ]
    }
   ],
   "source": [
    "print command\n",
    "! {command}"
   ]
  },
  {
   "cell_type": "markdown",
   "metadata": {},
   "source": [
    "# Calls Per Sample All HipSTR"
   ]
  },
  {
   "cell_type": "code",
   "execution_count": 5,
   "metadata": {},
   "outputs": [],
   "source": [
    "out_dir = '/frazer01/projects/hipsci/analysis/i2QTL-sv-analysis/private_output/hipstr_processing/final_vcf'\n",
    "DJ.makedir(out_dir)"
   ]
  },
  {
   "cell_type": "code",
   "execution_count": 6,
   "metadata": {},
   "outputs": [],
   "source": [
    "fn_vcf= '/frazer01/projects/hipsci/analysis/i2QTL-sv-analysis/private_output/hipstr_final_vcf/hipstr_i2QTL_merged.filt.annot.maf.dsf.477.vcf'\n",
    "    \n",
    "twin_fn = '/frazer01/projects/hipsci/analysis/i2QTL-sv-analysis/private_output/ipscore_sample_info/twins.tsv'\n",
    "pairs = [line.rstrip().split() for line in open(twin_fn)]    \n",
    "\n",
    "fn_ipscore = '/frazer01/projects/hipsci/analysis/i2QTL-sv-analysis/private_output/hipstr_final_vcf/WGS_Samples_477.txt'\n",
    "\n",
    "fn_ipscore_unrel = '/frazer01/projects/hipsci/analysis/i2QTL-sv-analysis/private_output/sample_info_combined/samples_i2qtl_unrel.txt'\n",
    "\n",
    "samples = [line.rstrip() for line in open(fn_ipscore)]\n",
    "\n",
    "suff = 'iPSCORE'\n",
    "\n",
    "command = 'python {} -vcf {} -pairs {} -s {} -unr {} -o {} -suff {}'.format(extract_nmr, fn_vcf, twin_fn, fn_ipscore, fn_ipscore_unrel, out_dir, suff)"
   ]
  },
  {
   "cell_type": "code",
   "execution_count": 9,
   "metadata": {},
   "outputs": [
    {
     "data": {
      "text/plain": [
       "'python /frazer01/projects/hipsci/analysis/i2QTL-sv-analysis/notebooks/HipSTR_processing/hipstr_extract_replication_nmr.py -vcf /frazer01/projects/hipsci/analysis/i2QTL-sv-analysis/private_output/hipstr_final_vcf/hipstr_i2QTL_merged.filt.annot.maf.dsf.477.vcf -pairs /frazer01/projects/hipsci/analysis/i2QTL-sv-analysis/private_output/ipscore_sample_info/twins.tsv -s /frazer01/projects/hipsci/analysis/i2QTL-sv-analysis/private_output/hipstr_final_vcf/WGS_Samples_477.txt -unr /frazer01/projects/hipsci/analysis/i2QTL-sv-analysis/private_output/sample_info_combined/samples_i2qtl_unrel.txt -o /frazer01/projects/hipsci/analysis/i2QTL-sv-analysis/private_output/hipstr_processing/final_vcf -suff iPSCORE'"
      ]
     },
     "execution_count": 9,
     "metadata": {},
     "output_type": "execute_result"
    }
   ],
   "source": [
    "command"
   ]
  },
  {
   "cell_type": "code",
   "execution_count": 11,
   "metadata": {},
   "outputs": [
    {
     "name": "stdout",
     "output_type": "stream",
     "text": [
      "Starting Variant Processing: 04/05/19- 16:14\n",
      "processed 50000 variants 04/05/19- 16:17\n",
      "processed 100000 variants 04/05/19- 16:21\n",
      "processed 150000 variants 04/05/19- 16:25\n",
      "processed 200000 variants 04/05/19- 16:28\n",
      "processed 250000 variants 04/05/19- 16:32\n",
      "processed 300000 variants 04/05/19- 16:36\n",
      "processed 350000 variants 04/05/19- 16:39\n",
      "processed 400000 variants 04/05/19- 16:43\n",
      "processed 450000 variants 04/05/19- 16:47\n",
      "processed 500000 variants 04/05/19- 16:50\n",
      "processed 550000 variants 04/05/19- 16:54\n",
      "processed 600000 variants 04/05/19- 16:58\n",
      "processed 650000 variants 04/05/19- 17:02\n",
      "processed 700000 variants 04/05/19- 17:05\n",
      "processed 750000 variants 04/05/19- 17:09\n",
      "number of variants: 764907 number_all_missing: 0\n",
      "Completed Variant Processing: 04/05/19- 17:10\n",
      "COMPLETE\n"
     ]
    }
   ],
   "source": [
    "! {command}"
   ]
  }
 ],
 "metadata": {
  "kernelspec": {
   "display_name": "Python 2",
   "language": "python",
   "name": "python2"
  },
  "language_info": {
   "codemirror_mode": {
    "name": "ipython",
    "version": 2
   },
   "file_extension": ".py",
   "mimetype": "text/x-python",
   "name": "python",
   "nbconvert_exporter": "python",
   "pygments_lexer": "ipython2",
   "version": "2.7.15"
  }
 },
 "nbformat": 4,
 "nbformat_minor": 1
}
