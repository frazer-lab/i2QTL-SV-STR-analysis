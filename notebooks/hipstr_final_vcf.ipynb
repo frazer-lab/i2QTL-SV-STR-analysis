{
 "cells": [
  {
   "cell_type": "code",
   "execution_count": 1,
   "metadata": {
    "collapsed": true
   },
   "outputs": [],
   "source": [
    "%matplotlib inline\n",
    "from __future__ import division\n",
    "import numpy as np\n",
    "import os\n",
    "import sys\n",
    "import datetime\n",
    "from subprocess import call\n",
    "import subprocess\n",
    "import glob\n",
    "import djPyi2 as DJ\n",
    "from djPyi2 import Common as CM\n",
    "from djPyi2 import mpltools\n",
    "\n",
    "import pandas as pd\n",
    "import csv\n",
    "import seaborn as sns\n",
    "import matplotlib as mpl\n",
    "import matplotlib.pyplot as plt\n",
    "import matplotlib.ticker as ticker\n",
    "import copy \n",
    "import pybedtools as pbt\n",
    "import ciepy\n",
    "import cardipspy as cpy\n",
    "import itertools\n",
    "import tempfile\n",
    "import six\n",
    "import networkx as nx\n",
    "import scipy.stats as stats\n",
    "pd.set_option('display.max_columns', 500)\n",
    "pd.set_option('display.max_rows', 100)\n",
    "from mpl_toolkits.axes_grid1 import  make_axes_locatable\n",
    "import datetime\n",
    "\n",
    "from scipy.stats import mode\n",
    "dy_name = 'hipstr_final_vcf'\n",
    "\n",
    "private_out = os.path.join(DJ.root, 'private_output', dy_name)\n",
    "if not os.path.exists(private_out):\n",
    "    cpy.makedir(private_out)"
   ]
  },
  {
   "cell_type": "markdown",
   "metadata": {},
   "source": [
    "# HipSTR VCF STRATEGY\n",
    "\n",
    "    1)  Filter HipSTR Vcfs from iPSCORE / iPSCORE Hipsci REF/ HipSci \n",
    "        a) Filter iPSCORE_HipSci_REF to site NONREF_GT > 0 and CallRate > 80%\n",
    "        b) Filter iPSCORE_Hipsci to site NONREF_GT > 0 and CallRate > 80%\n",
    "        c) Filter iPSCORE to site NONREF_GT > 0 and CallRate > 80%\n",
    "        d) Filter iPSCORE to sites not in ipscore_hipsci_ref - for merge with those\n",
    "        \n",
    "    2) Annotate Filtered VCFs- make sure we add suffixes to the majority of annotations in INFO so that bcftools can be used to easily merge and concat- as well as adjust for the headers\n",
    "    \n",
    "    Note- 1 and 2 are accomplished by a single script that reads/filters/ and annotates HipSTR vcfs at a specific set of IDs and modifies their existing INFO columns\n",
    "    \n",
    "    3) Concatenate iPSCORE unique with iPSCORE HipSci Ref with bcftools to create an iPSCORE_all file for merging\n",
    "    4) Merge iPSCORE_all with HipSci using BCFtools\n",
    "    \n",
    "    5) Annotate on an additional set of annotations, namely for allele frequency/caller etc- using annotate_vcf_multi_info.py and also subset to samples that are needed and properly consented for sharing\n",
    "    "
   ]
  },
  {
   "cell_type": "code",
   "execution_count": 489,
   "metadata": {},
   "outputs": [
    {
     "data": {
      "text/plain": [
       "'/frazer01/projects/hipsci/analysis/i2QTL-sv-analysis/notebooks/HipSTR_processing/hipstr_generate_filtered_vcf.py'"
      ]
     },
     "execution_count": 489,
     "metadata": {},
     "output_type": "execute_result"
    }
   ],
   "source": [
    "DJ.convert_ipynb_to_script('/frazer01/projects/hipsci/analysis/i2QTL-sv-analysis/notebooks/HipSTR_processing/hipstr_generate_filtered_vcf.ipynb')"
   ]
  },
  {
   "cell_type": "code",
   "execution_count": 27,
   "metadata": {
    "collapsed": true
   },
   "outputs": [],
   "source": [
    "vcf = '/frazer01/projects/hipsci/pipeline/WGS/HipSTR/combined_results/hipstr_ipscore_ref_hipsci.filt.vcf'"
   ]
  },
  {
   "cell_type": "code",
   "execution_count": 8,
   "metadata": {
    "collapsed": true
   },
   "outputs": [],
   "source": [
    "filter_vcf_script = '/frazer01/projects/hipsci/analysis/i2QTL-sv-analysis/notebooks/HipSTR_processing/hipstr_generate_filtered_vcf.py'"
   ]
  },
  {
   "cell_type": "code",
   "execution_count": 120,
   "metadata": {
    "collapsed": true
   },
   "outputs": [],
   "source": [
    "import datetime"
   ]
  },
  {
   "cell_type": "code",
   "execution_count": 121,
   "metadata": {
    "collapsed": true
   },
   "outputs": [],
   "source": [
    "    d = datetime.datetime.now()\n",
    "    ts = d.strftime('%D- %H:%M')"
   ]
  },
  {
   "cell_type": "code",
   "execution_count": 124,
   "metadata": {},
   "outputs": [],
   "source": [
    "l = [1, 2, 3, 5]"
   ]
  },
  {
   "cell_type": "code",
   "execution_count": 126,
   "metadata": {},
   "outputs": [],
   "source": [
    "l.remove(5)"
   ]
  },
  {
   "cell_type": "code",
   "execution_count": 9,
   "metadata": {},
   "outputs": [
    {
     "name": "stdout",
     "output_type": "stream",
     "text": [
      "usage: hipstr_generate_filtered_vcf.py [-h] -vcf <vcf_file> -id_fn <IDs to\r\n",
      "                                       keep in the final output>\r\n",
      "                                       [-suff <Suffix for INFO COL TAGS>] -o\r\n",
      "                                       <out_dir>\r\n",
      "hipstr_generate_filtered_vcf.py: error: argument -vcf/--vcf is required\r\n"
     ]
    }
   ],
   "source": [
    "! python {filter_vcf_script}"
   ]
  },
  {
   "cell_type": "code",
   "execution_count": 106,
   "metadata": {},
   "outputs": [],
   "source": [
    "def get_command(dir_master, vcf, suff = 'HipSci',ipscore = False):\n",
    "    filter_vcf_script = '/frazer01/projects/hipsci/analysis/i2QTL-sv-analysis/notebooks/HipSTR_processing/hipstr_generate_filtered_vcf.py'\n",
    "\n",
    "    out_dir = '/frazer01/projects/hipsci/analysis/i2QTL-sv-analysis/private_output/hipstr_qc_analysis/{}'.format(dir_master)\n",
    "\n",
    "    fn_id_ipscore_hipsci_ref = os.path.join(out_dir, 'IDs_retained.txt')\n",
    "\n",
    "    fn = '/frazer01/projects/hipsci/analysis/i2QTL-sv-analysis/private_output/hipstr_qc_analysis/{}/hipstr_info_gt.tsv'.format(dir_master)\n",
    "\n",
    "    info_gt = pd.read_table(fn)\n",
    "\n",
    "    info_gt[info_gt.NREF > 0]['ID'].to_csv(fn_id_ipscore_hipsci_ref, header=False, index = False, sep = '\\t')\n",
    "\n",
    "\n",
    "    command = 'python {} -vcf {} -id_fn {} -suff {} -o {} -tag_hipsci'.format(filter_vcf_script, vcf, fn_id_ipscore_hipsci_ref, suff, out_dir)\n",
    "    \n",
    "    \n",
    "#     if ipscore:\n",
    "#         command = 'python {} -vcf {} -id_fn {} -suff {} -o {} -tag_hipsci'.format(filter_vcf_script, vcf, fn_id_ipscore_hipsci_ref, suff, out_dir)\n",
    "    \n",
    "        \n",
    "    \n",
    "    print command\n",
    "    return command"
   ]
  },
  {
   "cell_type": "code",
   "execution_count": 357,
   "metadata": {},
   "outputs": [
    {
     "data": {
      "text/plain": [
       "272.0"
      ]
     },
     "execution_count": 357,
     "metadata": {},
     "output_type": "execute_result"
    }
   ],
   "source": [
    "tdf.NNONREF_DOSAGE_iPSCORE_HipSci_Ref.max()"
   ]
  },
  {
   "cell_type": "code",
   "execution_count": 108,
   "metadata": {},
   "outputs": [
    {
     "name": "stdout",
     "output_type": "stream",
     "text": [
      "python /frazer01/projects/hipsci/analysis/i2QTL-sv-analysis/notebooks/HipSTR_processing/hipstr_generate_filtered_vcf.py -vcf /frazer01/projects/hipsci/pipeline/WGS/HipSTR/combined_results/hipstr_ipscore_ref_hipsci.filt.vcf -id_fn /frazer01/projects/hipsci/analysis/i2QTL-sv-analysis/private_output/hipstr_qc_analysis/ipscore_hipsci_ref_filt_sr_geno/IDs_retained.txt -suff iPSCORE -o /frazer01/projects/hipsci/analysis/i2QTL-sv-analysis/private_output/hipstr_qc_analysis/ipscore_hipsci_ref_filt_sr_geno -tag_hipsci\n"
     ]
    }
   ],
   "source": [
    "vcf = '/frazer01/projects/hipsci/pipeline/WGS/HipSTR/combined_results/hipstr_ipscore_ref_hipsci.filt.vcf'\n",
    "\n",
    "dir_master = 'ipscore_hipsci_ref_filt_sr_geno'\n",
    "\n",
    "command = get_command(dir_master, vcf, suff = 'iPSCORE')"
   ]
  },
  {
   "cell_type": "code",
   "execution_count": 110,
   "metadata": {},
   "outputs": [
    {
     "name": "stdout",
     "output_type": "stream",
     "text": [
      "python /frazer01/projects/hipsci/analysis/i2QTL-sv-analysis/notebooks/HipSTR_processing/hipstr_generate_filtered_vcf.py -vcf /frazer01/projects/hipsci/pipeline/WGS/HipSTR/combined_results/hipstr_hipsci.filt.vcf -id_fn /frazer01/projects/hipsci/analysis/i2QTL-sv-analysis/private_output/hipstr_qc_analysis/hipsci_filt_geno/IDs_retained.txt -suff HipSci -o /frazer01/projects/hipsci/analysis/i2QTL-sv-analysis/private_output/hipstr_qc_analysis/hipsci_filt_geno -tag_hipsci\n"
     ]
    }
   ],
   "source": [
    "vcf = '/frazer01/projects/hipsci/pipeline/WGS/HipSTR/combined_results/hipstr_hipsci.filt.vcf'\n",
    "\n",
    "dir_master = 'hipsci_filt_geno'\n",
    "\n",
    "command = get_command(dir_master, vcf, suff = 'HipSci')"
   ]
  },
  {
   "cell_type": "code",
   "execution_count": 4,
   "metadata": {
    "collapsed": true
   },
   "outputs": [],
   "source": [
    "info_gt = pd.read_table('/frazer01/projects/hipsci/analysis/i2QTL-sv-analysis/private_output/hipstr_qc_analysis/hipsci_filt_geno/hipstr_info_gt.tsv')\n",
    "\n",
    "info_gt_ipscore  = pd.read_table('/frazer01/projects/hipsci/analysis/i2QTL-sv-analysis/private_output/hipstr_qc_analysis/ipscore_filt_sr_geno/hipstr_info_gt.tsv')\n",
    "\n",
    "info_gt_ih  = pd.read_table('/frazer01/projects/hipsci/analysis/i2QTL-sv-analysis/private_output/hipstr_qc_analysis/ipscore_hipsci_ref_filt_sr_geno/hipstr_info_gt.tsv')"
   ]
  },
  {
   "cell_type": "code",
   "execution_count": 319,
   "metadata": {
    "collapsed": true
   },
   "outputs": [],
   "source": [
    "info_gt_ipscore  = pd.read_table('/frazer01/projects/hipsci/analysis/i2QTL-sv-analysis/private_output/hipstr_qc_analysis/ipscore_filt_sr_geno/hipstr_info_gt.tsv')\n"
   ]
  },
  {
   "cell_type": "code",
   "execution_count": 320,
   "metadata": {
    "collapsed": true
   },
   "outputs": [],
   "source": [
    "ids_ipscore_all = info_gt_ipscore[info_gt_ipscore.NREF > 0].ID.tolist()"
   ]
  },
  {
   "cell_type": "code",
   "execution_count": 215,
   "metadata": {},
   "outputs": [
    {
     "data": {
      "text/plain": [
       "(660191, 25)"
      ]
     },
     "execution_count": 215,
     "metadata": {},
     "output_type": "execute_result"
    }
   ],
   "source": [
    "info_gt[info_gt.NREF > 0].shape"
   ]
  },
  {
   "cell_type": "code",
   "execution_count": 214,
   "metadata": {},
   "outputs": [
    {
     "data": {
      "text/plain": [
       "342231"
      ]
     },
     "execution_count": 214,
     "metadata": {},
     "output_type": "execute_result"
    }
   ],
   "source": [
    "len(ids_ipscore_hipsci)"
   ]
  },
  {
   "cell_type": "code",
   "execution_count": 31,
   "metadata": {
    "collapsed": true
   },
   "outputs": [],
   "source": [
    "ids_ipscore_hipsci = info_gt_ih[info_gt_ih.NREF > 0].ID.tolist()\n",
    "\n",
    "ids_hipsci = info_gt[info_gt.NREF>0].ID.tolist()\n",
    "ids_ipscore = info_gt_ipscore[info_gt_ipscore.NREF > 0]['ID'].tolist()\n",
    "\n",
    "\n",
    "ids_diff = set(ids_ipscore_hipsci).difference(ids_hipsci)\n",
    "unique_to_ipscore = set(ids_ipscore).difference(ids_hipsci + ids_ipscore_hipsci)"
   ]
  },
  {
   "cell_type": "code",
   "execution_count": 36,
   "metadata": {},
   "outputs": [
    {
     "name": "stdout",
     "output_type": "stream",
     "text": [
      "number different between ipscore on hipsci ref and genotypes in hipsci samples\n"
     ]
    },
    {
     "data": {
      "text/plain": [
       "8734"
      ]
     },
     "execution_count": 36,
     "metadata": {},
     "output_type": "execute_result"
    }
   ],
   "source": [
    "print 'number different between ipscore on hipsci ref and genotypes in hipsci samples'\n",
    "len(ids_diff)"
   ]
  },
  {
   "cell_type": "code",
   "execution_count": 358,
   "metadata": {},
   "outputs": [
    {
     "data": {
      "text/plain": [
       "CELL_TYPE   STUDY  \n",
       "Blood       iPSCORE    254\n",
       "            HLI          1\n",
       "Fibroblast  HipSci     204\n",
       "            iPSCORE     19\n",
       "iPSC        HipSci     242\n",
       "Name: STUDY, dtype: int64"
      ]
     },
     "execution_count": 358,
     "metadata": {},
     "output_type": "execute_result"
    }
   ],
   "source": [
    "sample_info.groupby(\"CELL_TYPE\").STUDY.value_counts()"
   ]
  },
  {
   "cell_type": "markdown",
   "metadata": {},
   "source": [
    "Some sites were filtered eventually from hipsci because they failed missing rate, but they were still genotyped in ipscore, and didn't fail missing rate"
   ]
  },
  {
   "cell_type": "code",
   "execution_count": 25,
   "metadata": {},
   "outputs": [],
   "source": [
    "info_gt_ih.index = info_gt_ih.ID\n",
    "ids_ipscore = info_gt_ipscore[info_gt_ipscore.NREF > 0]['ID'].tolist()"
   ]
  },
  {
   "cell_type": "code",
   "execution_count": 40,
   "metadata": {},
   "outputs": [
    {
     "data": {
      "text/plain": [
       "448325"
      ]
     },
     "execution_count": 40,
     "metadata": {},
     "output_type": "execute_result"
    }
   ],
   "source": [
    "len(ids_ipscore)"
   ]
  },
  {
   "cell_type": "code",
   "execution_count": 41,
   "metadata": {},
   "outputs": [],
   "source": [
    "unique_to_ipscore = set(ids_ipscore).difference(ids_hipsci + ids_ipscore_hipsci)"
   ]
  },
  {
   "cell_type": "code",
   "execution_count": 42,
   "metadata": {},
   "outputs": [
    {
     "data": {
      "text/plain": [
       "95984"
      ]
     },
     "execution_count": 42,
     "metadata": {},
     "output_type": "execute_result"
    }
   ],
   "source": [
    "len(unique_to_ipscore)"
   ]
  },
  {
   "cell_type": "markdown",
   "metadata": {},
   "source": [
    "# Prep individual VCFs for merging"
   ]
  },
  {
   "cell_type": "code",
   "execution_count": 43,
   "metadata": {},
   "outputs": [],
   "source": [
    "vcf = '/frazer01/projects/hipsci/pipeline/WGS/HipSTR/combined_results/hipstr_ipscore.filt.vcf'\n",
    "\n",
    "fn_unique_to_ipscore = '/frazer01/projects/hipsci/analysis/i2QTL-sv-analysis/private_output/hipstr_qc_analysis/ipscore_filt_sr_geno/IDs_unique.txt'\n",
    "\n",
    "out_dir = '/frazer01/projects/hipsci/analysis/i2QTL-sv-analysis/private_output/hipstr_qc_analysis/ipscore_filt_sr_geno'\n",
    "\n",
    "suff = 'iPSCORE'\n",
    "\n",
    "with open(fn_unique_to_ipscore,'w') as F:\n",
    "    for l in unique_to_ipscore:\n",
    "        F.write(l + '\\n')\n",
    "\n",
    "filter_vcf_script = '/frazer01/projects/hipsci/analysis/i2QTL-sv-analysis/notebooks/HipSTR_processing/hipstr_generate_filtered_vcf.py'\n",
    "\n",
    "command = 'python {} -vcf {} -id_fn {} -suff {} -o {} -tag_ipscore'.format(filter_vcf_script, vcf, fn_unique_to_ipscore, suff, out_dir)\n",
    "\n",
    "! {command}"
   ]
  },
  {
   "cell_type": "code",
   "execution_count": 321,
   "metadata": {
    "collapsed": true
   },
   "outputs": [],
   "source": [
    "vcf = '/frazer01/projects/hipsci/pipeline/WGS/HipSTR/combined_results/hipstr_ipscore.filt.vcf'\n",
    "\n",
    "fn_ipscore_all = '/frazer01/projects/hipsci/analysis/i2QTL-sv-analysis/private_output/hipstr_qc_analysis/ipscore_filt_sr_geno/IDs_all.txt'\n",
    "\n",
    "out_dir = '/frazer01/projects/hipsci/analysis/i2QTL-sv-analysis/private_output/hipstr_final_vcf'\n",
    "out_dir = os.path.join(out_dir, 'ipscore_all')\n",
    "DJ.makedir(out_dir)\n",
    "\n",
    "\n",
    "suff = 'iPSCORE'\n",
    "\n",
    "with open(fn_ipscore_all,'w') as F:\n",
    "    for l in ids_ipscore_all:\n",
    "        F.write(l + '\\n')\n",
    "\n",
    "filter_vcf_script = '/frazer01/projects/hipsci/analysis/i2QTL-sv-analysis/notebooks/HipSTR_processing/hipstr_generate_filtered_vcf.py'\n",
    "\n",
    "command = 'python {} -vcf {} -id_fn {} -suff {} -o {} -tag_ipscore'.format(filter_vcf_script, vcf, fn_ipscore_all, suff, out_dir)\n",
    "! {command}"
   ]
  },
  {
   "cell_type": "code",
   "execution_count": 323,
   "metadata": {},
   "outputs": [
    {
     "data": {
      "text/plain": [
       "448325"
      ]
     },
     "execution_count": 323,
     "metadata": {},
     "output_type": "execute_result"
    }
   ],
   "source": [
    "len(ids_ipscore_all)"
   ]
  },
  {
   "cell_type": "code",
   "execution_count": 322,
   "metadata": {},
   "outputs": [
    {
     "data": {
      "text/plain": [
       "'python /frazer01/projects/hipsci/analysis/i2QTL-sv-analysis/notebooks/HipSTR_processing/hipstr_generate_filtered_vcf.py -vcf /frazer01/projects/hipsci/pipeline/WGS/HipSTR/combined_results/hipstr_ipscore.filt.vcf -id_fn /frazer01/projects/hipsci/analysis/i2QTL-sv-analysis/private_output/hipstr_qc_analysis/ipscore_filt_sr_geno/IDs_all.txt -suff iPSCORE -o /frazer01/projects/hipsci/analysis/i2QTL-sv-analysis/private_output/hipstr_final_vcf/ipscore_all -tag_ipscore'"
      ]
     },
     "execution_count": 322,
     "metadata": {},
     "output_type": "execute_result"
    }
   ],
   "source": [
    "command"
   ]
  },
  {
   "cell_type": "code",
   "execution_count": 70,
   "metadata": {},
   "outputs": [
    {
     "data": {
      "text/plain": [
       "95984"
      ]
     },
     "execution_count": 70,
     "metadata": {},
     "output_type": "execute_result"
    }
   ],
   "source": [
    "len(unique_to_ipscore)"
   ]
  },
  {
   "cell_type": "markdown",
   "metadata": {},
   "source": [
    "# Run BCFTOOLS MERGING"
   ]
  },
  {
   "cell_type": "code",
   "execution_count": null,
   "metadata": {
    "collapsed": true
   },
   "outputs": [],
   "source": [
    "! bgzip hipstr_output_annot.vcf\n",
    "! tabix -p vcf hipstr_output_annot.vcf.gz\n",
    "\n",
    "# prep vcfs for merging \n",
    "! bgzip ipscore_filt_sr_geno/hipstr_output_annot.vcf\n",
    "! tabix -p vcf ipscore_filt_sr_geno/hipstr_output_annot.vcf.gz\n",
    "\n",
    "! bgzip ipscore_hipsci_ref_filt_sr_geno/hipstr_output_annot.vcf\n",
    "! tabix -p vcf ipscore_hipsci_ref_filt_sr_geno/hipstr_output_annot.vcf.gz\n",
    "\n",
    "! bgzip hipsci_filt_geno/hipstr_output_annot.vcf\n",
    "! tabix -p vcf hipsci_filt_geno/hipstr_output_annot.vcf.gz\n",
    "\n",
    "! cd /frazer01/projects/hipsci/analysis/i2QTL-sv-analysis/private_output/hipstr_final_vcf\n",
    "! bgzip hipstr_output_annot.vcf\n",
    "! tabix -p vcf hipstr_output_annot.vcf.gz"
   ]
  },
  {
   "cell_type": "code",
   "execution_count": 204,
   "metadata": {
    "collapsed": true
   },
   "outputs": [],
   "source": [
    "output_dir = private_out + '/merged_vcf'\n",
    "fn_ipscore_variants = os.path.join(output_dir, 'hipstr_ipscore_all.filt.vcf')\n",
    "DJ.makedir(output_dir)"
   ]
  },
  {
   "cell_type": "code",
   "execution_count": 207,
   "metadata": {},
   "outputs": [
    {
     "data": {
      "text/plain": [
       "'bcftools concat -a ipscore_filt_sr_geno/hipstr_output_annot.vcf.gz  ipscore_hipsci_ref_filt_sr_geno/hipstr_output_annot.vcf.gz > /frazer01/projects/hipsci/analysis/i2QTL-sv-analysis/private_output/hipstr_final_vcf/merged_vcf/hipstr_ipscore_all.filt.vcf'"
      ]
     },
     "execution_count": 207,
     "metadata": {},
     "output_type": "execute_result"
    }
   ],
   "source": [
    "'bcftools concat -a ipscore_filt_sr_geno/hipstr_output_annot.vcf.gz  ipscore_hipsci_ref_filt_sr_geno/hipstr_output_annot.vcf.gz > {}'.format(fn_ipscore_variants)"
   ]
  },
  {
   "cell_type": "code",
   "execution_count": null,
   "metadata": {},
   "outputs": [],
   "source": [
    "! bcftools concat -a ipscore_filt_sr_geno/hipstr_output_annot.vcf.gz  ipscore_hipsci_ref_filt_sr_geno/hipstr_output_annot.vcf.gz > /frazer01/projects/hipsci/analysis/i2QTL-sv-analysis/private_output/hipstr_final_vcf/merged_vcf/hipstr_ipscore_all.filt.vcf"
   ]
  },
  {
   "cell_type": "code",
   "execution_count": 208,
   "metadata": {
    "collapsed": true
   },
   "outputs": [],
   "source": [
    "fn_final_variants = os.path.join(output_dir, 'hipstr_i2QTL_merged.filt.vcf')"
   ]
  },
  {
   "cell_type": "code",
   "execution_count": 209,
   "metadata": {},
   "outputs": [
    {
     "data": {
      "text/plain": [
       "'bcftools merge -m id /frazer01/projects/hipsci/analysis/i2QTL-sv-analysis/private_output/hipstr_final_vcf/merged_vcf/hipstr_ipscore_all.filt.vcf.gz hipsci_filt_geno/hipstr_output_annot.vcf.gz > /frazer01/projects/hipsci/analysis/i2QTL-sv-analysis/private_output/hipstr_final_vcf/merged_vcf/hipstr_i2QTL_merged.filt.vcf'"
      ]
     },
     "execution_count": 209,
     "metadata": {},
     "output_type": "execute_result"
    }
   ],
   "source": [
    "'bcftools merge -m id /frazer01/projects/hipsci/analysis/i2QTL-sv-analysis/private_output/hipstr_final_vcf/merged_vcf/hipstr_ipscore_all.filt.vcf.gz hipsci_filt_geno/hipstr_output_annot.vcf.gz > {}'.format(fn_final_variants)"
   ]
  },
  {
   "cell_type": "code",
   "execution_count": null,
   "metadata": {},
   "outputs": [],
   "source": [
    "! bcftools merge -m id /frazer01/projects/hipsci/analysis/i2QTL-sv-analysis/private_output/hipstr_final_vcf/merged_vcf/hipstr_ipscore_all.filt.vcf.gz hipsci_filt_geno/hipstr_output_annot.vcf.gz > /frazer01/projects/hipsci/analysis/i2QTL-sv-analysis/private_output/hipstr_final_vcf/merged_vcf/hipstr_i2QTL_merged.filt.vcf"
   ]
  },
  {
   "cell_type": "markdown",
   "metadata": {},
   "source": [
    "# Annotate AF Dosage and AF Geno to final vcf\n",
    "\n",
    "We will make an info table to be annotated onto vcf using `annotate_vcf_multi_info.py`"
   ]
  },
  {
   "cell_type": "code",
   "execution_count": 142,
   "metadata": {
    "collapsed": true
   },
   "outputs": [],
   "source": [
    "def get_to_add(var_classes, categories, x, alternative_names = False):\n",
    "    out = []\n",
    "    for v in var_classes:\n",
    "        for c in categories:\n",
    "            col_name = '{}_{}'.format(c, v)\n",
    "            info_entry = x[col_name]\n",
    "            \n",
    "            if alternative_names:\n",
    "                alt_name = alternative_names[categories.index(c)]\n",
    "                add = \"{}={}\".format(alt_name, info_entry)\n",
    "            else:\n",
    "                \n",
    "                add = \"{}={}\".format(col_name, info_entry)\n",
    "            out.append(add)\n",
    "    return out"
   ]
  },
  {
   "cell_type": "code",
   "execution_count": 388,
   "metadata": {},
   "outputs": [],
   "source": [
    "def info_column_merged(tdf):\n",
    "    data = []\n",
    "    for ind, x in tdf.iterrows():\n",
    "        info = []\n",
    "        in_both = x['in_both']\n",
    "        categories = ['NNONREF_GT', 'NNONREF_FRAC_GT', 'NNONREF_DOSAGE', 'NNONREF_FRAC_DOSAGE']\n",
    "\n",
    "        in_ipscore_hi = x['unique_to_ipscore_hi']\n",
    "        in_hipsci = x['unique_to_hipsci']\n",
    "        in_ipscore = x['unique_to_ipscore']\n",
    "\n",
    "        combined_nref_gt = x['NNONREF_GT_COMBINED']\n",
    "        combined_nref_frac_gt = x['NNONREF_FRAC_GT_COMBINED']\n",
    "\n",
    "        combined_nref_d = x['NNONREF_DOSAGE_COMBINED']\n",
    "        combined_nref_frac_d = x['NNONREF_FRAC_DOSAGE_COMBINED']\n",
    "\n",
    "\n",
    "#         combined_categories = ['NNONREF_GT', 'NNONREF_FRAC_GT','NNONREF_DOSAGE',\n",
    "#                                'NNONREF_FRAC_DOSAG' ]\n",
    "        \n",
    "#         combined_categories = ['NNONREF_GT_COMBINED', 'NNONREF_FRAC_GT_COMBINED','NNONREF_DOSAGE_COMBINED',\n",
    "#                                'NNONREF_FRAC_DOSAGE_COMBINED' ]\n",
    "\n",
    "        combined_categories_alt_names = ['NNONREF_GT_i2QTL', 'NNONREF_FRAC_GT_i2QTL','NNONREF_DOSAGE_i2QTL',\n",
    "                               'NNONREF_FRAC_DOSAGE_i2QTL' ]\n",
    "\n",
    "\n",
    "\n",
    "        if in_both:\n",
    "\n",
    "            var_classes = ['HipSci', 'iPSCORE_HipSci_Ref']\n",
    "            add = get_to_add(var_classes, categories, x)\n",
    "            info += add\n",
    "\n",
    "            var_classes = ['COMBINED']\n",
    "            try:\n",
    "                \n",
    "                add = get_to_add(var_classes, categories, x, alternative_names=combined_categories_alt_names)\n",
    "            except:\n",
    "                x\n",
    "\n",
    "\n",
    "\n",
    "        else:\n",
    "            if in_ipscore_hi:\n",
    "                var_classes = ['iPSCORE_HipSci_Ref']\n",
    "                add = get_to_add(var_classes, categories, x)\n",
    "                info += add\n",
    "\n",
    "                var_classes = ['iPSCORE_HipSci_Ref']\n",
    "\n",
    "                add = get_to_add(var_classes, categories, x, alternative_names=combined_categories_alt_names)\n",
    "                info += add\n",
    "\n",
    "\n",
    "\n",
    "\n",
    "            if in_hipsci:\n",
    "                var_classes = ['HipSci']\n",
    "                add = get_to_add(var_classes, categories, x)\n",
    "                info += add\n",
    "\n",
    "                var_classes = ['HipSci']\n",
    "\n",
    "                add = get_to_add(var_classes, categories, x, alternative_names=combined_categories_alt_names)\n",
    "                info += add\n",
    "\n",
    "\n",
    "\n",
    "            if in_ipscore:\n",
    "                var_classes = ['iPSCORE']\n",
    "                add = get_to_add(var_classes, categories, x)\n",
    "                info += add\n",
    "\n",
    "                add = get_to_add(var_classes, categories, x, alternative_names=combined_categories_alt_names)\n",
    "                info += add\n",
    "\n",
    "\n",
    "        info.append(\"{}={}\".format('CALLER', 'HipSTR'))\n",
    "\n",
    "        info_str = \";\".join(info)\n",
    "        data.append([ind,info_str])\n",
    "    info_df = pd.DataFrame(data, columns = ['ID', 'INFO'])\n",
    "    return info_df"
   ]
  },
  {
   "cell_type": "code",
   "execution_count": 389,
   "metadata": {},
   "outputs": [],
   "source": [
    "def info_column_hipstr_indiv(tdf, subtype='iPSCORE'):\n",
    "    data = []\n",
    "    for ind, x in tdf.iterrows():\n",
    "        info = []\n",
    "        in_both = x['in_both']\n",
    "        categories = ['NNONREF_GT', 'NNONREF_FRAC_GT', 'NNONREF_DOSAGE', 'NNONREF_FRAC_DOSAGE']\n",
    "\n",
    "        in_ipscore_hi = x['unique_to_ipscore_hi']\n",
    "        in_hipsci = x['unique_to_hipsci']\n",
    "        in_ipscore = x['unique_to_ipscore']\n",
    "\n",
    "        combined_nref_gt = x['NNONREF_GT_COMBINED']\n",
    "        combined_nref_frac_gt = x['NNONREF_FRAC_GT_COMBINED']\n",
    "\n",
    "        combined_nref_d = x['NNONREF_DOSAGE_COMBINED']\n",
    "        combined_nref_frac_d = x['NNONREF_FRAC_DOSAGE_COMBINED']\n",
    "\n",
    "\n",
    "        combined_categories = ['NNONREF_GT_COMBINED', 'NNONREF_FRAC_GT_COMBINED','NNONREF_DOSAGE_COMBINED',\n",
    "                               'NNONREF_FRAC_DOSAGE_COMBINED' ]\n",
    "\n",
    "        combined_categories_alt_names = ['NNONREF_GT_i2QTL', 'NNONREF_FRAC_GT_i2QTL','NNONREF_DOSAGE_i2QTL',\n",
    "                               'NNONREF_FRAC_DOSAGE_i2QTL' ]\n",
    "\n",
    "\n",
    "\n",
    "\n",
    "        if x['NNONREF_GT_{}'.format(subtype)] > 0:\n",
    "            var_classes = [subtype]\n",
    "            add = get_to_add(var_classes, categories, x)\n",
    "            info += add\n",
    "\n",
    "           \n",
    "\n",
    "\n",
    "            info.append(\"{}={}\".format('CALLER', 'HipSTR'))\n",
    "\n",
    "            info_str = \";\".join(info)\n",
    "            data.append([ind,info_str])\n",
    "    \n",
    "    info_df = pd.DataFrame(data, columns = ['ID', 'INFO'])\n",
    "    return info_df"
   ]
  },
  {
   "cell_type": "code",
   "execution_count": null,
   "metadata": {},
   "outputs": [],
   "source": [
    "info_df = pd.read_pickle('/frazer01/projects/hipsci/analysis/i2QTL-sv-analysis/private_output/hipstr_final_vcf/hipstr_combined_annotations.pkl')"
   ]
  },
  {
   "cell_type": "code",
   "execution_count": 390,
   "metadata": {},
   "outputs": [],
   "source": [
    "info_df = info_column_merged(info_df)"
   ]
  },
  {
   "cell_type": "code",
   "execution_count": 176,
   "metadata": {},
   "outputs": [],
   "source": [
    "fn_info_df = private_out + '/info_df_merged.txt'\n",
    "info_df.to_csv(fn_info_df, sep= '\\t', index =False, header=False)"
   ]
  },
  {
   "cell_type": "code",
   "execution_count": 185,
   "metadata": {
    "collapsed": true
   },
   "outputs": [],
   "source": [
    "fn_info_df_ipscore = private_out + '/info_df_ipscore.txt'\n",
    "info_df_ipscore = info_column_hipstr_indiv(info_df, subtype='iPSCORE')\n",
    "info_df_ipscore.to_csv(fn_info_df_ipscore, sep = '\\t', index = False, header = False)"
   ]
  },
  {
   "cell_type": "code",
   "execution_count": 232,
   "metadata": {
    "collapsed": true
   },
   "outputs": [],
   "source": [
    "fn_info_df_hipsci = private_out + '/info_df_hipsci.txt'\n",
    "info_df_hipsci = info_column_hipstr_indiv(info_df, subtype='HipSci')\n",
    "info_df_hipsci.to_csv(fn_info_df_hipsci, sep = '\\t', index = False, header = False)"
   ]
  },
  {
   "cell_type": "code",
   "execution_count": 209,
   "metadata": {
    "collapsed": true
   },
   "outputs": [],
   "source": [
    "def subset_samples(sample_info, samples_not_fully_consented_fn):\n",
    "    nc = [i.rstrip() for i in open(samples_not_fully_consented_fn, 'r')]\n",
    "    WGS_IDs = sample_info[(sample_info.CELL_TYPE != 'iPSC') & (sample_info.STUDY != 'HLI')].WGS_ID.tolist()\n",
    "    WGS_IDs = sorted(WGS_IDs)\n",
    "    filtered_WGS_IDs = [i for i in WGS_IDs if i not in nc]\n",
    "    return WGS_IDs, filtered_WGS_IDs"
   ]
  },
  {
   "cell_type": "code",
   "execution_count": 201,
   "metadata": {
    "collapsed": true
   },
   "outputs": [],
   "source": [
    "samples_not_fully_consented_fn = '/frazer01/projects/hipsci/analysis/i2QTL-sv-analysis/private_output/ipscore_sample_info/samples_ipscore_not_consented.txt'"
   ]
  },
  {
   "cell_type": "code",
   "execution_count": 210,
   "metadata": {
    "collapsed": true
   },
   "outputs": [],
   "source": [
    "all_wgs_ids, filtered_wgs_ids = pd.read_pickle('/frazer01/projects/hipsci/analysis/i2QTL-sv-analysis/private_output/sample_info_combined/sample_info.pkl').pipe(subset_samples, samples_not_fully_consented_fn)"
   ]
  },
  {
   "cell_type": "code",
   "execution_count": 351,
   "metadata": {
    "collapsed": true
   },
   "outputs": [],
   "source": [
    "sample_info = pd.read_pickle('/frazer01/projects/hipsci/analysis/i2QTL-sv-analysis/private_output/sample_info_combined/sample_info.pkl')"
   ]
  },
  {
   "cell_type": "code",
   "execution_count": 211,
   "metadata": {
    "collapsed": true
   },
   "outputs": [],
   "source": [
    "fn_samples_477 = private_out + '/WGS_Samples_477.txt'\n",
    "fn_samples_472 = private_out + '/WGS_Samples_472.txt'"
   ]
  },
  {
   "cell_type": "code",
   "execution_count": 214,
   "metadata": {
    "collapsed": true
   },
   "outputs": [],
   "source": [
    "with open(fn_samples_477, 'w') as F:\n",
    "    F.write(\"\\n\".join(all_wgs_ids) + '\\n')"
   ]
  },
  {
   "cell_type": "code",
   "execution_count": 213,
   "metadata": {},
   "outputs": [],
   "source": [
    "with open(fn_samples_472, 'w') as F:\n",
    "    F.write(\"\\n\".join(filtered_wgs_ids) + '\\n')"
   ]
  },
  {
   "cell_type": "code",
   "execution_count": null,
   "metadata": {
    "collapsed": true
   },
   "outputs": [],
   "source": [
    " combined_categories_alt_names = ['NNONREF_GT_i2QTL', 'NNONREF_FRAC_GT_i2QTL','NNONREF_DOSAGE_i2QTL',\n",
    "                           'NNONREF_FRAC_DOSAGE_i2QTL' ]\n",
    "   "
   ]
  },
  {
   "cell_type": "code",
   "execution_count": 125,
   "metadata": {
    "collapsed": true
   },
   "outputs": [],
   "source": [
    "fn_ipscore = '/frazer01/projects/hipsci/analysis/i2QTL-sv-analysis/private_output/ipscore_sample_info/twins.tsv -s /frazer01/projects/hipsci/analysis/i2QTL-sv-analysis/private_output/hipstr_qc_analysis/ipscore_samples_filt.txt'"
   ]
  },
  {
   "cell_type": "code",
   "execution_count": null,
   "metadata": {
    "collapsed": true
   },
   "outputs": [],
   "source": [
    "number_col = [1, 1, 1, 1, 1, 1, 0, 0, 0, 1, 1, 1, 0,0,0,0,1,1,1]\n",
    "\n",
    "type_col = ['Float','Float','Float','Float','Float','Float','Flag', 'Flag', 'Flag', 'String', 'String', 'String', 'Flag', 'Flag', 'Flag', 'Flag', 'String', 'String', 'String']"
   ]
  },
  {
   "cell_type": "code",
   "execution_count": 341,
   "metadata": {},
   "outputs": [],
   "source": [
    "description_dict = {'NNONREF_GT_i2QTL': 'Number of samples with non-reference genotype across passing i2QTL samples (272 iPSCORE + 202 HipSci) (non-iPSC)', \n",
    "                    'NNONREF_GT_iPSCORE_HipSci_Ref': 'Number of samples with non-reference genotype iPSCORE samples genotyped at HipSci alleles', \n",
    "                   'NNONREF_GT_iPSCORE': 'Number of samples with non-reference genotype in iPSCORE samples',\n",
    "                   'NNONREF_GT_HipSci': 'Number of samples with non-reference genotype in HipSci fibroblast samples',\n",
    "                    'NNONREF_DOSAGE_i2QTL': 'Number of samples with non-zero change in length from reference (dosage) across passing i2QTL samples (272 iPSCORE + 202 HipSci) (non-iPSC)',\n",
    "                   'NNONREF_DOSAGE_iPSCORE_HipSci_Ref': 'Number of samples with non-zero change in length from reference (dosage) in iPSCORE samples genotyped at HipSci alleles', \n",
    "                   'NNONREF_DOSAGE_iPSCORE': 'Number of samples with non-zero change in length from reference (dosage) in iPSCORE samples',\n",
    "                   'NNONREF_DOSAGE_HipSci': 'Number of samples with non-zero change in length from reference (dosage) in HipSci fibroblast samples',\n",
    "                    'NNONREF_FRAC_GT_i2QTL': 'Fraction of samples with non-reference genotype across passing i2QTL samples (272 iPSCORE + 202 HipSci) (non-iPSC)',\n",
    "                   'NNONREF_FRAC_GT_iPSCORE_HipSci_Ref': 'Fraction of samples with non-reference genotype iPSCORE samples genotyped at HipSci alleles', \n",
    "                   'NNONREF_FRAC_GT_iPSCORE': 'Fraction of samples with non-reference genotype in iPSCORE samples',\n",
    "                   'NNONREF_FRAC_GT_HipSci': 'Fraction of samples with non-reference genotype in HipSci fibroblast samples',\n",
    "                    'NNONREF_FRAC_DOSAGE_i2QTL': 'Fraction of samples with non-zero change in length from reference (dosage) across passing i2QTL samples (272 iPSCORE + 202 HipSci) (non-iPSC)',\n",
    "                   'NNONREF_FRAC_DOSAGE_iPSCORE_HipSci_Ref': 'Fraction of samples with nnon-zero change in length from reference (dosage) in iPSCORE samples genotyped at HipSci alleles', \n",
    "                   'NNONREF_FRAC_DOSAGE_iPSCORE': 'Fraction of samples with non-zero change in length from reference (dosage) in iPSCORE samples',\n",
    "                   'NNONREF_FRAC_DOSAGE_HipSci': 'Fraction of samples with non-zero change in length from reference (dosage) in HipSci fibroblast samples',\n",
    "                    \n",
    "                    'NNONREF_DOSAGE_i2QTL': 'Number of samples with non-zero change in length from reference (dosage) across passing i2QTL samples (272 iPSCORE + 202 HipSci) (non-iPSC)',\n",
    "                    'CALLER': 'Variant caller that genotyped this variant (LUMPY/GS/MELT/HipSTR)'}\n"
   ]
  },
  {
   "cell_type": "code",
   "execution_count": 343,
   "metadata": {},
   "outputs": [],
   "source": [
    "info_tags = sorted(description_dict.keys())"
   ]
  },
  {
   "cell_type": "code",
   "execution_count": 344,
   "metadata": {},
   "outputs": [],
   "source": [
    "number_col = [1 for i in info_tags]\n",
    "type_col =['String'] + ['Float' if i.find('FRAC') != -1 else 'Integer' for i in info_tags[1:]]"
   ]
  },
  {
   "cell_type": "code",
   "execution_count": 345,
   "metadata": {
    "collapsed": true
   },
   "outputs": [],
   "source": [
    "data = zip(*[info_tags, number_col, type_col])"
   ]
  },
  {
   "cell_type": "code",
   "execution_count": 346,
   "metadata": {},
   "outputs": [],
   "source": [
    "header_info_file = pd.DataFrame(data, columns=['ID_COL', 'NUMBER','TYPE'])\n",
    "header_info_file.index = header_info_file.ID_COL\n",
    "t = pd.Series(description_dict)\n",
    "header_info_file['DESCRIPTION'] = t"
   ]
  },
  {
   "cell_type": "code",
   "execution_count": 348,
   "metadata": {},
   "outputs": [],
   "source": [
    "fn_header_info = private_out + '/header_info.tsv'\n",
    "header_info_file.to_csv(fn_header_info, sep='\\t', index=False)"
   ]
  },
  {
   "cell_type": "code",
   "execution_count": 164,
   "metadata": {},
   "outputs": [],
   "source": [
    "annotate_all = pd.DataFrame([['CALLER', 1, 'String', 'Variant caller that genotyped this variant (LUMPY/GS/MELT/GS_LCNV/HipSTR)', 'CALLER=HipSTR']], columns= ['ID_COL', 'NUMBER', 'TYPE', 'DESCRIPTION', 'ANNOTATION'])"
   ]
  },
  {
   "cell_type": "code",
   "execution_count": 165,
   "metadata": {
    "collapsed": true
   },
   "outputs": [],
   "source": [
    "fn_annotate_all = private_out + '/header_annot_all.tsv'\n",
    "annotate_all.to_csv(fn_annotate_all, sep = '\\t', index=False)"
   ]
  },
  {
   "cell_type": "code",
   "execution_count": null,
   "metadata": {
    "collapsed": true
   },
   "outputs": [],
   "source": [
    "samples_vcf = pd.read_pickle('/frazer01/projects/hipsci/analysis/i2QTL-sv-analysis/private_output/gs_final_vcf/samples_vcf.pkl')"
   ]
  },
  {
   "cell_type": "code",
   "execution_count": null,
   "metadata": {
    "collapsed": true
   },
   "outputs": [],
   "source": [
    "samples_consented_fn = '/frazer01/projects/hipsci/analysis/i2QTL-sv-analysis/private_output/ipscore_sample_info/samples_ipscore_consented.txt'\n"
   ]
  },
  {
   "cell_type": "code",
   "execution_count": 220,
   "metadata": {
    "collapsed": true
   },
   "outputs": [],
   "source": [
    "fn_samples_477 = private_out + '/WGS_Samples_477.txt'\n",
    "\n",
    "fn_samples_472 = private_out + '/WGS_Samples_472.txt'"
   ]
  },
  {
   "cell_type": "code",
   "execution_count": 224,
   "metadata": {},
   "outputs": [
    {
     "name": "stdout",
     "output_type": "stream",
     "text": [
      "python /frazer01/projects/hipsci/analysis/i2QTL-sv-analysis/notebooks/scripts/annotate_vcf_multi_info.py -vcf /frazer01/projects/hipsci/analysis/i2QTL-sv-analysis/private_output/hipstr_final_vcf/merged_vcf/hipstr_i2QTL_merged.filt.vcf -af /frazer01/projects/hipsci/analysis/i2QTL-sv-analysis/private_output/hipstr_final_vcf/info_df_merged.txt -hf /frazer01/projects/hipsci/analysis/i2QTL-sv-analysis/private_output/hipstr_final_vcf/header_info.tsv -s /frazer01/projects/hipsci/analysis/i2QTL-sv-analysis/private_output/hipstr_final_vcf/WGS_Samples_472.txt -o /frazer01/projects/hipsci/analysis/i2QTL-sv-analysis/private_output/hipstr_final_vcf/hipstr_i2QTL_merged.filt.annot.472.vcf\n"
     ]
    }
   ],
   "source": [
    "fn_samples = fn_samples_472\n",
    "vcf_in = '/frazer01/projects/hipsci/analysis/i2QTL-sv-analysis/private_output/hipstr_final_vcf/merged_vcf/hipstr_i2QTL_merged.filt.vcf'\n",
    "fn_info_df = private_out + '/info_df_merged.txt'\n",
    "fn_header_info = private_out + '/header_info.tsv'\n",
    "output_vcf = private_out + '/hipstr_i2QTL_merged.filt.annot.472.vcf'\n",
    "\n",
    "command = 'python {} -vcf {} -af {} -hf {} -s {} -o {}'.format(annotate_vcf_script, vcf_in, fn_info_df, fn_header_info, fn_samples_472, output_vcf)\n",
    "\n",
    "print command"
   ]
  },
  {
   "cell_type": "code",
   "execution_count": 242,
   "metadata": {},
   "outputs": [
    {
     "name": "stdout",
     "output_type": "stream",
     "text": [
      "python /frazer01/projects/hipsci/analysis/i2QTL-sv-analysis/notebooks/scripts/annotate_vcf_multi_info.py -vcf /frazer01/projects/hipsci/analysis/i2QTL-sv-analysis/private_output/hipstr_final_vcf/merged_vcf/hipstr_i2QTL_merged.filt.vcf -af /frazer01/projects/hipsci/analysis/i2QTL-sv-analysis/private_output/hipstr_final_vcf/info_df_merged.txt -hf /frazer01/projects/hipsci/analysis/i2QTL-sv-analysis/private_output/hipstr_final_vcf/header_info.tsv -s /frazer01/projects/hipsci/analysis/i2QTL-sv-analysis/private_output/hipstr_final_vcf/WGS_Samples_477.txt -o /frazer01/projects/hipsci/analysis/i2QTL-sv-analysis/private_output/hipstr_final_vcf/hipstr_i2QTL_merged.filt.annot.477.vcf\n"
     ]
    }
   ],
   "source": [
    "fn_samples = fn_samples_477\n",
    "vcf_in = '/frazer01/projects/hipsci/analysis/i2QTL-sv-analysis/private_output/hipstr_final_vcf/merged_vcf/hipstr_i2QTL_merged.filt.vcf'\n",
    "fn_info_df = private_out + '/info_df_merged.txt'\n",
    "fn_header_info = private_out + '/header_info.tsv'\n",
    "output_vcf = private_out + '/hipstr_i2QTL_merged.filt.annot.477.vcf'\n",
    "\n",
    "command = 'python {} -vcf {} -af {} -hf {} -s {} -o {}'.format(annotate_vcf_script, vcf_in, fn_info_df, fn_header_info, fn_samples_477, output_vcf)\n",
    "print command"
   ]
  },
  {
   "cell_type": "code",
   "execution_count": 325,
   "metadata": {},
   "outputs": [
    {
     "name": "stdout",
     "output_type": "stream",
     "text": [
      "python /frazer01/projects/hipsci/analysis/i2QTL-sv-analysis/notebooks/scripts/annotate_vcf_multi_info.py -vcf /frazer01/projects/hipsci/analysis/i2QTL-sv-analysis/private_output/hipstr_final_vcf/ipscore_all/hipstr_output_annot.vcf -af /frazer01/projects/hipsci/analysis/i2QTL-sv-analysis/private_output/hipstr_final_vcf/info_df_ipscore.txt -hf /frazer01/projects/hipsci/analysis/i2QTL-sv-analysis/private_output/hipstr_final_vcf/header_info.tsv -s /frazer01/projects/hipsci/analysis/i2QTL-sv-analysis/private_output/sample_info_combined/samples_ipscore.txt -o /frazer01/projects/hipsci/analysis/i2QTL-sv-analysis/private_output/hipstr_final_vcf/hipstr_iPSCORE.filt.annot.273.vcf\n"
     ]
    }
   ],
   "source": [
    "fn_samples_ipscore ='/frazer01/projects/hipsci/analysis/i2QTL-sv-analysis/private_output/sample_info_combined/samples_ipscore.txt'\n",
    "vcf_in = '/frazer01/projects/hipsci/analysis/i2QTL-sv-analysis/private_output/hipstr_final_vcf/ipscore_all/hipstr_output_annot.vcf'\n",
    "fn_info_df_ipscore = private_out + '/info_df_ipscore.txt'\n",
    "\n",
    "fn_header_info = private_out + '/header_info.tsv'\n",
    "output_vcf = private_out + '/hipstr_iPSCORE.filt.annot.273.vcf'\n",
    "\n",
    "command = 'python {} -vcf {} -af {} -hf {} -s {} -o {}'.format(annotate_vcf_script, vcf_in, fn_info_df_ipscore,\n",
    "                                                               fn_header_info, fn_samples_ipscore,\n",
    "                                                               output_vcf)\n",
    "print command\n"
   ]
  },
  {
   "cell_type": "code",
   "execution_count": 362,
   "metadata": {},
   "outputs": [
    {
     "name": "stdout",
     "output_type": "stream",
     "text": [
      "python /frazer01/projects/hipsci/analysis/i2QTL-sv-analysis/notebooks/scripts/annotate_vcf_multi_info.py -vcf /frazer01/projects/hipsci/analysis/i2QTL-sv-analysis/private_output/hipstr_final_vcf/ipscore_all/hipstr_output_annot.vcf -af /frazer01/projects/hipsci/analysis/i2QTL-sv-analysis/private_output/hipstr_final_vcf/info_df_ipscore.txt -hf /frazer01/projects/hipsci/analysis/i2QTL-sv-analysis/private_output/hipstr_final_vcf/header_info.tsv -s /frazer01/projects/hipsci/analysis/i2QTL-sv-analysis/private_output/ipscore_sample_info/samples_ipscore_consented.txt -o /frazer01/projects/hipsci/analysis/i2QTL-sv-analysis/private_output/hipstr_final_vcf/hipstr_iPSCORE.filt.annot.268.vcf\n"
     ]
    }
   ],
   "source": [
    "fn_ipscore_samples_consented = '/frazer01/projects/hipsci/analysis/i2QTL-sv-analysis/private_output/ipscore_sample_info/samples_ipscore_consented.txt'\n",
    "\n",
    "vcf_in = '/frazer01/projects/hipsci/analysis/i2QTL-sv-analysis/private_output/hipstr_final_vcf/ipscore_all/hipstr_output_annot.vcf'\n",
    "\n",
    "fn_info_df_ipscore = private_out + '/info_df_ipscore.txt'\n",
    "\n",
    "fn_header_info = private_out + '/header_info.tsv'\n",
    "output_vcf = private_out + '/hipstr_iPSCORE.filt.annot.268.vcf'\n",
    "\n",
    "command = 'python {} -vcf {} -af {} -hf {} -s {} -o {}'.format(annotate_vcf_script, vcf_in, fn_info_df_ipscore,\n",
    "                                                               fn_header_info, fn_ipscore_samples_consented,\n",
    "                                                               output_vcf)\n",
    "print command"
   ]
  },
  {
   "cell_type": "code",
   "execution_count": 361,
   "metadata": {
    "scrolled": true
   },
   "outputs": [
    {
     "name": "stdout",
     "output_type": "stream",
     "text": [
      "python /frazer01/projects/hipsci/analysis/i2QTL-sv-analysis/notebooks/scripts/annotate_vcf_multi_info.py -vcf /frazer01/projects/hipsci/analysis/i2QTL-sv-analysis/private_output/hipstr_qc_analysis/hipsci_filt_geno/hipstr_output_annot.vcf -af /frazer01/projects/hipsci/analysis/i2QTL-sv-analysis/private_output/hipstr_final_vcf/info_df_merged.txt -hf /frazer01/projects/hipsci/analysis/i2QTL-sv-analysis/private_output/hipstr_final_vcf/header_info.tsv -s /frazer01/projects/hipsci/analysis/i2QTL-sv-analysis/private_output/sample_info_combined/samples_hipsci_fib.txt -o /frazer01/projects/hipsci/analysis/i2QTL-sv-analysis/private_output/hipstr_final_vcf/hipstr_hispci.filt.annot.204.vcf\n"
     ]
    }
   ],
   "source": [
    "fn_samples = '/frazer01/projects/hipsci/analysis/i2QTL-sv-analysis/private_output/sample_info_combined/samples_hipsci_fib.txt'\n",
    "\n",
    "vcf_in = '/frazer01/projects/hipsci/analysis/i2QTL-sv-analysis/private_output/hipstr_qc_analysis/hipsci_filt_geno/hipstr_output_annot.vcf'\n",
    "fn_info_df_hipsci = private_out + '/info_df_hipsci.txt'\n",
    "\n",
    "fn_header_info = private_out + '/header_info.tsv'\n",
    "output_vcf = private_out + '/hipstr_hispci.filt.annot.204.vcf'\n",
    "\n",
    "command = 'python {} -vcf {} -af {} -hf {} -s {} -o {}'.format(annotate_vcf_script, vcf_in, fn_info_df, fn_header_info,fn_samples , output_vcf)\n",
    "print command"
   ]
  },
  {
   "cell_type": "markdown",
   "metadata": {},
   "source": [
    "# sort and bgzip them "
   ]
  },
  {
   "cell_type": "code",
   "execution_count": null,
   "metadata": {
    "collapsed": true
   },
   "outputs": [],
   "source": [
    "%%writefile sortbgzip_hipstr.sh\n",
    "vcf-sort hipstr_i2QTL_merged.filt.annot.472.vcf | bgzip -c > hipstr_i2QTL_merged.filt.annot.sorted.472.vcf.gz  \n",
    "vcf-sort hipstr_i2QTL_merged.filt.annot.477.vcf | bgzip -c > hipstr_i2QTL_merged.filt.annot.sorted.477.vcf.gz  \n",
    "vcf-sort  hipstr_iPSCORE.filt.annot.268.vcf | bgzip -c > hipstr_iPSCORE.filt.annot.sorted.268.vcf.gz  \n",
    "vcf-sort hipstr_iPSCORE.filt.annot.273.vcf | bgzip -c > hipstr_iPSCORE.filt.annot.sorted.273.vcf.gz  \n",
    "vcf-sort  hipstr_hispci.filt.annot.204.vcf  | bgzip -c > hipstr_hispci.filt.annot.sorted.204.vcf.gz\n",
    "vcf-sort hipstr_i2QTL_merged.filt.annot.maf1.ds.rna.415.vcf| bgzip -c > hipstr_i2QTL_merged.filt.annot.maf1.ds.rna.sorted.415.vcf.gz"
   ]
  },
  {
   "cell_type": "markdown",
   "metadata": {},
   "source": [
    "# Annotate on Dosages and Extract a Dosage VCF for QTL"
   ]
  },
  {
   "cell_type": "code",
   "execution_count": 19,
   "metadata": {
    "collapsed": true
   },
   "outputs": [],
   "source": [
    "adjusted_dosage_script = DJ.convert_ipynb_to_script('/frazer01/projects/hipsci/analysis/i2QTL-sv-analysis/notebooks/HipSTR_processing/hipstr_annotate_adjusted_dosage_vcf.ipynb')"
   ]
  },
  {
   "cell_type": "code",
   "execution_count": 17,
   "metadata": {
    "collapsed": true
   },
   "outputs": [],
   "source": [
    "out_dir = '/frazer01/projects/hipsci/analysis/i2QTL-sv-analysis/private_output/hipstr_final_vcf'\n",
    "fn_has_rna='/frazer01/projects/hipsci/analysis/i2QTL-sv-analysis/private_output/sample_info_combined/samples_i2QTL_rna.txt'\n",
    "vcf_file = '/frazer01/projects/hipsci/analysis/i2QTL-sv-analysis/private_output/hipstr_final_vcf/hipstr_i2QTL_merged.filt.annot.477.vcf'\n",
    "name_file_out = 'hipstr_i2QTL_merged.filt.annot.maf.dsf.477.vcf'\n",
    "command = 'python {} -vcf {} -o {} -s {} -fn_out {}'.format(adjusted_dosage_script, vcf_file, out_dir, fn_has_rna, name_file_out) "
   ]
  },
  {
   "cell_type": "code",
   "execution_count": 14,
   "metadata": {},
   "outputs": [
    {
     "name": "stdout",
     "output_type": "stream",
     "text": [
      "python /frazer01/projects/hipsci/analysis/i2QTL-sv-analysis/notebooks/HipSTR_processing/hipstr_annotate_adjusted_dosage_vcf.py -vcf /frazer01/projects/hipsci/analysis/i2QTL-sv-analysis/private_output/hipstr_final_vcf/hipstr_i2QTL_merged.filt.annot.477.vcf -o /frazer01/projects/hipsci/analysis/i2QTL-sv-analysis/private_output/hipstr_final_vcf -s /frazer01/projects/hipsci/analysis/i2QTL-sv-analysis/private_output/sample_info_combined/samples_i2QTL_rna.txt -fn_out hipstr_i2QTL_merged.filt.annot.maf.dsf.477.vcf\n"
     ]
    }
   ],
   "source": [
    "print command"
   ]
  },
  {
   "cell_type": "code",
   "execution_count": 20,
   "metadata": {
    "collapsed": true
   },
   "outputs": [],
   "source": [
    "filter_to_dosage_only_script = DJ.convert_ipynb_to_script('/frazer01/projects/hipsci/analysis/i2QTL-sv-analysis/notebooks/HipSTR_processing/hipstr_generate_dosage_only_vcf.ipynb')"
   ]
  },
  {
   "cell_type": "code",
   "execution_count": 21,
   "metadata": {},
   "outputs": [
    {
     "name": "stdout",
     "output_type": "stream",
     "text": [
      "python /frazer01/projects/hipsci/analysis/i2QTL-sv-analysis/notebooks/HipSTR_processing/hipstr_generate_dosage_only_vcf.py -vcf /frazer01/projects/hipsci/analysis/i2QTL-sv-analysis/private_output/hipstr_final_vcf/hipstr_i2QTL_merged.filt.annot.maf.dsf.477.vcf -o /frazer01/projects/hipsci/analysis/i2QTL-sv-analysis/private_output/hipstr_final_vcf -s /frazer01/projects/hipsci/analysis/i2QTL-sv-analysis/private_output/sample_info_combined/samples_i2QTL_rna.txt -fn_out /frazer01/projects/hipsci/analysis/i2QTL-sv-analysis/private_output/hipstr_final_vcf/hipstr_i2QTL_merged.filt.annot.maf1.ds.rna.415.vcf\n"
     ]
    }
   ],
   "source": [
    "out_dir = '/frazer01/projects/hipsci/analysis/i2QTL-sv-analysis/private_output/hipstr_final_vcf'\n",
    "\n",
    "fn_has_rna='/frazer01/projects/hipsci/analysis/i2QTL-sv-analysis/private_output/sample_info_combined/samples_i2QTL_rna.txt'\n",
    "vcf_file = '/frazer01/projects/hipsci/analysis/i2QTL-sv-analysis/private_output/hipstr_final_vcf/hipstr_i2QTL_merged.filt.annot.maf.dsf.477.vcf'\n",
    "name_file_out = '/frazer01/projects/hipsci/analysis/i2QTL-sv-analysis/private_output/hipstr_final_vcf/hipstr_i2QTL_merged.filt.annot.maf1.ds.rna.415.vcf'\n",
    "\n",
    "\n",
    "command = 'python {} -vcf {} -o {} -s {} -fn_out {}'.format(filter_to_dosage_only_script, vcf_file, out_dir, fn_has_rna, name_file_out) \n",
    "\n",
    "print command"
   ]
  },
  {
   "cell_type": "code",
   "execution_count": null,
   "metadata": {
    "collapsed": true
   },
   "outputs": [],
   "source": [
    "# sort and bgzip before combining with MELT/GS/LUMPY\n",
    "vcf-sort hipstr_i2QTL_merged.filt.annot.maf1.ds.rna.415.vcf | bgzip -c  > hipstr_i2QTL_merged.filt.annot.maf1.ds.rna.sorted.415.vcf.gz\n",
    "tabix -p vcf hipstr_i2QTL_merged.filt.annot.maf1.ds.rna.sorted.415.vcf.gz"
   ]
  }
 ],
 "metadata": {
  "kernelspec": {
   "display_name": "Python 2",
   "language": "python",
   "name": "python2"
  },
  "language_info": {
   "codemirror_mode": {
    "name": "ipython",
    "version": 2
   },
   "file_extension": ".py",
   "mimetype": "text/x-python",
   "name": "python",
   "nbconvert_exporter": "python",
   "pygments_lexer": "ipython2",
   "version": "2.7.15"
  }
 },
 "nbformat": 4,
 "nbformat_minor": 1
}
