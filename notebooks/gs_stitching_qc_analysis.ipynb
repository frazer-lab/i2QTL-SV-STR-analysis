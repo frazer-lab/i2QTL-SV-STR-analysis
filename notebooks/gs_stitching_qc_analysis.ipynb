{
 "cells": [
  {
   "cell_type": "code",
   "execution_count": 1,
   "metadata": {},
   "outputs": [],
   "source": [
    "%matplotlib inline\n",
    "from __future__ import division\n",
    "import numpy as np\n",
    "import os\n",
    "import sys\n",
    "import datetime\n",
    "from subprocess import call\n",
    "import subprocess\n",
    "import glob\n",
    "import djPyi2 as DJ\n",
    "from djPyi2 import Common as CM\n",
    "from djPyi2 import mpltools\n",
    "import pandas as pd\n",
    "import csv\n",
    "import seaborn as sns\n",
    "import matplotlib as mpl\n",
    "import matplotlib.pyplot as plt\n",
    "import matplotlib.ticker as ticker\n",
    "import copy \n",
    "pd.set_option('display.max_columns', 500)\n",
    "pd.set_option('display.max_rows', 100)\n",
    "from mpl_toolkits.axes_grid1 import  make_axes_locatable\n",
    "import datetime\n",
    "\n",
    "from scipy.stats import mode\n",
    "dy_name = 'gs_stitching_qc_analysis'\n",
    "\n",
    "private_out = os.path.join(DJ.root, 'private_output', dy_name)\n",
    "if not os.path.exists(private_out):\n",
    "    DJ.makedir(private_out)"
   ]
  },
  {
   "cell_type": "code",
   "execution_count": 2,
   "metadata": {
    "collapsed": true
   },
   "outputs": [],
   "source": [
    "import scipy.stats as stats"
   ]
  },
  {
   "cell_type": "code",
   "execution_count": 2,
   "metadata": {
    "collapsed": true
   },
   "outputs": [],
   "source": [
    "def compare_lists(l1, l2):\n",
    "    count = 0\n",
    "    for i1, i2 in zip(l1, l2):\n",
    "        if i1 != i2:\n",
    "            count +=1\n",
    "    return count"
   ]
  },
  {
   "cell_type": "code",
   "execution_count": 3,
   "metadata": {
    "collapsed": true
   },
   "outputs": [],
   "source": [
    "def calculate_absolute_mean_diff(a1, a2):\n",
    "    \"\"\"calculate the absolute mean difference of elements in 2 equal length arrays\"\"\"\n",
    "    diff = np.array(a1) - np.array(a2)\n",
    "    diff_abs = np.absolute(diff)\n",
    "    mean_diff = diff_abs.mean()\n",
    "    return mean_diff"
   ]
  },
  {
   "cell_type": "code",
   "execution_count": 4,
   "metadata": {
    "collapsed": true
   },
   "outputs": [],
   "source": [
    "def get_count_dict(l):\n",
    "    d = {}\n",
    "    for i in l:\n",
    "        d[i] = d.get(i, 0) +1\n",
    "    return d"
   ]
  },
  {
   "cell_type": "code",
   "execution_count": 79,
   "metadata": {},
   "outputs": [],
   "source": [
    "def compare_sites(ind1, ind2, cns_t, samples,samples_nmode1, samples_nmode2, cnmode1, cnmode2, samples_lq1, samples_lq2, subtract_lq = True):\n",
    "    \"\"\" calculate the pearson corr of sites in the intersection, calculate the number of differences among non-mode samples \"\"\"\n",
    "    data = []\n",
    "\n",
    "      \n",
    "    ids = [ind1, ind2]\n",
    "    ids_mod = [\"_\".join(i.split('_')[:-1]) for i in ids]\n",
    "    \n",
    "    \n",
    "    cns_1 = cns_t[ind1].to_dict()\n",
    "    cns_2 = cns_t[ind2].to_dict()\n",
    "    \n",
    "        # exclude LQ samps\n",
    "        \n",
    "    if subtract_lq:\n",
    "        samples_to_compare = set(samples_nmode1 + samples_nmode2)\n",
    "        samples_to_exclude = set(samples_lq1 + samples_lq2)\n",
    "    \n",
    "        samples_to_compare_nmode = list(samples_to_compare.difference(samples_to_exclude))\n",
    "        samples_to_compare_corr = list(set(samples).difference(samples_to_exclude))\n",
    "#         samples_to_compare_corr = samples\n",
    "    \n",
    "        \n",
    "    \n",
    "    else: \n",
    "        samples_to_compare_corr = samples\n",
    "        samples_nmode1 = [i for i in samples if cns_1[i] != cnmode1]\n",
    "        samples_nmode2 = [i for i in samples if cns_2[i] != cnmode2]\n",
    "        samples_to_compare_nmode = set(samples_nmode1 + samples_nmode2)\n",
    "        samples_to_exclude = []\n",
    "    \n",
    "    cns_nmode_1 = [int(cns_1[i]) for i in samples_to_compare_nmode]\n",
    "    cns_nmode_2 = [int(cns_2[i]) for i in samples_to_compare_nmode]\n",
    "\n",
    "\n",
    "    cns_corr_1 = [int(cns_1[i]) for i in samples_to_compare_corr]\n",
    "    cns_corr_2 = [int(cns_2[i]) for i in samples_to_compare_corr]\n",
    "    \n",
    "    allele_dist1 = get_count_dict(cns_corr_1)\n",
    "    allele_dist2 = get_count_dict(cns_corr_2)\n",
    "    \n",
    "    \n",
    "    \n",
    "    corr_coef = stats.pearsonr(cns_corr_1, cns_corr_2)[0]\n",
    "        \n",
    "        \n",
    "        \n",
    "        \n",
    "    nsamp = len(samples_to_compare_nmode)\n",
    "    nsamp_pass = len(samples_to_compare_corr)\n",
    "\n",
    "    num_diff = compare_lists(cns_nmode_1, cns_nmode_2)\n",
    "    alleles = set(cns_corr_1 + cns_corr_2)\n",
    "    \n",
    "    alleles1 = set(cns_corr_1)\n",
    "    num_alleles1 = len(alleles1)\n",
    "    alleles2 = set(cns_corr_2)\n",
    "    num_alleles2 = len(alleles2)\n",
    "\n",
    "    mean_diff_all = calculate_absolute_mean_diff(cns_corr_1, cns_corr_2)\n",
    "    mean_diff_nmode = calculate_absolute_mean_diff(cns_nmode_1, cns_nmode_2)\n",
    "    \n",
    "    exact_match = (cns_corr_1 == cns_corr_2)\n",
    "\n",
    "    \n",
    "    try:\n",
    "        perc_diff = num_diff/nsamp\n",
    "    except:\n",
    "        print nsamp, 'nsamp is zero'\n",
    "        perc_diff = 0\n",
    "\n",
    "    out = [ind1, ind2, corr_coef, num_diff, nsamp, \n",
    "           perc_diff, samples_to_compare_nmode, samples_to_compare_corr, \n",
    "           list(samples_to_exclude), nsamp_pass, exact_match, mean_diff_all, mean_diff_nmode, \n",
    "           alleles1, alleles2, num_alleles1, num_alleles2, allele_dist1, allele_dist2]\n",
    "\n",
    "    return out"
   ]
  },
  {
   "cell_type": "code",
   "execution_count": 70,
   "metadata": {
    "collapsed": true
   },
   "outputs": [],
   "source": [
    "def prep_info(df):\n",
    "    df = df.copy()\n",
    "    df = df.sort_values(['Chr', 'Start', \"End\"])\n",
    "    df = df[df.cnv_class!='Non_Bi']\n",
    "    return df\n",
    "\n",
    "def prep_cns(df, info):\n",
    "    df = df.copy()\n",
    "    df = df.reindex(info.index)\n",
    "    return df \n",
    "\n",
    "def split_id_to_coord(ID):\n",
    "    spl = ID.split('_')\n",
    "    chrom = spl[1]\n",
    "    start = int(spl[2])\n",
    "    end = int(spl[3])\n",
    "    return chrom, start, end\n",
    "\n",
    "def compute_dist(id1, id2):\n",
    "    chrom1, start1, end1 = split_id_to_coord(id1)\n",
    "    chrom2, start2, end2 = split_id_to_coord(id2)\n",
    "    dist = start2 - end1\n",
    "    return dist\n",
    "    \n",
    "\n",
    "def collect_data_adjacent_sites(info, cns_t, subtract_lq=True):\n",
    "    \n",
    "    data = []\n",
    "\n",
    "    for chrom, df in info.groupby('Chr'):\n",
    "        inds = df.index.tolist()\n",
    "        diff_mode_uuids = info.diff_mode_uuids.to_dict()\n",
    "        mode_cn_all = info.cn_mode.to_dict()\n",
    "        lq_uuids = info.lq_samps.to_dict()\n",
    "        cnv_classes = info.cnv_class.to_dict()\n",
    "\n",
    "\n",
    "        if chrom not in ['X', 'Y']:\n",
    "            max_range = len(inds)-1 \n",
    "            for i in range(0, max_range):\n",
    "                if i < max_range:\n",
    "\n",
    "                    ind1 = inds[i]\n",
    "                    ind2 = inds[i+1]\n",
    "                    pair_ind = '-'.join([ind1, ind2])\n",
    "\n",
    "                    distance_between = compute_dist(ind1, ind2)\n",
    "                    if distance_between < 0:\n",
    "                        absolute_dist = 0\n",
    "                    else:\n",
    "                        absolute_dist = distance_between\n",
    "\n",
    "                    cnv_class1 = cnv_classes[ind1]\n",
    "                    cnv_class2 = cnv_classes[ind2]\n",
    "\n",
    "                    diff_uuids1 = diff_mode_uuids[ind1]\n",
    "                    diff_uuids2 = diff_mode_uuids[ind2]\n",
    "                    mode_cn1 = mode_cn_all[ind1]\n",
    "                    mode_cn2 = mode_cn_all[ind2]\n",
    "                    lq_uuids1 = lq_uuids[ind1]\n",
    "                    lq_uuids2 = lq_uuids[ind2]\n",
    "                    pair = [ind1,ind2]\n",
    "                    \n",
    "                    num_diff1 = len(diff_uuids1)\n",
    "                    num_diff2 = len(diff_uuids2)\n",
    "\n",
    "                    comp = compare_sites(ind1, ind2, cns_t, samples_discovery, \n",
    "                                         diff_uuids1, diff_uuids2, mode_cn1, mode_cn2, \n",
    "                                         lq_uuids1, lq_uuids2, subtract_lq=subtract_lq)\n",
    "\n",
    "                    comp = comp + [pair, mode_cn1, mode_cn2, cnv_class1, cnv_class2, distance_between, \n",
    "                                   absolute_dist, pair_ind, num_diff1, num_diff2, diff_uuids1, diff_uuids2]\n",
    "                    data.append(comp)\n",
    "\n",
    "    df = pd.DataFrame(data, columns=['ID1', 'ID2', 'corr_coef',\n",
    "                                     'num_diff', 'num_non_mode', 'percent_non_mode_diff', \n",
    "                                     'samps_to_compare_nmode', 'samps_to_compare_corr',\n",
    "                                     'samps_to_exclude', 'num_pass', 'exact_cn_match', \n",
    "                                     'mean_cn_diff_all', 'mean_cn_diff_nmode','alleles1', 'alleles2', \n",
    "                                     'num_alleles1', 'num_alleles2','allele_dist1', 'allele_dist2','pair', \n",
    "                                     'mode_cn1', 'mode_cn2', 'cnv_class1', 'cnv_class2', \n",
    "                                     'distance_between', 'distance_between_mod', 'cat_pair', \n",
    "                                     'num_diff1', 'num_diff2', 'diff_uuids1', 'diff_uuids2'])\n",
    "    \n",
    "    df.index = df.cat_pair\n",
    "    return df"
   ]
  },
  {
   "cell_type": "code",
   "execution_count": 68,
   "metadata": {},
   "outputs": [],
   "source": [
    "def collect_data_cluster_sites(info, cns_t, samples):\n",
    "    \n",
    "    data = []\n",
    "    diff_mode_uuids = info.diff_mode_uuids.to_dict()\n",
    "    mode_cn_all = info.cn_mode.to_dict()\n",
    "    lq_uuids = info.lq_samps.to_dict()\n",
    "    cnv_classes = info.cnv_class.to_dict()    \n",
    "\n",
    "    for stitch_site, df in info.groupby('stitched_cnv_site_ID_mod'):\n",
    "        inds = df.index.tolist()\n",
    "#         stitch_site = stitch_site + '_Stitched'\n",
    "        to_compare_to = [i for i in inds if i != stitch_site]\n",
    "        if len(to_compare_to) == 0:\n",
    "            print inds\n",
    "        \n",
    "        for x in to_compare_to:\n",
    "            ind1 = stitch_site\n",
    "            ind2 = x\n",
    "            pair_ind = '-'.join([ind1, ind2])\n",
    "            distance_between = compute_dist(ind1, ind2)\n",
    "            \n",
    "            if distance_between < 0:\n",
    "                absolute_dist = 0\n",
    "            else:\n",
    "                absolute_dist = distance_between\n",
    "            \n",
    "            \n",
    "            \n",
    "            cnv_class1 = cnv_classes[ind1]\n",
    "            cnv_class2 = cnv_classes[ind2]\n",
    "\n",
    "            diff_uuids1 = diff_mode_uuids[ind1]\n",
    "            diff_uuids2 = diff_mode_uuids[ind2]\n",
    "            num_diff1 = len(diff_uuids1)\n",
    "            num_diff2 = len(diff_uuids2)\n",
    "            \n",
    "            mode_cn1 = mode_cn_all[ind1]\n",
    "            mode_cn2 = mode_cn_all[ind2]\n",
    "            lq_uuids1 = lq_uuids[ind1]\n",
    "            lq_uuids2 = lq_uuids[ind2]\n",
    "            pair = [ind1,ind2]\n",
    "            \n",
    "            comp = compare_sites(ind1, ind2, cns_t, samples, \n",
    "                                         diff_uuids1, diff_uuids2, mode_cn1, mode_cn2, \n",
    "                                         lq_uuids1, lq_uuids2)\n",
    "\n",
    "            comp = comp + [pair, mode_cn1, mode_cn2, cnv_class1, cnv_class2, distance_between, \n",
    "                           absolute_dist, pair_ind, stitch_site, num_diff1, num_diff2, to_compare_to, \n",
    "                           diff_uuids1, diff_uuids2]\n",
    "            data.append(comp)\n",
    "\n",
    "    \n",
    "    \n",
    "    df = pd.DataFrame(data, columns=['ID1', 'ID2', 'corr_coef',\n",
    "                                     'num_diff', 'num_non_mode', 'percent_non_mode_diff', \n",
    "                                     'samps_to_compare_nmode', 'samps_to_compare_corr',\n",
    "                                     'samps_to_exclude', 'num_pass', 'exact_cn_match', \n",
    "                                     'mean_cn_diff_all', 'mean_cn_diff_nmode','alleles1', 'alleles2', \n",
    "                                     'num_alleles1', 'num_alleles2','allele_dist1', 'allele_dist2', 'pair', \n",
    "                                     'mode_cn1', 'mode_cn2', 'cnv_class1', 'cnv_class2', \n",
    "                                     'distance_between', 'distance_between_mod', 'cat_pair', \n",
    "                                     'stitch_site', 'num_diff1', 'num_diff2', 'to_compare_to', \n",
    "                                     'diff_uuids1', 'diff_uuids2'])\n",
    "    \n",
    "    df.index = df.cat_pair\n",
    "    return df"
   ]
  },
  {
   "cell_type": "code",
   "execution_count": 69,
   "metadata": {
    "collapsed": true
   },
   "outputs": [],
   "source": [
    "def prep_stitch_info(df):\n",
    "    df = df.copy()\n",
    "    df = df[df.stitch_b==True]\n",
    "    df['cat_pair'] = df.cnv1 + '-' + df.cnv2\n",
    "    df.index =df.cat_pair\n",
    "    df['chrom'] = df.cnv1.apply(lambda x: x.split('_')[1])\n",
    "    df = df[~df.chrom.isin(['X', 'Y'])]\n",
    "    return df\n",
    "\n",
    "def prep_adj_sites_info(df, stitch_site_pairs_info):\n",
    "    df = df.copy()\n",
    "    \n",
    "    \n",
    "    inds = stitch_site_pairs_info[stitch_site_pairs_info.status_stitch == True].cat_pair.tolist()\n",
    "    df['stitched'] = False\n",
    "    df.loc[inds, 'stitched']= True\n",
    "\n",
    "    bins = [-1000000000000, 0, 5000, 10000, 50000, 100000000000]\n",
    "    labels = ['overlap-0bp', '0bp-5kb', '5kb-10kb', '10kb-50kb','50b+']\n",
    "    \n",
    "    \n",
    "    df['length_bins'] = pd.cut(df.distance_between, bins=bins, labels = labels) \n",
    "    df['length_bins_plot'] = df.length_bins.astype(str)\n",
    "    return df\n",
    "    \n",
    "\n",
    "def annotate_passing(df, thresh):\n",
    "    df = df.copy()\n",
    "    inds = df[(df.corr_coef > 0.9) & (df.percent_non_mode_diff <= 0.2) & (df.mean_cn_diff_all < 0.5) &\n",
    "              (df.mean_cn_diff_nmode < 0.5) & (df.distance_between_mod < thresh)].index.tolist()\n",
    "    \n",
    "\n",
    "    new_size = df.shape[0]\n",
    "    \n",
    "    \n",
    "    df['passing_criteria'] = False\n",
    "    df.loc[inds, 'passing_criteria'] = True\n",
    "    return df\n",
    "    \n",
    "\n",
    "def prep_adj_sites_plot(adj_sites_prestich, thresh = 5000):  \n",
    "    adj_sites_prestich = adj_sites_prestich.copy()\n",
    "    adj_sites_prestich['matching_mode'] = (adj_sites_prestich.mode_cn1 == adj_sites_prestich.mode_cn2)\n",
    "#     adj_sites_plot = adj_sites_prestich[(adj_sites_prestich.matching_mode == True) & \n",
    "#                                     (adj_sites_prestich.num_alleles1 > 1) & \n",
    "#                                         (adj_sites_prestich.num_alleles2 > 1)].copy()\n",
    "    adj_sites_prestich['log_dist'] = np.log10(adj_sites_prestich.distance_between_mod + 1)\n",
    "    adj_sites_prestich = adj_sites_prestich.pipe(annotate_passing, thresh)\n",
    "    return adj_sites_prestich\n",
    "\n",
    "    "
   ]
  },
  {
   "cell_type": "markdown",
   "metadata": {},
   "source": [
    "# Data import sites before stitching (after with duplicates marked)\n"
   ]
  },
  {
   "cell_type": "code",
   "execution_count": 108,
   "metadata": {
    "collapsed": true
   },
   "outputs": [],
   "source": [
    "out_dir = '/frazer01/projects/hipsci/analysis/i2QTL-sv-analysis/private_output/gs_processing_V4/i2QTL_combined'"
   ]
  },
  {
   "cell_type": "code",
   "execution_count": 14,
   "metadata": {},
   "outputs": [],
   "source": [
    "info = pd.read_pickle('/frazer01/projects/hipsci/analysis/i2QTL-sv-analysis/private_output/gs_processing_V4/i2QTL_combined/gs_info_filt_rmdup.pkl').pipe(prep_info)"
   ]
  },
  {
   "cell_type": "code",
   "execution_count": 18,
   "metadata": {
    "collapsed": true
   },
   "outputs": [],
   "source": [
    "cns = pd.read_pickle('/frazer01/projects/hipsci/analysis/i2QTL-sv-analysis/private_output/gs_processing_V4/i2QTL_combined/cns_all.pkl').pipe(prep_cns, info)\n",
    "cns.drop('old_index', axis =1, inplace=True)"
   ]
  },
  {
   "cell_type": "code",
   "execution_count": 19,
   "metadata": {},
   "outputs": [],
   "source": [
    "sample_info = pd.read_pickle('/frazer01/projects/hipsci/analysis/i2QTL-sv-analysis/private_output/sample_info_combined/sample_info.pkl')\n",
    "\n",
    "samples_discovery = sample_info[sample_info.CELL_TYPE != 'iPSC'].WGS_ID.tolist()\n",
    "\n",
    "cns_t = cns.T.copy()\n",
    "cns_t = cns_t.loc[samples_discovery]"
   ]
  },
  {
   "cell_type": "code",
   "execution_count": 80,
   "metadata": {},
   "outputs": [],
   "source": [
    "adj_sites_prestich = collect_data_adjacent_sites(info, cns_t, subtract_lq=True)\n",
    "\n",
    "adj_sites_plot_lq_correct = adj_sites_prestich.pipe(prep_adj_sites_plot, thresh=30000)\n",
    "\n",
    "passing_lq_correct = adj_sites_plot_lq_correct[adj_sites_plot_lq_correct.passing_criteria == True].index.tolist()"
   ]
  },
  {
   "cell_type": "code",
   "execution_count": 109,
   "metadata": {},
   "outputs": [
    {
     "name": "stdout",
     "output_type": "stream",
     "text": [
      "adjacent_sites_info_lq_correct = pd.read_pickle('/frazer01/projects/hipsci/analysis/i2QTL-sv-analysis/private_output/gs_processing_V4/i2QTL_combined/adjacent_sites_info_lq_correct.pkl')\n",
      "adjacent_sites_info_lq_correct = pd.read_csv('/frazer01/projects/hipsci/analysis/i2QTL-sv-analysis/private_output/gs_processing_V4/i2QTL_combined/adjacent_sites_info_lq_correct.tsv', sep='\\t')\n",
      "# all vars recorded: /frazer01/projects/hipsci/analysis/i2QTL-sv-analysis/private_output/gs_processing_V4/i2QTL_combined/load_saved_nb_variables.py\n",
      "# pickled vars recorded:/frazer01/projects/hipsci/analysis/i2QTL-sv-analysis/private_output/gs_processing_V4/i2QTL_combined/load_pickled_nb_variables.py\n"
     ]
    }
   ],
   "source": [
    "CM.save_dataframe('adjacent_sites_info_lq_correct', adj_sites_plot_lq_correct, out_dir)"
   ]
  },
  {
   "cell_type": "markdown",
   "metadata": {},
   "source": [
    "# Test Corr against Constituent Breakpoints"
   ]
  },
  {
   "cell_type": "markdown",
   "metadata": {},
   "source": [
    "# Distribution of percent non-mode diff"
   ]
  },
  {
   "cell_type": "markdown",
   "metadata": {},
   "source": [
    "# Correlation versus distance of adjacent sites"
   ]
  },
  {
   "cell_type": "code",
   "execution_count": 72,
   "metadata": {
    "collapsed": true
   },
   "outputs": [],
   "source": [
    "def plot_2d_hist_corr_logdist(adj_sites_plot):\n",
    "    with sns.axes_style('whitegrid'):\n",
    "        fig, ax = plt.subplots(1,1, figsize = (8,8))\n",
    "        ax1 = ax\n",
    "\n",
    "        h = ax1.hist2d(adj_sites_plot.log_dist, adj_sites_plot.corr_coef, cmap=plt.get_cmap('viridis'), bins=30, norm = mpl.colors.LogNorm())\n",
    "\n",
    "    #     make_plots_square(ax1)\n",
    "        p =  ax1.get_position()\n",
    "        rect = [p.x1+0.02, p.y0, 0.05, p.height]\n",
    "        cax1 = fig.add_subplot(111)\n",
    "        cax1.set_position(rect)\n",
    "\n",
    "        fig.colorbar(h[3], cax=cax1, orientation='vertical')\n",
    "\n",
    "        for a in [ax1]:\n",
    "              a.set(xlabel='Log10 Distance Between Adjacent CNVs', ylabel='Correlation Coefficient ({})'.format( r'$\\rho$'))\n",
    "\n",
    "        xticks_desired = [1, 100, 1000, 10000, 50000, 100000, 500000, 10000000]\n",
    "        xticks = [np.log10(i) for i in xticks_desired]\n",
    "        xtick_label = ['0bp/overlap', '100bp', '1kb', '10kb', '50kb', '100kb', '500kb', '1MB']\n",
    "\n",
    "\n",
    "\n",
    "        yticks_desired = [1, 10, 100, 1000]\n",
    "        yticks = [np.log10(i) for i in yticks_desired]\n",
    "    #     ytick_label = ['0bp/overlap', '100bp', '1kb', '10kb', '50kb', '100kb', '500kb', '1MB']\n",
    "\n",
    "        ax1.set_xticks(xticks)\n",
    "        ax1.set_xticklabels(xtick_label, rotation = 90)\n",
    "\n",
    "        ticks = cax1.get_yticklabels()\n",
    "        count = 0\n",
    "        ticklabels = []\n",
    "        for t in ticks:\n",
    "            s = t.get_text()\n",
    "            if s == '':\n",
    "                ticklabels.append(s)\n",
    "            else:\n",
    "                ticklabels.append(yticks_desired[count])\n",
    "                count +=1\n",
    "        cax1.set_yticklabels(ticklabels)\n",
    "\n",
    "\n",
    "    #     cax1.set_yticks(yticks_desired)\n",
    "    #     cax1.set_yticklabels(yticks_desired)\n",
    "        print cax1.get_ylim()\n",
    "    #     cax1.set_yticklabels([10,20, 30,40,'50+'])\n",
    "    #     cax2.set_yticklabels([10,20, 30,40,'50+']) \n",
    "    #     cax2.set_ylabel('No. Pairs of Sites')\n",
    "        cax1.set_ylabel('No. Pairs of Sites')"
   ]
  },
  {
   "cell_type": "code",
   "execution_count": 77,
   "metadata": {
    "collapsed": true
   },
   "outputs": [],
   "source": [
    "mpl.rcParams['axes.labelsize'] = 18\n",
    "mpl.rcParams['ytick.labelsize'] = 14\n",
    "mpl.rcParams['xtick.labelsize'] = 14"
   ]
  },
  {
   "cell_type": "code",
   "execution_count": 81,
   "metadata": {},
   "outputs": [
    {
     "name": "stdout",
     "output_type": "stream",
     "text": [
      "(0.0, 1.0)\n"
     ]
    },
    {
     "data": {
      "image/png": "[encoded data removed]",
      "text/plain": [
       "<Figure size 800x800 with 2 Axes>"
      ]
     },
     "metadata": {},
     "output_type": "display_data"
    }
   ],
   "source": [
    "plot_2d_hist_corr_logdist(adj_sites_plot_lq_correct[adj_sites_plot_lq_correct.corr_coef.isnull() == False])"
   ]
  },
  {
   "cell_type": "markdown",
   "metadata": {},
   "source": [
    "# Number/Percent passing threshold versus distance threshold"
   ]
  },
  {
   "cell_type": "code",
   "execution_count": 82,
   "metadata": {
    "collapsed": true
   },
   "outputs": [],
   "source": [
    "def percent_and_num_pass_dist_thresh(df, dist = 5000):\n",
    "    df = df.copy()\n",
    "    original_size = df.shape[0] \n",
    "    df = df[df.distance_between_mod < dist]\n",
    "    size_below_dist = df.shape[0]\n",
    "    \n",
    "    df = df[(df.corr_coef > 0.9) & (df.percent_non_mode_diff <= 0.2) & (df.mean_cn_diff_all < 0.5) & (df.mean_cn_diff_nmode < 0.5)]\n",
    "    new_size = df.shape[0]\n",
    "    \n",
    "    percent_of_sites_below_dist = (size_below_dist/original_size) * 100\n",
    "    percent_passing = (new_size/size_below_dist) * 100\n",
    "    \n",
    "    \n",
    "    return original_size, size_below_dist, new_size, percent_of_sites_below_dist, percent_passing"
   ]
  },
  {
   "cell_type": "code",
   "execution_count": 83,
   "metadata": {
    "collapsed": true
   },
   "outputs": [],
   "source": [
    "def gather_threshold_info(adj_sites):\n",
    "    thresholds = [1, 5000, 10000, 20000, 30000, 40000, 100000, 500000]\n",
    "    data = []\n",
    "    for thresh in thresholds:\n",
    "        original_size, size_below_dist, new_size, percent_of_sites_below_dist, percent_passing= adj_sites.pipe(percent_and_num_pass_dist_thresh, dist=thresh)\n",
    "\n",
    "        data.append([thresh, original_size, size_below_dist, new_size, \n",
    "                     percent_of_sites_below_dist, percent_passing])\n",
    "\n",
    "    df = pd.DataFrame(data, columns=['threshold', 'total_pairs', 'num_pairs_below_dist', 'num_pairs_passing', 'percent_below_dist', 'percent_passing'])\n",
    "\n",
    "    df['log_threshold'] = np.log10(df.threshold)\n",
    "    return df"
   ]
  },
  {
   "cell_type": "code",
   "execution_count": 84,
   "metadata": {
    "collapsed": true
   },
   "outputs": [],
   "source": [
    "def plot_perc_passing_vs_num_passing(df):\n",
    "    \n",
    "\n",
    "    with sns.axes_style('whitegrid'):\n",
    "        fig, ax = plt.subplots(1,1, figsize = (8,5))\n",
    "\n",
    "        ax.scatter(df.num_pairs_passing, df.percent_passing, s= 60)\n",
    "    #     ax.set_xticks(df.tolist())\n",
    "    #     ax.set_xticklabels(df.threshold.tolist(), rotation = 90)\n",
    "\n",
    "        ax.set(xlabel='No. pairs of sites passing stitching requirements', ylabel='Percent Passing Stiching Requirements')\n",
    "\n",
    "        threshes = df.threshold.tolist()\n",
    "        Y_coord = df.percent_passing.tolist()\n",
    "        X_coord = df.num_pairs_passing.tolist()\n",
    "        threshold_text = ['overlap', '5kb', '10kb', '20kb', '30kb','40kb', '100kb', '500kb']\n",
    "\n",
    "        colors = ['black', 'black', 'black', 'black', 'green', 'black', 'black', 'black']\n",
    "        fontweights = ['regular', 'regular', 'regular', 'regular', 'extra bold', 'regular', 'regular', 'regular']\n",
    "        for t, y, text, x, c, w in zip(threshes, Y_coord, threshold_text, X_coord, colors, fontweights):\n",
    "\n",
    "            ax.annotate(text, xy=(x+20, y), fontsize=12, horizontalalignment = 'left', verticalalignment='center', color=c, fontweight= w)\n",
    "        ax.set_ylim(0,75)\n",
    "        return ax\n"
   ]
  },
  {
   "cell_type": "code",
   "execution_count": 85,
   "metadata": {
    "collapsed": true
   },
   "outputs": [],
   "source": [
    "threshold_comp_lq_correct = gather_threshold_info(adj_sites_plot_lq_correct)"
   ]
  },
  {
   "cell_type": "code",
   "execution_count": 86,
   "metadata": {
    "collapsed": true
   },
   "outputs": [],
   "source": [
    "thresholds = [1, 5000, 10000, 20000, 30000, 40000, 100000, 500000]\n",
    "threshold_text = ['overlap', '5kb', '10kb', '20kb', '30kb','40kb', '100kb', '500kb']"
   ]
  },
  {
   "cell_type": "code",
   "execution_count": null,
   "metadata": {
    "collapsed": true
   },
   "outputs": [],
   "source": [
    "# ax = plot_perc_passing_vs_num_passing(threshold_comp_lq_correct)"
   ]
  },
  {
   "cell_type": "code",
   "execution_count": 87,
   "metadata": {},
   "outputs": [
    {
     "data": {
      "image/png": "[encoded data removed]",
      "text/plain": [
       "<Figure size 800x500 with 1 Axes>"
      ]
     },
     "metadata": {},
     "output_type": "display_data"
    }
   ],
   "source": [
    "ax = plot_perc_passing_vs_num_passing(threshold_comp_lq_correct)"
   ]
  },
  {
   "cell_type": "code",
   "execution_count": 111,
   "metadata": {},
   "outputs": [
    {
     "name": "stdout",
     "output_type": "stream",
     "text": [
      "threshold_comp_stitch_lq_correct = pd.read_pickle('/frazer01/projects/hipsci/analysis/i2QTL-sv-analysis/private_output/gs_processing_V4/i2QTL_combined/threshold_comp_stitch_lq_correct.pkl')\n",
      "threshold_comp_stitch_lq_correct = pd.read_csv('/frazer01/projects/hipsci/analysis/i2QTL-sv-analysis/private_output/gs_processing_V4/i2QTL_combined/threshold_comp_stitch_lq_correct.tsv', sep='\\t')\n",
      "# all vars recorded: /frazer01/projects/hipsci/analysis/i2QTL-sv-analysis/private_output/gs_processing_V4/i2QTL_combined/load_saved_nb_variables.py\n",
      "# pickled vars recorded:/frazer01/projects/hipsci/analysis/i2QTL-sv-analysis/private_output/gs_processing_V4/i2QTL_combined/load_pickled_nb_variables.py\n"
     ]
    }
   ],
   "source": [
    "CM.save_dataframe('threshold_comp_stitch_lq_correct', threshold_comp_lq_correct, out_dir)"
   ]
  },
  {
   "cell_type": "markdown",
   "metadata": {},
   "source": [
    "# Data import ALL sites including stitching"
   ]
  },
  {
   "cell_type": "code",
   "execution_count": 88,
   "metadata": {},
   "outputs": [],
   "source": [
    "info_all =  pd.read_pickle('/frazer01/projects/hipsci/analysis/i2QTL-sv-analysis/private_output/gs_processing_V4/i2QTL_combined/gs_info_stitch_annot_qual.pkl')\n",
    "\n",
    "info_all.stitched_cnv_site_ID_mod = info_all.stitched_cnv_site_ID_mod.fillna(False)\n",
    "\n",
    "info_all.stitch_breakpoint.value_counts()\n",
    "\n",
    "cns_all = pd.read_pickle('/frazer01/projects/hipsci/analysis/i2QTL-sv-analysis/private_output/gs_processing_V4/i2QTL_combined/cns_all_with_stitch.pkl')\n",
    "\n",
    "sample_info = pd.read_pickle('/frazer01/projects/hipsci/analysis/i2QTL-sv-analysis/private_output/sample_info_combined/sample_info.pkl')\n",
    "\n",
    "samples_discovery = sample_info[sample_info.CELL_TYPE != 'iPSC'].WGS_ID.tolist()\n",
    "cns_t = cns_all.T.copy()\n",
    "cns_t = cns_t.loc[samples_discovery]"
   ]
  },
  {
   "cell_type": "markdown",
   "metadata": {},
   "source": [
    "# Collect data comparing newly genotyped stitch breakpoints to the constituent breakpoints, look at the correlation of copy numbers called on the new site. \n",
    "## If stitch breakpoints no longer correlate with their constituent sites, there is variability in coverage between the breakpoints that were stitched.  We will not use these uncorrelated breakpoints and will \"unstitch\" them "
   ]
  },
  {
   "cell_type": "code",
   "execution_count": 89,
   "metadata": {},
   "outputs": [],
   "source": [
    "info_stitch = info_all[(info_all.stitched_cnv_site_ID != False)].copy()\n",
    "\n",
    "stitching_cols = 'stitch_cluster_ID\tstitch_cluster\tstitch_breakpoint\tstitch_constituent\tstitched_cnv_site_ID stitch_site_already_gt stitched_cnv_site_ID_mod'.split()"
   ]
  },
  {
   "cell_type": "code",
   "execution_count": 90,
   "metadata": {},
   "outputs": [],
   "source": [
    "cluster_sites = collect_data_cluster_sites(info_stitch, cns_t, samples_discovery)"
   ]
  },
  {
   "cell_type": "code",
   "execution_count": 91,
   "metadata": {},
   "outputs": [],
   "source": [
    "inds = info_all[(info_all.stitch_breakpoint==True) & (info_all.stitch_site_already_gt == True)].index.tolist()\n",
    "\n",
    "cluster_filt = cluster_sites[~cluster_sites.ID1.isin(inds)]\n",
    "cluster_agt = cluster_sites[cluster_sites.ID1.isin(inds)]"
   ]
  },
  {
   "cell_type": "code",
   "execution_count": 92,
   "metadata": {},
   "outputs": [],
   "source": [
    "clust_newbp_plot = cluster_filt.groupby('stitch_site').corr_coef.mean().to_frame()\n",
    "\n",
    "clust_agt_plot= cluster_agt.groupby('stitch_site').corr_coef.mean().to_frame()"
   ]
  },
  {
   "cell_type": "code",
   "execution_count": 93,
   "metadata": {
    "collapsed": true
   },
   "outputs": [],
   "source": [
    "out_dir = '/frazer01/projects/hipsci/analysis/i2QTL-sv-analysis/private_output/gs_processing_V4/i2QTL_combined'"
   ]
  },
  {
   "cell_type": "code",
   "execution_count": 106,
   "metadata": {
    "collapsed": true
   },
   "outputs": [],
   "source": [
    "# this data will be used to \"unstitch\" some sites"
   ]
  },
  {
   "cell_type": "code",
   "execution_count": 24,
   "metadata": {},
   "outputs": [
    {
     "name": "stdout",
     "output_type": "stream",
     "text": [
      "stitch_sites_corr_with_const = pd.read_pickle('/frazer01/projects/hipsci/analysis/i2QTL-sv-analysis/private_output/gs_processing_V4/i2QTL_combined/stitch_sites_corr_with_const.pkl')\n",
      "stitch_sites_corr_with_const = pd.read_csv('/frazer01/projects/hipsci/analysis/i2QTL-sv-analysis/private_output/gs_processing_V4/i2QTL_combined/stitch_sites_corr_with_const.tsv', sep='\\t')\n",
      "# all vars recorded: /frazer01/projects/hipsci/analysis/i2QTL-sv-analysis/private_output/gs_processing_V4/i2QTL_combined/load_saved_nb_variables.py\n",
      "# pickled vars recorded:/frazer01/projects/hipsci/analysis/i2QTL-sv-analysis/private_output/gs_processing_V4/i2QTL_combined/load_pickled_nb_variables.py\n"
     ]
    }
   ],
   "source": [
    "CM.save_dataframe('stitch_sites_corr_with_const', cluster_sites, out_dir)"
   ]
  },
  {
   "cell_type": "code",
   "execution_count": 107,
   "metadata": {},
   "outputs": [
    {
     "name": "stdout",
     "output_type": "stream",
     "text": [
      "new_bp_mean_corr_with_const = pd.read_pickle('/frazer01/projects/hipsci/analysis/i2QTL-sv-analysis/private_output/gs_processing_V4/i2QTL_combined/new_bp_mean_corr_with_const.pkl')\n",
      "new_bp_mean_corr_with_const = pd.read_csv('/frazer01/projects/hipsci/analysis/i2QTL-sv-analysis/private_output/gs_processing_V4/i2QTL_combined/new_bp_mean_corr_with_const.tsv', sep='\\t')\n",
      "# all vars recorded: /frazer01/projects/hipsci/analysis/i2QTL-sv-analysis/private_output/gs_processing_V4/i2QTL_combined/load_saved_nb_variables.py\n",
      "# pickled vars recorded:/frazer01/projects/hipsci/analysis/i2QTL-sv-analysis/private_output/gs_processing_V4/i2QTL_combined/load_pickled_nb_variables.py\n"
     ]
    }
   ],
   "source": [
    "CM.save_dataframe('new_bp_mean_corr_with_const', clust_newbp_plot, out_dir)"
   ]
  },
  {
   "cell_type": "code",
   "execution_count": 99,
   "metadata": {},
   "outputs": [],
   "source": [
    "new_bp_fail = clust_newbp_plot[clust_newbp_plot.corr_coef < 0.9].shape[0]\n",
    "\n",
    "new_bp_pass = clust_newbp_plot[clust_newbp_plot.corr_coef > 0.9].shape[0]"
   ]
  },
  {
   "cell_type": "code",
   "execution_count": 98,
   "metadata": {},
   "outputs": [
    {
     "data": {
      "text/plain": [
       "<matplotlib.axes._subplots.AxesSubplot at 0x7fabe7c95910>"
      ]
     },
     "execution_count": 98,
     "metadata": {},
     "output_type": "execute_result"
    },
    {
     "data": {
      "image/png": "[encoded data removed]",
      "text/plain": [
       "<Figure size 600x400 with 1 Axes>"
      ]
     },
     "metadata": {},
     "output_type": "display_data"
    }
   ],
   "source": [
    "clust_newbp_plot[clust_newbp_plot.corr_coef < 0.9].corr_coef.hist()"
   ]
  },
  {
   "cell_type": "code",
   "execution_count": 105,
   "metadata": {},
   "outputs": [
    {
     "data": {
      "image/png": "[encoded data removed]",
      "text/plain": [
       "<Figure size 800x500 with 1 Axes>"
      ]
     },
     "metadata": {},
     "output_type": "display_data"
    }
   ],
   "source": [
    "with sns.axes_style('whitegrid'):\n",
    "    \n",
    "    fig, ax = plt.subplots(1,1, figsize = (8,5))\n",
    "    sns.violinplot(y = clust_newbp_plot.corr_coef, cut= 0)\n",
    "    ax.set_ylabel('Mean Correlation ({}) of Stitched Breakpoint with \\n Consitituent Breakpoints'.format( r'$\\rho$'))\n",
    "    ax.set_xlabel('')\n",
    "    ax.axhline(y=0.9, linestyle='--', c='black')\n",
    "#     ax.set_xticklabels('')\n",
    "    ax.text(-.5, 0.5, '{} Sites'.format(new_bp_fail), fontsize =20)\n",
    "    \n",
    "    ax.text(-.5, 0.92, '{} Sites'.format(new_bp_pass), fontsize =20)"
   ]
  },
  {
   "cell_type": "markdown",
   "metadata": {
    "collapsed": true
   },
   "source": [
    "The majority of stitch breakpoints correlate well with their constituents, indicating that the stitching operation was likely to be appropriate. "
   ]
  }
 ],
 "metadata": {
  "kernelspec": {
   "display_name": "Python 2",
   "language": "python",
   "name": "python2"
  },
  "language_info": {
   "codemirror_mode": {
    "name": "ipython",
    "version": 2
   },
   "file_extension": ".py",
   "mimetype": "text/x-python",
   "name": "python",
   "nbconvert_exporter": "python",
   "pygments_lexer": "ipython2",
   "version": "2.7.15"
  }
 },
 "nbformat": 4,
 "nbformat_minor": 1
}
