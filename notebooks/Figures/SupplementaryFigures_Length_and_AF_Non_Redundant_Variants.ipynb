{
 "cells": [
  {
   "cell_type": "code",
   "execution_count": 2,
   "metadata": {},
   "outputs": [],
   "source": [
    "%matplotlib inline\n",
    "from __future__ import division\n",
    "import numpy as np\n",
    "\n",
    "import os\n",
    "import sys\n",
    "import datetime\n",
    "from subprocess import call\n",
    "import subprocess\n",
    "import glob\n",
    "import djPyi2 as DJ\n",
    "import pandas as pd\n",
    "pd.options.mode.chained_assignment = None\n",
    "import csv\n",
    "import seaborn as sns\n",
    "import matplotlib as mpl\n",
    "import matplotlib.pyplot as plt\n",
    "import copy \n",
    "import pybedtools as pbt\n",
    "import ciepy\n",
    "import cardipspy as cpy\n",
    "import networkx as nx\n",
    "from djPyi2 import mpltools\n",
    "from mpl_toolkits.axes_grid1 import  make_axes_locatable\n",
    "import matplotlib.patches as patches\n",
    "from djPyi2 import Common as CM\n",
    "import matplotlib.image as mpimg\n",
    "\n",
    "import numpy as np\n",
    "import matplotlib.cm as cm\n",
    "from scipy.ndimage.filters import gaussian_filter\n",
    "import matplotlib.patches as mpatch\n",
    "import matplotlib.transforms as mtransforms"
   ]
  },
  {
   "cell_type": "code",
   "execution_count": 3,
   "metadata": {},
   "outputs": [],
   "source": [
    "from matplotlib_venn import venn2, venn2_circles, venn3, venn3_circles"
   ]
  },
  {
   "cell_type": "code",
   "execution_count": 4,
   "metadata": {},
   "outputs": [],
   "source": [
    "from matplotlib.ticker import FuncFormatter\n",
    "import matplotlib.ticker as mtick"
   ]
  },
  {
   "cell_type": "code",
   "execution_count": 5,
   "metadata": {},
   "outputs": [],
   "source": [
    "dy_name = 'Figures'\n",
    "\n",
    "private_out = os.path.join(DJ.root, 'private_output', dy_name)\n",
    "if not os.path.exists(private_out):\n",
    "    cpy.makedir(private_out)"
   ]
  },
  {
   "cell_type": "code",
   "execution_count": 6,
   "metadata": {},
   "outputs": [],
   "source": [
    "def fix_svlen(info_all):\n",
    "    \n",
    "    info_all = info_all.copy()\n",
    "    info_all['SVLEN_MOD'] = info_all.SVLEN\n",
    "    inds = info_all[info_all.SVTYPE_NR == 'STR'].index.tolist()\n",
    "    info_all.loc[inds, 'SVLEN_MOD'] = info_all.loc[inds, 'MAX_ALLELE_CHANGE']\n",
    "    info_all['log10_SVLEN_MOD'] = info_all['SVLEN_MOD'] \n",
    "    inds = info_all[(info_all.is_SVLEN == True) | (info_all.SVTYPE == 'INV')].index.tolist()\n",
    "    info_all.loc[inds, 'log10_SVLEN_MOD'] = np.log10(info_all.loc[inds, 'SVLEN_MOD'].astype(float))\n",
    "    return info_all"
   ]
  },
  {
   "cell_type": "code",
   "execution_count": 11,
   "metadata": {},
   "outputs": [
    {
     "name": "stdout",
     "output_type": "stream",
     "text": [
      "info_pass_final_nr_per_caller = pd.read_pickle('/frazer01/projects/hipsci/analysis/i2QTL-sv-analysis/private_output/Figures/info_pass_final_nr_per_caller.pkl')\n",
      "info_pass_final_nr_per_caller = pd.read_csv('/frazer01/projects/hipsci/analysis/i2QTL-sv-analysis/private_output/Figures/info_pass_final_nr_per_caller.tsv', sep='\\t')\n",
      "# all vars recorded: /frazer01/projects/hipsci/analysis/i2QTL-sv-analysis/private_output/Figures/load_saved_nb_variables.py\n",
      "# pickled vars recorded:/frazer01/projects/hipsci/analysis/i2QTL-sv-analysis/private_output/Figures/load_pickled_nb_variables.py\n"
     ]
    }
   ],
   "source": [
    "info_pass_final = pd.read_pickle('/frazer01/projects/hipsci/analysis/i2QTL-sv-analysis/private_output/Figures/info_pass_final_nr_per_caller.pkl')\n",
    "info_nr = info_pass_final[info_pass_final.ID == info_pass_final.NR_ID]"
   ]
  },
  {
   "cell_type": "code",
   "execution_count": 343,
   "metadata": {},
   "outputs": [],
   "source": [
    "order_var = ['DEL', 'DUP', 'mCNV', 'INV', 'rMEI', 'ALU', 'LINE1', 'SVA', 'STR']\n",
    "\n",
    "order_vars_all = ['DEL', 'DUP', 'mCNV', 'INV', 'BND','rMEI', 'ALU', 'LINE1', 'SVA', 'STR', 'INDEL DEL', \n",
    "              'INDEL INS', 'SNV']\n",
    "\n",
    "order_sv_str = order_vars_all[:-3]"
   ]
  },
  {
   "cell_type": "markdown",
   "metadata": {},
   "source": [
    "# Palettes"
   ]
  },
  {
   "cell_type": "code",
   "execution_count": 28,
   "metadata": {},
   "outputs": [],
   "source": [
    "color_pal_svtypes_all = pd.read_pickle('/frazer01/projects/hipsci/analysis/i2QTL-sv-analysis/private_output/Figures/color_pal_svtypes_all.pkl').to_dict()"
   ]
  },
  {
   "cell_type": "code",
   "execution_count": 65,
   "metadata": {},
   "outputs": [],
   "source": [
    "pallete_variant_callers = pd.read_pickle('/frazer01/projects/hipsci/analysis/i2QTL-sv-analysis/private_output/Figures/pallete_variant_callers.pkl').to_dict()"
   ]
  },
  {
   "cell_type": "markdown",
   "metadata": {},
   "source": [
    "# Figure"
   ]
  },
  {
   "cell_type": "markdown",
   "metadata": {},
   "source": [
    "# Supplementary Figures Length / Allele Frequency"
   ]
  },
  {
   "cell_type": "code",
   "execution_count": 53,
   "metadata": {},
   "outputs": [],
   "source": [
    "mpl.gridspec.rcParams['legend.handletextpad'] = 0.3\n",
    "mpl.gridspec.rcParams['legend.columnspacing'] = 0.5\n",
    "mpl.gridspec.rcParams['legend.labelspacing'] = 0.5\n",
    "mpl.gridspec.rcParams['axes.labelpad'] = 2\n",
    "mpl.gridspec.rcParams['axes.titlesize'] = 7\n",
    "mpl.gridspec.rcParams['axes.labelsize'] = 7\n",
    "mpl.gridspec.rcParams['ytick.labelsize'] = 6\n",
    "mpl.gridspec.rcParams['xtick.labelsize'] = 6\n",
    "mpl.gridspec.rcParams['axes.labelweight'] = 'bold'"
   ]
  },
  {
   "cell_type": "code",
   "execution_count": 726,
   "metadata": {},
   "outputs": [],
   "source": [
    "order_callers = [['GS', 'GS_LCNV', 'SS'], ['GS', 'GS_LCNV', 'SS'], ['GS', 'GS_LCNV'], \n",
    "                 ['SS'], ['MELT'], ['MELT'], ['MELT'], ['HipSTR']]\n",
    "order_cnvs = ['DEL','DUP', 'mCNV']\n",
    "order_vc_leg = ['SS', 'GS', 'GS_LCNV', 'MELT', 'HipSTR']"
   ]
  },
  {
   "cell_type": "code",
   "execution_count": 570,
   "metadata": {},
   "outputs": [],
   "source": [
    "def fix_log_to_scalar_formatting(ax, axis = 'y'):\n",
    "    \n",
    "    formatter = mpl.ticker.ScalarFormatter()\n",
    "    \n",
    "    if axis in ['y', 'both']:\n",
    "        \n",
    "        ax.get_yaxis().set_major_formatter(formatter)\n",
    "        ax.yaxis.get_major_formatter().set_scientific(False)\n",
    "        ax.yaxis.get_minor_ticks()\n",
    "        #             a.yaxis.get_major_formatter().set_useOffset(False)\n",
    "        ax.get_yaxis().set_minor_formatter(formatter)\n",
    "        ax.yaxis.get_minor_formatter().set_scientific(False)\n",
    "    \n",
    "    if axis in ['x', 'both']:\n",
    "        ax.get_xaxis().set_major_formatter(formatter)\n",
    "        ax.xaxis.get_major_formatter().set_scientific(False)\n",
    "        ax.xaxis.get_minor_ticks()\n",
    "        ax.get_xaxis().set_minor_formatter(formatter)\n",
    "        ax.xaxis.get_minor_formatter().set_scientific(False)\n",
    "    \n",
    "    plt.sca(ax)\n",
    "    plt.minorticks_off()"
   ]
  },
  {
   "cell_type": "code",
   "execution_count": 587,
   "metadata": {},
   "outputs": [],
   "source": [
    "def format_easy_read_log(x, log10 = False, rounding = 1, ints = False):\n",
    "    \"\"\" input list of tick locations, output formatted ticks \n",
    "    with bp,kbpb, MB annotations - log: if the ticks\n",
    "    are log scaled- what base is the log scale \n",
    "    example: log=10 for log base 10\"\"\"\n",
    "    if log10:\n",
    "        input_ticks = [(10**i) for i in x]\n",
    "    else:\n",
    "        input_ticks = x    \n",
    "    out = []\n",
    "    for t in input_ticks: \n",
    "        if t < 1000:\n",
    "            if not ints:\n",
    "                f = copy.deepcopy(t)\n",
    "            else:\n",
    "                f = int(t)\n",
    "        \n",
    "        elif t > 100000:\n",
    "            if not ints:\n",
    "                f = \"{}M\".format(round((t/1000000), rounding))\n",
    "            else:\n",
    "                f = \"{}M\".format(int(round((t/1000000), rounding)))\n",
    "            \n",
    "        elif t >= 1000:\n",
    "            if not ints:\n",
    "                f = \"{}K\".format(round((t/1000), rounding))\n",
    "            else:\n",
    "                 f = \"{}K\".format(int(round((t/1000), rounding)))\n",
    "            \n",
    "        else:\n",
    "            return 'missed case'\n",
    "        out.append(f)\n",
    "    \n",
    "    return out\n"
   ]
  },
  {
   "cell_type": "code",
   "execution_count": 624,
   "metadata": {},
   "outputs": [],
   "source": [
    "mpl.rcParams['axes.autolimit_mode'] = 'round_numbers'\n",
    "mpl.rcParams['axes.xmargin'] = 0\n",
    "mpl.rcParams['axes.ymargin'] = 0"
   ]
  },
  {
   "cell_type": "code",
   "execution_count": 634,
   "metadata": {},
   "outputs": [
    {
     "data": {
      "image/png": "[encoded data removed]",
      "text/plain": [
       "<Figure size 504x504 with 9 Axes>"
      ]
     },
     "metadata": {},
     "output_type": "display_data"
    }
   ],
   "source": [
    "with sns.axes_style('whitegrid'):\n",
    "\n",
    "    fig, axes = plt.subplots(3,3, figsize = (7,7), gridspec_kw={'wspace' : 0.5, 'hspace' :0.5})\n",
    "    # gs = mpl.gridspec.GridSpec(4, 4, \n",
    "    #                            figure =fig,\n",
    "    #                            width_ratios=[1, 1], height_ratios = [0.8, 1, 0.8, 0.8], wspace = 0.5, hspace=0)\n",
    "\n",
    "    count = 0\n",
    "    af = axes.flat\n",
    "\n",
    "    # af[0].get_shared_y_axes(af[0], af[2])\n",
    "\n",
    "    bins = np.arange(0,8, 0.2)\n",
    "    for ind, svt in enumerate(order_sv_str_len):\n",
    "        ax = af[ind]\n",
    "\n",
    "        tdf = info_nr[(info_nr.SVTYPE_all == svt) & ((info_nr.is_SVLEN) | (info_nr.SVTYPE_all=='INV'))]\n",
    "        ax.hist(tdf.log10_SVLEN_MOD.astype(float), bins = bins, histtype = 'step', \n",
    "                 color = color_pal_svtypes_all[svt], linewidth = 2)\n",
    "\n",
    "        xlab = [10**i for i in np.arange(0,8)]\n",
    "        xticks = [np.log10(i) for i in xlab]\n",
    "        xlab_fmt = mpltools.format_base_pair_scale(xlab, mb_round=1)\n",
    "\n",
    "        ax.set_xticks(xticks)\n",
    "\n",
    "        ax.set_xticklabels(xlab_fmt)\n",
    "        ax.tick_params(axis = 'x', labelrotation = 45)\n",
    "\n",
    "        ylab = [10**i for i in np.arange(0,4)]\n",
    "        yticks = [np.log10(i) for i in xlab]\n",
    "\n",
    "\n",
    "        ax.text(0.9,0.9, svt, fontsize = 9, transform = ax.transAxes,\n",
    "                    horizontalalignment='right',  verticalalignment='center', weight = 'bold')\n",
    "        ax.set_yticks(yticks)\n",
    "\n",
    "        ax.set_yscale('log')\n",
    "\n",
    "        fix_log_to_scalar_formatting(ax)\n",
    "\n",
    "    lim1 = af[0].get_ylim()\n",
    "\n",
    "    for i in np.arange(1,3):\n",
    "        ax = af[i]\n",
    "        ax.set_ylim(lim1)\n",
    "\n",
    "    af[3].set_ylim(af[6].get_ylim())\n",
    "\n",
    "\n",
    "    for i in [5,6]:\n",
    "        ax = af[i]\n",
    "        ax.set_ylim(lim1)\n",
    "\n",
    "    for ind, svt in enumerate(order_sv_str_len):\n",
    "        ax = af[ind]\n",
    "        ticks = ax.get_yticks()\n",
    "        yticklabs = format_easy_read_log(ticks)\n",
    "        ax.set_yticklabels(yticklabs)\n",
    "        ax.set_xlabel('Length')\n",
    "        ax.set_ylabel('No. Sites')\n",
    "fig.savefig(os.path.join(private_out, 'SupFig_Length_Dist_NR_Variants'), dpi=500, bbox_inches='tight') \n",
    "\n",
    "\n"
   ]
  },
  {
   "cell_type": "code",
   "execution_count": 615,
   "metadata": {},
   "outputs": [],
   "source": [
    "mpl.rcParams['axes.autolimit_mode'] = 'round_numbers'\n",
    "mpl.rcParams['axes.xmargin'] = 0\n",
    "mpl.rcParams['axes.ymargin'] = 0"
   ]
  },
  {
   "cell_type": "code",
   "execution_count": 633,
   "metadata": {},
   "outputs": [
    {
     "data": {
      "image/png": "[encoded data removed]",
      "text/plain": [
       "<Figure size 504x504 with 9 Axes>"
      ]
     },
     "metadata": {},
     "output_type": "display_data"
    }
   ],
   "source": [
    "# fig =plt.figure(figsize=(7,7))\n",
    "\n",
    "\n",
    "with sns.axes_style('whitegrid'):\n",
    "    fig, axes = plt.subplots(3,3, figsize = (7,7), gridspec_kw={'wspace' : 0.5, 'hspace' :0.5}, sharex = True)\n",
    "    # gs = mpl.gridspec.GridSpec(4, 4, \n",
    "    #                            figure =fig,\n",
    "    #                            width_ratios=[1, 1], height_ratios = [0.8, 1, 0.8, 0.8], wspace = 0.5, hspace=0)\n",
    "\n",
    "\n",
    "    count = 0\n",
    "    af = axes.flat\n",
    "\n",
    "    # af[0].get_shared_y_axes(af[0], af[2])\n",
    "\n",
    "    bins = np.arange(0, 0.4, 0.01)\n",
    "    for ind, svt in enumerate(order_sv_str_len):\n",
    "        ax = af[ind]\n",
    "\n",
    "        tdf = info_nr[(info_nr.SVTYPE_all == svt) & ((info_nr.is_SVLEN) | (info_nr.SVTYPE_all=='INV'))]\n",
    "        ax.hist(np.log10(tdf.NMODE_AF_unrel.astype(float) + 1), bins = bins, histtype = 'step', \n",
    "                 color = color_pal_svtypes_all[svt], linewidth = 2)\n",
    "\n",
    "        xlab = [0.05, 0.25, 0.5, 0.8]\n",
    "        xticks = [np.log10(i + 1) for i in xlab]\n",
    "\n",
    "        ax.set_xticks(xticks)\n",
    "        ax.xaxis.set_tick_params(which = 'both', labelbottom = True)\n",
    "        ax.set_xticklabels(xlab)\n",
    "\n",
    "        ax.set_yscale('log')\n",
    "        fix_log_to_scalar_formatting(ax)\n",
    "        yticklabs = format_easy_read_log(ax.get_yticks())\n",
    "        ax.set_yticklabels(yticklabs)\n",
    "        ax.set_xlabel('NonMode AF')\n",
    "        ax.set_ylabel(\"No. Sites\")\n",
    "        ax.text(0.9,0.9, svt, fontsize = 9, transform = ax.transAxes,\n",
    "                horizontalalignment='right',  verticalalignment='center', weight = 'bold')\n",
    "\n",
    "fig.savefig(os.path.join(private_out, 'SupFig_MAF_Dist_NR_Variants'), dpi=500, bbox_inches='tight') "
   ]
  }
 ],
 "metadata": {
  "kernelspec": {
   "display_name": "Python 2",
   "language": "python",
   "name": "python2"
  },
  "language_info": {
   "codemirror_mode": {
    "name": "ipython",
    "version": 2
   },
   "file_extension": ".py",
   "mimetype": "text/x-python",
   "name": "python",
   "nbconvert_exporter": "python",
   "pygments_lexer": "ipython2",
   "version": "2.7.15"
  }
 },
 "nbformat": 4,
 "nbformat_minor": 2
}
