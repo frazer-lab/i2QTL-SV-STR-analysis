{
 "cells": [
  {
   "cell_type": "code",
   "execution_count": 2,
   "metadata": {},
   "outputs": [],
   "source": [
    "%matplotlib inline\n",
    "from __future__ import division\n",
    "import numpy as np\n",
    "\n",
    "import os\n",
    "import sys\n",
    "import datetime\n",
    "from subprocess import call\n",
    "import subprocess\n",
    "import glob\n",
    "import djPyi2 as DJ\n",
    "import pandas as pd\n",
    "pd.options.mode.chained_assignment = None\n",
    "import csv\n",
    "import seaborn as sns\n",
    "import matplotlib as mpl\n",
    "import matplotlib.pyplot as plt\n",
    "import copy \n",
    "import pybedtools as pbt\n",
    "import ciepy\n",
    "import cardipspy as cpy\n",
    "import networkx as nx\n",
    "from djPyi2 import mpltools\n",
    "from mpl_toolkits.axes_grid1 import  make_axes_locatable\n",
    "import matplotlib.patches as patches\n",
    "from djPyi2 import Common as CM\n",
    "import matplotlib.image as mpimg\n",
    "\n",
    "import numpy as np\n",
    "import matplotlib.cm as cm\n",
    "from scipy.ndimage.filters import gaussian_filter\n",
    "import matplotlib.patches as mpatch\n",
    "import matplotlib.transforms as mtransforms"
   ]
  },
  {
   "cell_type": "code",
   "execution_count": 3,
   "metadata": {},
   "outputs": [],
   "source": [
    "from matplotlib_venn import venn2, venn2_circles, venn3, venn3_circles"
   ]
  },
  {
   "cell_type": "code",
   "execution_count": 4,
   "metadata": {},
   "outputs": [],
   "source": [
    "from matplotlib.ticker import FuncFormatter\n",
    "import matplotlib.ticker as mtick"
   ]
  },
  {
   "cell_type": "code",
   "execution_count": 5,
   "metadata": {},
   "outputs": [],
   "source": [
    "dy_name = 'Figures'\n",
    "\n",
    "private_out = os.path.join(DJ.root, 'private_output', dy_name)\n",
    "if not os.path.exists(private_out):\n",
    "    cpy.makedir(private_out)"
   ]
  },
  {
   "cell_type": "code",
   "execution_count": 6,
   "metadata": {},
   "outputs": [],
   "source": [
    "def fix_svlen(info_all):\n",
    "    \n",
    "    info_all = info_all.copy()\n",
    "    info_all['SVLEN_MOD'] = info_all.SVLEN\n",
    "    inds = info_all[info_all.SVTYPE_NR == 'STR'].index.tolist()\n",
    "    info_all.loc[inds, 'SVLEN_MOD'] = info_all.loc[inds, 'MAX_ALLELE_CHANGE']\n",
    "    info_all['log10_SVLEN_MOD'] = info_all['SVLEN_MOD'] \n",
    "    inds = info_all[(info_all.is_SVLEN == True) | (info_all.SVTYPE == 'INV')].index.tolist()\n",
    "    info_all.loc[inds, 'log10_SVLEN_MOD'] = np.log10(info_all.loc[inds, 'SVLEN_MOD'].astype(float))\n",
    "    return info_all"
   ]
  },
  {
   "cell_type": "code",
   "execution_count": 7,
   "metadata": {},
   "outputs": [],
   "source": [
    "def get_rr_summary_sv(rr_all):\n",
    "    rr_all['RR'] = rr_all['RR'].astype(float)\n",
    "    rr_filt = rr_all[rr_all.id_col == 'Filtered']\n",
    "    rr_unfilt = rr_all[~((rr_all.SVTYPE == 'STR') & (rr_all.id_col == 'Filtered'))]\n",
    "    rr_filt['final_set']= rr_filt.final_set_per_caller\n",
    "#     inds = rr_filt[rr_filt.SVTYPE== 'STR'].index.tolist()\n",
    "#     rr_filt.loc[inds, 'final_set'] = True\n",
    "\n",
    "    t1 = rr_filt[rr_filt.final_set].groupby(['SVTYPE_NR', 'CALLER']).RR.agg({'RR':'mean', 'stdev': 'std'})\n",
    "    t1['stage'] = 'Filtered'\n",
    "    t2 = rr_unfilt.groupby(['SVTYPE_NR', 'CALLER']).RR.agg({'RR':'mean', 'stdev': 'std'})\n",
    "    t2['stage'] = 'Unfiltered'\n",
    "    rr_summary = pd.concat([t1, t2]).reset_index()\n",
    "    \n",
    "#     t1 = rr_filt[rr_filt.final_set].groupby(['SVTYPE_NR', 'CALLER']).RR.std().to_frame('RR_std')\n",
    "#     t1['stage'] = 'Filtered'\n",
    "#     t2 = rr_unfilt.groupby(['SVTYPE_NR', 'CALLER']).RR.std().to_frame('RR_std')\n",
    "#     t2['stage'] = 'Unfiltered'\n",
    "#     rr_summary_std = pd.concat([t1, t2]).reset_index()\n",
    "    \n",
    "    return rr_summary, rr_filt, rr_unfilt"
   ]
  },
  {
   "cell_type": "code",
   "execution_count": 689,
   "metadata": {},
   "outputs": [
    {
     "name": "stderr",
     "output_type": "stream",
     "text": [
      "/frazer01/home/djakubosky/software/anaconda/lib/python2.7/site-packages/ipykernel/__main__.py:9: FutureWarning: using a dict on a Series for aggregation\n",
      "is deprecated and will be removed in a future version\n",
      "/frazer01/home/djakubosky/software/anaconda/lib/python2.7/site-packages/ipykernel/__main__.py:11: FutureWarning: using a dict on a Series for aggregation\n",
      "is deprecated and will be removed in a future version\n"
     ]
    }
   ],
   "source": [
    "rr_summary, rr_filt, rr_unfilt = pd.read_pickle('/frazer01/projects/hipsci/analysis/i2QTL-sv-analysis/private_output/dosage_vcf_and_variant_info/rr_all_callers_twins.pkl').pipe(get_rr_summary_sv)"
   ]
  },
  {
   "cell_type": "code",
   "execution_count": null,
   "metadata": {},
   "outputs": [],
   "source": [
    "rr_nr = rr_filt[(rr_filt.NR_ID2.isin(inds)) & (rr_filt.final_set_per_caller)]\n",
    "rr_nr_plot = rr_nr[rr_nr.SVTYPE.isin(['DEL', 'DUP', 'mCNV', 'rMEI'])]"
   ]
  },
  {
   "cell_type": "markdown",
   "metadata": {},
   "source": [
    "# Palettes"
   ]
  },
  {
   "cell_type": "code",
   "execution_count": 28,
   "metadata": {},
   "outputs": [],
   "source": [
    "color_pal_svtypes_all = pd.read_pickle('/frazer01/projects/hipsci/analysis/i2QTL-sv-analysis/private_output/Figures/color_pal_svtypes_all.pkl').to_dict()"
   ]
  },
  {
   "cell_type": "code",
   "execution_count": 65,
   "metadata": {},
   "outputs": [],
   "source": [
    "pallete_variant_callers = pd.read_pickle('/frazer01/projects/hipsci/analysis/i2QTL-sv-analysis/private_output/Figures/pallete_variant_callers.pkl').to_dict()"
   ]
  },
  {
   "cell_type": "markdown",
   "metadata": {},
   "source": [
    "# Figure"
   ]
  },
  {
   "cell_type": "code",
   "execution_count": 53,
   "metadata": {},
   "outputs": [],
   "source": [
    "mpl.gridspec.rcParams['legend.handletextpad'] = 0.3\n",
    "mpl.gridspec.rcParams['legend.columnspacing'] = 0.5\n",
    "mpl.gridspec.rcParams['legend.labelspacing'] = 0.5\n",
    "mpl.gridspec.rcParams['axes.labelpad'] = 2\n",
    "mpl.gridspec.rcParams['axes.titlesize'] = 7\n",
    "mpl.gridspec.rcParams['axes.labelsize'] = 7\n",
    "mpl.gridspec.rcParams['ytick.labelsize'] = 6\n",
    "mpl.gridspec.rcParams['xtick.labelsize'] = 6\n",
    "mpl.gridspec.rcParams['axes.labelweight'] = 'bold'"
   ]
  },
  {
   "cell_type": "markdown",
   "metadata": {},
   "source": [
    "# Supplementary Figure  RR of Multi-Caller/Single Caller"
   ]
  },
  {
   "cell_type": "code",
   "execution_count": 696,
   "metadata": {},
   "outputs": [
    {
     "data": {
      "image/png": "[encoded data removed]",
      "text/plain": [
       "<Figure size 288x360 with 2 Axes>"
      ]
     },
     "metadata": {},
     "output_type": "display_data"
    }
   ],
   "source": [
    "color_pal_mc = {'Multi-Caller': 'black', 'Single Caller':'#b2b2b2'}\n",
    "\n",
    "with sns.axes_style('whitegrid'):\n",
    "    fig, axes = plt.subplots(2,1, figsize = (4,5), gridspec_kw={'wspace' : 0.5, 'hspace' :0.5}, sharex = False,\n",
    "                            sharey = True)\n",
    "    \n",
    "    ax1 = axes[0]\n",
    "    ax2 = axes[1]\n",
    "    \n",
    "    \n",
    "    ax1  = sns.barplot(x = 'SVTYPE_NR', y = 'RR', hue = 'MC', data = rr_nr_plot, \n",
    "                ax = ax1, palette=color_pal_mc, order = ['DEL', 'DUP', 'mCNV', 'rMEI'])\n",
    "    \n",
    "    ax2 = sns.barplot(x = 'CALLER', y = 'RR', hue = 'MC', data = rr_nr_plot, \n",
    "                ax = ax2, palette=color_pal_mc, order = ['SS', 'GS', 'GS_LCNV'])\n",
    "    \n",
    "    \n",
    "    ax1.legend(bbox_to_anchor = (0,1), loc = 'lower left', ncol = 2, fontsize = 7)\n",
    "    ax2.legend(bbox_to_anchor = (0,1), loc = 'lower left', ncol = 2, fontsize = 7)\n",
    "    \n",
    "    labels = ['A', 'B']\n",
    "    for i, a in enumerate([ax1, ax2]):\n",
    "        a.set_xlabel('')\n",
    "        a.set_ylabel('Replication Rate')\n",
    "        mpltools.label_offset_axes(a, fig, labels[i], x = -20, y = 15)\n",
    "    ax1.set_xlabel('Variant Type')\n",
    "    ax2.set_xlabel('Variant Caller')\n",
    "    \n",
    "\n",
    "fig.savefig(os.path.join(private_out, 'SupFig_MC_RR'), dpi=500, bbox_inches='tight') "
   ]
  }
 ],
 "metadata": {
  "kernelspec": {
   "display_name": "Python 2",
   "language": "python",
   "name": "python2"
  },
  "language_info": {
   "codemirror_mode": {
    "name": "ipython",
    "version": 2
   },
   "file_extension": ".py",
   "mimetype": "text/x-python",
   "name": "python",
   "nbconvert_exporter": "python",
   "pygments_lexer": "ipython2",
   "version": "2.7.15"
  }
 },
 "nbformat": 4,
 "nbformat_minor": 2
}
