{
 "cells": [
  {
   "cell_type": "code",
   "execution_count": 1,
   "metadata": {},
   "outputs": [],
   "source": [
    "%matplotlib inline\n",
    "from __future__ import division\n",
    "import numpy as np\n",
    "\n",
    "import os\n",
    "import sys\n",
    "import datetime\n",
    "from subprocess import call\n",
    "import subprocess\n",
    "import glob\n",
    "import djPyi2 as DJ\n",
    "import pandas as pd\n",
    "pd.options.mode.chained_assignment = None\n",
    "import csv\n",
    "import seaborn as sns\n",
    "import matplotlib as mpl\n",
    "import matplotlib.pyplot as plt\n",
    "import copy \n",
    "import pybedtools as pbt\n",
    "import ciepy\n",
    "import cardipspy as cpy\n",
    "import networkx as nx\n",
    "from djPyi2 import mpltools\n",
    "from mpl_toolkits.axes_grid1 import  make_axes_locatable\n",
    "import matplotlib.patches as patches\n",
    "from djPyi2 import Common as CM\n",
    "import matplotlib.image as mpimg\n",
    "from matplotlib import gridspec\n",
    "import numpy as np\n",
    "import matplotlib.cm as cm\n",
    "from scipy.ndimage.filters import gaussian_filter\n",
    "import matplotlib.patches as mpatch\n",
    "\n",
    "import matplotlib.transforms as mtransforms"
   ]
  },
  {
   "cell_type": "code",
   "execution_count": 2,
   "metadata": {},
   "outputs": [],
   "source": [
    "import gc"
   ]
  },
  {
   "cell_type": "code",
   "execution_count": 3,
   "metadata": {},
   "outputs": [],
   "source": [
    "from djPyi2 import pandas_methods as pm"
   ]
  },
  {
   "cell_type": "code",
   "execution_count": 4,
   "metadata": {},
   "outputs": [],
   "source": [
    "from matplotlib.ticker import FuncFormatter\n",
    "import matplotlib.ticker as mtick"
   ]
  },
  {
   "cell_type": "code",
   "execution_count": 5,
   "metadata": {},
   "outputs": [],
   "source": [
    "dy_name = 'Figures'\n",
    "\n",
    "private_out = os.path.join(DJ.root, 'private_output', dy_name)\n",
    "if not os.path.exists(private_out):\n",
    "    cpy.makedir(private_out)"
   ]
  },
  {
   "cell_type": "code",
   "execution_count": 23,
   "metadata": {},
   "outputs": [],
   "source": [
    "def prep_info_long(info_long, sample_info):\n",
    "    \"\"\" prep of long dataframe with one line per sample/CNV \"\"\"\n",
    "    info_long = info_long.copy()\n",
    "    \n",
    "    study_dict = sample_info.STUDY.to_dict()\n",
    "    info_long['STUDY'] = info_long.SAMPLE.apply(lambda x: study_dict[x])\n",
    "    info_long = info_long[info_long.STUDY != 'HLI']\n",
    "\n",
    "    info_long['unique_id'] = info_long.SAMPLE + '-' + info_long.ID\n",
    "    info_long.index = info_long.unique_id\n",
    "    info_long['SVTYPE'] = info_long.CN.apply(lambda x: 'DUP' if x > 2 else 'DEL')\n",
    "\n",
    "    info_long = info_long[info_long.CN != 2.0]\n",
    "    info_long_filt = info_long[~((info_long.COVERAGE < 2.75) & (info_long.COVERAGE > 2))]\n",
    "    info_long_filt = info_long_filt[~((info_long_filt.COVERAGE < 2) & (info_long_filt.COVERAGE > 1.25))]\n",
    "    \n",
    "\n",
    "    \n",
    "    return info_long_filt"
   ]
  },
  {
   "cell_type": "code",
   "execution_count": 24,
   "metadata": {},
   "outputs": [],
   "source": [
    "def generate_per_pair_summary(df):\n",
    "    df = df.copy()\n",
    "    if 'ID' in df.columns:\n",
    "        df = df.drop('ID', axis = 1)\n",
    "        \n",
    "    df = df.apply(pd.value_counts).T.stack().to_frame('counts').reset_index()\n",
    "    names = ['pair', 'category', 'counts']\n",
    "    df.columns = names\n",
    "    df = df.pivot_table(values = 'counts', index = 'pair', columns = ['category'])\n",
    "    \n",
    "    for c in df.columns:\n",
    "        df[c] = df[c].fillna(0).astype(int)\n",
    "    \n",
    "    df['total_variants'] = df.CONCORDANT + df.DISCORDANT\n",
    "    df['percent_concordant'] = df.CONCORDANT/ df.total_variants\n",
    "    return df"
   ]
  },
  {
   "cell_type": "code",
   "execution_count": 25,
   "metadata": {},
   "outputs": [],
   "source": [
    "def split_id_to_coord(ID):\n",
    "    spl = ID.split('_')\n",
    "    chrom = spl[1]\n",
    "    start = int(spl[2])\n",
    "    end = int(spl[3])\n",
    "    return chrom, start, end\n",
    "\n",
    "def get_merged_length(bt_list):\n",
    "    \"\"\"make a bt from python list of tab sep positions (chr start end), merge overlapping positions, \n",
    "    and compute total length covered\"\"\"\n",
    "    bt_str = '\\n'.join(bt_list)\n",
    "    bt =  pbt.BedTool(bt_str, from_string=True).sort()\n",
    "    tdf = bt.merge()\n",
    "    tdf = tdf.to_dataframe()\n",
    "    tdf = tdf.drop_duplicates(['chrom', 'start', 'end'])\n",
    "    tdf['length'] = tdf.end - tdf.start\n",
    "\n",
    "    length_sum = tdf.length.sum()\n",
    "    return length_sum\n",
    "\n",
    "def compute_merged_length_from_cnv_set(per_sample_cnvs):\n",
    "    \"\"\" compute the merged length covered from a set of tab separated positions\n",
    "    DUP and DEL contain list of tab separated coords-\n",
    "    convert these to bedtools with pybedtool, merge them and compute\n",
    "    combined length\n",
    "    this step ensures any overlapping variants in an individual do not over-estimate total burden\"\"\"\n",
    "    \n",
    "    data = []\n",
    "    for i,x in per_sample_cnvs.iterrows():\n",
    "        dels = x['DEL']\n",
    "        dups = x['DUP']\n",
    "\n",
    "        if len(dels) > 0:\n",
    "            length_del = get_merged_length(dels)\n",
    "        else:\n",
    "            length_del = 0\n",
    "        \n",
    "        if len(dups) > 0:\n",
    "            length_dup = get_merged_length(dups)\n",
    "        \n",
    "        else:\n",
    "            length_dup = 0\n",
    "            \n",
    "        \n",
    "        data.append([i, length_del, length_dup])\n",
    "    return pd.DataFrame(data, columns=['sample', 'DEL', 'DUP'])\n",
    "\n",
    "def calculate_bp_coverage_per_sample(info_merged, sample_info):\n",
    "    \"\"\"calculate per sample total bp coverage of deletions and duplications (burden)\n",
    "    subset info_merged as neccessary (excluding constituent sites for example)\"\"\"\n",
    "    \n",
    "    \n",
    "    data_dict = {i:{'DUP': [], 'DEL':[]} for i in sample_info[(sample_info.STUDY != 'HLI') & (sample_info.CELL_TYPE !='iPSC')].WGS_ID.tolist()}\n",
    "    for i, x in info_merged[info_merged.constituent_site == False].iterrows():\n",
    "        cn_dicts = x['CN_SAMPLES'] \n",
    "        length = x['LENGTH']\n",
    "        coord = split_id_to_coord(i)\n",
    "        formatted_id = \"\\t\".join(list(map(str,coord)))\n",
    "\n",
    "        for k,v in cn_dicts.iteritems():\n",
    "            if v < 2:\n",
    "\n",
    "                data_dict[k]['DEL'].append(formatted_id)\n",
    "            if v > 2:\n",
    "                data_dict[k]['DUP'].append(formatted_id)\n",
    "\n",
    "    per_sample_cnvs = pd.DataFrame(data_dict).T\n",
    "    per_sample_burden = compute_merged_length_from_cnv_set(per_sample_cnvs)\n",
    "    per_sample_cnvs['CNVs_DEL'] = per_sample_cnvs['DEL']\n",
    "    per_sample_cnvs['CNVs_DUP'] = per_sample_cnvs['DUP']\n",
    "    per_sample_cnvs['DEL'] = per_sample_cnvs.DEL.apply(lambda x: len(x))\n",
    "    per_sample_cnvs['DUP'] = per_sample_cnvs.DUP.apply(lambda x: len(x))\n",
    "    per_sample_burden.index = per_sample_burden['sample']\n",
    "    \n",
    "    return per_sample_burden, per_sample_cnvs"
   ]
  },
  {
   "cell_type": "code",
   "execution_count": 26,
   "metadata": {},
   "outputs": [],
   "source": [
    "def modify_per_sample(df, sample_info):\n",
    "    \n",
    "    df = df.copy()\n",
    "    df['sample'] = df.index\n",
    "#     df.index = df['sample']\n",
    "    cols = ['CELL_TYPE', 'STUDY','SEX', 'GENETICALLY_SIMILAR_POPULATION_GROUP']\n",
    "    def mod_ethnicity(x):\n",
    "        if x == 'AFR':\n",
    "            return 'African'\n",
    "        else:\n",
    "            return 'Non African'\n",
    "        \n",
    "    df = df.join(sample_info[cols])\n",
    "    df['ethnicity_mod'] = df['GENETICALLY_SIMILAR_POPULATION_GROUP'].apply(lambda x: mod_ethnicity(x))\n",
    "    \n",
    "    df = df.sort_values(['STUDY', 'CELL_TYPE', 'ethnicity_mod', 'SEX','sample'])\n",
    "    df['x'] = range(df.shape[0])\n",
    "    return df"
   ]
  },
  {
   "cell_type": "code",
   "execution_count": 10,
   "metadata": {},
   "outputs": [],
   "source": [
    "sample_info = pd.read_pickle('/frazer01/projects/hipsci/analysis/i2QTL-sv-analysis/private_output/sample_info_combined/sample_info.pkl')\n",
    "\n",
    "study_dict = sample_info.STUDY.to_dict()"
   ]
  },
  {
   "cell_type": "code",
   "execution_count": 11,
   "metadata": {},
   "outputs": [],
   "source": [
    "info_unfilt = pd.read_pickle('/frazer01/projects/hipsci/analysis/i2QTL-sv-analysis/private_output/gs_lcnv_processing/gs_lcnv_long.pkl')\n",
    "info_unfilt = info_unfilt.pipe(pm.concat_cols, ['CHROM', 'START', 'END'], name = 'ID')\n",
    "info_unfilt['ID'] = 'CNV' + '_' + info_unfilt.ID"
   ]
  },
  {
   "cell_type": "code",
   "execution_count": 12,
   "metadata": {},
   "outputs": [],
   "source": [
    "info_filt_long = pd.read_pickle('/frazer01/projects/hipsci/analysis/i2QTL-sv-analysis/private_output/gs_lcnv_processing/gs_lcnv_filt_long.pkl')\n",
    "\n",
    "tdf =prep_info_long(info_filt_long, sample_info)"
   ]
  },
  {
   "cell_type": "code",
   "execution_count": 13,
   "metadata": {},
   "outputs": [],
   "source": [
    "info_merged = pd.read_pickle('/frazer01/projects/hipsci/analysis/i2QTL-sv-analysis/private_output/gs_lcnv_merging/gs_lcnv_info_merged.pkl')"
   ]
  },
  {
   "cell_type": "code",
   "execution_count": 14,
   "metadata": {},
   "outputs": [],
   "source": [
    "info = pd.read_pickle('/frazer01/projects/hipsci/analysis/i2QTL-sv-analysis/private_output/gs_lcnv_processing/gs_lcnv_info.pkl')\n",
    "\n",
    "info = info[info.cent_overlap_type.isin(['UPSTREAM', 'DOWNSTREAM', 'OVERLAPS_LEFT', 'OVERLAPS_RIGHT'])]"
   ]
  },
  {
   "cell_type": "code",
   "execution_count": 19,
   "metadata": {},
   "outputs": [],
   "source": [
    "info_merged_annot = pd.read_pickle('/frazer01/projects/hipsci/analysis/i2QTL-sv-analysis/private_output/gs_lcnv_final_vcf/gs_lcnv_info_merged_annot_final.pkl')"
   ]
  },
  {
   "cell_type": "code",
   "execution_count": 15,
   "metadata": {},
   "outputs": [],
   "source": [
    "intersect_info= pd.read_pickle('/frazer01/projects/hipsci/analysis/i2QTL-sv-analysis/private_output/gs_lcnv_merging/intersect_info_lcnv_merging.pkl')"
   ]
  },
  {
   "cell_type": "code",
   "execution_count": 16,
   "metadata": {},
   "outputs": [],
   "source": [
    "tdf = tdf[tdf.ID.isin(info.ID.unique())]\n",
    "info_filt_ci = info[info.ID.isin(tdf.ID.unique())]"
   ]
  },
  {
   "cell_type": "code",
   "execution_count": 20,
   "metadata": {},
   "outputs": [
    {
     "data": {
      "text/plain": [
       "(432, 39)"
      ]
     },
     "execution_count": 20,
     "metadata": {},
     "output_type": "execute_result"
    }
   ],
   "source": [
    "info_merged_annot[info_merged_annot.constituent_site == False].shape"
   ]
  },
  {
   "cell_type": "code",
   "execution_count": 28,
   "metadata": {},
   "outputs": [],
   "source": [
    "per_sample_burden, per_sample_cnvs = calculate_bp_coverage_per_sample(info_merged_annot[info_merged_annot.constituent_site==False], sample_info)"
   ]
  },
  {
   "cell_type": "code",
   "execution_count": 29,
   "metadata": {},
   "outputs": [],
   "source": [
    "per_sample_cnvs = per_sample_cnvs.pipe(modify_per_sample, sample_info)"
   ]
  },
  {
   "cell_type": "code",
   "execution_count": 34,
   "metadata": {},
   "outputs": [],
   "source": [
    "exclude = sample_info[sample_info.not_consented].WGS_ID.tolist()\n",
    "per_sample_cnvs = per_sample_cnvs[~per_sample_cnvs['sample'].isin(exclude)]"
   ]
  },
  {
   "cell_type": "code",
   "execution_count": 35,
   "metadata": {},
   "outputs": [
    {
     "data": {
      "text/plain": [
       "count    472.000000\n",
       "mean       4.186441\n",
       "std        1.891760\n",
       "min        0.000000\n",
       "25%        3.000000\n",
       "50%        4.000000\n",
       "75%        5.000000\n",
       "max       11.000000\n",
       "Name: DEL, dtype: float64"
      ]
     },
     "execution_count": 35,
     "metadata": {},
     "output_type": "execute_result"
    }
   ],
   "source": [
    "per_sample_cnvs.DEL.describe()"
   ]
  },
  {
   "cell_type": "code",
   "execution_count": 36,
   "metadata": {},
   "outputs": [
    {
     "data": {
      "text/plain": [
       "count    472.000000\n",
       "mean       2.019068\n",
       "std        1.264263\n",
       "min        0.000000\n",
       "25%        1.000000\n",
       "50%        2.000000\n",
       "75%        3.000000\n",
       "max        6.000000\n",
       "Name: DUP, dtype: float64"
      ]
     },
     "execution_count": 36,
     "metadata": {},
     "output_type": "execute_result"
    }
   ],
   "source": [
    "per_sample_cnvs.DUP.describe()"
   ]
  },
  {
   "cell_type": "markdown",
   "metadata": {},
   "source": [
    "# Filtering numbers \n",
    "\n",
    "we called initially 1117 distinct LCNV that are filtered to 781 with SCORE => 1000 and NBINS >= 10.  These were filtered to 681 that are CN > 2.75 or CN < 1.25 -  and then 658 that are not contained within the centromere or fully overlap the centromere- These were used to then combine by merging breakpoints that with RO >=0.8- and assigning a breakpoint with the min start and max end position of all cnvs in the cluster- but carrying over the copy number genotypes from the constituents.  This resulted in 73 merge sites comprised of 299 original distinct sites.  The set then contained 432 CNVs.  We then intersected those with LUMPY and Genome STRiP variants (CNVDiscovery) and if the variant was discovered in one of these sets, the GS_LCNV cnv was marked as part of a non-redundant cluster with them- in which it was not the primary variant (as these CNVs have less accurate breakpoints).  309 of these variants weren't seen in GS or LUMPY call sets (RO = 0.5)"
   ]
  },
  {
   "cell_type": "code",
   "execution_count": 254,
   "metadata": {},
   "outputs": [],
   "source": [
    "stages = [info_unfilt.ID.unique().shape[0], \n",
    "          info_filt_ci.shape[0], \n",
    "          info_merged_annot[info_merged_annot.constituent_site==False].shape[0],\n",
    "         info_merged_annot[(info_merged_annot.constituent_site==False) & \n",
    "                           (info_merged_annot.MC_cluster_all == False)].shape[0]]\n",
    "\n",
    "labels = ['Unfiltered', 'Filtered', 'Collapse Overlaps', 'Non Redundant']\n",
    "\n",
    "p = pd.Series(dict(zip(labels, stages))).to_frame('No. Variants').loc[labels]\n",
    "\n",
    "p['Stage'] = p.index"
   ]
  },
  {
   "cell_type": "code",
   "execution_count": 258,
   "metadata": {},
   "outputs": [
    {
     "data": {
      "text/html": [
       "<div>\n",
       "<style scoped>\n",
       "    .dataframe tbody tr th:only-of-type {\n",
       "        vertical-align: middle;\n",
       "    }\n",
       "\n",
       "    .dataframe tbody tr th {\n",
       "        vertical-align: top;\n",
       "    }\n",
       "\n",
       "    .dataframe thead th {\n",
       "        text-align: right;\n",
       "    }\n",
       "</style>\n",
       "<table border=\"1\" class=\"dataframe\">\n",
       "  <thead>\n",
       "    <tr style=\"text-align: right;\">\n",
       "      <th></th>\n",
       "      <th>No. Variants</th>\n",
       "      <th>Stage</th>\n",
       "    </tr>\n",
       "  </thead>\n",
       "  <tbody>\n",
       "    <tr>\n",
       "      <th>Unfiltered</th>\n",
       "      <td>1117</td>\n",
       "      <td>Unfiltered</td>\n",
       "    </tr>\n",
       "    <tr>\n",
       "      <th>Filtered</th>\n",
       "      <td>658</td>\n",
       "      <td>Filtered</td>\n",
       "    </tr>\n",
       "    <tr>\n",
       "      <th>Collapse Overlaps</th>\n",
       "      <td>432</td>\n",
       "      <td>Collapse Overlaps</td>\n",
       "    </tr>\n",
       "    <tr>\n",
       "      <th>Non Redundant</th>\n",
       "      <td>141</td>\n",
       "      <td>Non Redundant</td>\n",
       "    </tr>\n",
       "  </tbody>\n",
       "</table>\n",
       "</div>"
      ],
      "text/plain": [
       "                   No. Variants              Stage\n",
       "Unfiltered                 1117         Unfiltered\n",
       "Filtered                    658           Filtered\n",
       "Collapse Overlaps           432  Collapse Overlaps\n",
       "Non Redundant               141      Non Redundant"
      ]
     },
     "execution_count": 258,
     "metadata": {},
     "output_type": "execute_result"
    }
   ],
   "source": [
    "p"
   ]
  },
  {
   "cell_type": "code",
   "execution_count": 270,
   "metadata": {},
   "outputs": [],
   "source": [
    "nr_lcnv_mc = info_merged_annot[(info_merged_annot.constituent_site==False) & \n",
    "                           (info_merged_annot.MC_cluster_all == False)].ID.tolist()"
   ]
  },
  {
   "cell_type": "code",
   "execution_count": 5,
   "metadata": {},
   "outputs": [],
   "source": [
    "gs_lcnv_info_merged = pd.read_pickle('/frazer01/projects/hipsci/analysis/i2QTL-sv-analysis/private_output/gs_lcnv_merging/gs_lcnv_info_merged.pkl')"
   ]
  },
  {
   "cell_type": "code",
   "execution_count": 12,
   "metadata": {},
   "outputs": [],
   "source": [
    "cluster_info_lcnv = pd.read_pickle('/frazer01/projects/hipsci/analysis/i2QTL-sv-analysis/private_output/gs_lcnv_merging/cluster_info_lcnv.pkl')"
   ]
  },
  {
   "cell_type": "code",
   "execution_count": 13,
   "metadata": {},
   "outputs": [],
   "source": [
    "intersect_info = pd.read_pickle('/frazer01/projects/hipsci/analysis/i2QTL-sv-analysis/private_output/gs_lcnv_merging/intersect_info_lcnv_merging.pkl')"
   ]
  },
  {
   "cell_type": "code",
   "execution_count": null,
   "metadata": {},
   "outputs": [],
   "source": [
    "num_merged_per = cluster_info_lcnv.num_in_clust.value_counts().sort_index()\n",
    "num_merged_per = num_merged_per.to_frame('No. Clusters')\n",
    "num_merged_per['No. Sites in Cluster'] = num_merged_per.index"
   ]
  },
  {
   "cell_type": "code",
   "execution_count": 295,
   "metadata": {},
   "outputs": [],
   "source": [
    "non_redun = info_merged_annot[info_merged_annot.constituent_site == False].ID.tolist()"
   ]
  },
  {
   "cell_type": "code",
   "execution_count": 311,
   "metadata": {},
   "outputs": [],
   "source": [
    "info_merged_nr = info_merged_annot[info_merged_annot.constituent_site == False]\n",
    "\n",
    "info_merged_nr['log10_SVLEN'] = np.log10(info_merged_annot.LENGTH)"
   ]
  },
  {
   "cell_type": "markdown",
   "metadata": {},
   "source": [
    "# Plot functions"
   ]
  },
  {
   "cell_type": "code",
   "execution_count": 340,
   "metadata": {},
   "outputs": [],
   "source": [
    "def plot_per_sample_barplot(df, order_of_cols, colors, ax, axsubx):\n",
    "\n",
    "    df[order_of_cols].plot(kind='bar', stacked =True, ax = ax, colors = colors)\n",
    "    ax.set_xticklabels('')\n",
    "    ax.tick_params(axis = 'x', top = False, bottom = False)\n",
    "    ax.tick_params(axis = 'y', width = 1, length = 3)\n",
    "    ax.xaxis.grid(False)\n",
    "\n",
    "    leg = ax.legend(bbox_to_anchor = (1,1), loc = 'upper left', frameon=True)\n",
    "    leg.get_frame().set_facecolor('white')\n",
    "    leg.get_frame().set_edgecolor('black')\n",
    "\n",
    "    group_order = ['STUDY', 'CELL_TYPE', 'ethnicity_mod']\n",
    "    study_color_dict = {'HipSci': '#96b9f2', 'iPSCORE': '#95f1b0', 'HLI':'black'}\n",
    "    ethnicity_color_dict = {'African': '#baced8', 'Non African': '#6b818c'}\n",
    "    cell_type_color_dict = {'Blood': '#efe4bf', 'Fibroblast': '#dce8b2', 'iPSC':'#c2d6c8'}\n",
    "    color_dict_order = [study_color_dict, cell_type_color_dict, ethnicity_color_dict]\n",
    "    bottoms = [-200, -400, -600]\n",
    "    heights = [200, 200, 200]\n",
    "    label_bools = [True, False, False]\n",
    "\n",
    "\n",
    "#     d_ranges_study = dict_gb_ranges(df, 'STUDY')\n",
    "\n",
    "#     divider = make_axes_locatable(ax)\n",
    "\n",
    "#     axsubx = divider.append_axes(\"bottom\", size=0.4, pad=0)\n",
    "    x_min, x_max = ax.get_xlim()\n",
    "    axsubx.set_xlim(x_min, x_max)\n",
    "    axsubx.set_ylim(-700,0)\n",
    "    mpltools.annotate_multi_level(axsubx, df, group_order, color_dict_order, bottoms, heights, label_bools)\n",
    "    axsubx.set_axis_off()\n",
    "    return ax, axsubx, leg"
   ]
  },
  {
   "cell_type": "code",
   "execution_count": 178,
   "metadata": {},
   "outputs": [
    {
     "data": {
      "text/plain": [
       "(309, 39)"
      ]
     },
     "execution_count": 178,
     "metadata": {},
     "output_type": "execute_result"
    }
   ],
   "source": [
    "info_merged_annot[info_merged_annot.MC_cluster_all == False].shape"
   ]
  },
  {
   "cell_type": "code",
   "execution_count": 179,
   "metadata": {},
   "outputs": [],
   "source": [
    "rr_per_site_all_twins = pd.read_pickle('/frazer01/projects/hipsci/analysis/i2QTL-sv-analysis/private_output/gs_lcnv_processing/rr_per_site_all_twins.pkl')"
   ]
  },
  {
   "cell_type": "code",
   "execution_count": 293,
   "metadata": {},
   "outputs": [],
   "source": [
    "rr_per_pair_all_twins = pd.read_pickle('/frazer01/projects/hipsci/analysis/i2QTL-sv-analysis/private_output/gs_lcnv_processing/rr_per_pair_all_twins.pkl')"
   ]
  },
  {
   "cell_type": "code",
   "execution_count": 277,
   "metadata": {},
   "outputs": [],
   "source": [
    "inds = rr_per_site_all_twins[rr_per_site_all_twins.replication_rate != 'None'].name.tolist()"
   ]
  },
  {
   "cell_type": "code",
   "execution_count": 282,
   "metadata": {},
   "outputs": [
    {
     "data": {
      "text/plain": [
       "<matplotlib.axes._subplots.AxesSubplot at 0x7f81807fc990>"
      ]
     },
     "execution_count": 282,
     "metadata": {},
     "output_type": "execute_result"
    },
    {
     "data": {
      "image/png": "[encoded data removed]",
      "text/plain": [
       "<Figure size 432x288 with 1 Axes>"
      ]
     },
     "metadata": {
      "needs_background": "light"
     },
     "output_type": "display_data"
    }
   ],
   "source": [
    "rr_per_site_all_twins.loc[inds].replication_rate.astype(float).hist()"
   ]
  },
  {
   "cell_type": "code",
   "execution_count": 297,
   "metadata": {},
   "outputs": [],
   "source": [
    "rr_pp_filt = rr_per_pair_all_twins.loc[non_redun]"
   ]
  },
  {
   "cell_type": "code",
   "execution_count": 300,
   "metadata": {},
   "outputs": [],
   "source": [
    "pp_summary = generate_per_pair_summary(rr_pp_filt)"
   ]
  },
  {
   "cell_type": "code",
   "execution_count": 189,
   "metadata": {},
   "outputs": [],
   "source": [
    "tdf = info_merged_annot.loc[inds]"
   ]
  },
  {
   "cell_type": "code",
   "execution_count": 199,
   "metadata": {},
   "outputs": [],
   "source": [
    "nr = tdf[tdf.constituent_site == False]"
   ]
  },
  {
   "cell_type": "code",
   "execution_count": 194,
   "metadata": {},
   "outputs": [],
   "source": [
    "del independent"
   ]
  },
  {
   "cell_type": "code",
   "execution_count": 204,
   "metadata": {},
   "outputs": [],
   "source": [
    "rr_filt = rr_per_site_all_twins.loc[nr.index]"
   ]
  },
  {
   "cell_type": "code",
   "execution_count": 276,
   "metadata": {},
   "outputs": [
    {
     "data": {
      "text/plain": [
       "(69, 13)"
      ]
     },
     "execution_count": 276,
     "metadata": {},
     "output_type": "execute_result"
    }
   ],
   "source": []
  },
  {
   "cell_type": "code",
   "execution_count": 206,
   "metadata": {},
   "outputs": [],
   "source": [
    "rr_filt['replication_rate']  = rr_filt['replication_rate'].astype(float)"
   ]
  },
  {
   "cell_type": "code",
   "execution_count": 274,
   "metadata": {},
   "outputs": [],
   "source": [
    "rr_nr = rr_filt[rr_filt.index.isin(nr_lcnv)]"
   ]
  },
  {
   "cell_type": "code",
   "execution_count": 209,
   "metadata": {},
   "outputs": [
    {
     "data": {
      "text/plain": [
       "<matplotlib.axes._subplots.AxesSubplot at 0x7f8181920510>"
      ]
     },
     "execution_count": 209,
     "metadata": {},
     "output_type": "execute_result"
    },
    {
     "data": {
      "image/png": "[encoded data removed]",
      "text/plain": [
       "<Figure size 432x288 with 1 Axes>"
      ]
     },
     "metadata": {
      "needs_background": "light"
     },
     "output_type": "display_data"
    }
   ],
   "source": [
    "sns.barplot(x= 'SVTYPE', y = 'replication_rate', data = rr_filt)"
   ]
  },
  {
   "cell_type": "code",
   "execution_count": 275,
   "metadata": {},
   "outputs": [
    {
     "data": {
      "text/plain": [
       "<matplotlib.axes._subplots.AxesSubplot at 0x7f8180fe94d0>"
      ]
     },
     "execution_count": 275,
     "metadata": {},
     "output_type": "execute_result"
    },
    {
     "data": {
      "image/png": "[encoded data removed]",
      "text/plain": [
       "<Figure size 432x288 with 1 Axes>"
      ]
     },
     "metadata": {
      "needs_background": "light"
     },
     "output_type": "display_data"
    }
   ],
   "source": [
    "sns.barplot(x= 'SVTYPE', y = 'replication_rate', data = rr_nr)"
   ]
  },
  {
   "cell_type": "code",
   "execution_count": 214,
   "metadata": {},
   "outputs": [
    {
     "data": {
      "text/plain": [
       "(26, 39)"
      ]
     },
     "execution_count": 214,
     "metadata": {},
     "output_type": "execute_result"
    }
   ],
   "source": [
    "nr[nr.MC_cluster_all == False].shape"
   ]
  },
  {
   "cell_type": "code",
   "execution_count": 208,
   "metadata": {},
   "outputs": [
    {
     "data": {
      "text/plain": [
       "SVTYPE\n",
       "DEL     0.954545\n",
       "DUP     0.925000\n",
       "mCNV    0.902632\n",
       "Name: replication_rate, dtype: float64"
      ]
     },
     "execution_count": 208,
     "metadata": {},
     "output_type": "execute_result"
    }
   ],
   "source": [
    "rr_filt.groupby('SVTYPE').replication_rate.mean()"
   ]
  },
  {
   "cell_type": "code",
   "execution_count": null,
   "metadata": {},
   "outputs": [],
   "source": []
  },
  {
   "cell_type": "code",
   "execution_count": 141,
   "metadata": {},
   "outputs": [],
   "source": [
    "tdf = tdf[tdf.ID.isin(info.ID.unique())]\n",
    "\n",
    "info_filt_ci = info[info.ID.isin(tdf.ID.unique())]"
   ]
  },
  {
   "cell_type": "code",
   "execution_count": 162,
   "metadata": {},
   "outputs": [
    {
     "data": {
      "text/plain": [
       "731"
      ]
     },
     "execution_count": 162,
     "metadata": {},
     "output_type": "execute_result"
    }
   ],
   "source": [
    "658 + 73"
   ]
  },
  {
   "cell_type": "code",
   "execution_count": null,
   "metadata": {},
   "outputs": [],
   "source": []
  },
  {
   "cell_type": "code",
   "execution_count": 158,
   "metadata": {},
   "outputs": [
    {
     "data": {
      "text/plain": [
       "<matplotlib.axes._subplots.AxesSubplot at 0x7f818212f290>"
      ]
     },
     "execution_count": 158,
     "metadata": {},
     "output_type": "execute_result"
    },
    {
     "data": {
      "image/png": "[encoded data removed]",
      "text/plain": [
       "<Figure size 432x288 with 1 Axes>"
      ]
     },
     "metadata": {
      "needs_background": "light"
     },
     "output_type": "display_data"
    }
   ],
   "source": [
    "info_filt_ci[info_filt_ci.cent_overlap_type == '']"
   ]
  },
  {
   "cell_type": "code",
   "execution_count": 161,
   "metadata": {},
   "outputs": [
    {
     "data": {
      "text/plain": [
       "UPSTREAM          370\n",
       "DOWNSTREAM        273\n",
       "OVERLAPS_LEFT       8\n",
       "OVERLAPS_RIGHT      7\n",
       "Name: cent_overlap_type, dtype: int64"
      ]
     },
     "execution_count": 161,
     "metadata": {},
     "output_type": "execute_result"
    }
   ],
   "source": [
    "info_filt_ci.cent_overlap_type.value_counts()"
   ]
  },
  {
   "cell_type": "code",
   "execution_count": 37,
   "metadata": {},
   "outputs": [],
   "source": [
    "info_merged_annot = pd.read_pickle('/frazer01/projects/hipsci/analysis/i2QTL-sv-analysis/private_output/gs_lcnv_final_vcf/gs_lcnv_info_merged_annot_final.pkl')"
   ]
  },
  {
   "cell_type": "code",
   "execution_count": 71,
   "metadata": {},
   "outputs": [],
   "source": [
    "lcnv_per_sample_num = pd.read_pickle('/frazer01/projects/hipsci/analysis/i2QTL-sv-analysis/private_output/gs_lcnv_merging/lcnv_per_sample_num.pkl')"
   ]
  },
  {
   "cell_type": "code",
   "execution_count": 38,
   "metadata": {},
   "outputs": [
    {
     "data": {
      "text/html": [
       "<div>\n",
       "<style scoped>\n",
       "    .dataframe tbody tr th:only-of-type {\n",
       "        vertical-align: middle;\n",
       "    }\n",
       "\n",
       "    .dataframe tbody tr th {\n",
       "        vertical-align: top;\n",
       "    }\n",
       "\n",
       "    .dataframe thead th {\n",
       "        text-align: right;\n",
       "    }\n",
       "</style>\n",
       "<table border=\"1\" class=\"dataframe\">\n",
       "  <thead>\n",
       "    <tr style=\"text-align: right;\">\n",
       "      <th></th>\n",
       "      <th>CHROM</th>\n",
       "      <th>START</th>\n",
       "      <th>END</th>\n",
       "      <th>ID</th>\n",
       "      <th>ID_Mod</th>\n",
       "      <th>LENGTH</th>\n",
       "      <th>cluster_id</th>\n",
       "      <th>collapsed_site</th>\n",
       "      <th>UUIDs_NREF</th>\n",
       "      <th>NREF</th>\n",
       "      <th>COVERAGE_SAMPLES</th>\n",
       "      <th>CN_SAMPLES</th>\n",
       "      <th>constituent_site</th>\n",
       "      <th>is_collapsed_site</th>\n",
       "      <th>cluster_str</th>\n",
       "      <th>SCORE</th>\n",
       "      <th>NBINS</th>\n",
       "      <th>NREF_PERC</th>\n",
       "      <th>ALLELES_PRESENT</th>\n",
       "      <th>SVTYPE</th>\n",
       "      <th>cn_mode</th>\n",
       "      <th>SAMPLES_NREF_RNA</th>\n",
       "      <th>SAMPLES_NREF_hipsci_fib</th>\n",
       "      <th>SAMPLES_NREF_i2QTL</th>\n",
       "      <th>SAMPLES_NREF_i2QTL_unrel</th>\n",
       "      <th>SAMPLES_NREF_ipscore</th>\n",
       "      <th>NREF_RNA</th>\n",
       "      <th>MAF_RNA</th>\n",
       "      <th>NREF_hipsci_fib</th>\n",
       "      <th>MAF_hipsci_fib</th>\n",
       "      <th>NREF_i2QTL</th>\n",
       "      <th>MAF_i2QTL</th>\n",
       "      <th>NREF_i2QTL_unrel</th>\n",
       "      <th>MAF_i2QTL_unrel</th>\n",
       "      <th>NREF_ipscore</th>\n",
       "      <th>MAF_ipscore</th>\n",
       "      <th>ID_original</th>\n",
       "      <th>MC_cluster</th>\n",
       "      <th>MC_cluster_all</th>\n",
       "    </tr>\n",
       "    <tr>\n",
       "      <th>ID_Mod</th>\n",
       "      <th></th>\n",
       "      <th></th>\n",
       "      <th></th>\n",
       "      <th></th>\n",
       "      <th></th>\n",
       "      <th></th>\n",
       "      <th></th>\n",
       "      <th></th>\n",
       "      <th></th>\n",
       "      <th></th>\n",
       "      <th></th>\n",
       "      <th></th>\n",
       "      <th></th>\n",
       "      <th></th>\n",
       "      <th></th>\n",
       "      <th></th>\n",
       "      <th></th>\n",
       "      <th></th>\n",
       "      <th></th>\n",
       "      <th></th>\n",
       "      <th></th>\n",
       "      <th></th>\n",
       "      <th></th>\n",
       "      <th></th>\n",
       "      <th></th>\n",
       "      <th></th>\n",
       "      <th></th>\n",
       "      <th></th>\n",
       "      <th></th>\n",
       "      <th></th>\n",
       "      <th></th>\n",
       "      <th></th>\n",
       "      <th></th>\n",
       "      <th></th>\n",
       "      <th></th>\n",
       "      <th></th>\n",
       "      <th></th>\n",
       "      <th></th>\n",
       "      <th></th>\n",
       "    </tr>\n",
       "  </thead>\n",
       "  <tbody>\n",
       "    <tr>\n",
       "      <th>CNV_1_604061_851158_Original</th>\n",
       "      <td>1</td>\n",
       "      <td>604061</td>\n",
       "      <td>851158</td>\n",
       "      <td>CNV_1_604061_851158_Original</td>\n",
       "      <td>CNV_1_604061_851158_Original</td>\n",
       "      <td>247097</td>\n",
       "      <td>0</td>\n",
       "      <td>CNV_1_604061_851158_Original</td>\n",
       "      <td>[251a999a-05dd-4ad8-a530-c188ecc5b795, 694fce3...</td>\n",
       "      <td>2</td>\n",
       "      <td>{u'251a999a-05dd-4ad8-a530-c188ecc5b795': 2.93...</td>\n",
       "      <td>{u'251a999a-05dd-4ad8-a530-c188ecc5b795': 3.0,...</td>\n",
       "      <td>False</td>\n",
       "      <td>False</td>\n",
       "      <td>False</td>\n",
       "      <td>1562.675</td>\n",
       "      <td>13</td>\n",
       "      <td>0.004193</td>\n",
       "      <td>[3.0]</td>\n",
       "      <td>DUP</td>\n",
       "      <td>2</td>\n",
       "      <td>[251a999a-05dd-4ad8-a530-c188ecc5b795]</td>\n",
       "      <td>[]</td>\n",
       "      <td>[251a999a-05dd-4ad8-a530-c188ecc5b795, 694fce3...</td>\n",
       "      <td>[251a999a-05dd-4ad8-a530-c188ecc5b795]</td>\n",
       "      <td>[251a999a-05dd-4ad8-a530-c188ecc5b795, 694fce3...</td>\n",
       "      <td>1</td>\n",
       "      <td>0.002410</td>\n",
       "      <td>0</td>\n",
       "      <td>0.000000</td>\n",
       "      <td>2</td>\n",
       "      <td>0.004193</td>\n",
       "      <td>1</td>\n",
       "      <td>0.002695</td>\n",
       "      <td>2</td>\n",
       "      <td>0.007326</td>\n",
       "      <td>CNV_1_604061_851158</td>\n",
       "      <td>False</td>\n",
       "      <td>False</td>\n",
       "    </tr>\n",
       "    <tr>\n",
       "      <th>CNV_1_12838794_13048788_Original</th>\n",
       "      <td>1</td>\n",
       "      <td>12838794</td>\n",
       "      <td>13048788</td>\n",
       "      <td>CNV_1_12838794_13048788_Original</td>\n",
       "      <td>CNV_1_12838794_13048788_Original</td>\n",
       "      <td>209994</td>\n",
       "      <td>47</td>\n",
       "      <td>CNV_1_12838794_13048788_Collapsed</td>\n",
       "      <td>[a5b3835e-ee57-43cc-ab9b-7bbafdd54284, 9065798...</td>\n",
       "      <td>2</td>\n",
       "      <td>{u'90657981-484d-444a-9b2b-9b479f84c8c6': 0.96...</td>\n",
       "      <td>{u'90657981-484d-444a-9b2b-9b479f84c8c6': 1.0,...</td>\n",
       "      <td>True</td>\n",
       "      <td>False</td>\n",
       "      <td>CNV_1_12838794_13048788_Original,CNV_1_1285078...</td>\n",
       "      <td>1287.305</td>\n",
       "      <td>11</td>\n",
       "      <td>0.004193</td>\n",
       "      <td>[1.0]</td>\n",
       "      <td>DEL</td>\n",
       "      <td>2</td>\n",
       "      <td>[a5b3835e-ee57-43cc-ab9b-7bbafdd54284, 9065798...</td>\n",
       "      <td>[]</td>\n",
       "      <td>[a5b3835e-ee57-43cc-ab9b-7bbafdd54284, 9065798...</td>\n",
       "      <td>[a5b3835e-ee57-43cc-ab9b-7bbafdd54284]</td>\n",
       "      <td>[a5b3835e-ee57-43cc-ab9b-7bbafdd54284, 9065798...</td>\n",
       "      <td>2</td>\n",
       "      <td>0.004819</td>\n",
       "      <td>0</td>\n",
       "      <td>0.000000</td>\n",
       "      <td>2</td>\n",
       "      <td>0.004193</td>\n",
       "      <td>1</td>\n",
       "      <td>0.002695</td>\n",
       "      <td>2</td>\n",
       "      <td>0.007326</td>\n",
       "      <td>CNV_1_12838794_13048788</td>\n",
       "      <td>False</td>\n",
       "      <td>False</td>\n",
       "    </tr>\n",
       "    <tr>\n",
       "      <th>CNV_1_12850787_13048788_Original</th>\n",
       "      <td>1</td>\n",
       "      <td>12850787</td>\n",
       "      <td>13048788</td>\n",
       "      <td>CNV_1_12850787_13048788_Original</td>\n",
       "      <td>CNV_1_12850787_13048788_Original</td>\n",
       "      <td>198001</td>\n",
       "      <td>47</td>\n",
       "      <td>CNV_1_12838794_13048788_Collapsed</td>\n",
       "      <td>[f3284741-0362-4f47-8ee8-191acf41d7ac, 3e87ef5...</td>\n",
       "      <td>3</td>\n",
       "      <td>{u'3e87ef5c-48bc-4e37-a89d-2b71f6afa8f6': 3.03...</td>\n",
       "      <td>{u'3e87ef5c-48bc-4e37-a89d-2b71f6afa8f6': 3.0,...</td>\n",
       "      <td>True</td>\n",
       "      <td>False</td>\n",
       "      <td>CNV_1_12838794_13048788_Original,CNV_1_1285078...</td>\n",
       "      <td>1691.360</td>\n",
       "      <td>10</td>\n",
       "      <td>0.006289</td>\n",
       "      <td>[3.0]</td>\n",
       "      <td>DUP</td>\n",
       "      <td>2</td>\n",
       "      <td>[f3284741-0362-4f47-8ee8-191acf41d7ac, 3e87ef5...</td>\n",
       "      <td>[]</td>\n",
       "      <td>[f3284741-0362-4f47-8ee8-191acf41d7ac, 3e87ef5...</td>\n",
       "      <td>[f3284741-0362-4f47-8ee8-191acf41d7ac, 3e87ef5...</td>\n",
       "      <td>[f3284741-0362-4f47-8ee8-191acf41d7ac, 3e87ef5...</td>\n",
       "      <td>3</td>\n",
       "      <td>0.007229</td>\n",
       "      <td>0</td>\n",
       "      <td>0.000000</td>\n",
       "      <td>3</td>\n",
       "      <td>0.006289</td>\n",
       "      <td>3</td>\n",
       "      <td>0.008086</td>\n",
       "      <td>3</td>\n",
       "      <td>0.010989</td>\n",
       "      <td>CNV_1_12850787_13048788</td>\n",
       "      <td>False</td>\n",
       "      <td>False</td>\n",
       "    </tr>\n",
       "    <tr>\n",
       "      <th>CNV_1_14411228_14652189_Original</th>\n",
       "      <td>1</td>\n",
       "      <td>14411228</td>\n",
       "      <td>14652189</td>\n",
       "      <td>CNV_1_14411228_14652189_Original</td>\n",
       "      <td>CNV_1_14411228_14652189_Original</td>\n",
       "      <td>240961</td>\n",
       "      <td>0</td>\n",
       "      <td>CNV_1_14411228_14652189_Original</td>\n",
       "      <td>[SAMEA2555011]</td>\n",
       "      <td>1</td>\n",
       "      <td>{u'SAMEA2555011': 2.96}</td>\n",
       "      <td>{u'SAMEA2555011': 3.0}</td>\n",
       "      <td>False</td>\n",
       "      <td>False</td>\n",
       "      <td>False</td>\n",
       "      <td>3206.270</td>\n",
       "      <td>24</td>\n",
       "      <td>0.002096</td>\n",
       "      <td>[3.0]</td>\n",
       "      <td>DUP</td>\n",
       "      <td>2</td>\n",
       "      <td>[SAMEA2555011]</td>\n",
       "      <td>[SAMEA2555011]</td>\n",
       "      <td>[SAMEA2555011]</td>\n",
       "      <td>[SAMEA2555011]</td>\n",
       "      <td>[]</td>\n",
       "      <td>1</td>\n",
       "      <td>0.002410</td>\n",
       "      <td>1</td>\n",
       "      <td>0.004902</td>\n",
       "      <td>1</td>\n",
       "      <td>0.002096</td>\n",
       "      <td>1</td>\n",
       "      <td>0.002695</td>\n",
       "      <td>0</td>\n",
       "      <td>0.000000</td>\n",
       "      <td>CNV_1_14411228_14652189</td>\n",
       "      <td>CNV_1_14438643_14643980_Stitched</td>\n",
       "      <td>CNV_1_14438643_14643980_Stitched,DUP_1_1440818...</td>\n",
       "    </tr>\n",
       "    <tr>\n",
       "      <th>CNV_1_25304729_25613744_Original</th>\n",
       "      <td>1</td>\n",
       "      <td>25304729</td>\n",
       "      <td>25613744</td>\n",
       "      <td>CNV_1_25304729_25613744_Original</td>\n",
       "      <td>CNV_1_25304729_25613744_Original</td>\n",
       "      <td>309015</td>\n",
       "      <td>0</td>\n",
       "      <td>CNV_1_25304729_25613744_Original</td>\n",
       "      <td>[00ac22e8-826e-49df-8216-04571b00ac21]</td>\n",
       "      <td>1</td>\n",
       "      <td>{u'00ac22e8-826e-49df-8216-04571b00ac21': 2.88}</td>\n",
       "      <td>{u'00ac22e8-826e-49df-8216-04571b00ac21': 3.0}</td>\n",
       "      <td>False</td>\n",
       "      <td>False</td>\n",
       "      <td>False</td>\n",
       "      <td>5879.520</td>\n",
       "      <td>30</td>\n",
       "      <td>0.002096</td>\n",
       "      <td>[3.0]</td>\n",
       "      <td>DUP</td>\n",
       "      <td>2</td>\n",
       "      <td>[00ac22e8-826e-49df-8216-04571b00ac21]</td>\n",
       "      <td>[]</td>\n",
       "      <td>[00ac22e8-826e-49df-8216-04571b00ac21]</td>\n",
       "      <td>[00ac22e8-826e-49df-8216-04571b00ac21]</td>\n",
       "      <td>[00ac22e8-826e-49df-8216-04571b00ac21]</td>\n",
       "      <td>1</td>\n",
       "      <td>0.002410</td>\n",
       "      <td>0</td>\n",
       "      <td>0.000000</td>\n",
       "      <td>1</td>\n",
       "      <td>0.002096</td>\n",
       "      <td>1</td>\n",
       "      <td>0.002695</td>\n",
       "      <td>1</td>\n",
       "      <td>0.003663</td>\n",
       "      <td>CNV_1_25304729_25613744</td>\n",
       "      <td>CNV_1_25329228_25579525_Stitched</td>\n",
       "      <td>CNV_1_25329228_25579525_Stitched</td>\n",
       "    </tr>\n",
       "  </tbody>\n",
       "</table>\n",
       "</div>"
      ],
      "text/plain": [
       "                                 CHROM     START       END  \\\n",
       "ID_Mod                                                       \n",
       "CNV_1_604061_851158_Original         1    604061    851158   \n",
       "CNV_1_12838794_13048788_Original     1  12838794  13048788   \n",
       "CNV_1_12850787_13048788_Original     1  12850787  13048788   \n",
       "CNV_1_14411228_14652189_Original     1  14411228  14652189   \n",
       "CNV_1_25304729_25613744_Original     1  25304729  25613744   \n",
       "\n",
       "                                                                ID  \\\n",
       "ID_Mod                                                               \n",
       "CNV_1_604061_851158_Original          CNV_1_604061_851158_Original   \n",
       "CNV_1_12838794_13048788_Original  CNV_1_12838794_13048788_Original   \n",
       "CNV_1_12850787_13048788_Original  CNV_1_12850787_13048788_Original   \n",
       "CNV_1_14411228_14652189_Original  CNV_1_14411228_14652189_Original   \n",
       "CNV_1_25304729_25613744_Original  CNV_1_25304729_25613744_Original   \n",
       "\n",
       "                                                            ID_Mod  LENGTH  \\\n",
       "ID_Mod                                                                       \n",
       "CNV_1_604061_851158_Original          CNV_1_604061_851158_Original  247097   \n",
       "CNV_1_12838794_13048788_Original  CNV_1_12838794_13048788_Original  209994   \n",
       "CNV_1_12850787_13048788_Original  CNV_1_12850787_13048788_Original  198001   \n",
       "CNV_1_14411228_14652189_Original  CNV_1_14411228_14652189_Original  240961   \n",
       "CNV_1_25304729_25613744_Original  CNV_1_25304729_25613744_Original  309015   \n",
       "\n",
       "                                  cluster_id  \\\n",
       "ID_Mod                                         \n",
       "CNV_1_604061_851158_Original               0   \n",
       "CNV_1_12838794_13048788_Original          47   \n",
       "CNV_1_12850787_13048788_Original          47   \n",
       "CNV_1_14411228_14652189_Original           0   \n",
       "CNV_1_25304729_25613744_Original           0   \n",
       "\n",
       "                                                     collapsed_site  \\\n",
       "ID_Mod                                                                \n",
       "CNV_1_604061_851158_Original           CNV_1_604061_851158_Original   \n",
       "CNV_1_12838794_13048788_Original  CNV_1_12838794_13048788_Collapsed   \n",
       "CNV_1_12850787_13048788_Original  CNV_1_12838794_13048788_Collapsed   \n",
       "CNV_1_14411228_14652189_Original   CNV_1_14411228_14652189_Original   \n",
       "CNV_1_25304729_25613744_Original   CNV_1_25304729_25613744_Original   \n",
       "\n",
       "                                                                         UUIDs_NREF  \\\n",
       "ID_Mod                                                                                \n",
       "CNV_1_604061_851158_Original      [251a999a-05dd-4ad8-a530-c188ecc5b795, 694fce3...   \n",
       "CNV_1_12838794_13048788_Original  [a5b3835e-ee57-43cc-ab9b-7bbafdd54284, 9065798...   \n",
       "CNV_1_12850787_13048788_Original  [f3284741-0362-4f47-8ee8-191acf41d7ac, 3e87ef5...   \n",
       "CNV_1_14411228_14652189_Original                                     [SAMEA2555011]   \n",
       "CNV_1_25304729_25613744_Original             [00ac22e8-826e-49df-8216-04571b00ac21]   \n",
       "\n",
       "                                  NREF  \\\n",
       "ID_Mod                                   \n",
       "CNV_1_604061_851158_Original         2   \n",
       "CNV_1_12838794_13048788_Original     2   \n",
       "CNV_1_12850787_13048788_Original     3   \n",
       "CNV_1_14411228_14652189_Original     1   \n",
       "CNV_1_25304729_25613744_Original     1   \n",
       "\n",
       "                                                                   COVERAGE_SAMPLES  \\\n",
       "ID_Mod                                                                                \n",
       "CNV_1_604061_851158_Original      {u'251a999a-05dd-4ad8-a530-c188ecc5b795': 2.93...   \n",
       "CNV_1_12838794_13048788_Original  {u'90657981-484d-444a-9b2b-9b479f84c8c6': 0.96...   \n",
       "CNV_1_12850787_13048788_Original  {u'3e87ef5c-48bc-4e37-a89d-2b71f6afa8f6': 3.03...   \n",
       "CNV_1_14411228_14652189_Original                            {u'SAMEA2555011': 2.96}   \n",
       "CNV_1_25304729_25613744_Original    {u'00ac22e8-826e-49df-8216-04571b00ac21': 2.88}   \n",
       "\n",
       "                                                                         CN_SAMPLES  \\\n",
       "ID_Mod                                                                                \n",
       "CNV_1_604061_851158_Original      {u'251a999a-05dd-4ad8-a530-c188ecc5b795': 3.0,...   \n",
       "CNV_1_12838794_13048788_Original  {u'90657981-484d-444a-9b2b-9b479f84c8c6': 1.0,...   \n",
       "CNV_1_12850787_13048788_Original  {u'3e87ef5c-48bc-4e37-a89d-2b71f6afa8f6': 3.0,...   \n",
       "CNV_1_14411228_14652189_Original                             {u'SAMEA2555011': 3.0}   \n",
       "CNV_1_25304729_25613744_Original     {u'00ac22e8-826e-49df-8216-04571b00ac21': 3.0}   \n",
       "\n",
       "                                  constituent_site  is_collapsed_site  \\\n",
       "ID_Mod                                                                  \n",
       "CNV_1_604061_851158_Original                 False              False   \n",
       "CNV_1_12838794_13048788_Original              True              False   \n",
       "CNV_1_12850787_13048788_Original              True              False   \n",
       "CNV_1_14411228_14652189_Original             False              False   \n",
       "CNV_1_25304729_25613744_Original             False              False   \n",
       "\n",
       "                                                                        cluster_str  \\\n",
       "ID_Mod                                                                                \n",
       "CNV_1_604061_851158_Original                                                  False   \n",
       "CNV_1_12838794_13048788_Original  CNV_1_12838794_13048788_Original,CNV_1_1285078...   \n",
       "CNV_1_12850787_13048788_Original  CNV_1_12838794_13048788_Original,CNV_1_1285078...   \n",
       "CNV_1_14411228_14652189_Original                                              False   \n",
       "CNV_1_25304729_25613744_Original                                              False   \n",
       "\n",
       "                                     SCORE  NBINS  NREF_PERC ALLELES_PRESENT  \\\n",
       "ID_Mod                                                                         \n",
       "CNV_1_604061_851158_Original      1562.675     13   0.004193           [3.0]   \n",
       "CNV_1_12838794_13048788_Original  1287.305     11   0.004193           [1.0]   \n",
       "CNV_1_12850787_13048788_Original  1691.360     10   0.006289           [3.0]   \n",
       "CNV_1_14411228_14652189_Original  3206.270     24   0.002096           [3.0]   \n",
       "CNV_1_25304729_25613744_Original  5879.520     30   0.002096           [3.0]   \n",
       "\n",
       "                                 SVTYPE  cn_mode  \\\n",
       "ID_Mod                                             \n",
       "CNV_1_604061_851158_Original        DUP        2   \n",
       "CNV_1_12838794_13048788_Original    DEL        2   \n",
       "CNV_1_12850787_13048788_Original    DUP        2   \n",
       "CNV_1_14411228_14652189_Original    DUP        2   \n",
       "CNV_1_25304729_25613744_Original    DUP        2   \n",
       "\n",
       "                                                                   SAMPLES_NREF_RNA  \\\n",
       "ID_Mod                                                                                \n",
       "CNV_1_604061_851158_Original                 [251a999a-05dd-4ad8-a530-c188ecc5b795]   \n",
       "CNV_1_12838794_13048788_Original  [a5b3835e-ee57-43cc-ab9b-7bbafdd54284, 9065798...   \n",
       "CNV_1_12850787_13048788_Original  [f3284741-0362-4f47-8ee8-191acf41d7ac, 3e87ef5...   \n",
       "CNV_1_14411228_14652189_Original                                     [SAMEA2555011]   \n",
       "CNV_1_25304729_25613744_Original             [00ac22e8-826e-49df-8216-04571b00ac21]   \n",
       "\n",
       "                                 SAMPLES_NREF_hipsci_fib  \\\n",
       "ID_Mod                                                     \n",
       "CNV_1_604061_851158_Original                          []   \n",
       "CNV_1_12838794_13048788_Original                      []   \n",
       "CNV_1_12850787_13048788_Original                      []   \n",
       "CNV_1_14411228_14652189_Original          [SAMEA2555011]   \n",
       "CNV_1_25304729_25613744_Original                      []   \n",
       "\n",
       "                                                                 SAMPLES_NREF_i2QTL  \\\n",
       "ID_Mod                                                                                \n",
       "CNV_1_604061_851158_Original      [251a999a-05dd-4ad8-a530-c188ecc5b795, 694fce3...   \n",
       "CNV_1_12838794_13048788_Original  [a5b3835e-ee57-43cc-ab9b-7bbafdd54284, 9065798...   \n",
       "CNV_1_12850787_13048788_Original  [f3284741-0362-4f47-8ee8-191acf41d7ac, 3e87ef5...   \n",
       "CNV_1_14411228_14652189_Original                                     [SAMEA2555011]   \n",
       "CNV_1_25304729_25613744_Original             [00ac22e8-826e-49df-8216-04571b00ac21]   \n",
       "\n",
       "                                                           SAMPLES_NREF_i2QTL_unrel  \\\n",
       "ID_Mod                                                                                \n",
       "CNV_1_604061_851158_Original                 [251a999a-05dd-4ad8-a530-c188ecc5b795]   \n",
       "CNV_1_12838794_13048788_Original             [a5b3835e-ee57-43cc-ab9b-7bbafdd54284]   \n",
       "CNV_1_12850787_13048788_Original  [f3284741-0362-4f47-8ee8-191acf41d7ac, 3e87ef5...   \n",
       "CNV_1_14411228_14652189_Original                                     [SAMEA2555011]   \n",
       "CNV_1_25304729_25613744_Original             [00ac22e8-826e-49df-8216-04571b00ac21]   \n",
       "\n",
       "                                                               SAMPLES_NREF_ipscore  \\\n",
       "ID_Mod                                                                                \n",
       "CNV_1_604061_851158_Original      [251a999a-05dd-4ad8-a530-c188ecc5b795, 694fce3...   \n",
       "CNV_1_12838794_13048788_Original  [a5b3835e-ee57-43cc-ab9b-7bbafdd54284, 9065798...   \n",
       "CNV_1_12850787_13048788_Original  [f3284741-0362-4f47-8ee8-191acf41d7ac, 3e87ef5...   \n",
       "CNV_1_14411228_14652189_Original                                                 []   \n",
       "CNV_1_25304729_25613744_Original             [00ac22e8-826e-49df-8216-04571b00ac21]   \n",
       "\n",
       "                                  NREF_RNA   MAF_RNA  NREF_hipsci_fib  \\\n",
       "ID_Mod                                                                  \n",
       "CNV_1_604061_851158_Original             1  0.002410                0   \n",
       "CNV_1_12838794_13048788_Original         2  0.004819                0   \n",
       "CNV_1_12850787_13048788_Original         3  0.007229                0   \n",
       "CNV_1_14411228_14652189_Original         1  0.002410                1   \n",
       "CNV_1_25304729_25613744_Original         1  0.002410                0   \n",
       "\n",
       "                                  MAF_hipsci_fib  NREF_i2QTL  MAF_i2QTL  \\\n",
       "ID_Mod                                                                    \n",
       "CNV_1_604061_851158_Original            0.000000           2   0.004193   \n",
       "CNV_1_12838794_13048788_Original        0.000000           2   0.004193   \n",
       "CNV_1_12850787_13048788_Original        0.000000           3   0.006289   \n",
       "CNV_1_14411228_14652189_Original        0.004902           1   0.002096   \n",
       "CNV_1_25304729_25613744_Original        0.000000           1   0.002096   \n",
       "\n",
       "                                  NREF_i2QTL_unrel  MAF_i2QTL_unrel  \\\n",
       "ID_Mod                                                                \n",
       "CNV_1_604061_851158_Original                     1         0.002695   \n",
       "CNV_1_12838794_13048788_Original                 1         0.002695   \n",
       "CNV_1_12850787_13048788_Original                 3         0.008086   \n",
       "CNV_1_14411228_14652189_Original                 1         0.002695   \n",
       "CNV_1_25304729_25613744_Original                 1         0.002695   \n",
       "\n",
       "                                  NREF_ipscore  MAF_ipscore  \\\n",
       "ID_Mod                                                        \n",
       "CNV_1_604061_851158_Original                 2     0.007326   \n",
       "CNV_1_12838794_13048788_Original             2     0.007326   \n",
       "CNV_1_12850787_13048788_Original             3     0.010989   \n",
       "CNV_1_14411228_14652189_Original             0     0.000000   \n",
       "CNV_1_25304729_25613744_Original             1     0.003663   \n",
       "\n",
       "                                              ID_original  \\\n",
       "ID_Mod                                                      \n",
       "CNV_1_604061_851158_Original          CNV_1_604061_851158   \n",
       "CNV_1_12838794_13048788_Original  CNV_1_12838794_13048788   \n",
       "CNV_1_12850787_13048788_Original  CNV_1_12850787_13048788   \n",
       "CNV_1_14411228_14652189_Original  CNV_1_14411228_14652189   \n",
       "CNV_1_25304729_25613744_Original  CNV_1_25304729_25613744   \n",
       "\n",
       "                                                        MC_cluster  \\\n",
       "ID_Mod                                                               \n",
       "CNV_1_604061_851158_Original                                 False   \n",
       "CNV_1_12838794_13048788_Original                             False   \n",
       "CNV_1_12850787_13048788_Original                             False   \n",
       "CNV_1_14411228_14652189_Original  CNV_1_14438643_14643980_Stitched   \n",
       "CNV_1_25304729_25613744_Original  CNV_1_25329228_25579525_Stitched   \n",
       "\n",
       "                                                                     MC_cluster_all  \n",
       "ID_Mod                                                                               \n",
       "CNV_1_604061_851158_Original                                                  False  \n",
       "CNV_1_12838794_13048788_Original                                              False  \n",
       "CNV_1_12850787_13048788_Original                                              False  \n",
       "CNV_1_14411228_14652189_Original  CNV_1_14438643_14643980_Stitched,DUP_1_1440818...  \n",
       "CNV_1_25304729_25613744_Original                   CNV_1_25329228_25579525_Stitched  "
      ]
     },
     "execution_count": 38,
     "metadata": {},
     "output_type": "execute_result"
    }
   ],
   "source": [
    "info_merged_annot[(info_merged_annot.MC_cluster == False) & (info_merged_annot.constituent_site == False)]"
   ]
  },
  {
   "cell_type": "code",
   "execution_count": 52,
   "metadata": {},
   "outputs": [],
   "source": [
    "inds = info_merged_annot[info_merged_annot.MC_cluster_all != False].collapsed_site.unique().tolist()"
   ]
  },
  {
   "cell_type": "code",
   "execution_count": 57,
   "metadata": {},
   "outputs": [],
   "source": [
    "info_uniq = info_merged_annot[~info_merged_annot.collapsed_site.isin(inds)]"
   ]
  },
  {
   "cell_type": "code",
   "execution_count": 62,
   "metadata": {},
   "outputs": [
    {
     "data": {
      "text/plain": [
       "(658, 39)"
      ]
     },
     "execution_count": 62,
     "metadata": {},
     "output_type": "execute_result"
    }
   ],
   "source": [
    "info_merged_annot[info_merged_annot.is_collapsed_site == False].shape"
   ]
  },
  {
   "cell_type": "code",
   "execution_count": 63,
   "metadata": {},
   "outputs": [
    {
     "data": {
      "text/plain": [
       "(73, 39)"
      ]
     },
     "execution_count": 63,
     "metadata": {},
     "output_type": "execute_result"
    }
   ],
   "source": [
    "info_merged_annot[info_merged_annot.is_collapsed_site].shape"
   ]
  },
  {
   "cell_type": "code",
   "execution_count": 85,
   "metadata": {},
   "outputs": [
    {
     "data": {
      "text/html": [
       "<div>\n",
       "<style scoped>\n",
       "    .dataframe tbody tr th:only-of-type {\n",
       "        vertical-align: middle;\n",
       "    }\n",
       "\n",
       "    .dataframe tbody tr th {\n",
       "        vertical-align: top;\n",
       "    }\n",
       "\n",
       "    .dataframe thead th {\n",
       "        text-align: right;\n",
       "    }\n",
       "</style>\n",
       "<table border=\"1\" class=\"dataframe\">\n",
       "  <thead>\n",
       "    <tr style=\"text-align: right;\">\n",
       "      <th></th>\n",
       "      <th>clust</th>\n",
       "      <th>num_in_clust</th>\n",
       "      <th>merge_site</th>\n",
       "      <th>cnvs_in_merge</th>\n",
       "      <th>other_cnvs</th>\n",
       "      <th>num_other</th>\n",
       "      <th>color_dict_all</th>\n",
       "      <th>ls_dict</th>\n",
       "    </tr>\n",
       "  </thead>\n",
       "  <tbody>\n",
       "    <tr>\n",
       "      <th>0</th>\n",
       "      <td>[CNV_7_111230085_111331383, CNV_7_111230085_11...</td>\n",
       "      <td>2</td>\n",
       "      <td>CNV_7_111230085_111341400</td>\n",
       "      <td>[CNV_7_110874380_111281320, CNV_7_111230085_11...</td>\n",
       "      <td>{CNV_7_110874380_111281320}</td>\n",
       "      <td>1</td>\n",
       "      <td>{u'CNV_7_111230085_111331383': (0.105882352941...</td>\n",
       "      <td>{u'CNV_7_111230085_111331383': u'-', u'CNV_7_1...</td>\n",
       "    </tr>\n",
       "    <tr>\n",
       "      <th>1</th>\n",
       "      <td>[CNV_4_69369823_69508142, CNV_4_69349823_69487...</td>\n",
       "      <td>9</td>\n",
       "      <td>CNV_4_69349823_69518697</td>\n",
       "      <td>[CNV_4_69349823_69487607, CNV_4_69349823_69497...</td>\n",
       "      <td>{}</td>\n",
       "      <td>0</td>\n",
       "      <td>{u'CNV_4_69369823_69508142': (0.45882352941176...</td>\n",
       "      <td>{u'CNV_4_69369823_69508142': u'-', u'CNV_4_693...</td>\n",
       "    </tr>\n",
       "    <tr>\n",
       "      <th>2</th>\n",
       "      <td>[CNV_15_20627249_22381827, CNV_15_20886577_223...</td>\n",
       "      <td>9</td>\n",
       "      <td>CNV_15_20627249_22381827</td>\n",
       "      <td>[CNV_15_20627249_21009005, CNV_15_20627249_212...</td>\n",
       "      <td>{CNV_15_20886577_23514853, CNV_15_20962559_213...</td>\n",
       "      <td>8</td>\n",
       "      <td>{u'CNV_15_20886577_23514853': (0.8509803921568...</td>\n",
       "      <td>{u'CNV_15_20886577_23514853': u'--', u'CNV_15_...</td>\n",
       "    </tr>\n",
       "    <tr>\n",
       "      <th>3</th>\n",
       "      <td>[CNV_9_43612111_43838185, CNV_9_43540099_43838...</td>\n",
       "      <td>10</td>\n",
       "      <td>CNV_9_43540099_43946569</td>\n",
       "      <td>[CNV_9_40816961_43838185, CNV_9_43180545_43612...</td>\n",
       "      <td>{CNV_9_43313699_43595192, CNV_9_43420885_43630...</td>\n",
       "      <td>17</td>\n",
       "      <td>{u'CNV_9_43580829_43797857': (0.10588235294117...</td>\n",
       "      <td>{u'CNV_9_43580829_43797857': u'-', u'CNV_9_435...</td>\n",
       "    </tr>\n",
       "    <tr>\n",
       "      <th>4</th>\n",
       "      <td>[CNV_8_39215187_39407299, CNV_8_39235193_39427...</td>\n",
       "      <td>19</td>\n",
       "      <td>CNV_8_39185117_39427382</td>\n",
       "      <td>[CNV_8_39185117_39387299, CNV_8_39195117_39387...</td>\n",
       "      <td>{}</td>\n",
       "      <td>0</td>\n",
       "      <td>{u'CNV_8_39215187_39407299': (0.45882352941176...</td>\n",
       "      <td>{u'CNV_8_39215187_39407299': u'-', u'CNV_8_392...</td>\n",
       "    </tr>\n",
       "  </tbody>\n",
       "</table>\n",
       "</div>"
      ],
      "text/plain": [
       "                                               clust  num_in_clust  \\\n",
       "0  [CNV_7_111230085_111331383, CNV_7_111230085_11...             2   \n",
       "1  [CNV_4_69369823_69508142, CNV_4_69349823_69487...             9   \n",
       "2  [CNV_15_20627249_22381827, CNV_15_20886577_223...             9   \n",
       "3  [CNV_9_43612111_43838185, CNV_9_43540099_43838...            10   \n",
       "4  [CNV_8_39215187_39407299, CNV_8_39235193_39427...            19   \n",
       "\n",
       "                  merge_site  \\\n",
       "0  CNV_7_111230085_111341400   \n",
       "1    CNV_4_69349823_69518697   \n",
       "2   CNV_15_20627249_22381827   \n",
       "3    CNV_9_43540099_43946569   \n",
       "4    CNV_8_39185117_39427382   \n",
       "\n",
       "                                       cnvs_in_merge  \\\n",
       "0  [CNV_7_110874380_111281320, CNV_7_111230085_11...   \n",
       "1  [CNV_4_69349823_69487607, CNV_4_69349823_69497...   \n",
       "2  [CNV_15_20627249_21009005, CNV_15_20627249_212...   \n",
       "3  [CNV_9_40816961_43838185, CNV_9_43180545_43612...   \n",
       "4  [CNV_8_39185117_39387299, CNV_8_39195117_39387...   \n",
       "\n",
       "                                          other_cnvs  num_other  \\\n",
       "0                        {CNV_7_110874380_111281320}          1   \n",
       "1                                                 {}          0   \n",
       "2  {CNV_15_20886577_23514853, CNV_15_20962559_213...          8   \n",
       "3  {CNV_9_43313699_43595192, CNV_9_43420885_43630...         17   \n",
       "4                                                 {}          0   \n",
       "\n",
       "                                      color_dict_all  \\\n",
       "0  {u'CNV_7_111230085_111331383': (0.105882352941...   \n",
       "1  {u'CNV_4_69369823_69508142': (0.45882352941176...   \n",
       "2  {u'CNV_15_20886577_23514853': (0.8509803921568...   \n",
       "3  {u'CNV_9_43580829_43797857': (0.10588235294117...   \n",
       "4  {u'CNV_8_39215187_39407299': (0.45882352941176...   \n",
       "\n",
       "                                             ls_dict  \n",
       "0  {u'CNV_7_111230085_111331383': u'-', u'CNV_7_1...  \n",
       "1  {u'CNV_4_69369823_69508142': u'-', u'CNV_4_693...  \n",
       "2  {u'CNV_15_20886577_23514853': u'--', u'CNV_15_...  \n",
       "3  {u'CNV_9_43580829_43797857': u'-', u'CNV_9_435...  \n",
       "4  {u'CNV_8_39215187_39407299': u'-', u'CNV_8_392...  "
      ]
     },
     "execution_count": 85,
     "metadata": {},
     "output_type": "execute_result"
    }
   ],
   "source": [
    "cluster_info_lcnv.num_in_clust.value_counts"
   ]
  },
  {
   "cell_type": "code",
   "execution_count": 90,
   "metadata": {},
   "outputs": [
    {
     "data": {
      "text/plain": [
       "(731, 39)"
      ]
     },
     "execution_count": 90,
     "metadata": {},
     "output_type": "execute_result"
    }
   ],
   "source": [
    "info_merged_annot.shape"
   ]
  },
  {
   "cell_type": "code",
   "execution_count": 67,
   "metadata": {},
   "outputs": [
    {
     "data": {
      "text/plain": [
       "(299, 39)"
      ]
     },
     "execution_count": 67,
     "metadata": {},
     "output_type": "execute_result"
    }
   ],
   "source": [
    "info_merged_annot[info_merged_annot.constituent_site == True].shape"
   ]
  },
  {
   "cell_type": "code",
   "execution_count": 70,
   "metadata": {},
   "outputs": [
    {
     "data": {
      "text/plain": [
       "<matplotlib.axes._subplots.AxesSubplot at 0x7f818bf56790>"
      ]
     },
     "execution_count": 70,
     "metadata": {},
     "output_type": "execute_result"
    },
    {
     "data": {
      "image/png": "[encoded data removed]",
      "text/plain": [
       "<Figure size 432x288 with 1 Axes>"
      ]
     },
     "metadata": {
      "needs_background": "light"
     },
     "output_type": "display_data"
    }
   ],
   "source": [
    "info_unfilt.SAMPLE.value_counts().hist()"
   ]
  },
  {
   "cell_type": "code",
   "execution_count": 265,
   "metadata": {},
   "outputs": [],
   "source": [
    "num_merged_per = cluster_info_lcnv.num_in_clust.value_counts().sort_index()"
   ]
  },
  {
   "cell_type": "code",
   "execution_count": 32,
   "metadata": {},
   "outputs": [
    {
     "data": {
      "text/plain": [
       "<matplotlib.axes._subplots.AxesSubplot at 0x7f818c076b50>"
      ]
     },
     "execution_count": 32,
     "metadata": {},
     "output_type": "execute_result"
    },
    {
     "data": {
      "image/png": "[encoded data removed]",
      "text/plain": [
       "<Figure size 432x288 with 1 Axes>"
      ]
     },
     "metadata": {
      "needs_background": "light"
     },
     "output_type": "display_data"
    }
   ],
   "source": [
    "gs_lcnv_info_merged[gs_lcnv_info_merged.constituent_site == False].NREF_PERC.hist(bins = 20)"
   ]
  },
  {
   "cell_type": "code",
   "execution_count": 91,
   "metadata": {},
   "outputs": [
    {
     "data": {
      "text/html": [
       "<div>\n",
       "<style scoped>\n",
       "    .dataframe tbody tr th:only-of-type {\n",
       "        vertical-align: middle;\n",
       "    }\n",
       "\n",
       "    .dataframe tbody tr th {\n",
       "        vertical-align: top;\n",
       "    }\n",
       "\n",
       "    .dataframe thead th {\n",
       "        text-align: right;\n",
       "    }\n",
       "</style>\n",
       "<table border=\"1\" class=\"dataframe\">\n",
       "  <thead>\n",
       "    <tr style=\"text-align: right;\">\n",
       "      <th></th>\n",
       "      <th>CHROM</th>\n",
       "      <th>START</th>\n",
       "      <th>END</th>\n",
       "      <th>ID</th>\n",
       "      <th>ID_Mod</th>\n",
       "      <th>LENGTH</th>\n",
       "      <th>cluster_id</th>\n",
       "      <th>collapsed_site</th>\n",
       "      <th>UUIDs_NREF</th>\n",
       "      <th>NREF</th>\n",
       "      <th>COVERAGE_SAMPLES</th>\n",
       "      <th>CN_SAMPLES</th>\n",
       "      <th>constituent_site</th>\n",
       "      <th>is_collapsed_site</th>\n",
       "      <th>cluster_str</th>\n",
       "      <th>SCORE</th>\n",
       "      <th>NBINS</th>\n",
       "      <th>NREF_PERC</th>\n",
       "      <th>ALLELES_PRESENT</th>\n",
       "      <th>SVTYPE</th>\n",
       "      <th>cn_mode</th>\n",
       "    </tr>\n",
       "    <tr>\n",
       "      <th>ID_Mod</th>\n",
       "      <th></th>\n",
       "      <th></th>\n",
       "      <th></th>\n",
       "      <th></th>\n",
       "      <th></th>\n",
       "      <th></th>\n",
       "      <th></th>\n",
       "      <th></th>\n",
       "      <th></th>\n",
       "      <th></th>\n",
       "      <th></th>\n",
       "      <th></th>\n",
       "      <th></th>\n",
       "      <th></th>\n",
       "      <th></th>\n",
       "      <th></th>\n",
       "      <th></th>\n",
       "      <th></th>\n",
       "      <th></th>\n",
       "      <th></th>\n",
       "      <th></th>\n",
       "    </tr>\n",
       "  </thead>\n",
       "  <tbody>\n",
       "    <tr>\n",
       "      <th>CNV_1_188333648_195825761_Original</th>\n",
       "      <td>1</td>\n",
       "      <td>188333648</td>\n",
       "      <td>195825761</td>\n",
       "      <td>CNV_1_188333648_195825761</td>\n",
       "      <td>CNV_1_188333648_195825761_Original</td>\n",
       "      <td>7492113</td>\n",
       "      <td>0</td>\n",
       "      <td>CNV_1_188333648_195825761_Original</td>\n",
       "      <td>[SAMEA2398117]</td>\n",
       "      <td>1</td>\n",
       "      <td>{u'SAMEA2398117': 3.0}</td>\n",
       "      <td>{u'SAMEA2398117': 3.0}</td>\n",
       "      <td>False</td>\n",
       "      <td>False</td>\n",
       "      <td>False</td>\n",
       "      <td>95005.92</td>\n",
       "      <td>742</td>\n",
       "      <td>0.002096</td>\n",
       "      <td>[3.0]</td>\n",
       "      <td>DUP</td>\n",
       "      <td>2</td>\n",
       "    </tr>\n",
       "  </tbody>\n",
       "</table>\n",
       "</div>"
      ],
      "text/plain": [
       "                                   CHROM      START        END  \\\n",
       "ID_Mod                                                           \n",
       "CNV_1_188333648_195825761_Original     1  188333648  195825761   \n",
       "\n",
       "                                                           ID  \\\n",
       "ID_Mod                                                          \n",
       "CNV_1_188333648_195825761_Original  CNV_1_188333648_195825761   \n",
       "\n",
       "                                                                ID_Mod  \\\n",
       "ID_Mod                                                                   \n",
       "CNV_1_188333648_195825761_Original  CNV_1_188333648_195825761_Original   \n",
       "\n",
       "                                     LENGTH  cluster_id  \\\n",
       "ID_Mod                                                    \n",
       "CNV_1_188333648_195825761_Original  7492113           0   \n",
       "\n",
       "                                                        collapsed_site  \\\n",
       "ID_Mod                                                                   \n",
       "CNV_1_188333648_195825761_Original  CNV_1_188333648_195825761_Original   \n",
       "\n",
       "                                        UUIDs_NREF  NREF  \\\n",
       "ID_Mod                                                     \n",
       "CNV_1_188333648_195825761_Original  [SAMEA2398117]     1   \n",
       "\n",
       "                                          COVERAGE_SAMPLES  \\\n",
       "ID_Mod                                                       \n",
       "CNV_1_188333648_195825761_Original  {u'SAMEA2398117': 3.0}   \n",
       "\n",
       "                                                CN_SAMPLES  constituent_site  \\\n",
       "ID_Mod                                                                         \n",
       "CNV_1_188333648_195825761_Original  {u'SAMEA2398117': 3.0}             False   \n",
       "\n",
       "                                    is_collapsed_site cluster_str     SCORE  \\\n",
       "ID_Mod                                                                        \n",
       "CNV_1_188333648_195825761_Original              False       False  95005.92   \n",
       "\n",
       "                                    NBINS  NREF_PERC ALLELES_PRESENT SVTYPE  \\\n",
       "ID_Mod                                                                        \n",
       "CNV_1_188333648_195825761_Original    742   0.002096           [3.0]    DUP   \n",
       "\n",
       "                                    cn_mode  \n",
       "ID_Mod                                       \n",
       "CNV_1_188333648_195825761_Original        2  "
      ]
     },
     "execution_count": 91,
     "metadata": {},
     "output_type": "execute_result"
    }
   ],
   "source": [
    "gs_lcnv_info_merged[gs_lcnv_info_merged.LENGTH == gs_lcnv_info_merged.LENGTH.max()]"
   ]
  },
  {
   "cell_type": "markdown",
   "metadata": {},
   "source": [
    "# Palettes"
   ]
  },
  {
   "cell_type": "code",
   "execution_count": 359,
   "metadata": {},
   "outputs": [],
   "source": [
    "study_color_dict = {'HipSci': '#96b9f2', 'iPSCORE': '#95f1b0', 'HLI':'black'}\n",
    "ethnicity_color_dict = {'African': '#baced8', 'Non African': '#6b818c'}\n",
    "cell_type_color_dict = {'Blood': '#efe4bf', 'Fibroblast': '#dce8b2', 'iPSC':'#c2d6c8'}\n",
    "colors_underbar_dict = study_color_dict\n",
    "colors_underbar_dict.update(ethnicity_color_dict)\n",
    "colors_underbar_dict.update(cell_type_color_dict)\n",
    "\n",
    "color_pal_svtypes_all = pd.read_pickle('/frazer01/projects/hipsci/analysis/i2QTL-sv-analysis/private_output/Figures/color_pal_svtypes_all.pkl').to_dict()"
   ]
  },
  {
   "cell_type": "code",
   "execution_count": 365,
   "metadata": {},
   "outputs": [],
   "source": [
    "pal = {'DEL': 'red', 'DUP': 'green', 'mCNV':'orange'}"
   ]
  },
  {
   "cell_type": "markdown",
   "metadata": {},
   "source": [
    "# Figure"
   ]
  },
  {
   "cell_type": "code",
   "execution_count": 218,
   "metadata": {},
   "outputs": [],
   "source": [
    "mpl.rcParams['axes.labelpad'] = 2\n",
    "mpl.rcParams['axes.titlesize'] = 10\n",
    "mpl.rcParams['axes.labelsize'] = 10\n",
    "mpl.rcParams['ytick.labelsize'] = 8\n",
    "mpl.rcParams['xtick.labelsize'] = 8\n",
    "\n",
    "mpl.rcParams['axes.labelweight'] = 'bold'\n",
    "\n",
    "\n",
    "mpl.gridspec.rcParams['axes.labelpad'] = 2\n",
    "mpl.gridspec.rcParams['axes.titlesize'] = 10\n",
    "mpl.gridspec.rcParams['axes.labelsize'] = 10\n",
    "mpl.gridspec.rcParams['ytick.labelsize'] = 8\n",
    "mpl.gridspec.rcParams['xtick.labelsize'] = 8\n",
    "mpl.gridspec.rcParams['axes.labelweight'] = 'bold'"
   ]
  },
  {
   "cell_type": "code",
   "execution_count": 317,
   "metadata": {},
   "outputs": [],
   "source": [
    "def format_easy_read_log(x, log10 = False, rounding = 1, ints = False):\n",
    "    \"\"\" input list of tick locations, output formatted ticks \n",
    "    with bp,kbpb, MB annotations - log: if the ticks\n",
    "    are log scaled- what base is the log scale \n",
    "    example: log=10 for log base 10\"\"\"\n",
    "    if log10:\n",
    "        input_ticks = [(10**i) for i in x]\n",
    "    else:\n",
    "        input_ticks = x    \n",
    "    out = []\n",
    "    for t in input_ticks: \n",
    "        if t < 1000:\n",
    "            if not ints:\n",
    "                f = copy.deepcopy(t)\n",
    "            else:\n",
    "                f = int(t)\n",
    "        \n",
    "        elif t > 100000:\n",
    "            if not ints:\n",
    "                f = \"{}M\".format(round((t/1000000), rounding))\n",
    "            else:\n",
    "                f = \"{}M\".format(int(round((t/1000000), rounding)))\n",
    "            \n",
    "        elif t >= 1000:\n",
    "            if not ints:\n",
    "                f = \"{}K\".format(round((t/1000), rounding))\n",
    "            else:\n",
    "                 f = \"{}K\".format(int(round((t/1000), rounding)))\n",
    "            \n",
    "        else:\n",
    "            return 'missed case'\n",
    "        out.append(f)\n",
    "    \n",
    "    return out\n",
    "\n"
   ]
  },
  {
   "cell_type": "code",
   "execution_count": 389,
   "metadata": {},
   "outputs": [
    {
     "name": "stderr",
     "output_type": "stream",
     "text": [
      "/frazer01/home/djakubosky/software/anaconda/lib/python2.7/site-packages/pandas/plotting/_core.py:186: UserWarning: 'colors' is being deprecated. Please use 'color'instead of 'colors'\n",
      "  warnings.warn((\"'colors' is being deprecated. Please use 'color'\"\n"
     ]
    },
    {
     "data": {
      "image/png": "[encoded data removed]",
      "text/plain": [
       "<Figure size 2800x2800 with 6 Axes>"
      ]
     },
     "metadata": {
      "needs_background": "light"
     },
     "output_type": "display_data"
    }
   ],
   "source": [
    "fig =plt.figure(figsize=(7,7), dpi = 400)\n",
    "gs = mpl.gridspec.GridSpec(3, 2, \n",
    "                           figure =fig,\n",
    "                           width_ratios=[1, 1], height_ratios=[0.6,0.6, 1], wspace = 0.5, hspace=0.6)\n",
    "\n",
    "\n",
    "# ax1 = fig.add_subplot(gs[0,0])\n",
    "# ax2 = fig.add_subplot(gs[0,1])\n",
    "with sns.axes_style('whitegrid'):\n",
    "    ax1 = fig.add_subplot(gs[0,0])\n",
    "    ax2 = fig.add_subplot(gs[0,1])\n",
    "    ax1.xaxis.grid(zorder=0)\n",
    "    ax2.xaxis.grid(zorder=0)\n",
    "    \n",
    "    \n",
    "    ax1 = sns.barplot(y = 'Stage', x = 'No. Variants', data = p, ax =ax1, color = 'grey')\n",
    "    ax1.set_ylabel('')\n",
    "\n",
    "    ax2 = sns.barplot(y = 'No. Clusters', x = 'No. Sites in Cluster', data = num_merged_per, \n",
    "                      ax =ax2, color = 'grey')\n",
    "    ax2.set_ylabel('')\n",
    "    ax2.tick_params(axis= 'x', labelrotation = 45)\n",
    "\n",
    "    ax3 = fig.add_subplot(gs[1,0])\n",
    "    ax3.hist(pp_summary.percent_concordant, bins = 10, color = 'grey')\n",
    "    ax3.set_xlabel('Replication Percentage (Twins)')\n",
    "    ax3.set_yticks(np.arange(0,15, 3))\n",
    "    ax3.set_ylabel('No. Pairs')    \n",
    "    ax4 = fig.add_subplot(gs[1,1])\n",
    "\n",
    "sns.violinplot(y = 'SVTYPE', x= 'log10_SVLEN', data = info_merged_nr, palette = pal,\n",
    "              order = ['DEL', 'DUP', 'mCNV'], cut = 0)\n",
    "locs =[100000, 500000, 1000000, 5000000]\n",
    "t = mpltools.format_base_pair_scale(locs, log10=False)\n",
    "xtick_locs = [np.log10(i) for i in locs]\n",
    "ax4.set_xticks(xtick_locs)\n",
    "ax4.set_xticklabels(t)\n",
    "ax4.tick_params(axis = 'x', labelrotation = 45)\n",
    "ax4.set_ylabel('')\n",
    "\n",
    "sg = gridspec.GridSpecFromSubplotSpec(2, 1,  width_ratios=[1], height_ratios=[1, 0.4], subplot_spec=gs[2,:], wspace=0.02, hspace=0)\n",
    "\n",
    "ax3_a = fig.add_subplot(sg[0])\n",
    "ax3_b = fig.add_subplot(sg[1])\n",
    "\n",
    "c = ['DEL', 'DUP']\n",
    "\n",
    "ax5_a, ax5_b, leg3 = plot_per_sample_barplot(per_sample_cnvs, \n",
    "                              c, [pal[i] for i in c], ax3_a, ax3_b)\n",
    "ax5_a.legend(bbox_to_anchor= (0,1), loc = 'upper left', fontsize = 6)\n",
    "ax5_a.yaxis.grid(zorder=0)\n",
    "ax5_a.set_ylabel('No. Sites')\n",
    "labels_underbar = ['Blood', 'Fibroblast', 'iPSC', 'African', 'Non African']\n",
    "colors_underbar = [colors_underbar_dict[i] for i in labels_underbar]\n",
    "patches = mpltools.get_legend_patches(labels_underbar, just_rect=True, rectfacecolor=colors_underbar)\n",
    "leg = ax5_b.legend(handles = patches, bbox_to_anchor = [0,0], loc = 'upper left', ncol = 5, fontsize = 8,\n",
    "                  title = '')\n",
    "\n",
    "\n",
    "labels = ['A', 'B', 'C', 'D', 'E']\n",
    "for i, a in enumerate([ax1, ax2, ax3, ax4, ax5_a]):\n",
    "    mpltools.label_offset_axes(a, fig, labels[i], x = -20, y = 10)\n",
    "    \n",
    "out_fn = private_out + '/Supplemental_Figure_GS_LCNV_QC.png'\n",
    "fig.savefig(out_fn, bbox_inches='tight', dpi = 400)\n"
   ]
  },
  {
   "cell_type": "code",
   "execution_count": 320,
   "metadata": {},
   "outputs": [
    {
     "data": {
      "text/plain": [
       "['31.6kb', '0.1MB', '0.32MB', '1.0MB', '3.16MB', '10.0MB', '31.62MB']"
      ]
     },
     "execution_count": 320,
     "metadata": {},
     "output_type": "execute_result"
    }
   ],
   "source": [
    "t"
   ]
  },
  {
   "cell_type": "code",
   "execution_count": null,
   "metadata": {},
   "outputs": [],
   "source": [
    "mpltools.format_base_pair_scale()"
   ]
  },
  {
   "cell_type": "code",
   "execution_count": 290,
   "metadata": {},
   "outputs": [
    {
     "data": {
      "text/html": [
       "<div>\n",
       "<style scoped>\n",
       "    .dataframe tbody tr th:only-of-type {\n",
       "        vertical-align: middle;\n",
       "    }\n",
       "\n",
       "    .dataframe tbody tr th {\n",
       "        vertical-align: top;\n",
       "    }\n",
       "\n",
       "    .dataframe thead th {\n",
       "        text-align: right;\n",
       "    }\n",
       "</style>\n",
       "<table border=\"1\" class=\"dataframe\">\n",
       "  <thead>\n",
       "    <tr style=\"text-align: right;\">\n",
       "      <th></th>\n",
       "      <th>No. Clusters</th>\n",
       "      <th>No. Sites in Cluster</th>\n",
       "    </tr>\n",
       "  </thead>\n",
       "  <tbody>\n",
       "    <tr>\n",
       "      <th>2</th>\n",
       "      <td>43</td>\n",
       "      <td>2</td>\n",
       "    </tr>\n",
       "    <tr>\n",
       "      <th>3</th>\n",
       "      <td>10</td>\n",
       "      <td>3</td>\n",
       "    </tr>\n",
       "    <tr>\n",
       "      <th>4</th>\n",
       "      <td>3</td>\n",
       "      <td>4</td>\n",
       "    </tr>\n",
       "    <tr>\n",
       "      <th>5</th>\n",
       "      <td>1</td>\n",
       "      <td>5</td>\n",
       "    </tr>\n",
       "    <tr>\n",
       "      <th>6</th>\n",
       "      <td>1</td>\n",
       "      <td>6</td>\n",
       "    </tr>\n",
       "    <tr>\n",
       "      <th>7</th>\n",
       "      <td>4</td>\n",
       "      <td>7</td>\n",
       "    </tr>\n",
       "    <tr>\n",
       "      <th>8</th>\n",
       "      <td>1</td>\n",
       "      <td>8</td>\n",
       "    </tr>\n",
       "    <tr>\n",
       "      <th>9</th>\n",
       "      <td>3</td>\n",
       "      <td>9</td>\n",
       "    </tr>\n",
       "    <tr>\n",
       "      <th>10</th>\n",
       "      <td>1</td>\n",
       "      <td>10</td>\n",
       "    </tr>\n",
       "    <tr>\n",
       "      <th>11</th>\n",
       "      <td>1</td>\n",
       "      <td>11</td>\n",
       "    </tr>\n",
       "    <tr>\n",
       "      <th>12</th>\n",
       "      <td>1</td>\n",
       "      <td>12</td>\n",
       "    </tr>\n",
       "    <tr>\n",
       "      <th>13</th>\n",
       "      <td>1</td>\n",
       "      <td>13</td>\n",
       "    </tr>\n",
       "    <tr>\n",
       "      <th>15</th>\n",
       "      <td>1</td>\n",
       "      <td>15</td>\n",
       "    </tr>\n",
       "    <tr>\n",
       "      <th>17</th>\n",
       "      <td>1</td>\n",
       "      <td>17</td>\n",
       "    </tr>\n",
       "    <tr>\n",
       "      <th>19</th>\n",
       "      <td>1</td>\n",
       "      <td>19</td>\n",
       "    </tr>\n",
       "  </tbody>\n",
       "</table>\n",
       "</div>"
      ],
      "text/plain": [
       "    No. Clusters  No. Sites in Cluster\n",
       "2             43                     2\n",
       "3             10                     3\n",
       "4              3                     4\n",
       "5              1                     5\n",
       "6              1                     6\n",
       "7              4                     7\n",
       "8              1                     8\n",
       "9              3                     9\n",
       "10             1                    10\n",
       "11             1                    11\n",
       "12             1                    12\n",
       "13             1                    13\n",
       "15             1                    15\n",
       "17             1                    17\n",
       "19             1                    19"
      ]
     },
     "execution_count": 290,
     "metadata": {},
     "output_type": "execute_result"
    }
   ],
   "source": [
    "num_merged_per"
   ]
  },
  {
   "cell_type": "code",
   "execution_count": 286,
   "metadata": {},
   "outputs": [],
   "source": [
    "num_merged_per = num_merged_per.to_frame('No. Clusters')\n",
    "\n",
    "num_merged_per['No. Sites in Cluster'] = num_merged_per.index"
   ]
  }
 ],
 "metadata": {
  "kernelspec": {
   "display_name": "Python 2",
   "language": "python",
   "name": "python2"
  },
  "language_info": {
   "codemirror_mode": {
    "name": "ipython",
    "version": 2
   },
   "file_extension": ".py",
   "mimetype": "text/x-python",
   "name": "python",
   "nbconvert_exporter": "python",
   "pygments_lexer": "ipython2",
   "version": "2.7.15"
  }
 },
 "nbformat": 4,
 "nbformat_minor": 2
}
