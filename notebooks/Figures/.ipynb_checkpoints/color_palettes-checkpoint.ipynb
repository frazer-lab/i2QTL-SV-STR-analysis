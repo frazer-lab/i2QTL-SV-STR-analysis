{
 "cells": [
  {
   "cell_type": "code",
   "execution_count": 67,
   "metadata": {},
   "outputs": [],
   "source": [
    "%matplotlib inline\n",
    "from __future__ import division\n",
    "import numpy as np\n",
    "import os\n",
    "import sys\n",
    "import datetime\n",
    "from subprocess import call\n",
    "import subprocess\n",
    "import glob\n",
    "\n",
    "import warnings\n",
    "warnings.simplefilter(action='ignore', category=FutureWarning)\n",
    "import djPyi2 as DJ\n",
    "from djPyi2 import Common as CM\n",
    "from djPyi2 import mpltools\n",
    "\n",
    "import pandas as pd\n",
    "pd.options.mode.chained_assignment = None\n",
    "import csv\n",
    "import seaborn as sns\n",
    "import matplotlib as mpl\n",
    "import matplotlib.pyplot as plt\n",
    "import copy \n",
    "import pybedtools as pbt\n",
    "import ciepy\n",
    "import cardipspy as cpy\n",
    "import itertools\n",
    "import tempfile\n",
    "import six\n",
    "import networkx as nx\n",
    "import scipy.stats as stats\n",
    "pd.set_option('display.max_columns', 500)\n",
    "pd.set_option('display.max_rows', 100)\n",
    "from mpl_toolkits.axes_grid1 import  make_axes_locatable\n",
    "import datetime\n",
    "\n",
    "from scipy.stats import mode\n",
    "dy_name = 'Figures'\n",
    "\n",
    "private_out = os.path.join(DJ.root, 'private_output', dy_name)\n",
    "if not os.path.exists(private_out):\n",
    "    DJ.makedir(private_out)\n",
    "import vapeplot"
   ]
  },
  {
   "cell_type": "code",
   "execution_count": 59,
   "metadata": {},
   "outputs": [],
   "source": [
    "def palplot(pal, labels=False, size=1):\n",
    "    \"\"\"Plot the values in a color palette as a horizontal array.\n",
    "\n",
    "    Parameters\n",
    "    ----------\n",
    "    pal : sequence of matplotlib colors\n",
    "        colors, i.e. as returned by seaborn.color_palette()\n",
    "    size :\n",
    "        scaling factor for size of plot\n",
    "\n",
    "    \"\"\"\n",
    "    n = len(pal)\n",
    "    f, ax = plt.subplots(1, 1, figsize=(n * size, size))\n",
    "    ax.imshow(np.arange(n).reshape(1, n),\n",
    "              cmap=mpl.colors.ListedColormap(list(pal)),\n",
    "              interpolation=\"nearest\", aspect=\"auto\")\n",
    "    ax.set_xticks(np.arange(n))\n",
    "    \n",
    "    if not labels:\n",
    "        ax.set_xticklabels([])\n",
    "    else:\n",
    "        ax.set_xticklabels(labels)\n",
    "    ax.set_yticklabels([])\n",
    "    return ax"
   ]
  },
  {
   "cell_type": "code",
   "execution_count": 117,
   "metadata": {},
   "outputs": [
    {
     "name": "stdout",
     "output_type": "stream",
     "text": [
      "['INV', 'LINE1', 'SVA', 'rMEI', 'mCNV', 'STR', 'DUP', 'DEL', 'ALU', 'BND']\n"
     ]
    },
    {
     "data": {
      "text/plain": [
       "<matplotlib.axes._subplots.AxesSubplot at 0x7f78c8ae4a50>"
      ]
     },
     "execution_count": 117,
     "metadata": {},
     "output_type": "execute_result"
    },
    {
     "data": {
      "image/png": "[encoded data removed]",
      "text/plain": [
       "<Figure size 720x72 with 1 Axes>"
      ]
     },
     "metadata": {
      "needs_background": "light"
     },
     "output_type": "display_data"
    },
    {
     "data": {
      "image/png": "[encoded data removed]",
      "text/plain": [
       "<Figure size 936x72 with 1 Axes>"
      ]
     },
     "metadata": {
      "needs_background": "light"
     },
     "output_type": "display_data"
    }
   ],
   "source": [
    "c = vapeplot.palette('macplus') + vapeplot.palette('mallsoft')\n",
    "\n",
    "svtypes_ordered = ['DEL', 'DUP', 'mCNV', 'INV', 'rMEI', 'ALU', 'LINE1', 'SVA', 'BND', 'STR']\n",
    "\n",
    "color_dict = dict(zip(svtypes_ordered, c))\n",
    "\n",
    "sns.palplot(color_dict.values())\n",
    "print color_dict.keys()\n",
    "color_dict['DEL'] = color_dict['rMEI']\n",
    "\n",
    "color_dict['rMEI'] = '#6b5b95'\n",
    "color_dict['mCNV'] = \"#ff7b25\"\n",
    "color_dict['INV'] = '#bc5a45'\n",
    "color_dict['LINE1'] = '#b9936c'\n",
    "color_dict['SVA'] = '#ada397'\n",
    "color_dict['INDEL INS'] = '#618685'\n",
    "color_dict['INDEL DEL'] = '#4040a1'\n",
    "color_dict['SNV'] = 'black'\n",
    "\n",
    "palplot(color_dict.values(), color_dict.keys())"
   ]
  },
  {
   "cell_type": "code",
   "execution_count": 119,
   "metadata": {},
   "outputs": [
    {
     "name": "stdout",
     "output_type": "stream",
     "text": [
      "['INV', 'LINE1', 'SVA', 'rMEI', 'mCNV', 'STR', 'DUP', 'DEL', 'ALU', 'BND']\n"
     ]
    },
    {
     "data": {
      "text/plain": [
       "<matplotlib.axes._subplots.AxesSubplot at 0x7f78c891f990>"
      ]
     },
     "execution_count": 119,
     "metadata": {},
     "output_type": "execute_result"
    },
    {
     "data": {
      "image/png": "[encoded data removed]",
      "text/plain": [
       "<Figure size 720x72 with 1 Axes>"
      ]
     },
     "metadata": {
      "needs_background": "light"
     },
     "output_type": "display_data"
    },
    {
     "data": {
      "image/png": "[encoded data removed]",
      "text/plain": [
       "<Figure size 1152x72 with 1 Axes>"
      ]
     },
     "metadata": {
      "needs_background": "light"
     },
     "output_type": "display_data"
    }
   ],
   "source": [
    "c = vapeplot.palette('macplus') + vapeplot.palette('mallsoft')\n",
    "\n",
    "svtypes_ordered = ['DEL', 'DUP', 'mCNV', 'INV', 'rMEI', 'ALU', 'LINE1', 'SVA', 'BND', 'STR']\n",
    "\n",
    "color_dict = dict(zip(svtypes_ordered, c))\n",
    "\n",
    "sns.palplot(color_dict.values())\n",
    "print color_dict.keys()\n",
    "color_dict['DEL'] = color_dict['rMEI']\n",
    "\n",
    "color_dict['rMEI'] = '#6b5b95'\n",
    "color_dict['mCNV'] = \"#ff7b25\"\n",
    "color_dict['INV'] = '#bc5a45'\n",
    "color_dict['LINE1'] = '#b9936c'\n",
    "color_dict['SVA'] = '#ada397'\n",
    "color_dict['INDEL INS'] = '#618685'\n",
    "color_dict['INDEL DEL'] = '#4040a1'\n",
    "color_dict['SNV'] = '#919191'\n",
    "color_dict['STR DEL']= (0.9278431372549021, 0.5796078431372549, 0.44470588235294106)\n",
    "color_dict['STR INS']= (0.5772549019607844, 0.6368627450980392, 0.7717647058823529)\n",
    "color_dict['MEI']= (0.8662745098039215, 0.7627450980392156, 0.6121568627450982)\n",
    "\n",
    "\n",
    "palplot(color_dict.values(), color_dict.keys())"
   ]
  },
  {
   "cell_type": "code",
   "execution_count": 120,
   "metadata": {},
   "outputs": [
    {
     "name": "stdout",
     "output_type": "stream",
     "text": [
      "color_pal_svtypes_all = pd.read_pickle('/frazer01/projects/hipsci/analysis/i2QTL-sv-analysis/private_output/Figures/color_pal_svtypes_all.pkl')\n",
      "color_pal_svtypes_all = pd.read_csv('/frazer01/projects/hipsci/analysis/i2QTL-sv-analysis/private_output/Figures/color_pal_svtypes_all.tsv', sep='\\t')\n",
      "# all vars recorded: /frazer01/projects/hipsci/analysis/i2QTL-sv-analysis/private_output/Figures/load_saved_nb_variables.py\n",
      "# pickled vars recorded:/frazer01/projects/hipsci/analysis/i2QTL-sv-analysis/private_output/Figures/load_pickled_nb_variables.py\n"
     ]
    }
   ],
   "source": [
    "color_pal_series = pd.Series(color_dict)\n",
    "\n",
    "CM.save_dataframe('color_pal_svtypes_all', color_pal_series, private_out)"
   ]
  },
  {
   "cell_type": "code",
   "execution_count": null,
   "metadata": {},
   "outputs": [],
   "source": []
  },
  {
   "cell_type": "code",
   "execution_count": null,
   "metadata": {},
   "outputs": [],
   "source": []
  },
  {
   "cell_type": "code",
   "execution_count": 118,
   "metadata": {},
   "outputs": [
    {
     "data": {
      "text/plain": [
       "<matplotlib.axes._subplots.AxesSubplot at 0x7f78c8a2fed0>"
      ]
     },
     "execution_count": 118,
     "metadata": {},
     "output_type": "execute_result"
    },
    {
     "data": {
      "image/png": "[encoded data removed]",
      "text/plain": [
       "<Figure size 720x72 with 1 Axes>"
      ]
     },
     "metadata": {
      "needs_background": "light"
     },
     "output_type": "display_data"
    },
    {
     "data": {
      "image/png": "[encoded data removed]",
      "text/plain": [
       "<Figure size 720x72 with 1 Axes>"
      ]
     },
     "metadata": {
      "needs_background": "light"
     },
     "output_type": "display_data"
    },
    {
     "data": {
      "image/png": "[encoded data removed]",
      "text/plain": [
       "<Figure size 1152x72 with 1 Axes>"
      ]
     },
     "metadata": {
      "needs_background": "light"
     },
     "output_type": "display_data"
    }
   ],
   "source": [
    "c = vapeplot.palette('macplus') + vapeplot.palette('mallsoft')\n",
    "svtypes_ordered = ['DEL', 'DUP', 'mCNV', 'INV', 'rMEI', 'ALU', 'LINE1', 'SVA', 'BND', 'STR']\n",
    "color_dict = dict(zip(svtypes_ordered, c))\n",
    "palplot(color_dict.values(), color_dict.keys())\n",
    "c1 = color_dict['ALU']\n",
    "c2 = color_dict['INV']\n",
    "\n",
    "color_dict['ALU'] = c2\n",
    "color_dict['INV'] = c1\n",
    "palplot(color_dict.values(), color_dict.keys())\n",
    "color_dict['DEL'] = color_dict['rMEI']\n",
    "color_dict['rMEI'] = '#6b5b95'\n",
    "color_dict['mCNV'] = \"#ff7b25\"\n",
    "# color_dict['INV'] = '#bc5a45'\n",
    "# color_dict['LINE1'] = '#b9936c'\n",
    "# color_dict['SVA'] = '#ada397'\n",
    "color_dict['INDEL INS'] = '#618685'\n",
    "color_dict['INDEL DEL'] = '#4040a1'\n",
    "color_dict['SNV'] = '#919191'\n",
    "# color_dict['DEL'] = '#bf4040'\n",
    "\n",
    "color_dict['STR DEL']= (0.9278431372549021, 0.5796078431372549, 0.44470588235294106)\n",
    "color_dict['STR INS']= (0.5772549019607844, 0.6368627450980392, 0.7717647058823529)\n",
    "color_dict['MEI']= (0.8662745098039215, 0.7627450980392156, 0.6121568627450982)\n",
    "\n",
    "palplot(color_dict.values(), color_dict.keys())"
   ]
  },
  {
   "cell_type": "code",
   "execution_count": 94,
   "metadata": {},
   "outputs": [
    {
     "data": {
      "text/plain": [
       "<matplotlib.axes._subplots.AxesSubplot at 0x7f78c912c850>"
      ]
     },
     "execution_count": 94,
     "metadata": {},
     "output_type": "execute_result"
    },
    {
     "data": {
      "image/png": "[encoded data removed]",
      "text/plain": [
       "<Figure size 936x72 with 1 Axes>"
      ]
     },
     "metadata": {
      "needs_background": "light"
     },
     "output_type": "display_data"
    }
   ],
   "source": [
    "palplot(color_dict.values(), color_dict.keys())"
   ]
  },
  {
   "cell_type": "code",
   "execution_count": 95,
   "metadata": {},
   "outputs": [
    {
     "data": {
      "text/plain": [
       "{'ALU': '#ffc0cb',\n",
       " 'BND': '#acd0f4',\n",
       " 'DEL': '#bf4040',\n",
       " 'DUP': '#09979b',\n",
       " 'INDEL DEL': '#4040a1',\n",
       " 'INDEL INS': '#618685',\n",
       " 'INV': '#65323e',\n",
       " 'LINE1': '#fbcff3',\n",
       " 'SNV': 'black',\n",
       " 'STR': '#8690ff',\n",
       " 'SVA': '#f7c0bb',\n",
       " 'mCNV': '#ff7b25',\n",
       " 'rMEI': '#6b5b95'}"
      ]
     },
     "execution_count": 95,
     "metadata": {},
     "output_type": "execute_result"
    }
   ],
   "source": [
    "color_dict"
   ]
  },
  {
   "cell_type": "code",
   "execution_count": 115,
   "metadata": {},
   "outputs": [],
   "source": [
    "color_pal_series = pd.Series(color_dict)\n",
    "\n",
    "CM.save_dataframe('color_pal_svtypes_all', color_pal_series, private_out)"
   ]
  },
  {
   "cell_type": "code",
   "execution_count": 73,
   "metadata": {},
   "outputs": [],
   "source": [
    "cols = 'GS\tGS_LCNV GS,GS_LCNV\tGS,GS_LCNV,SS\tGS,SS GS_LCNV,SS\tSS \tHipSTR\tMELT'.split()\n",
    "\n",
    "pal_combined = vapeplot.palette('jazzcup') + vapeplot.palette('seapunk')\n",
    "pal = dict(zip(cols, pal_combined))\n",
    "pal['HipSTR'] = '#a2b9bc'"
   ]
  },
  {
   "cell_type": "code",
   "execution_count": 74,
   "metadata": {},
   "outputs": [],
   "source": [
    "pal_callers = pd.Series(pal)"
   ]
  },
  {
   "cell_type": "code",
   "execution_count": 79,
   "metadata": {},
   "outputs": [
    {
     "name": "stdout",
     "output_type": "stream",
     "text": [
      "pallete_variant_callers = pd.read_pickle('/frazer01/projects/hipsci/analysis/i2QTL-sv-analysis/private_output/Figures/pallete_variant_callers.pkl')\n",
      "pallete_variant_callers = pd.read_csv('/frazer01/projects/hipsci/analysis/i2QTL-sv-analysis/private_output/Figures/pallete_variant_callers.tsv', sep='\\t')\n",
      "# all vars recorded: /frazer01/projects/hipsci/analysis/i2QTL-sv-analysis/private_output/Figures/load_saved_nb_variables.py\n",
      "# pickled vars recorded:/frazer01/projects/hipsci/analysis/i2QTL-sv-analysis/private_output/Figures/load_pickled_nb_variables.py\n"
     ]
    }
   ],
   "source": [
    "CM.save_dataframe('pallete_variant_callers', pal_callers, private_out)"
   ]
  },
  {
   "cell_type": "code",
   "execution_count": 76,
   "metadata": {},
   "outputs": [
    {
     "data": {
      "text/plain": [
       "{'GS': '#392682',\n",
       " 'GS,GS_LCNV': '#3f86bc',\n",
       " 'GS,GS_LCNV,SS': '#28ada8',\n",
       " 'GS,SS': '#83dde0',\n",
       " 'GS_LCNV': '#7a3a9a',\n",
       " 'GS_LCNV,SS': '#532e57',\n",
       " 'HipSTR': '#a2b9bc',\n",
       " 'MELT': '#569874',\n",
       " 'SS': '#a997ab'}"
      ]
     },
     "execution_count": 76,
     "metadata": {},
     "output_type": "execute_result"
    }
   ],
   "source": [
    "pal"
   ]
  },
  {
   "cell_type": "code",
   "execution_count": null,
   "metadata": {},
   "outputs": [],
   "source": []
  },
  {
   "cell_type": "markdown",
   "metadata": {},
   "source": [
    "# Pal for the multi stacked bar"
   ]
  },
  {
   "cell_type": "code",
   "execution_count": 108,
   "metadata": {},
   "outputs": [],
   "source": [
    "\n",
    "pal_colors = sns.color_palette(\"Set2\", n_colors=8, desat=.8)"
   ]
  },
  {
   "cell_type": "code",
   "execution_count": 107,
   "metadata": {},
   "outputs": [
    {
     "data": {
      "image/png": "[encoded data removed]",
      "text/plain": [
       "<Figure size 576x72 with 1 Axes>"
      ]
     },
     "metadata": {
      "needs_background": "light"
     },
     "output_type": "display_data"
    }
   ],
   "source": [
    "sns.palplot(sns.color_palette(\"Set2\", n_colors=8, desat=.8))"
   ]
  },
  {
   "cell_type": "code",
   "execution_count": 111,
   "metadata": {},
   "outputs": [],
   "source": [
    "pal_sbp_burden = {'DUP': pal_colors[0], 'DEL': pal_colors[1], 'INDEL INS': pal_colors[2], 'INDEL DEL': pal_colors[1],\n",
    "'STR DEL':  pal_colors[1], 'STR INS': pal_colors[2], 'SNV': pal_colors[7], 'MEI': pal_colors[6], 'rMEI': pal_colors[1]}"
   ]
  },
  {
   "cell_type": "code",
   "execution_count": 112,
   "metadata": {},
   "outputs": [],
   "source": [
    "pal_burden_series = pd.Series(pal_sbp_burden)"
   ]
  },
  {
   "cell_type": "code",
   "execution_count": 113,
   "metadata": {},
   "outputs": [
    {
     "name": "stdout",
     "output_type": "stream",
     "text": [
      "pal_burden_series = pd.read_pickle('/frazer01/projects/hipsci/analysis/i2QTL-sv-analysis/private_output/Figures/pal_burden_series.pkl')\n",
      "pal_burden_series = pd.read_csv('/frazer01/projects/hipsci/analysis/i2QTL-sv-analysis/private_output/Figures/pal_burden_series.tsv', sep='\\t')\n",
      "# all vars recorded: /frazer01/projects/hipsci/analysis/i2QTL-sv-analysis/private_output/Figures/load_saved_nb_variables.py\n",
      "# pickled vars recorded:/frazer01/projects/hipsci/analysis/i2QTL-sv-analysis/private_output/Figures/load_pickled_nb_variables.py\n"
     ]
    }
   ],
   "source": [
    "CM.save_dataframe('pal_burden_series', pal_burden_series, private_out)"
   ]
  },
  {
   "cell_type": "code",
   "execution_count": 96,
   "metadata": {},
   "outputs": [],
   "source": [
    "# color_pal_svtypes_all = pd.read_pickle('/frazer01/projects/hipsci/analysis/i2QTL-sv-analysis/private_output/Figures/color_pal_svtypes_all.pkl')\n",
    "\n",
    "# pal = color_pal_svtypes_all.to_dict()\n",
    "\n",
    "# palplot(pal.values(), pal.keys())"
   ]
  },
  {
   "cell_type": "code",
   "execution_count": 78,
   "metadata": {},
   "outputs": [
    {
     "data": {
      "text/plain": [
       "<matplotlib.axes._subplots.AxesSubplot at 0x7f78c925e8d0>"
      ]
     },
     "execution_count": 78,
     "metadata": {},
     "output_type": "execute_result"
    },
    {
     "data": {
      "image/png": "[encoded data removed]",
      "text/plain": [
       "<Figure size 648x72 with 1 Axes>"
      ]
     },
     "metadata": {
      "needs_background": "light"
     },
     "output_type": "display_data"
    }
   ],
   "source": [
    "palplot(pal.values(), pal.keys())"
   ]
  },
  {
   "cell_type": "code",
   "execution_count": 56,
   "metadata": {},
   "outputs": [],
   "source": [
    "# melt replication figure\n",
    "labs_svtypes = ['ALU', 'LINE1', 'SVA', 'all']\n",
    "colors_svtypes = ['#00aedb', '#d11141', '#00b159', 'black']"
   ]
  },
  {
   "cell_type": "code",
   "execution_count": 39,
   "metadata": {},
   "outputs": [
    {
     "data": {
      "application/vnd.jupyter.widget-view+json": {
       "model_id": "8b06f1a1813b46829dc494af895498c3",
       "version_major": 2,
       "version_minor": 0
      },
      "text/plain": [
       "aW50ZXJhY3RpdmUoY2hpbGRyZW49KEludFNsaWRlcih2YWx1ZT05LCBkZXNjcmlwdGlvbj11J25fY29sb3JzJywgbWF4PTE2LCBtaW49MiksIEZsb2F0U2xpZGVyKHZhbHVlPTAuMCwgZGVzY3LigKY=\n"
      ]
     },
     "metadata": {},
     "output_type": "display_data"
    }
   ],
   "source": [
    "x = sns.choose_cubehelix_palette()"
   ]
  },
  {
   "cell_type": "code",
   "execution_count": 46,
   "metadata": {},
   "outputs": [],
   "source": [
    "mei = x"
   ]
  },
  {
   "cell_type": "code",
   "execution_count": null,
   "metadata": {},
   "outputs": [],
   "source": []
  },
  {
   "cell_type": "code",
   "execution_count": 52,
   "metadata": {},
   "outputs": [],
   "source": [
    "# overlap of 1kgp and gtex\n",
    "\n",
    "colors_co_discovered = [ (0.6770011534025375, 0.6770011534025375, 0.6770011534025375) ,\n",
    "          (1.0, 0.7058823529411765, 0.5098039215686274) ,\n",
    "          (0.5085736255286428, 0.5085736255286428, 0.5085736255286428),\n",
    "          (0.5529411764705883, 0.8980392156862745, 0.6313725490196078)]\n",
    "\n",
    "cats = ['Co-Discovered-1KGP', 'Co-Discovered-All', 'Co-Discovered-GTEx']\n",
    "\n"
   ]
  },
  {
   "cell_type": "code",
   "execution_count": null,
   "metadata": {},
   "outputs": [],
   "source": [
    "cats."
   ]
  },
  {
   "cell_type": "code",
   "execution_count": 18,
   "metadata": {},
   "outputs": [],
   "source": [
    "order_variants = ['DEL', 'DUP', 'mCNV', 'INV', 'rMEI', 'ALU', 'LINE1', 'SVA', 'BND', 'STR']\n",
    "color_dict = dict(zip(order_variants, sns.color_palette('hls', len(order_variants))))"
   ]
  },
  {
   "cell_type": "code",
   "execution_count": 19,
   "metadata": {},
   "outputs": [
    {
     "data": {
      "image/png": "[encoded data removed]",
      "text/plain": [
       "<Figure size 720x72 with 1 Axes>"
      ]
     },
     "metadata": {
      "needs_background": "light"
     },
     "output_type": "display_data"
    }
   ],
   "source": [
    "ax = palplot(sns.color_palette('xkcd', len(order_variants)), order_variants)"
   ]
  },
  {
   "cell_type": "code",
   "execution_count": null,
   "metadata": {},
   "outputs": [],
   "source": []
  },
  {
   "cell_type": "code",
   "execution_count": 4,
   "metadata": {},
   "outputs": [
    {
     "data": {
      "image/png": "[encoded data removed]",
      "text/plain": [
       "<Figure size 720x72 with 1 Axes>"
      ]
     },
     "metadata": {
      "needs_background": "light"
     },
     "output_type": "display_data"
    }
   ],
   "source": [
    "sns.palplot(sns.color_palette('hls', n_colors=10))"
   ]
  },
  {
   "cell_type": "code",
   "execution_count": 5,
   "metadata": {},
   "outputs": [
    {
     "data": {
      "text/plain": [
       "'/frazer01/home/djakubosky/software/anaconda/lib/python2.7/site-packages/seaborn/__init__.pyc'"
      ]
     },
     "execution_count": 5,
     "metadata": {},
     "output_type": "execute_result"
    }
   ],
   "source": [
    "sns.__file__"
   ]
  },
  {
   "cell_type": "code",
   "execution_count": null,
   "metadata": {},
   "outputs": [],
   "source": []
  },
  {
   "cell_type": "code",
   "execution_count": 2,
   "metadata": {},
   "outputs": [],
   "source": [
    "order_variants = ['DEL', 'DUP', 'mCNV', 'INV', 'rMEI', 'ALU', 'LINE1', 'SVA', 'BND', 'STR']"
   ]
  },
  {
   "cell_type": "code",
   "execution_count": null,
   "metadata": {},
   "outputs": [],
   "source": []
  },
  {
   "cell_type": "markdown",
   "metadata": {},
   "source": [
    "# available colors "
   ]
  },
  {
   "cell_type": "code",
   "execution_count": null,
   "metadata": {},
   "outputs": [],
   "source": [
    "SEABORN_PALETTES = dict(\n",
    "    deep=[\"#4C72B0\", \"#DD8452\", \"#55A868\", \"#C44E52\", \"#8172B3\",\n",
    "          \"#937860\", \"#DA8BC3\", \"#8C8C8C\", \"#CCB974\", \"#64B5CD\"],\n",
    "    deep6=[\"#4C72B0\", \"#55A868\", \"#C44E52\",\n",
    "           \"#8172B3\", \"#CCB974\", \"#64B5CD\"],\n",
    "    muted=[\"#4878D0\", \"#EE854A\", \"#6ACC64\", \"#D65F5F\", \"#956CB4\",\n",
    "           \"#8C613C\", \"#DC7EC0\", \"#797979\", \"#D5BB67\", \"#82C6E2\"],\n",
    "    muted6=[\"#4878D0\", \"#6ACC64\", \"#D65F5F\",\n",
    "            \"#956CB4\", \"#D5BB67\", \"#82C6E2\"],\n",
    "    pastel=[\"#A1C9F4\", \"#FFB482\", \"#8DE5A1\", \"#FF9F9B\", \"#D0BBFF\",\n",
    "            \"#DEBB9B\", \"#FAB0E4\", \"#CFCFCF\", \"#FFFEA3\", \"#B9F2F0\"],\n",
    "    pastel6=[\"#A1C9F4\", \"#8DE5A1\", \"#FF9F9B\",\n",
    "             \"#D0BBFF\", \"#FFFEA3\", \"#B9F2F0\"],\n",
    "    bright=[\"#023EFF\", \"#FF7C00\", \"#1AC938\", \"#E8000B\", \"#8B2BE2\",\n",
    "            \"#9F4800\", \"#F14CC1\", \"#A3A3A3\", \"#FFC400\", \"#00D7FF\"],\n",
    "    bright6=[\"#023EFF\", \"#1AC938\", \"#E8000B\",\n",
    "             \"#8B2BE2\", \"#FFC400\", \"#00D7FF\"],\n",
    "    dark=[\"#001C7F\", \"#B1400D\", \"#12711C\", \"#8C0800\", \"#591E71\",\n",
    "          \"#592F0D\", \"#A23582\", \"#3C3C3C\", \"#B8850A\", \"#006374\"],\n",
    "    dark6=[\"#001C7F\", \"#12711C\", \"#8C0800\",\n",
    "           \"#591E71\", \"#B8850A\", \"#006374\"],\n",
    "    colorblind=[\"#0173B2\", \"#DE8F05\", \"#029E73\", \"#D55E00\", \"#CC78BC\",\n",
    "                \"#CA9161\", \"#FBAFE4\", \"#949494\", \"#ECE133\", \"#56B4E9\"],\n",
    "    colorblind6=[\"#0173B2\", \"#029E73\", \"#D55E00\",\n",
    "                 \"#CC78BC\", \"#ECE133\", \"#56B4E9\"]\n",
    "    )\n"
   ]
  },
  {
   "cell_type": "code",
   "execution_count": 28,
   "metadata": {},
   "outputs": [
    {
     "data": {
      "image/png": "[encoded data removed]",
      "text/plain": [
       "<Figure size 360x72 with 1 Axes>"
      ]
     },
     "metadata": {
      "needs_background": "light"
     },
     "output_type": "display_data"
    }
   ],
   "source": [
    "sns.palplot(sns.color_palette(\"Set1\", n_colors=5, desat=.5))"
   ]
  },
  {
   "cell_type": "code",
   "execution_count": null,
   "metadata": {},
   "outputs": [],
   "source": []
  },
  {
   "cell_type": "code",
   "execution_count": null,
   "metadata": {},
   "outputs": [],
   "source": [
    "\n",
    "\n"
   ]
  },
  {
   "cell_type": "code",
   "execution_count": null,
   "metadata": {},
   "outputs": [],
   "source": []
  },
  {
   "cell_type": "code",
   "execution_count": 22,
   "metadata": {},
   "outputs": [
    {
     "data": {
      "image/png": "[encoded data removed]",
      "text/plain": [
       "<Figure size 576x72 with 1 Axes>"
      ]
     },
     "metadata": {
      "needs_background": "light"
     },
     "output_type": "display_data"
    }
   ],
   "source": [
    "sns.palplot(sns.color_palette(\"Set3\", n_colors=8, desat=.5))"
   ]
  },
  {
   "cell_type": "code",
   "execution_count": 23,
   "metadata": {},
   "outputs": [
    {
     "ename": "ValueError",
     "evalue": "Set4 is not a valid palette name",
     "output_type": "error",
     "traceback": [
      "\u001b[1;31m---------------------------------------------------------------------------\u001b[0m",
      "\u001b[1;31mValueError\u001b[0m                                Traceback (most recent call last)",
      "\u001b[1;32m<ipython-input-23-2e2472ee2c61>\u001b[0m in \u001b[0;36m<module>\u001b[1;34m()\u001b[0m\n\u001b[1;32m----> 1\u001b[1;33m \u001b[0msns\u001b[0m\u001b[1;33m.\u001b[0m\u001b[0mpalplot\u001b[0m\u001b[1;33m(\u001b[0m\u001b[0msns\u001b[0m\u001b[1;33m.\u001b[0m\u001b[0mcolor_palette\u001b[0m\u001b[1;33m(\u001b[0m\u001b[1;34m\"Set4\"\u001b[0m\u001b[1;33m,\u001b[0m \u001b[0mn_colors\u001b[0m\u001b[1;33m=\u001b[0m\u001b[1;36m8\u001b[0m\u001b[1;33m,\u001b[0m \u001b[0mdesat\u001b[0m\u001b[1;33m=\u001b[0m\u001b[1;36m.5\u001b[0m\u001b[1;33m)\u001b[0m\u001b[1;33m)\u001b[0m\u001b[1;33m\u001b[0m\u001b[0m\n\u001b[0m",
      "\u001b[1;32m/frazer01/home/djakubosky/software/anaconda/lib/python2.7/site-packages/seaborn/palettes.pyc\u001b[0m in \u001b[0;36mcolor_palette\u001b[1;34m(palette, n_colors, desat)\u001b[0m\n\u001b[0;32m    232\u001b[0m                 \u001b[0mpalette\u001b[0m \u001b[1;33m=\u001b[0m \u001b[0mmpl_palette\u001b[0m\u001b[1;33m(\u001b[0m\u001b[0mpalette\u001b[0m\u001b[1;33m,\u001b[0m \u001b[0mn_colors\u001b[0m\u001b[1;33m)\u001b[0m\u001b[1;33m\u001b[0m\u001b[0m\n\u001b[0;32m    233\u001b[0m             \u001b[1;32mexcept\u001b[0m \u001b[0mValueError\u001b[0m\u001b[1;33m:\u001b[0m\u001b[1;33m\u001b[0m\u001b[0m\n\u001b[1;32m--> 234\u001b[1;33m                 \u001b[1;32mraise\u001b[0m \u001b[0mValueError\u001b[0m\u001b[1;33m(\u001b[0m\u001b[1;34m\"%s is not a valid palette name\"\u001b[0m \u001b[1;33m%\u001b[0m \u001b[0mpalette\u001b[0m\u001b[1;33m)\u001b[0m\u001b[1;33m\u001b[0m\u001b[0m\n\u001b[0m\u001b[0;32m    235\u001b[0m \u001b[1;33m\u001b[0m\u001b[0m\n\u001b[0;32m    236\u001b[0m     \u001b[1;32mif\u001b[0m \u001b[0mdesat\u001b[0m \u001b[1;32mis\u001b[0m \u001b[1;32mnot\u001b[0m \u001b[0mNone\u001b[0m\u001b[1;33m:\u001b[0m\u001b[1;33m\u001b[0m\u001b[0m\n",
      "\u001b[1;31mValueError\u001b[0m: Set4 is not a valid palette name"
     ]
    }
   ],
   "source": [
    "sns.palplot(sns.color_palette(, n_colors=8, desat=.5))"
   ]
  },
  {
   "cell_type": "code",
   "execution_count": 31,
   "metadata": {},
   "outputs": [
    {
     "data": {
      "application/vnd.jupyter.widget-view+json": {
       "model_id": "ee87986f8a574a5b8f176666526dd220",
       "version_major": 2,
       "version_minor": 0
      },
      "text/plain": [
       "aW50ZXJhY3RpdmUoY2hpbGRyZW49KEludFNsaWRlcih2YWx1ZT0xNzksIGRlc2NyaXB0aW9uPXUnaCcsIG1heD0zNTkpLCBJbnRTbGlkZXIodmFsdWU9NDksIGRlc2NyaXB0aW9uPXUncycsIG3igKY=\n"
      ]
     },
     "metadata": {},
     "output_type": "display_data"
    },
    {
     "data": {
      "text/plain": [
       "[array([0.94054458, 0.95945542, 0.95679586, 1.        ]),\n",
       " array([0.87363254, 0.90742758, 0.90267475, 1.        ]),\n",
       " array([0.80672051, 0.85539974, 0.84855364, 1.        ]),\n",
       " array([0.73741876, 0.80151376, 0.79249963, 1.        ]),\n",
       " array([0.67050672, 0.74948591, 0.73837852, 1.        ]),\n",
       " array([0.60120497, 0.69559993, 0.68232452, 1.        ]),\n",
       " array([0.53429294, 0.64357209, 0.62820341, 1.        ]),\n",
       " array([0.46499119, 0.58968611, 0.5721494 , 1.        ]),\n",
       " array([0.39807915, 0.53765827, 0.51802829, 1.        ]),\n",
       " array([0.33116712, 0.48563043, 0.46390718, 1.        ])]"
      ]
     },
     "execution_count": 31,
     "metadata": {},
     "output_type": "execute_result"
    }
   ],
   "source": [
    "sns.choose_light_palette()"
   ]
  },
  {
   "cell_type": "code",
   "execution_count": 30,
   "metadata": {},
   "outputs": [
    {
     "data": {
      "application/vnd.jupyter.widget-view+json": {
       "model_id": "590bc4434cc84e478d263fa7b400bad1",
       "version_major": 2,
       "version_minor": 0
      },
      "text/plain": [
       "aW50ZXJhY3RpdmUoY2hpbGRyZW49KEludFNsaWRlcih2YWx1ZT0xNzksIGRlc2NyaXB0aW9uPXUnaCcsIG1heD0zNTkpLCBJbnRTbGlkZXIodmFsdWU9NDksIGRlc2NyaXB0aW9uPXUncycsIG3igKY=\n"
      ]
     },
     "metadata": {},
     "output_type": "display_data"
    },
    {
     "data": {
      "text/plain": [
       "[array([0.13333333, 0.13333333, 0.13333333, 1.        ]),\n",
       " array([0.15505626, 0.17201694, 0.16963164, 1.        ]),\n",
       " array([0.17677918, 0.21070054, 0.20592994, 1.        ]),\n",
       " array([0.19927793, 0.2507657 , 0.24352462, 1.        ]),\n",
       " array([0.22100085, 0.2894493 , 0.27982292, 1.        ]),\n",
       " array([0.2434996 , 0.32951446, 0.31741759, 1.        ]),\n",
       " array([0.26522252, 0.36819806, 0.3537159 , 1.        ]),\n",
       " array([0.28772127, 0.40826322, 0.39131057, 1.        ]),\n",
       " array([0.30944419, 0.44694683, 0.42760888, 1.        ]),\n",
       " array([0.33116712, 0.48563043, 0.46390718, 1.        ])]"
      ]
     },
     "execution_count": 30,
     "metadata": {},
     "output_type": "execute_result"
    }
   ],
   "source": [
    "sns.choose_dark_palette()"
   ]
  },
  {
   "cell_type": "code",
   "execution_count": 29,
   "metadata": {},
   "outputs": [
    {
     "data": {
      "application/vnd.jupyter.widget-view+json": {
       "model_id": "ec686c12181f4273b762bb4406b2f712",
       "version_major": 2,
       "version_minor": 0
      },
      "text/plain": [
       "aW50ZXJhY3RpdmUoY2hpbGRyZW49KEludFNsaWRlcih2YWx1ZT05LCBkZXNjcmlwdGlvbj11J25fY29sb3JzJywgbWF4PTE2LCBtaW49MiksIEZsb2F0U2xpZGVyKHZhbHVlPTAuMCwgZGVzY3LigKY=\n"
      ]
     },
     "metadata": {},
     "output_type": "display_data"
    },
    {
     "data": {
      "text/plain": [
       "[[0.9312692223325372, 0.8201921796082118, 0.7971480974663592],\n",
       " [0.8888663743660877, 0.7106793139856472, 0.7158661451411206],\n",
       " [0.8314793143949643, 0.5987041921652179, 0.6530062709235388],\n",
       " [0.7588951019517731, 0.49817117746394224, 0.6058723814510268],\n",
       " [0.6672565752652589, 0.40671838146419587, 0.5620016466433286],\n",
       " [0.5529215689527474, 0.3217924564263954, 0.5093718054521851],\n",
       " [0.43082755198027817, 0.24984535814964698, 0.44393960899639856],\n",
       " [0.29794615023641036, 0.18145907625614888, 0.35317781405034754],\n",
       " [0.1750865648952205, 0.11840023306916837, 0.24215989137836502]]"
      ]
     },
     "execution_count": 29,
     "metadata": {},
     "output_type": "execute_result"
    }
   ],
   "source": [
    "sns.choose_cubehelix_palette()"
   ]
  },
  {
   "cell_type": "code",
   "execution_count": 25,
   "metadata": {},
   "outputs": [
    {
     "data": {
      "application/vnd.jupyter.widget-view+json": {
       "model_id": "4e1de852f43245cb82b91256cd3ceff4",
       "version_major": 2,
       "version_minor": 0
      },
      "text/plain": [
       "aW50ZXJhY3RpdmUoY2hpbGRyZW49KERyb3Bkb3duKGRlc2NyaXB0aW9uPXUnbmFtZScsIG9wdGlvbnM9KCdTZXQxJywgJ1NldDInLCAnU2V0MycsICdQYWlyZWQnLCAnQWNjZW50JywgJ1Bhc3TigKY=\n"
      ]
     },
     "metadata": {},
     "output_type": "display_data"
    },
    {
     "data": {
      "text/plain": [
       "[(0.8941176470588235, 0.10196078431372557, 0.10980392156862737),\n",
       " (0.21568627450980393, 0.4941176470588236, 0.7215686274509804),\n",
       " (0.3019607843137256, 0.6862745098039216, 0.29019607843137263),\n",
       " (0.5960784313725492, 0.3058823529411765, 0.6392156862745098),\n",
       " (1.0, 0.4980392156862745, 0.0),\n",
       " (0.9999999999999998, 1.0, 0.19999999999999996),\n",
       " (0.6509803921568629, 0.33725490196078434, 0.1568627450980391),\n",
       " (0.9686274509803922, 0.5058823529411766, 0.7490196078431374),\n",
       " (0.6, 0.6, 0.6)]"
      ]
     },
     "execution_count": 25,
     "metadata": {},
     "output_type": "execute_result"
    }
   ],
   "source": [
    "sns.choose_colorbrewer_palette('qualitative')"
   ]
  }
 ],
 "metadata": {
  "kernelspec": {
   "display_name": "Python 2",
   "language": "python",
   "name": "python2"
  },
  "language_info": {
   "codemirror_mode": {
    "name": "ipython",
    "version": 2
   },
   "file_extension": ".py",
   "mimetype": "text/x-python",
   "name": "python",
   "nbconvert_exporter": "python",
   "pygments_lexer": "ipython2",
   "version": "2.7.15"
  }
 },
 "nbformat": 4,
 "nbformat_minor": 2
}
