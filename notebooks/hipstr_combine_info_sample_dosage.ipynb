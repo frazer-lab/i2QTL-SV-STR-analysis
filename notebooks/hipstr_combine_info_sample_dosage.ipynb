{
 "cells": [
  {
   "cell_type": "code",
   "execution_count": 1,
   "metadata": {
    "collapsed": true
   },
   "outputs": [],
   "source": [
    "%matplotlib inline\n",
    "from __future__ import division\n",
    "import numpy as np\n",
    "import os\n",
    "import sys\n",
    "import datetime\n",
    "from subprocess import call\n",
    "import subprocess\n",
    "import glob\n",
    "import djPyi2 as DJ\n",
    "from djPyi2 import Common as CM\n",
    "from djPyi2 import mpltools\n",
    "\n",
    "import pandas as pd\n",
    "import csv\n",
    "import seaborn as sns\n",
    "import matplotlib as mpl\n",
    "import matplotlib.pyplot as plt\n",
    "import matplotlib.ticker as ticker\n",
    "import copy \n",
    "pd.set_option('display.max_columns', 500)\n",
    "pd.set_option('display.max_rows', 100)\n",
    "from mpl_toolkits.axes_grid1 import  make_axes_locatable\n",
    "import datetime\n",
    "\n",
    "import gc\n",
    "import math\n",
    "\n",
    "from scipy.stats import mode\n",
    "dy_name = 'hipstr_combine_info'\n",
    "\n",
    "private_out = os.path.join(DJ.root, 'private_output', dy_name)\n",
    "if not os.path.exists(private_out):\n",
    "    DJ.makedir(private_out)"
   ]
  },
  {
   "cell_type": "code",
   "execution_count": 151,
   "metadata": {},
   "outputs": [],
   "source": [
    "def process_combined_allele_dist(info_merge, col_name):\n",
    "    \"\"\" process the alleles dist into a combined dict (combining entries from ipscore and hipsci) \n",
    "    compute mode allele and MAF based on diff from the mode like GS\"\"\"\n",
    "    \n",
    "    \n",
    "    data = []\n",
    "    inds = info_merge.index.tolist()\n",
    "    for i, ind in zip(info_merge[col_name].tolist(), inds):\n",
    "        \n",
    "        spl = i.split(',')\n",
    "        \n",
    "        d = {}\n",
    "        \n",
    "        try:\n",
    "            spl.remove('')\n",
    "        except:\n",
    "            pass\n",
    "        \n",
    "        if len(spl) <= 1:\n",
    "            if len(spl[0].split(':')) == 1:\n",
    "       \n",
    "                continue\n",
    "                \n",
    "        for l in spl:\n",
    "            try:\n",
    "                a, n = l.split(':')\n",
    "            except:\n",
    "                print l, spl\n",
    "                break\n",
    "            n = int(n)\n",
    "            d[a] = d.get(a, 0) + n\n",
    "        \n",
    "        \n",
    "        d_nm = d.copy()\n",
    "        try:\n",
    "            d_nm.pop('./.')\n",
    "        except:\n",
    "            pass\n",
    "        \n",
    "        vals = d_nm.values()\n",
    "        max_v = max(vals)\n",
    "        num_passing = sum(vals)\n",
    "        \n",
    "        max_freq_alleles = [k for k in d_nm.keys() if d_nm[k] == max_v]\n",
    "        num_max_freq = len(max_freq_alleles)\n",
    "        max_freq_alleles = sorted(map(int, max_freq_alleles))\n",
    "        \n",
    "        mode_allele = max_freq_alleles[0]\n",
    "        \n",
    "        \n",
    "        \n",
    "        other_alleles = [k for k in d_nm.keys() if int(k) != mode_allele]\n",
    "        nmode_sum = sum([d_nm[k] for k in other_alleles])\n",
    "        \n",
    "        if num_passing > 0:\n",
    "            maf = nmode_sum/num_passing\n",
    "        else:\n",
    "            maf = 0\n",
    "        \n",
    "        out = [ind, d, d_nm, max_v, mode_allele, num_max_freq, max_freq_alleles, other_alleles, nmode_sum,\n",
    "               num_passing, maf]\n",
    "        \n",
    "        \n",
    "        data.append(out)\n",
    "    \n",
    "    col_names = ['ID', 'dict_collapsed', 'dict_no_missing', 'max_value', 'mode_allele', 'num_max_freq_alleles',\n",
    "                 'max_freq_alleles', 'nmode_alleles', 'nmode_sum', 'num_passing', 'maf']\n",
    "\n",
    "    \n",
    "    df = pd.DataFrame(data, columns= col_names)\n",
    "    df.index = df.ID\n",
    "    df.index.name = 'index'\n",
    "\n",
    "    return df"
   ]
  },
  {
   "cell_type": "code",
   "execution_count": 160,
   "metadata": {
    "collapsed": true
   },
   "outputs": [],
   "source": [
    "def combine_info_discoveries(info_gt, info_gt_ipscore, info_gt_ih, info_dosage , info_dosage_ipscore, info_dosage_ih, sample_info):\n",
    "    \n",
    "    \n",
    "    def prep_info(df):\n",
    "        df = df.copy()\n",
    "        df = df.set_index('ID', drop=False)\n",
    "        return df \n",
    "        \n",
    "    def safenan_check(x):\n",
    "        try:\n",
    "            return math.isnan(x)\n",
    "\n",
    "        except:\n",
    "            return False     \n",
    "        \n",
    "        \n",
    "    def get_NREF_subgroupings(info_merged, sample_info, column = 'NREF_UUID_DOSAGE_COMBINED'):\n",
    "        data = []\n",
    "        unrel_dict = sample_info.In_Unrelated_Set.to_dict()\n",
    "        samps_unrel = set(unrel_dict.keys())\n",
    "        data = []\n",
    "\n",
    "        for x in info_merged[column].tolist():\n",
    "\n",
    "            spl = x.split(',')\n",
    "\n",
    "            subset_samps = [i for i in spl if i in unrel_dict]\n",
    "            nnref = len(subset_samps)\n",
    "\n",
    "            if nnref > 0:\n",
    "                maf = nnref/476\n",
    "            else:\n",
    "                maf = 0\n",
    "\n",
    "            data.append([nnref, maf])\n",
    "        df = pd.DataFrame(data, index = info_merged.index.tolist(), columns=['NREF_DOSAGE_i2QTL_unrel', 'NREF_FRAC_DOSAGE_i2QTL_unrel'])\n",
    "        return df\n",
    "            \n",
    "        \n",
    "    def add_across_3_sets(var,info_gt, info_gt_ih, info_gt_ipscore, tdf):\n",
    "        d = info_gt[var].to_dict()\n",
    "        d.update(info_gt_ih[var].to_dict())\n",
    "        d.update(info_gt_ipscore[var].to_dict())\n",
    "\n",
    "        tdf[var] = tdf['ID'].apply(lambda x: d[x])\n",
    "        return tdf\n",
    "    \n",
    "    \n",
    "\n",
    "        df = pd.DataFrame(data, index = info_merged.index.tolist(), columns=['NREF_DOSAGE_i2QTL_unrel', 'NREF_FRAC_DOSAGE_i2QTL_unrel'])\n",
    "        return df\n",
    "\n",
    "\n",
    "    \n",
    "    \n",
    "    ids_ipscore_hipsci = info_gt_ih[info_gt_ih.NREF > 0].ID.tolist()\n",
    "\n",
    "    ids_hipsci = info_gt[info_gt.NREF>0].ID.tolist()\n",
    "    ids_ipscore = info_gt_ipscore[info_gt_ipscore.NREF > 0]['ID'].tolist()\n",
    "\n",
    "\n",
    "    unique_to_ipscore_hipsci = set(ids_ipscore_hipsci).difference(ids_hipsci)\n",
    "    unique_to_ipscore = set(ids_ipscore).difference(ids_hipsci + ids_ipscore_hipsci)\n",
    "    unique_to_hipsci = set(ids_hipsci).difference(ids_ipscore_hipsci)\n",
    "\n",
    "    in_both_ipscore_hipsci = set(ids_ipscore_hipsci).intersection(ids_hipsci)\n",
    "    \n",
    "    \n",
    "    ids_in_vcf = list(set(ids_hipsci + ids_ipscore + ids_ipscore_hipsci))\n",
    "\n",
    "    all_ids = list(set(info_gt.ID.tolist() + info_gt_ipscore.ID.tolist() + info_gt_ih.ID.tolist()))\n",
    "    \n",
    "    \n",
    "    tdf = pd.DataFrame(index = all_ids)\n",
    "\n",
    "    column_names_gt = ['NNONREF_GT', 'NNONREF_FRAC_GT']\n",
    "    column_names_dosage = ['NNONREF_DOSAGE', 'NNONREF_FRAC_DOSAGE', 'MIN_DOSAGE', 'MAX_DOSAGE', 'ALLELES_DIST', 'NREF_UUID_DOSAGE']\n",
    "    \n",
    "    data_col_names_gt = ['NREF', 'NNREF_AF']\n",
    "    data_col_names_dosage = ['NREF', 'NNREF_AF', 'MIN_DOSAGE', 'MAX_DOSAGE', 'ALLELES_DIST', 'NNREF_UUIDs']\n",
    "    \n",
    "    dfs_dosage = [info_dosage, info_dosage_ih, info_dosage_ipscore]\n",
    "    dfs_gts = [info_gt, info_gt_ih, info_gt_ipscore]\n",
    "    \n",
    "    suffixes_dfs = ['HipSci', 'iPSCORE_HipSci_Ref', 'iPSCORE']\n",
    "    \n",
    "    \n",
    "    for cn, cn_out in zip(data_col_names_gt, column_names_gt):\n",
    "        for df, suff in zip(dfs_gts, suffixes_dfs):\n",
    "            tdf[\"{}_{}\".format(cn_out, suff)] = df[cn]\n",
    "    \n",
    "    \n",
    "    for cn, cn_out in zip(data_col_names_dosage, column_names_dosage):\n",
    "        for df, suff in zip(dfs_dosage, suffixes_dfs):\n",
    "            tdf[\"{}_{}\".format(cn_out, suff)] = df[cn]\n",
    "    \n",
    "\n",
    "    tdf['INFO'] = ''\n",
    "    \n",
    "    tdf['in_vcf'] = False\n",
    "    tdf.loc[ids_in_vcf, 'in_vcf'] = True\n",
    "\n",
    "    tdf['unique_to_ipscore_hi'] = False\n",
    "    tdf.loc[unique_to_ipscore_hipsci, 'unique_to_ipscore_hi' ] = True\n",
    "\n",
    "    tdf['unique_to_hipsci'] = False\n",
    "    tdf.loc[unique_to_hipsci, 'unique_to_hipsci' ] = True\n",
    "\n",
    "    tdf['unique_to_ipscore'] = False\n",
    "    tdf.loc[unique_to_ipscore, 'unique_to_ipscore' ] = True\n",
    "\n",
    "    tdf['in_both'] = False\n",
    "    tdf.loc[in_both_ipscore_hipsci, 'in_both' ] = True\n",
    "    \n",
    "    \n",
    "   \n",
    "    tdf['NNONREF_GT_COMBINED'] = tdf.NNONREF_GT_HipSci + tdf.NNONREF_GT_iPSCORE_HipSci_Ref\n",
    "\n",
    "    tdf['NNONREF_FRAC_GT_COMBINED'] = tdf.NNONREF_GT_COMBINED / (272 + 202)\n",
    "\n",
    "    tdf['NNONREF_DOSAGE_COMBINED'] = tdf.NNONREF_DOSAGE_HipSci + tdf.NNONREF_DOSAGE_iPSCORE_HipSci_Ref\n",
    "\n",
    "    tdf['NNONREF_FRAC_DOSAGE_COMBINED'] = tdf.NNONREF_DOSAGE_COMBINED / (272 + 202)\n",
    "\n",
    "    tdf['num_sets'] = tdf['unique_to_ipscore_hi\tin_both\tunique_to_ipscore unique_to_hipsci'.split()].apply(lambda x: \"\".join(['1' if i == True else '0' for i in x]).count('1'), axis=1)\n",
    "\n",
    "    tdf['SVTYPE'] = 'STR'\n",
    "\n",
    "    \n",
    "    tdf['ID'] = tdf.index\n",
    "    tdf = add_across_3_sets('PERIOD', info_gt, info_gt_ih, info_gt_ipscore, tdf)  \n",
    "\n",
    "    cols = ['NREF_UUID_DOSAGE_HipSci', 'NREF_UUID_DOSAGE_iPSCORE_HipSci_Ref', 'NREF_UUID_DOSAGE_iPSCORE']\n",
    "    for c in cols:\n",
    "        tdf[c] = tdf[c].fillna('')\n",
    "\n",
    "    tdf['NREF_UUID_DOSAGE_COMBINED'] = tdf.apply(lambda x: x['NREF_UUID_DOSAGE_HipSci'] + \",\" +  x['NREF_UUID_DOSAGE_iPSCORE_HipSci_Ref'], axis= 1)\n",
    "    \n",
    "    \n",
    "    unrel_maf = get_NREF_subgroupings(tdf, sample_info)\n",
    "    inds = tdf[(tdf.in_vcf == True) & (tdf.unique_to_ipscore==True)].index.tolist()\n",
    "    tdf.loc[inds, 'NREF_UUID_DOSAGE_COMBINED']  =tdf.loc[inds, 'NREF_UUID_DOSAGE_iPSCORE']\n",
    "    tdf = tdf.join(unrel_maf)\n",
    "    \n",
    "    \n",
    "    col_name = 'ALLELES_DIST_i2QTL_unrel'\n",
    "    tdf['ALLELES_DIST_iPSCORE_HipSci_Ref_unrel'] = info_dosage_ih[col_name]\n",
    "    tdf['ALLELES_DIST_iPSCORE_unrel'] = info_dosage_ipscore[col_name]\n",
    "    \n",
    "    \n",
    "    cols = ['ALLELES_DIST_HipSci', 'ALLELES_DIST_iPSCORE_HipSci_Ref', 'ALLELES_DIST_iPSCORE',\n",
    "            'ALLELES_DIST_iPSCORE_HipSci_Ref_unrel', 'ALLELES_DIST_iPSCORE_unrel']\n",
    "    \n",
    "    \n",
    "    for c in cols:\n",
    "        tdf[c] = tdf[c].fillna('')\n",
    "    \n",
    "    \n",
    "    \n",
    "    tdf['ALLELES_DIST_COMBINED'] = tdf.apply(lambda x: x['ALLELES_DIST_HipSci'] + \",\" +  x['ALLELES_DIST_iPSCORE_HipSci_Ref'], axis= 1)\n",
    "    \n",
    "    \n",
    "    \n",
    "      \n",
    "    tdf.loc[inds, 'ALLELES_DIST_COMBINED']  =tdf.loc[inds, 'ALLELES_DIST_iPSCORE']\n",
    "  \n",
    "    tdf['ALLELES_DIST_i2QTL_unrel'] = tdf.apply(lambda x: x['ALLELES_DIST_HipSci'] + \",\" +  x['ALLELES_DIST_iPSCORE_HipSci_Ref_unrel'], axis= 1)\n",
    "    \n",
    "    tdf.loc[inds, 'ALLELES_DIST_i2QTL_unrel']  =tdf.loc[inds, 'ALLELES_DIST_iPSCORE_unrel']\n",
    "     \n",
    "    maf_calc = process_combined_allele_dist(tdf, 'ALLELES_DIST_i2QTL_unrel')\n",
    "    \n",
    "    cols = 'nmode_sum\tnum_passing\tmaf'.split()\n",
    "    \n",
    "    tdf['ALLELES_DIST_i2QTL_unrel'] = maf_calc['dict_collapsed']\n",
    "    tdf['NMODE_i2QTL_unrel'] = maf_calc['nmode_sum']\n",
    "    tdf['NUM_PASS_i2QTL_unrel'] = maf_calc['num_passing']\n",
    "    tdf['MAF_i2QTL_unrel'] = maf_calc['maf']\n",
    "    \n",
    "\n",
    "    return tdf, maf_calc\n",
    "    \n",
    "    \n",
    "    \n",
    "    \n",
    "    "
   ]
  },
  {
   "cell_type": "code",
   "execution_count": 205,
   "metadata": {},
   "outputs": [],
   "source": [
    "def add_rep_rate(info, rr_dosage, rr_dosage_ih, rr_dosage_ipscore):\n",
    "    \n",
    "    column_names_dosage = ['RR_DOSAGE', 'NP_VAR_DOSAGE']\n",
    "    \n",
    "    data_col_names_dosage = ['RR','NP_VAR']\n",
    "    \n",
    "    dfs_dosage = [rr_dosage, rr_dosage_ih, rr_dosage_ipscore]\n",
    "    \n",
    "    suffixes_dfs = ['HipSci', 'iPSCORE_HipSci_Ref', 'iPSCORE']\n",
    "    \n",
    "    for cn, cn_out in zip(data_col_names_dosage, column_names_dosage):\n",
    "        for df, suff in zip(dfs_dosage, suffixes_dfs):\n",
    "            info[\"{}_{}\".format(cn_out, suff)] = df[cn]\n",
    "            \n",
    "            \n",
    "            \n",
    "    info['RR'] = info.RR_DOSAGE_iPSCORE_HipSci_Ref    \n",
    "    inds = info[(info.in_vcf == True) & (info.unique_to_ipscore==True)].index.tolist()\n",
    "    info.loc[inds, 'RR'] = info.loc[inds, 'RR_DOSAGE_iPSCORE']\n",
    "    \n",
    "    info['NP_VAR_TWIN'] = info.NP_VAR_DOSAGE_iPSCORE_HipSci_Ref \n",
    "    info.loc[inds, 'NP_VAR_TWIN'] = info.loc[inds, 'NP_VAR_DOSAGE_iPSCORE']\n",
    "    \n",
    "    \n",
    "    \n",
    "    return info\n",
    " "
   ]
  },
  {
   "cell_type": "code",
   "execution_count": 66,
   "metadata": {
    "collapsed": true
   },
   "outputs": [],
   "source": [
    "def prep_info(df):\n",
    "    df = df.copy()\n",
    "    df = df.set_index('ID', drop=False)\n",
    "    return df \n",
    "\n",
    "# info_gt = pd.read_table('/frazer01/projects/hipsci/analysis/i2QTL-sv-analysis/private_output/hipstr_qc_analysis/hipsci_filt_geno/hipstr_info_gt.tsv').pipe(prep_info)\n",
    "\n",
    "info_gt_ipscore  = pd.read_table('/frazer01/projects/hipsci/analysis/i2QTL-sv-analysis/private_output/hipstr_qc_analysis/ipscore_filt_sr_geno/hipstr_info_gt.tsv').pipe(prep_info)\n",
    "\n",
    "info_gt_ih  = pd.read_table('/frazer01/projects/hipsci/analysis/i2QTL-sv-analysis/private_output/hipstr_qc_analysis/ipscore_hipsci_ref_filt_sr_geno/hipstr_info_gt.tsv').pipe(prep_info)\n",
    "\n",
    "\n",
    "# info_dosage = pd.read_table('/frazer01/projects/hipsci/analysis/i2QTL-sv-analysis/private_output/hipstr_qc_analysis/hipsci_filt_geno/hipstr_info_dosage.tsv').pipe(prep_info)\n",
    "\n",
    "info_dosage_ipscore  = pd.read_table('/frazer01/projects/hipsci/analysis/i2QTL-sv-analysis/private_output/hipstr_qc_analysis/ipscore_filt_sr_geno/hipstr_info_dosage.tsv').pipe(prep_info)\n",
    "\n",
    "info_dosage_ih  = pd.read_table('/frazer01/projects/hipsci/analysis/i2QTL-sv-analysis/private_output/hipstr_qc_analysis/ipscore_hipsci_ref_filt_sr_geno/hipstr_info_dosage.tsv').pipe(prep_info)\n",
    "\n"
   ]
  },
  {
   "cell_type": "code",
   "execution_count": 162,
   "metadata": {
    "collapsed": true
   },
   "outputs": [],
   "source": [
    "# delete some variables for space"
   ]
  },
  {
   "cell_type": "code",
   "execution_count": 24,
   "metadata": {
    "collapsed": true
   },
   "outputs": [],
   "source": [
    "sample_info = pd.read_pickle('/frazer01/projects/hipsci/analysis/i2QTL-sv-analysis/private_output/sample_info_combined/sample_info.pkl')"
   ]
  },
  {
   "cell_type": "code",
   "execution_count": 161,
   "metadata": {},
   "outputs": [],
   "source": [
    "info_merge, maf_calc = combine_info_discoveries(info_gt, info_gt_ipscore, info_gt_ih, info_dosage , info_dosage_ipscore, info_dosage_ih, sample_info)"
   ]
  },
  {
   "cell_type": "code",
   "execution_count": 164,
   "metadata": {
    "collapsed": true
   },
   "outputs": [],
   "source": [
    "del info_gt\n",
    "del info_gt_ipscore \n",
    "del info_gt_ih \n",
    "\n",
    "del info_dosage\n",
    "del info_dosage_ipscore\n",
    "del info_dosage_ih"
   ]
  },
  {
   "cell_type": "code",
   "execution_count": 167,
   "metadata": {
    "collapsed": true
   },
   "outputs": [],
   "source": [
    "import gzip"
   ]
  },
  {
   "cell_type": "code",
   "execution_count": 168,
   "metadata": {},
   "outputs": [],
   "source": [
    "fn = '/frazer01/home/djakubosky/software/HipSTR/references/GRCh37.hipstr_reference.bed.gz'\n",
    "F = gzip.open(fn)\n",
    "\n",
    "chroms = CM.normal_Chrs\n",
    "\n",
    "dict_ref_info = {}\n",
    "for line in F:\n",
    "    line = line.rstrip()\n",
    "    lin_spl = line.split()\n",
    "    \n",
    "    chrom = lin_spl[0]\n",
    "    if chrom in chroms:\n",
    "        ID = lin_spl[5]\n",
    "        dict_ref_info[ID] = lin_spl    \n",
    "\n",
    "reference_info = pd.DataFrame(dict_ref_info).T\n",
    "cols = \"CHROM\tSTART\tEND\tMOTIF_LEN\tNUM_COPIES\tNAME MOTIF\".split()\n",
    "reference_info = reference_info.reset_index()\n",
    "reference_info = reference_info.set_index('index')\n",
    "reference_info.columns = cols"
   ]
  },
  {
   "cell_type": "code",
   "execution_count": 247,
   "metadata": {
    "collapsed": true
   },
   "outputs": [],
   "source": [
    "def site_type(x):\n",
    "    site_type = []\n",
    "    for i in x:\n",
    "        \n",
    "        if i < 0 :\n",
    "            site_type.append('DEL')\n",
    "        if i > 0:\n",
    "            site_type.append('DUP')\n",
    "\n",
    "    site_type =  list(set(site_type))\n",
    "    if len(site_type) > 1:\n",
    "        return 'MIXED'\n",
    "    if len(site_type) == 1:\n",
    "        return site_type[0]\n",
    "    \n",
    "    else:\n",
    "        return 'REF'\n",
    "    "
   ]
  },
  {
   "cell_type": "code",
   "execution_count": 250,
   "metadata": {
    "collapsed": true
   },
   "outputs": [],
   "source": [
    "def add_to_maf_calc(maf_calc):\n",
    "    maf_calc = maf_calc.copy()\n",
    "    maf_calc['alleles'] = maf_calc['dict_no_missing'].apply(lambda x: [int(i) for i in x.keys()])\n",
    "    maf_calc['num_alleles_tot'] =  maf_calc['alleles'].apply(lambda x: len(x))\n",
    "    maf_calc['site_type'] = maf_calc.alleles.apply(lambda x: site_type(x))\n",
    "    return maf_calc"
   ]
  },
  {
   "cell_type": "code",
   "execution_count": 251,
   "metadata": {
    "collapsed": true
   },
   "outputs": [],
   "source": [
    "maf_calc_all = process_combined_allele_dist(info_merge, 'ALLELES_DIST_COMBINED')\n",
    "maf_calc_all = maf_calc_all.pipe(add_to_maf_calc)"
   ]
  },
  {
   "cell_type": "code",
   "execution_count": 253,
   "metadata": {
    "collapsed": true
   },
   "outputs": [],
   "source": [
    "maf_calc = maf_calc.pipe(add_to_maf_calc)"
   ]
  },
  {
   "cell_type": "code",
   "execution_count": 169,
   "metadata": {
    "collapsed": true
   },
   "outputs": [],
   "source": [
    "info_merge = info_merge.join(reference_info)"
   ]
  },
  {
   "cell_type": "code",
   "execution_count": null,
   "metadata": {
    "collapsed": true
   },
   "outputs": [],
   "source": [
    "cols = ['mode_allele', 'maf', 'alleles', 'num_alleles_tot' , 'site_type']"
   ]
  },
  {
   "cell_type": "code",
   "execution_count": 259,
   "metadata": {},
   "outputs": [],
   "source": [
    "info_merge['ALLELES_COMBINED'] = maf_calc_all.alleles\n",
    "info_merge['MAF_COMBINED']= maf_calc_all.maf\n",
    "info_merge['NUM_ALLELES_COMBINED'] = maf_calc_all.num_alleles_tot\n",
    "info_merge['SITE_TYPE_COMBINED'] = maf_calc_all.site_type\n",
    "info_merge['SITE_TYPE_i2QTL_unrel'] = maf_calc.site_type\n",
    "info_merge['NUM_ALLELES_i2QTL_unrel'] = maf_calc.num_alleles_tot"
   ]
  },
  {
   "cell_type": "code",
   "execution_count": 174,
   "metadata": {
    "collapsed": true
   },
   "outputs": [],
   "source": [
    "def prep_info(df):\n",
    "    df = df.copy()\n",
    "    df = df.set_index('ID', drop=False)\n",
    "    return df \n",
    "\n",
    "\n",
    "rr_dosage = pd.read_table('/frazer01/projects/hipsci/analysis/i2QTL-sv-analysis/private_output/hipstr_qc_analysis/hipsci_filt_geno/hipstr_replication_length_info.tsv').pipe(prep_info)\n",
    "\n",
    "rr_dosage_ipscore  = pd.read_table('/frazer01/projects/hipsci/analysis/i2QTL-sv-analysis/private_output/hipstr_qc_analysis/ipscore_filt_sr_geno/hipstr_replication_length_info.tsv').pipe(prep_info)\n",
    "\n",
    "rr_dosage_ih  = pd.read_table('/frazer01/projects/hipsci/analysis/i2QTL-sv-analysis/private_output/hipstr_qc_analysis/ipscore_hipsci_ref_filt_sr_geno/hipstr_replication_length_info.tsv').pipe(prep_info)\n",
    "    "
   ]
  },
  {
   "cell_type": "code",
   "execution_count": 201,
   "metadata": {
    "collapsed": true
   },
   "outputs": [],
   "source": [
    "def add_max_dosage_across_vcf(df):\n",
    "    df = df.copy()\n",
    "    cols = 'MAX_DOSAGE_HipSci\tMAX_DOSAGE_iPSCORE_HipSci_Ref\tMAX_DOSAGE_iPSCORE MIN_DOSAGE_HipSci\tMIN_DOSAGE_iPSCORE_HipSci_Ref\tMIN_DOSAGE_iPSCORE'.split()\n",
    "    \n",
    "    \n",
    "    df['max_dosage_change'] = df[cols].applymap(abs).max(axis = 1)\n",
    "    inds = df[(df.in_vcf == True) & (df.unique_to_ipscore == True)].index.tolist()\n",
    "    t = df.loc[inds, ['MIN_DOSAGE_iPSCORE', 'MAX_DOSAGE_iPSCORE']].applymap(abs).max(axis=1)\n",
    "    df.loc[inds, 'max_dosage_change'] = t\n",
    "    \n",
    "    return df"
   ]
  },
  {
   "cell_type": "code",
   "execution_count": 206,
   "metadata": {},
   "outputs": [],
   "source": [
    "info_merge = add_rep_rate(info_merge, rr_dosage, rr_dosage_ih, rr_dosage_ipscore)"
   ]
  },
  {
   "cell_type": "code",
   "execution_count": 202,
   "metadata": {
    "collapsed": true
   },
   "outputs": [],
   "source": [
    "info_merge = info_merge.pipe(add_max_dosage_across_vcf)"
   ]
  },
  {
   "cell_type": "code",
   "execution_count": 261,
   "metadata": {},
   "outputs": [
    {
     "name": "stdout",
     "output_type": "stream",
     "text": [
      "hipstr_info_merge = pd.read_pickle('/frazer01/projects/hipsci/analysis/i2QTL-sv-analysis/private_output/hipstr_combine_info/hipstr_info_merge.pkl')\n",
      "hipstr_info_merge = pd.read_csv('/frazer01/projects/hipsci/analysis/i2QTL-sv-analysis/private_output/hipstr_combine_info/hipstr_info_merge.tsv', sep='\\t')\n",
      "# all vars recorded: /frazer01/projects/hipsci/analysis/i2QTL-sv-analysis/private_output/hipstr_combine_info/load_saved_nb_variables.py\n",
      "# pickled vars recorded:/frazer01/projects/hipsci/analysis/i2QTL-sv-analysis/private_output/hipstr_combine_info/load_pickled_nb_variables.py\n"
     ]
    }
   ],
   "source": [
    "CM.save_dataframe('hipstr_info_merge', info_merge, private_out)"
   ]
  },
  {
   "cell_type": "markdown",
   "metadata": {},
   "source": [
    "# Truncate info data - easier to work with it for plotting"
   ]
  },
  {
   "cell_type": "code",
   "execution_count": 262,
   "metadata": {
    "collapsed": true
   },
   "outputs": [],
   "source": [
    "cols_trunc = ['CHROM', 'START', 'END', 'MOTIF_LEN', 'NUM_COPIES', 'NAME', 'MOTIF', 'ALLELES_DIST_i2QTL_unrel', 'ALLELES_DIST_iPSCORE', 'ALLELES_DIST_HipSci', 'ALLELES_DIST_iPSCORE_HipSci_Ref', 'NNONREF_DOSAGE_COMBINED', 'NNONREF_GT_COMBINED', 'NMODE_i2QTL_unrel', 'NUM_PASS_i2QTL_unrel', 'MAF_i2QTL_unrel', 'max_dosage_change', 'in_vcf', 'unique_to_ipscore', 'unique_to_hipsci', 'unique_to_ipscore_hi', 'in_both', 'RR', 'NP_VAR_TWIN', 'SVTYPE', 'SITE_TYPE_COMBINED', 'SITE_TYPE_i2QTL_unrel', 'NUM_ALLELES_COMBINED', 'NUM_ALLELES_i2QTL_unrel', 'MAF_COMBINED']\n",
    "\n",
    "# did I miss any more columns that I might want? "
   ]
  },
  {
   "cell_type": "code",
   "execution_count": 266,
   "metadata": {},
   "outputs": [
    {
     "name": "stdout",
     "output_type": "stream",
     "text": [
      "hipstr_info_trunc = pd.read_pickle('/frazer01/projects/hipsci/analysis/i2QTL-sv-analysis/private_output/hipstr_combine_info/hipstr_info_trunc.pkl')\n",
      "hipstr_info_trunc = pd.read_csv('/frazer01/projects/hipsci/analysis/i2QTL-sv-analysis/private_output/hipstr_combine_info/hipstr_info_trunc.tsv', sep='\\t')\n",
      "# all vars recorded: /frazer01/projects/hipsci/analysis/i2QTL-sv-analysis/private_output/hipstr_combine_info/load_saved_nb_variables.py\n",
      "# pickled vars recorded:/frazer01/projects/hipsci/analysis/i2QTL-sv-analysis/private_output/hipstr_combine_info/load_pickled_nb_variables.py\n"
     ]
    }
   ],
   "source": [
    "CM.save_dataframe('hipstr_info_trunc', info_merge[cols_trunc], private_out)"
   ]
  },
  {
   "cell_type": "code",
   "execution_count": 268,
   "metadata": {},
   "outputs": [
    {
     "data": {
      "text/plain": [
       "<matplotlib.axes._subplots.AxesSubplot at 0x7ff22f978cd0>"
      ]
     },
     "execution_count": 268,
     "metadata": {},
     "output_type": "execute_result"
    },
    {
     "data": {
      "image/png": "[encoded data removed]",
      "text/plain": [
       "<Figure size 600x400 with 1 Axes>"
      ]
     },
     "metadata": {},
     "output_type": "display_data"
    }
   ],
   "source": [
    "info_merge[cols_trunc].NUM_ALLELES_COMBINED.hist()"
   ]
  },
  {
   "cell_type": "markdown",
   "metadata": {},
   "source": [
    "# Extract Dosage Per Sample VCF"
   ]
  },
  {
   "cell_type": "code",
   "execution_count": 197,
   "metadata": {
    "collapsed": true
   },
   "outputs": [],
   "source": [
    "fn_vcf = '/frazer01/projects/hipsci/analysis/i2QTL-sv-analysis/private_output/hipstr_final_vcf/hipstr_i2QTL_merged.filt.annot.477.vcf'"
   ]
  },
  {
   "cell_type": "code",
   "execution_count": 189,
   "metadata": {
    "collapsed": true
   },
   "outputs": [],
   "source": [
    "outdir = private_out + '/dosage_per_sample_merged_vcf'\n",
    "DJ.makedir(outdir)"
   ]
  },
  {
   "cell_type": "code",
   "execution_count": 1,
   "metadata": {},
   "outputs": [],
   "source": [
    "DJ.convert_ipynb_to_script('/frazer01/projects/hipsci/analysis/i2QTL-sv-analysis/notebooks/HipSTR_processing/hipstr_extract_dosage_cumulative.ipynb')"
   ]
  },
  {
   "cell_type": "code",
   "execution_count": 192,
   "metadata": {
    "collapsed": true
   },
   "outputs": [],
   "source": [
    "dosage_script = '/frazer01/projects/hipsci/analysis/i2QTL-sv-analysis/notebooks/HipSTR_processing/hipstr_extract_dosage_cumulative.py'"
   ]
  },
  {
   "cell_type": "code",
   "execution_count": 198,
   "metadata": {
    "collapsed": true
   },
   "outputs": [],
   "source": [
    "command = 'python {} -vcf {} -o {}'.format(dosage_script, fn_vcf, outdir)"
   ]
  },
  {
   "cell_type": "code",
   "execution_count": 199,
   "metadata": {},
   "outputs": [
    {
     "data": {
      "text/plain": [
       "'python /frazer01/projects/hipsci/analysis/i2QTL-sv-analysis/notebooks/HipSTR_processing/hipstr_extract_dosage_cumulative.py -vcf /frazer01/projects/hipsci/analysis/i2QTL-sv-analysis/private_output/hipstr_final_vcf/hipstr_i2QTL_merged.filt.annot.477.vcf -o /frazer01/projects/hipsci/analysis/i2QTL-sv-analysis/private_output/hipstr_combine_info/dosage_per_sample_merged_vcf'"
      ]
     },
     "execution_count": 199,
     "metadata": {},
     "output_type": "execute_result"
    }
   ],
   "source": [
    "command"
   ]
  }
 ],
 "metadata": {
  "kernelspec": {
   "display_name": "Python 2",
   "language": "python",
   "name": "python2"
  },
  "language_info": {
   "codemirror_mode": {
    "name": "ipython",
    "version": 2
   },
   "file_extension": ".py",
   "mimetype": "text/x-python",
   "name": "python",
   "nbconvert_exporter": "python",
   "pygments_lexer": "ipython2",
   "version": "2.7.15"
  }
 },
 "nbformat": 4,
 "nbformat_minor": 1
}
