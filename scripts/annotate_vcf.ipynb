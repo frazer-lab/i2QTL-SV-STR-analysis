{
 "cells": [
  {
   "cell_type": "code",
   "execution_count": 2,
   "metadata": {
    "collapsed": false
   },
   "outputs": [],
   "source": [
    "from __future__ import division\n",
    "import numpy as np\n",
    "import os\n",
    "import sys\n",
    "import datetime\n",
    "from subprocess import call\n",
    "\n",
    "import itertools\n",
    "import tempfile\n",
    "\n",
    "\n",
    "import argparse\n",
    "import warnings\n",
    "# silence pandas warnings...\n",
    "warnings.filterwarnings(\"ignore\")"
   ]
  },
  {
   "cell_type": "code",
   "execution_count": 39,
   "metadata": {
    "collapsed": true
   },
   "outputs": [],
   "source": [
    "\n",
    "def find_header_end(fn):\n",
    "    \"\"\" find header end of vcf or gzipped vcf\"\"\"\n",
    "    \n",
    "    if fn.split('.').pop() == 'gz':\n",
    "        import gzip\n",
    "        F = gzip.open(fn, 'rU')\n",
    "    else:\n",
    "        F = open(fn, 'rU')\n",
    "        \n",
    "\n",
    "    count = 0\n",
    "    header = False\n",
    "    count_out = 0\n",
    "    for line in F:\n",
    "        count +=1\n",
    "        try: \n",
    "            spl = line.split('\\t')\n",
    "            spl0 = spl[0] \n",
    "            if spl[0]==\"#CHROM\":\n",
    "                header = True\n",
    "                count_out  = count\n",
    "                F.close()\n",
    "                return count_out\n",
    "        except:\n",
    "            break\n",
    "    \n",
    "    F.close()\n"
   ]
  },
  {
   "cell_type": "code",
   "execution_count": 38,
   "metadata": {
    "collapsed": false
   },
   "outputs": [],
   "source": [
    "def annotate_vcf_info(fn, annotation_ID, description, info_type, annotation_file, out_file_name, number, add_info=False, add_filter=False):\n",
    "    \n",
    "    mappings = {}\n",
    "    \n",
    "    if fn.split('.')[-1] == '.gz':\n",
    "        F =  gzip.open(fn, 'rU')\n",
    "    else:\n",
    "        F = open(fn, 'rU')\n",
    "    \n",
    "    with open(annotation_file, 'rU') as A:\n",
    "        for line in A:\n",
    "            line = line.rstrip()\n",
    "            lin_spl = line.rstrip().split()\n",
    "            mappings[lin_spl[0]] = lin_spl[1]    \n",
    "    \n",
    "    annotated_vcf = open(out_file_name, 'w')\n",
    "\n",
    "\n",
    "\n",
    "    count = 0\n",
    "    header_end = find_header_end(fn)\n",
    "    add_info = False\n",
    "    add_filters = False\n",
    "\n",
    "    for line in F:\n",
    "        line = line.rstrip()\n",
    "        lin_spl = line.split('\\t')\n",
    "\n",
    "        if count < header_end:\n",
    "            if not add_info:\n",
    "\n",
    "                if line.find('##INFO'.format('')) == 0:\n",
    "                    add_info = True\n",
    "\n",
    "                    l1 = '##INFO=<ID={},Number={},Type={},Description=\"{}\">'.format(annotation_ID, number, info_type, description)\n",
    "\n",
    "                    annotated_vcf.write(l1 + '\\n')\n",
    "                    \n",
    "            \n",
    "\n",
    "            annotated_vcf.write(line + '\\n')\n",
    "\n",
    "        if count == header_end:\n",
    "            annotate_vcf.write(line + '\\n')\n",
    "\n",
    "        if count == header_end-1:\n",
    "\n",
    "            annotated_vcf.write(line + '\\n')\n",
    "            header = lin_spl\n",
    "            header_dict = {l:i for l,i in zip(lin_spl, range(0, len(lin_spl)))}\n",
    "            samples = header[9:]\n",
    "            info_cols = header[:9]\n",
    "\n",
    "\n",
    "        elif count > header_end:\n",
    "\n",
    "            # first format line, but this might be different for different lines so I'll calculate it on every line\n",
    "            info = lin_spl[header_dict['INFO']]\n",
    "            ID = lin_spl[header_dict['ID']]\n",
    "\n",
    "            # if annotation is in the mappings add it\n",
    "            \n",
    "\n",
    "            try:\n",
    "                annot = mappings[ID]\n",
    "\n",
    "                add = \";{}={}\".format(annotation_ID, annot)\n",
    "                info += add\n",
    "                lin_spl[header_dict['INFO']] = info\n",
    "\n",
    "            except:\n",
    "                pass\n",
    "\n",
    "\n",
    "            annotated_vcf.write(\"\\t\".join(lin_spl) + '\\n')\n",
    "\n",
    "\n",
    "        count +=1     \n",
    "        \n",
    "    annotated_vcf.close()\n",
    "    F.close()"
   ]
  },
  {
   "cell_type": "code",
   "execution_count": null,
   "metadata": {
    "collapsed": true
   },
   "outputs": [],
   "source": [
    "def add_arguments_to_parser(parser):\n",
    "    \n",
    "    parser.add_argument(\"-vcf\", \"--vcf\", dest=\"vcf\", metavar='<vcf_fn>', help=\"vcf filename\", required=True)\n",
    "    parser.add_argument(\"-id\", \"--id_name\", dest=\"id\", metavar='<id>', help=\"id for info column- name you want the info column to be called- (eg: SVTYPE, MAF etc)\", required=True)\n",
    "    parser.add_argument(\"-af\", \"--annot\", dest=\"annotation_fn\", metavar='<annotation fn>', help=\"tsv file that in the form: ID  Annotation for annotating the vcf- IDs are expected to be unique\", required=True)\n",
    "    \n",
    "    parser.add_argument(\"-number\", \"--number\", dest=\"number\", metavar='<number>', help=\"number of records in annotation record, for example, if only one number is expected, use 1, if unknown use '.', \", required=True, default = '.')\n",
    "    \n",
    "    parser.add_argument(\"-t\", \"--type\", dest=\"type\", metavar='<String/Float/Integer/Flag>', help=\"data type of the annotation\", required=True, default = 'String')\n",
    "    \n",
    "    parser.add_argument(\"-d\", \"--description\", dest=\"description\", metavar='<description of the annotation>', help=\"Description of annotation for the header of the vcf\", required=True, default = 'String')\n",
    "\n",
    "    \n",
    "    parser.add_argument(\"-o\", \"--output_fn\", dest=\"output_fn\", metavar='<out_fn>', help=\"output vcf filename\", required=True)\n",
    "    \n",
    "    parser.set_defaults(entry_point=run_from_args)\n",
    "    \n"
   ]
  },
  {
   "cell_type": "code",
   "execution_count": null,
   "metadata": {
    "collapsed": true
   },
   "outputs": [],
   "source": []
  },
  {
   "cell_type": "code",
   "execution_count": null,
   "metadata": {
    "collapsed": true
   },
   "outputs": [],
   "source": [
    "def command_parser():\n",
    "    parser = argparse.ArgumentParser(description= 'command line utility to add an annotation to a vcf file given unique identifiers')\n",
    "    add_arguments_to_parser(parser)\n",
    "    return parser"
   ]
  },
  {
   "cell_type": "code",
   "execution_count": null,
   "metadata": {
    "collapsed": true
   },
   "outputs": [],
   "source": [
    "def run_from_args(args):\n",
    "    vcf_fn = args.vcf\n",
    "    id_name = args.id\n",
    "    num = args.number\n",
    "    description = args.description\n",
    "    out_fn = args.output_fn\n",
    "    info_type = args.type\n",
    "    annotation_fn = args.annotation_fn\n",
    "    \n",
    "    annotate_vcf_info(vcf_fn, id_name, description, info_type, annotation_fn, out_fn, num)\n",
    "    "
   ]
  },
  {
   "cell_type": "code",
   "execution_count": null,
   "metadata": {
    "collapsed": true
   },
   "outputs": [],
   "source": [
    "if __name__ == '__main__':\n",
    "    parser = command_parser()\n",
    "    args = parser.parse_args()\n",
    "    sys.exit(args.entry_point(args))"
   ]
  }
 ],
 "metadata": {
  "kernelspec": {
   "display_name": "Python 2",
   "language": "python",
   "name": "python2"
  },
  "language_info": {
   "codemirror_mode": {
    "name": "ipython",
    "version": 2
   },
   "file_extension": ".py",
   "mimetype": "text/x-python",
   "name": "python",
   "nbconvert_exporter": "python",
   "pygments_lexer": "ipython2",
   "version": "2.7.12"
  }
 },
 "nbformat": 4,
 "nbformat_minor": 2
}
