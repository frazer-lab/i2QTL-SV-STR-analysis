{
 "cells": [
  {
   "cell_type": "code",
   "execution_count": 2,
   "metadata": {
    "collapsed": false
   },
   "outputs": [],
   "source": [
    "%matplotlib inline\n",
    "from __future__ import division\n",
    "import numpy as np\n",
    "import os\n",
    "import sys\n",
    "import datetime\n",
    "from subprocess import call\n",
    "import subprocess\n",
    "import glob\n",
    "import djPyi2 as DJ\n",
    "from djPyi2 import Common as CM\n",
    "from djPyi2 import mpltools as axtools\n",
    "\n",
    "import pandas as pd\n",
    "import csv\n",
    "import seaborn as sns\n",
    "import matplotlib as mpl\n",
    "import matplotlib.pyplot as plt\n",
    "import copy \n",
    "import pybedtools as pbt\n",
    "import ciepy\n",
    "import cardipspy as cpy\n",
    "import itertools\n",
    "import tempfile\n",
    "import matplotlib.ticker as ticker\n",
    "import six\n",
    "import networkx as nx\n",
    "import scipy.stats as stats\n",
    "pd.set_option('display.max_columns', 500)\n",
    "pd.set_option('display.max_rows', 100)\n",
    "from mpl_toolkits.axes_grid1 import  make_axes_locatable\n",
    "import datetime\n",
    "from matplotlib_venn import venn2, venn2_circles, venn3, venn3_circles\n",
    "import scipy.stats as stats\n",
    "from scipy.stats import mode\n",
    "from djPyi2 import pandas_methods as pm\n",
    "dy_name = 'unify_sv_callsets'\n",
    "\n",
    "private_out = os.path.join(DJ.root, 'private_output', dy_name)\n",
    "if not os.path.exists(private_out):\n",
    "    cpy.makedir(private_out)\n",
    "import gzip\n",
    "\n",
    "from collections import Counter\n"
   ]
  },
  {
   "cell_type": "code",
   "execution_count": 3,
   "metadata": {
    "collapsed": true
   },
   "outputs": [],
   "source": [
    "dy_name = 'unify_sv_callsets'\n",
    "private_out = os.path.join(DJ.root, 'private_output', dy_name)\n",
    "if not os.path.exists(private_out):\n",
    "    cpy.makedir(private_out)"
   ]
  },
  {
   "cell_type": "code",
   "execution_count": 4,
   "metadata": {
    "collapsed": true
   },
   "outputs": [],
   "source": [
    "def prep_mei_int_for_merge(int_mei):\n",
    "\n",
    "    int_mei.index = int_mei.ID2\n",
    "\n",
    "    int_mei_merge = int_mei[['ID', 'ID2', 'ID']].copy()\n",
    "\n",
    "    int_mei_merge.columns =  ['Merge_Site', 'Lumpy_Sites', 'GS_Sites']\n",
    "    int_mei_merge['cnv_types_at_site'] = [['DEL', 'rMEI'] for i in range(int_mei_merge.shape[0])]\n",
    "\n",
    "    int_mei_merge['to_prune'] =  'None'\n",
    "\n",
    "    int_mei_merge['CNV_Cluster'] = [[x, y] for x,y in zip(int_mei_merge.Lumpy_Sites.tolist(), int_mei_merge.GS_Sites.tolist())]\n",
    "\n",
    "    int_mei_merge['CNV_Cluster_Str'] = int_mei_merge.CNV_Cluster.apply(lambda x: \",\".join(x))\n",
    "\n",
    "    int_mei_merge['number_vars'] = 2\n",
    "\n",
    "    int_mei_merge['Site_Caller'] = 'lumpy'\n",
    "\n",
    "    int_mei_merge['Types_Str'] = 'DEL,rMEI'\n",
    "    int_mei_merge['cnv_type_max_weight'] = 'rMEI'\n",
    "    return int_mei_merge\n",
    "\n",
    "def class_match(x):\n",
    "    if x.SVTYPE_A == x.SVTYPE_B:\n",
    "        return True\n",
    "    elif x.SVTYPE_A == 'mCNV':\n",
    "        return True\n",
    "    \n",
    "    elif (x.SVTYPE_A == 'DEL') & (x.SVTYPE_B == 'rMEI'):\n",
    "        return True\n",
    "    else:\n",
    "        return False\n",
    "\n",
    "def get_cnv_combos_and_corrs(cnv_set, corr):\n",
    "    combos = list(itertools.combinations(cnv_set, 2))\n",
    "    corrs = []\n",
    "    \n",
    "    \n",
    "    for i in combos:\n",
    "        \n",
    "        t = corr.loc[i[0], i[1]]\n",
    "        corrs.append(t)\n",
    "    return combos, corrs"
   ]
  },
  {
   "cell_type": "code",
   "execution_count": 5,
   "metadata": {
    "collapsed": true
   },
   "outputs": [],
   "source": [
    "def lumpy_gs_intersect(gs_info, lumpy_info, lumpy_ab, gs_geno, uuids, recip = 0.5):\n",
    "    \n",
    "    lumpy_cnvs['Length'] = np.abs(lumpy_cnvs.SVLEN.astype(int))\n",
    "    \n",
    "    cols = ['#CHROM' , 'POS', 'END', 'NAME', 'SVTYPE','Length', 'NSAMP', 'MSQ']\n",
    "    lumpy_bt = pbt.BedTool.from_dataframe(lumpy_info[cols])\n",
    "    \n",
    "    \n",
    "\n",
    "    gs_geno =gs_geno[uuids]\n",
    "    gs_bt = pbt.BedTool.from_dataframe(gs_info[['Chr', 'Start', 'End', 'ID', 'cnv_class', 'Length','diff_from_mode', 'GSCNQUAL_max']])\n",
    "\n",
    "    lumpy_ab = lumpy_ab[uuids]\n",
    "    diff_mode_gs = gs_info.diff_from_mode.to_dict()\n",
    "#     non_ref_lumpy = lumpy_info_pruned.N\n",
    "    \n",
    "#     var_types = dict(zip(lumpy_info.index.tolist(), lumpy_info.SVTYPE.tolist()))\n",
    "#     gs_var_types = dict(zip(gs_info.index.tolist(), gs_info.cnv_class.tolist()))\n",
    "\n",
    "#     var_types.update(gs_var_types)\n",
    "\n",
    "#     caller_types = {i:'GS' for i in gs_info.index.tolist()}\n",
    "\n",
    "#     lumpy_caller_dict = {i:'lumpy' for i in lumpy_info.index.tolist()}\n",
    "#     caller_types.update(lumpy_caller_dict)\n",
    "    \n",
    "\n",
    "#     G=nx.Graph()\n",
    "    cols_out = ['chrom_A', 'start_A', 'end_A', 'ID_A', 'SVTYPE_A', 'Length_A', 'diff_from_mode_A', 'GSCNQUAL_max'] + \\\n",
    "    ['chrom_B' , 'start_B', 'end_B', 'ID_B', \"SVTYPE_B\", 'Length_B', 'NSAMP_B', 'MSQ', 'overlap']\n",
    "\n",
    "    intersect = gs_bt.intersect(lumpy_bt, wo= True).to_dataframe(names = cols_out)\n",
    "\n",
    "#     int2 = gs_bt.intersect(lumpy_bt, wo= True, F = 1.0).to_dataframe(names = cols_out)\n",
    "\n",
    "    intersect['Length_A'] = intersect.end_A.astype(int) - intersect.start_A.astype(int)\n",
    "    intersect['Length_B'] = intersect.end_B.astype(int) - intersect.start_B.astype(int)\n",
    "    \n",
    "    intersect['RO_A'] = intersect['overlap'].astype(int)/ intersect.Length_A\n",
    "    intersect['RO_B'] = intersect['overlap'].astype(int)/ intersect.Length_B\n",
    "    intersect['average_RO'] = intersect[['RO_A', 'RO_B']].mean(axis = 1)\n",
    "\n",
    "    return intersect\n",
    "    \n",
    "  "
   ]
  },
  {
   "cell_type": "code",
   "execution_count": 6,
   "metadata": {
    "collapsed": true
   },
   "outputs": [],
   "source": [
    "def compare_sites(ind1, ind2, cns_t, samples):\n",
    "    \"\"\" calculate the pearson corr of sites in the intersection, calculate the number of differences among non-mode samples \"\"\"\n",
    "    \n",
    "    data = []\n",
    "    ids = [ind1, ind2]\n",
    "    ids_mod = [\"_\".join(i.split('_')[:-1]) for i in ids]\n",
    "    \n",
    "    \n",
    "    cns_1 = cns_t[ind1].to_dict()\n",
    "    cns_2 = cns_t[ind2].to_dict()\n",
    "    \n",
    "        \n",
    "#     samples_nmode1 = [i for i in samples if cns_1[i]]\n",
    "#     samples_nmode2 = [i for i in samples if cns_2[i]]\n",
    "    \n",
    "    cns_corr_1 = [float(cns_1[i]) for i in samples]\n",
    "    cns_corr_2 = [float(cns_2[i]) for i in samples]\n",
    "    \n",
    "#     allele_dist1 = dict(Counter(cns_corr_1))\n",
    "#     allele_dist2 = dict(Counter(cns_corr_2))\n",
    "    \n",
    "    corr_coef = stats.pearsonr(cns_corr_1, cns_corr_2)[0]\n",
    "    \n",
    "    \n",
    "\n",
    "    out = [ind1, ind2, corr_coef]\n",
    "\n",
    "    return out"
   ]
  },
  {
   "cell_type": "code",
   "execution_count": 7,
   "metadata": {
    "collapsed": true
   },
   "outputs": [],
   "source": [
    "def class_match(svtype_scenario):\n",
    "    if svtype_scenario not in ['DEL_DUP', 'DUP_rMEI', 'mCNV_rMEI']:\n",
    "        return True\n",
    "    else:\n",
    "        return False\n",
    "    "
   ]
  },
  {
   "cell_type": "code",
   "execution_count": 8,
   "metadata": {
    "collapsed": true
   },
   "outputs": [],
   "source": [
    "def compare_sites_intersect(intersect_info, cns_t, samples):\n",
    "    \"\"\" -calculate the pearson corr of sites in the intersection, \n",
    "    -compute when sites overlap or are contained too (we may want to use these informations too in our algorithm)\n",
    "    -calculate the number of differences among non-mode samples \"\"\"\n",
    "    \n",
    "    data = []\n",
    "#     inds = intersect_info.index.tolist()\n",
    "    cns_t = cns_t.loc[samples]\n",
    "    inds = []\n",
    "    for ind, x in intersect_info.iterrows():\n",
    "        \n",
    "        ind1 = x['ID_A']\n",
    "        # hipsci\n",
    "        ind2 = x['ID_B']\n",
    "        \n",
    "        node_pair = sorted([ind1, ind2])\n",
    "        node_pair_id = '-'.join(node_pair)\n",
    "        \n",
    "        RO = x['average_RO']\n",
    "        svtype_A = x['SVTYPE_A']\n",
    "        svtype_B = x['SVTYPE_B']\n",
    "        \n",
    "        overlap = x['overlap']\n",
    "        \n",
    "        if svtype_A == svtype_B:\n",
    "            svtype_scenario = svtype_A\n",
    "        else:\n",
    "            svtype_scenario = \"_\".join(sorted([svtype_A, svtype_B]))\n",
    "\n",
    "        class_match_b = class_match(svtype_scenario)\n",
    "#         class_match_b = (svtype_A == svtype_B)\n",
    "        \n",
    "        if x['RO_A'] == 1:\n",
    "            covering  = ind2\n",
    "            contained = ind1\n",
    "        elif x['RO_B'] == 1:\n",
    "            covering = ind1\n",
    "            contained =ind2\n",
    "        else:\n",
    "            covering=False\n",
    "            contained = False\n",
    "            \n",
    "        \n",
    "        ind_GS = ind1\n",
    "        ind_SS = ind2\n",
    "        chrom, start, end = split_id_to_coord(ind1)\n",
    "        \n",
    "        comp = compare_sites(ind1, ind2, cns_t, samples)\n",
    "        \n",
    "        out = comp + [RO, x['RO_A'], x['RO_B'], svtype_A, svtype_B, overlap, node_pair_id, x['Length_A'], x['Length_B'], covering, contained, x['GSCNQUAL_max'], x['MSQ'], svtype_scenario, class_match_b]\n",
    "        data.append(out)\n",
    "        \n",
    "    df = pd.DataFrame(data, columns=['ID_A', 'ID_B', 'corr_coef', 'average_RO', 'RO_A', 'RO_B', 'SVTYPE_A', \n",
    "                                     'SVTYPE_B', 'overlap', 'node_pair_ID', 'Length_A', 'Length_B', 'covering', 'contained', 'GSCNQUAL', 'MSQ', 'SVTYPE_PAIR', 'class_match'])\n",
    "    \n",
    "    df.index = df.node_pair_ID\n",
    "    df['r2'] = df.corr_coef.apply(lambda x: x**2)\n",
    "    \n",
    "    return df"
   ]
  },
  {
   "cell_type": "code",
   "execution_count": 9,
   "metadata": {
    "collapsed": true
   },
   "outputs": [],
   "source": [
    "def check_overlap_params(ro_a, ro_b):\n",
    "    if (ro_a > 0.5) & (ro_b > 0.5):\n",
    "        return True\n",
    "    elif (ro_a == 1.0) or (ro_b == 1.0):\n",
    "        return True\n",
    "    else:\n",
    "        return False"
   ]
  },
  {
   "cell_type": "code",
   "execution_count": 10,
   "metadata": {
    "collapsed": true
   },
   "outputs": [],
   "source": [
    "def split_id_to_coord(ID):\n",
    "    spl = ID.split('_')\n",
    "    chrom = spl[1]\n",
    "    start = int(spl[2])\n",
    "    end = int(spl[3])\n",
    "    return chrom, start, end"
   ]
  },
  {
   "cell_type": "code",
   "execution_count": 278,
   "metadata": {
    "collapsed": false
   },
   "outputs": [],
   "source": [
    "L_series = pd.Series(length_dict)"
   ]
  },
  {
   "cell_type": "code",
   "execution_count": 11,
   "metadata": {
    "collapsed": true
   },
   "outputs": [],
   "source": [
    "def compute_overlap(cnv_id1, cnv_id2):\n",
    "    chrom1, start1, end1 = split_id_to_coord(cnv_id1)\n",
    "    chrom2, start2, end2 = split_id_to_coord(cnv_id2)\n",
    "    \n",
    "    length1 = end1 -start1\n",
    "    length2 = end2 - start2\n",
    "    \n",
    "    x = sorted([[start1, end1, cnv_id1], [start2, end2, cnv_id2]], key = lambda x: [x[0], [x[1]]])\n",
    "    \n",
    "    \n",
    "    \n",
    "    dist = x[1][0] - x[0][1]\n",
    "    \n",
    "    if dist > 0:\n",
    "      \n",
    "        overlap = 0\n",
    "        RO_A = 0\n",
    "        RO_B = 0\n",
    "        average_RO = 0\n",
    "    else:\n",
    "        if abs(dist) > length1:\n",
    "            dist = length1\n",
    "        elif abs(dist) > length2:\n",
    "            dist = length2\n",
    "        \n",
    "        RO_A = abs(dist)/length1\n",
    "        RO_B = abs(dist)/length2\n",
    "        average_RO = (RO_A + RO_B)/2\n",
    "    \n",
    "    \n",
    "    return dist, RO_A, RO_B, average_RO, x"
   ]
  },
  {
   "cell_type": "code",
   "execution_count": 12,
   "metadata": {
    "collapsed": false
   },
   "outputs": [],
   "source": [
    "def get_max_degree(g):\n",
    "    degree_dict = g.degree()\n",
    "    \n",
    "    max_degree = 1\n",
    "    max_label= []\n",
    "    for k,v in degree_dict.iteritems():\n",
    "        \n",
    "        if v > max_degree:\n",
    "            max_degree = v\n",
    "            max_label = []\n",
    "            max_label.append(k)\n",
    "        elif v == max_degree:\n",
    "            max_label.append(k)\n",
    "    \n",
    "    return max_label, len(max_label), max_degree, degree_dict\n",
    "        \n",
    "            \n",
    "            "
   ]
  },
  {
   "cell_type": "code",
   "execution_count": 13,
   "metadata": {
    "collapsed": true
   },
   "outputs": [],
   "source": [
    "def get_max_degree_subset(d, s):\n",
    "\n",
    "    max_degree = 1\n",
    "    max_label= []\n",
    "    for c in s:\n",
    "        v = d[c]   \n",
    "        if v > max_degree:\n",
    "            max_degree = v\n",
    "            max_label = []\n",
    "            max_label.append(c)\n",
    "        elif v == max_degree:\n",
    "            max_label.append(c)\n",
    "    \n",
    "    return max_label, len(max_label), max_degree\n"
   ]
  },
  {
   "cell_type": "code",
   "execution_count": 14,
   "metadata": {
    "collapsed": true
   },
   "outputs": [],
   "source": [
    "def get_max_value_ed(ed_dict):\n",
    "    \n",
    "    max_degree = 0\n",
    "    max_label= []\n",
    "    for k,v in ed_dict.iteritems():\n",
    "        \n",
    "        if v > max_degree:\n",
    "            max_degree = v\n",
    "            max_label = []\n",
    "            max_label.append(k)\n",
    "        elif v == max_degree:\n",
    "            max_label.append(k)\n",
    "    \n",
    "    return max_label, len(max_label), max_degree\n",
    "        \n",
    "    \n",
    "    "
   ]
  },
  {
   "cell_type": "code",
   "execution_count": 15,
   "metadata": {
    "collapsed": true
   },
   "outputs": [],
   "source": [
    "def get_edge_data(g, label):\n",
    "    e = g.edges()\n",
    "    \n",
    "    ed_dict = {}\n",
    "    for edge in e:\n",
    "        data  = g.get_edge_data(edge[0], edge[1])[label]\n",
    "        ed_dict[edge] = data\n",
    "    return ed_dict\n",
    "        "
   ]
  },
  {
   "cell_type": "code",
   "execution_count": 16,
   "metadata": {
    "collapsed": true
   },
   "outputs": [],
   "source": [
    "def get_cnv_combos_and_corrs(cnv_set, corr):\n",
    "    combos = list(itertools.combinations(cnv_set, 2))\n",
    "    corrs = []\n",
    "    \n",
    "    combos_out = []\n",
    "    for i in combos:\n",
    "        \n",
    "        t = corr.loc[i[0], i[1]]\n",
    "        \n",
    "        combos_out.append(\"-\".join(sorted(i)))\n",
    "        \n",
    "        corrs.append(t)\n",
    "    return combos_out, combos,corrs"
   ]
  },
  {
   "cell_type": "code",
   "execution_count": 17,
   "metadata": {
    "collapsed": true
   },
   "outputs": [],
   "source": [
    "def check_for_pair_in_overlap(pairs, ids):\n",
    "    p_out = {}\n",
    "    for p in pairs:\n",
    "   \n",
    "        if p in ids:\n",
    "            p_out[p] = True\n",
    "        else:\n",
    "            p_out[p] = False\n",
    "    return p_out\n",
    "        "
   ]
  },
  {
   "cell_type": "code",
   "execution_count": 18,
   "metadata": {
    "collapsed": true
   },
   "outputs": [],
   "source": [
    "def get_max_qual_pair(lumpy, gs, lumpy_cnvs, gs_info_new):\n",
    "    if len(lumpy) == 0:\n",
    "        l =False\n",
    "    elif len(lumpy) == 1:\n",
    "        l = lumpy[0]\n",
    "    \n",
    "    else:\n",
    "        t = lumpy_cnvs.loc[lumpy]\n",
    "        l = t[t.MSQ == t.MSQ.max()].NAME.tolist()[0]\n",
    "\n",
    "    \n",
    "    if len(gs) == 0:\n",
    "        g =False\n",
    "    elif len(gs) == 1:\n",
    "        g = gs[0]\n",
    "    \n",
    "    else:\n",
    "        t = gs_info_new.loc[gs]\n",
    "        g= t[t.GSCNQUAL_max == (t.GSCNQUAL_max.max())].ID.tolist()[0]\n",
    "    return g, l"
   ]
  },
  {
   "cell_type": "code",
   "execution_count": 19,
   "metadata": {
    "collapsed": false
   },
   "outputs": [],
   "source": [
    "def get_max_length_var(cnvs):\n",
    "    \n",
    "    max_length = 0 \n",
    "    max_cnv = ''\n",
    "    for i in cnvs:\n",
    "        l = length_dict[i]\n",
    "        if l > max_length:\n",
    "            max_length = l\n",
    "            max_cnv = i\n",
    "    return max_length, max_cnv"
   ]
  },
  {
   "cell_type": "code",
   "execution_count": 20,
   "metadata": {
    "collapsed": true
   },
   "outputs": [],
   "source": [
    "def check_caller_types_present_of_cnvs(cnvs):\n",
    "    \n",
    " \n",
    "    t = list([type_dict[i] for i in cnvs])\n",
    "    lumpy = [i for i in cnvs if type_dict[i] == 'lumpy']\n",
    "    gs =  [i for i in cnvs if type_dict[i] == 'GS']\n",
    "    s = Counter(t)\n",
    "    both = (len(s) == 2)\n",
    "    return t , s, both, lumpy, gs"
   ]
  },
  {
   "cell_type": "code",
   "execution_count": 21,
   "metadata": {
    "collapsed": true
   },
   "outputs": [],
   "source": [
    "def get_svtypes_present(cnvs, svtype_dict):\n",
    "    l = list(set([svtype_dict[i] for i in cnvs]))\n",
    "    s = \",\".join(sorted(l))\n",
    "    types_len = len(l)\n",
    "    \n",
    "    return l, s, types_len"
   ]
  },
  {
   "cell_type": "code",
   "execution_count": 22,
   "metadata": {
    "collapsed": false
   },
   "outputs": [],
   "source": [
    "def get_clique_data(g):\n",
    "    c = nx.algorithms.find_cliques(g) \n",
    "\n",
    "\n",
    "    means = []\n",
    "    data = []\n",
    "    subgraphs = []\n",
    "    num_in_clique = []\n",
    "    for l in c:\n",
    "        subgraphs.append(l)\n",
    "        n = len(l)\n",
    "        t, s2, both, lumpy, gs = check_caller_types_present_of_cnvs(l)\n",
    "        num_in_clique.append(n)\n",
    "        max_length, max_cnvs = get_max_length_var(l)\n",
    "        max_gs, max_l = get_max_qual_pair(lumpy, gs, lumpy_cnvs, gs_info_new)\n",
    "        s = g.subgraph(l)\n",
    "        m = np.mean(get_edge_data(s, 'R2').values())\n",
    "        ro_a = np.mean(get_edge_data(s, 'RO_average').values())\n",
    "        max_label, degree, max_degree, degree_dict = get_max_degree(sub)\n",
    "        \n",
    "        data.append([l, n, m, ro_a, max_length, max_cnvs, both, s2, lumpy, gs, max_l, max_gs, max_label, degree, max_degree, degree_dict])\n",
    "\n",
    "\n",
    "    df = pd.DataFrame(data, columns=['clique', 'num_in_clique', 'mean_corr', 'ro_average', 'max_len_cnv', 'max_length_ID', 'both_present', 'types', 'lumpy_sites', 'gs_sites', 'max_qual_lumpy', 'max_qual_gs', 'max_degree_cnvs', 'num_max_degree_cnvs', 'max_degree', 'degree_dict'])\n",
    "    return df"
   ]
  },
  {
   "cell_type": "code",
   "execution_count": 23,
   "metadata": {
    "collapsed": true
   },
   "outputs": [],
   "source": [
    "def get_svtypes_present(cnvs, svtype_dict):\n",
    "    l = list(set([svtype_dict[i] for i in cnvs]))\n",
    "    s = \",\".join(sorted(l))\n",
    "    types_len = len(l)\n",
    "    return l, s, types_len\n",
    "    "
   ]
  },
  {
   "cell_type": "code",
   "execution_count": 24,
   "metadata": {
    "collapsed": true
   },
   "outputs": [],
   "source": [
    "def split_id_to_coord(ID):\n",
    "    spl = ID.split('_')\n",
    "    chrom = spl[1]\n",
    "    start = int(spl[2])\n",
    "    end = int(spl[3])\n",
    "    return chrom, start, end"
   ]
  },
  {
   "cell_type": "code",
   "execution_count": 25,
   "metadata": {
    "collapsed": true
   },
   "outputs": [],
   "source": [
    "def get_each_svtype_cnvs(cnvs, svtype_dict):\n",
    "    dup = [i for i in cnvs if svtype_dict[i] == 'DUP']\n",
    "    dels =  [i for i in cnvs if svtype_dict[i] == 'DEL']\n",
    "    mcnvs = [i for i in cnvs if svtype_dict[i] == 'mCNV']\n",
    "    rmei = [i for i in cnvs if svtype_dict[i] == 'rMEI']\n",
    "    return dup, dels, mcnvs,rmei"
   ]
  },
  {
   "cell_type": "code",
   "execution_count": 26,
   "metadata": {
    "collapsed": false
   },
   "outputs": [],
   "source": [
    "def get_cnv_set_data(g, svtype_dict):\n",
    "    means = []\n",
    "    data = []\n",
    "    num_in_clique = []\n",
    "    cnvs = g.nodes()\n",
    "    t, s2, both, lumpy, gs = check_caller_types_present_of_cnvs(cnvs)\n",
    "\n",
    "    num_in_set = len(cnvs)\n",
    "    max_length, max_cnvs = get_max_length_var(cnvs)\n",
    "    \n",
    "    max_gs, max_l = get_max_qual_pair(lumpy, gs, lumpy_cnvs, gs_info_new)\n",
    "    \n",
    "#     s = g.subgraph(l)\n",
    "    m = np.mean(get_edge_data(g, 'R2').values())\n",
    "    ro_a = np.mean(get_edge_data(g, 'RO_average').values())\n",
    "    max_label, degree, max_degree, degree_dict = get_max_degree(g)\n",
    "    \n",
    " \n",
    "    max_labels_gs, num_cnvs_max_gs, max_degree_gs = get_max_degree_subset(degree_dict, gs)\n",
    "    max_labels_lumpy, num_cnvs_max_lumpy, max_degree_lumpy = get_max_degree_subset(degree_dict, lumpy)\n",
    "    \n",
    "    max_deg_max_qual_gs, max_deg_max_qual_l = get_max_qual_pair(max_labels_lumpy, max_labels_gs, lumpy_cnvs, gs_info_new)\n",
    "    \n",
    "    dup_lump, dels_lump, mcnvs_lump, rmei_lump = get_each_svtype_cnvs(lumpy, svtype_dict)\n",
    "    dup_gs, dels_gs, mcnvs_gs, rmei_gs  = get_each_svtype_cnvs(gs, svtype_dict)\n",
    "    \n",
    "    \n",
    "    \n",
    "    types_present_l, set_types_present, types_len = get_svtypes_present(cnvs, svtype_dict)\n",
    "    \n",
    "    if types_len == 3:\n",
    "        # return max_qual mCNV instead- and max qual lumpy too, but we will mark them and use the GS here \n",
    "        \n",
    "        max_labels_mcnv, num_cnvs_max_mcnv, max_degree_mcnv = get_max_degree_subset(degree_dict, mcnvs_gs)\n",
    "        \n",
    "        max_deg_max_qual_gs, max_deg_max_qual_l = get_max_qual_pair(max_labels_lumpy, max_labels_mcnv, lumpy_cnvs, gs_info_new)\n",
    "        primary_non_redundant = max_deg_max_qual_gs\n",
    "        \n",
    "    elif set_types_present == 'DEL,rMEI':\n",
    "        \n",
    "        max_labels_rmei, num_cnvs_max_rmei, max_degree_rmei = get_max_degree_subset(degree_dict, rmei_lump)\n",
    "        max_deg_max_qual_gs, max_deg_max_qual_l = get_max_qual_pair(max_labels_rmei, max_labels_gs, lumpy_cnvs, gs_info_new)\n",
    "        primary_non_redundant = max_deg_max_qual_l\n",
    "    \n",
    "    else:\n",
    "        # in typical cases we will assign max qual to gs variant\n",
    "        primary_non_redundant = max_deg_max_qual_gs\n",
    "        \n",
    "    \n",
    "        \n",
    "    data.append([cnvs, num_in_set, m, ro_a, max_length, max_cnvs, both, s2, lumpy, gs, max_l, max_gs,\n",
    "                max_label, degree, max_degree, degree_dict,  max_labels_gs, num_cnvs_max_gs, max_degree_gs,\n",
    "                max_labels_lumpy, num_cnvs_max_lumpy, max_degree_lumpy, max_deg_max_qual_gs, max_deg_max_qual_l,\n",
    "                set_types_present, types_len, dup_lump, dels_lump, rmei_lump, dup_gs, dels_gs,\n",
    "                 mcnvs_gs, primary_non_redundant])\n",
    "\n",
    "\n",
    "\n",
    "    df = pd.DataFrame(data, columns=['cnv_clust', 'num_in_set', 'mean_corr', 'ro_average', 'max_len_cnv', 'max_length_ID', 'both_present', 'types', 'lumpy_sites', 'gs_sites', 'max_qual_lumpy', 'max_qual_gs',\n",
    "                                    'max_degree_cnvs', 'num_max_degree_cnvs', 'max_degree', 'degree_dict', 'max_degree_cnv_gs', 'num_max_degree_gs', 'degree_max_gs', 'max_degree_cnv_lumpy', 'num_max_degree_lumpy', 'degree_max_lumpy', 'max_deg_max_qual_gs', 'max_deg_max_qual_lumpy', 'svtypes_present', 'num_svtypes', \n",
    "                                    'dup_lumpy', 'dels_lumpy', 'rmei_lumpy','dup_gs', 'dels_gs', 'mcnvs_gs',\n",
    "                                    'non_redundant_primary_site'])\n",
    "    \n",
    "    return df"
   ]
  },
  {
   "cell_type": "code",
   "execution_count": 27,
   "metadata": {
    "collapsed": false
   },
   "outputs": [],
   "source": [
    "def process_fully_contained_clique(intersect, svtype_dict):\n",
    "    \"\"\" alternative version of process- focused on outputting fully connected cliques of variants- where\n",
    "    all variants are correlated with each other and overlap each other... was deemed potentially too stringent\"\"\"\n",
    "    \n",
    "#     int_contain = intersect[((d.RO_A > 0.5) & (d.RO_B > 0.5)) | ((intersect.RO_A == 1.0) | (intersect.RO_B == 1.0)) & (intersect.r2 > 0.25) & (intersect.class_match == True)]\n",
    "\n",
    "    int_contain = intersect[((intersect.RO_A > 0.5) & (intersect.RO_B > 0.5)) & (intersect.class_match == True)]\n",
    "    \n",
    "    pass_overlap = int_contain.index.tolist()\n",
    "    G = nx.Graph()\n",
    "    for i, l in int_contain.iterrows():\n",
    "\n",
    "        nameA = l['ID_A']\n",
    "        nameB = l['ID_B']\n",
    "        np_id = l['node_pair_ID']\n",
    "        ro_a = l['RO_A']\n",
    "        ro_b = l['RO_B']\n",
    "        \n",
    "        ro_average = l['average_RO']\n",
    "        r2 = l['r2']\n",
    "        primary_a = (ro_a == 1.0)     \n",
    "        \n",
    "        G.add_edge(nameA, nameB, RO_A=ro_a, RO_B = ro_b, R2= r2, RO_average = ro_average, \n",
    "                   nameA = nameA, nameB = nameB, np_id = np_id, svtype_pair = l['SVTYPE_PAIR']) \n",
    "\n",
    "    # Pull out the connected (overlapping) CNVs (candidates for merging)\n",
    "\n",
    "\n",
    "    t = nx.connected_components(G)\n",
    "    edges = []\n",
    "    \n",
    "    dist_edges_old = []\n",
    "    N = nx.Graph()\n",
    "    max_degrees = []\n",
    "    \n",
    "    for cnv_set in t:\n",
    "        sub = G.subgraph(cnv_set)\n",
    "       \n",
    "        edge_pairs = sub.edges()\n",
    "        dist_edges_old.append(len(edge_pairs))\n",
    "        \n",
    "        corr = gts_all_t[cnv_set].corr()\n",
    "        corr = corr ** 2\n",
    "#         t ,s , both, lumpy, gs = check_types_present_of_cnvs(cnv_set)\n",
    "        \n",
    "#         pair_ids, combos, corrs = get_cnv_combos_and_corrs(cnv_set, corr)\n",
    "#         check_cnv_overlaps = check_for_pair_in_overlap(combos, pass_overlap)\n",
    "\n",
    "            \n",
    "        if len(edge_pairs) > 0:\n",
    "            \n",
    "            pair_ids, combos, corrs = get_cnv_combos_and_corrs(cnv_set, corr)\n",
    "            check_cnv_overlaps = check_for_pair_in_overlap(combos, pass_overlap)\n",
    "            t ,s , both, lumpy, gs = check_caller_types_present_of_cnvs(cnv_set)\n",
    "            \n",
    "            \n",
    "            for p,c in zip(combos, corrs):\n",
    "                \n",
    "                if (len(t) == 3) & (both == True):\n",
    "                    # mcnvs\n",
    "\n",
    "                    if c > 0:\n",
    "                        dist, RO_A, RO_B, average_RO, x = compute_overlap(p[0], p[1])\n",
    "    #                     if check_overlap_params(RO_A, RO_B) == True:\n",
    "                        N.add_edge(p[0], p[1], RO_A=RO_A, RO_B = RO_B, R2= c, RO_average=average_RO)\n",
    "                elif both == True:\n",
    "                    if c > 0.25:\n",
    "                        dist, RO_A, RO_B, average_RO, x = compute_overlap(p[0], p[1])\n",
    "    #                     if check_overlap_params(RO_A, RO_B) == True:\n",
    "                        N.add_edge(p[0], p[1], RO_A=RO_A, RO_B = RO_B, R2= c, RO_average=average_RO)\n",
    "                        \n",
    "#        \n",
    "    f = nx.connected_components(N)\n",
    "    dist_edges = []\n",
    "    count = 0\n",
    "    dfs = []\n",
    "    for cnv_set in f:\n",
    "        sub = N.subgraph(cnv_set)\n",
    "        edge_pairs = sub.edges()\n",
    "        dist_edges.append(len(edge_pairs))\n",
    "        df = get_cnv_set_data(sub)\n",
    "        dfs.append(df)\n",
    "        \n",
    "        count +=1\n",
    "        \n",
    "        \n",
    "        \n",
    "        max_label, degree, max_degree, degree_dict = get_max_degree(sub)\n",
    "        \n",
    "        if len(cnv_set) > 3:\n",
    "            return sub\n",
    "        \n",
    "        df = get_clique_data(sub)\n",
    "        l, s, types_len = get_svtypes_present(cnv_set, svtype_dict)\n",
    "        \n",
    "        df['set_id'] = count\n",
    "        df['num_nodes'] = len(sub.nodes())\n",
    "        df['nodes'] = \",\".join(sub.nodes())\n",
    "        try:\n",
    "            df['max_degree_cnv'] = [max_label for i in range(df.shape[0])]\n",
    "        except:\n",
    "            return df, [max_label for i in range(df.shape[0])], max_label\n",
    "        try:\n",
    "            df['degree_dict'] = [str(degree_dict) for i in range(df.shape[0])]\n",
    "        except:\n",
    "            return df, [str(degree_dict) for i in range(df.shape[0])]\n",
    "        df['max_degree_num'] = degree\n",
    "        df['types_present'] = s\n",
    "        df['num_types'] = types_len\n",
    "        dfs.append(df)\n",
    "        count +=1\n",
    "        \n",
    "    return pd.concat(dfs)\n",
    "        \n",
    "        \n",
    "#     return dist_edges, dist_edges_old\n",
    "        \n",
    "#     return pruned_identical, to_remove, intersect, gc, pruned_df"
   ]
  },
  {
   "cell_type": "code",
   "execution_count": 122,
   "metadata": {
    "collapsed": true
   },
   "outputs": [],
   "source": [
    "def process_all_cnvs(intersect, svtype_dict):\n",
    "    \n",
    "#     int_contain = intersect[((intersect.RO_A > 0.5) & (intersect.RO_B > 0.5)) | ((intersect.RO_A == 1.0) | (intersect.RO_B == 1.0)) & (intersect.class_match == True)]\n",
    "    \n",
    "    # adjust to require this to be betterif needed- reduce merges of large into small by adding proportion for \n",
    "    # engulfed things to be of their larger variant to be clustered\n",
    "    \n",
    "    int_contain = intersect[((intersect.RO_A > 0.5) & (intersect.RO_B > 0.5)) | (((intersect.RO_A == 1.0) | (intersect.RO_B == 1.0)) & (intersect.proportion_max >= 0.4)) & (intersect.class_match == True)]\n",
    "\n",
    "#     int_contain = intersect[((d.RO_A > 0.5) & (d.RO_B > 0.5)) & (intersect.class_match == True)]\n",
    "    \n",
    "    pass_overlap = int_contain.index.tolist()\n",
    "    G = nx.Graph()\n",
    "    for i, l in int_contain.iterrows():\n",
    "\n",
    "        nameA = l['ID_A']\n",
    "        nameB = l['ID_B']\n",
    "        np_id = l['node_pair_ID']\n",
    "        ro_a = l['RO_A']\n",
    "        ro_b = l['RO_B']\n",
    "        \n",
    "        ro_average = l['average_RO']\n",
    "        r2 = l['r2']\n",
    "        primary_a = (ro_a == 1.0)     \n",
    "        \n",
    "        G.add_edge(nameA, nameB, RO_A=ro_a, RO_B = ro_b, R2= r2, RO_average = ro_average, \n",
    "                   nameA = nameA, nameB = nameB, np_id = np_id, svtype_pair = l['SVTYPE_PAIR']) \n",
    "\n",
    "    # Pull out the connected (overlapping) CNVs (candidates for merging)\n",
    "\n",
    "\n",
    "    t = nx.connected_components(G)\n",
    "    edges = []\n",
    "    \n",
    "    dist_edges_old = []\n",
    "    N = nx.Graph()\n",
    "    max_degrees = []\n",
    "    \n",
    "    for cnv_set in t:\n",
    "        sub = G.subgraph(cnv_set)\n",
    "       \n",
    "        edge_pairs = sub.edges()\n",
    "        dist_edges_old.append(len(edge_pairs))\n",
    "        \n",
    "        corr = gts_all_t[cnv_set].corr()\n",
    "        corr = corr ** 2\n",
    "#         t ,s , both, lumpy, gs = check_types_present_of_cnvs(cnv_set)\n",
    "        \n",
    "#         pair_ids, combos, corrs = get_cnv_combos_and_corrs(cnv_set, corr)\n",
    "#         check_cnv_overlaps = check_for_pair_in_overlap(combos, pass_overlap)\n",
    "\n",
    "            \n",
    "        if len(edge_pairs) > 0:\n",
    "            \n",
    "            pair_ids, combos, corrs = get_cnv_combos_and_corrs(cnv_set, corr)\n",
    "            check_cnv_overlaps = check_for_pair_in_overlap(combos, pass_overlap)\n",
    "            # retrieve caller types info (both is a bool indicating if LUMPY and GS present)\n",
    "            cts, counter_cts , both, lumpy, gs = check_caller_types_present_of_cnvs(cnv_set)\n",
    "            # add this \n",
    "            svts_l, svts_str, num_svtypes = get_svtypes_present(cnv_set, svtype_dict)\n",
    "            svts_set = set(svts_l)\n",
    "            mcnv_clust_lumpy_gs = set(['DUP', 'DEL', 'mCNV'])\n",
    "            \n",
    "            for p,c in zip(combos, corrs):\n",
    "                if (svts_set == mcnv_clust_lumpy_gs) & (both == True):\n",
    "                    # mcnvs in GS where lumpy has a DUP and DEL at the same spot- don't worry about correlation here\n",
    "                    # (dup and del variants will overlap but be in different samples for lumpy)\n",
    "\n",
    "                    if c > 0:\n",
    "                        dist, RO_A, RO_B, average_RO, x = compute_overlap(p[0], p[1])\n",
    "    #                     if check_overlap_params(RO_A, RO_B) == True:\n",
    "                        N.add_edge(p[0], p[1], RO_A=RO_A, RO_B = RO_B, R2= c, RO_average=average_RO)\n",
    "                elif both == True:\n",
    "                    if c > 0.5:\n",
    "                        dist, RO_A, RO_B, average_RO, x = compute_overlap(p[0], p[1])\n",
    "    #                     if check_overlap_params(RO_A, RO_B) == True:\n",
    "                        N.add_edge(p[0], p[1], RO_A=RO_A, RO_B = RO_B, R2= c, RO_average=average_RO)\n",
    "                        \n",
    "#        \n",
    "    f = nx.connected_components(N)\n",
    "    dist_edges = []\n",
    "    count = 0\n",
    "    dfs = []\n",
    "    for cnv_set in f:\n",
    "        sub = N.subgraph(cnv_set)\n",
    "        edge_pairs = sub.edges()\n",
    "        dist_edges.append(len(edge_pairs))\n",
    "        df = get_cnv_set_data(sub, svtype_dict)\n",
    "        df['cluster_num'] = count\n",
    "        df.index = df.cluster_num\n",
    "        dfs.append(df)\n",
    "        count +=1\n",
    "    df_out = pd.concat(dfs)\n",
    "    df_out = df_out[df_out.both_present==True]\n",
    "    df_out = df_out.pipe(pm.expand_col_split_join, 'max_deg_max_qual_gs', \n",
    "                         col_names=['CNV', 'Chr', 'Start', 'End', 'Caller'], \n",
    "                         subset=['Chr', 'Start', 'End'], dtypes=[str, int, int])\n",
    "    df_out = df_out.sort_values(['Chr', 'Start', 'End'])\n",
    "    # add a cluster ID that goes according to sort order\n",
    "    df_out['MC_cluster_ID'] = range(1, df_out.shape[0] + 1)\n",
    "    \n",
    "    return df_out"
   ]
  },
  {
   "cell_type": "code",
   "execution_count": 123,
   "metadata": {
    "collapsed": false
   },
   "outputs": [],
   "source": [
    "def prep_lumpy_info(lumpy_info_pruned):\n",
    "    lumpy_info_pruned.index = lumpy_info_pruned['NAME']\n",
    "    \n",
    "#     lumpy_info_pruned.pruned = lumpy_info_pruned.pruned.fillna(False)\n",
    "#     lumpy_info_pruned.pruned_engulf = lumpy_info_pruned.pruned_engulf.fillna(False)\n",
    "#     lumpy_info_pruned.SVTYPE = lumpy_info_pruned.SVTYPE.apply(lambda x: x.replace('MEI', 'rMEI'))\n",
    "\n",
    "    \n",
    "#     lumpy_info_pruned.MHC = lumpy_info_pruned.MHC.fillna(False)\n",
    "#     lumpy_info_pruned.VDJ = lumpy_info_pruned.VDJ.fillna(False)\n",
    "    lumpy_info_pruned = lumpy_info_pruned[lumpy_info_pruned.prune_constituent == False]\n",
    "    lumpy_cnvs = lumpy_info_pruned[lumpy_info_pruned.SVTYPE.isin(['DUP', 'DEL', 'rMEI'])].copy()\n",
    "    lumpy_cnvs = lumpy_cnvs[lumpy_cnvs.FILTER == 'PASS']\n",
    "    lumpy_cnvs['Length'] = np.abs(lumpy_cnvs.SVLEN.astype(int))\n",
    "    return lumpy_cnvs, lumpy_info_pruned\n",
    "    \n",
    "    "
   ]
  },
  {
   "cell_type": "code",
   "execution_count": 124,
   "metadata": {
    "collapsed": true
   },
   "outputs": [],
   "source": [
    "def prep_lumpy_ab(lumpy_ab, info):\n",
    "#     lumpy_ab = lumpy_ab.loc[info.index.tolist()].copy()\n",
    "    lumpy_ab = lumpy_ab.reindex(info.index)\n",
    "    return lumpy_ab"
   ]
  },
  {
   "cell_type": "code",
   "execution_count": 125,
   "metadata": {
    "collapsed": true
   },
   "outputs": [],
   "source": [
    "def filter_info_all_annot(df):\n",
    "    df = df[((df.FILTER_GSCNQUAL == False) | (df.stitch_breakpoint_final == True)) & (df.somatic == False) & (df.primary_site == True) & (df.stitch_constituent_final==False) & (df.FILTER_NUM_LQ == False) & (df.cnv_class!='Non_Bi')].copy()\n",
    "    return df"
   ]
  },
  {
   "cell_type": "code",
   "execution_count": 1215,
   "metadata": {
    "collapsed": false
   },
   "outputs": [],
   "source": [
    "#previous\n",
    "# lumpy_cnvs, lumpy_info_pruned = pd.read_pickle('/frazer01/projects/hipsci/analysis/i2QTL-sv-analysis/private_output/ss_qc_analysis/lumpy_info_filt_msq_pruned_batch_hwe.pkl').pipe(prep_lumpy_info)\n",
    "\n",
    "# ab_filt_cnv = pd.read_pickle('/frazer01/projects/hipsci/analysis/i2QTL-sv-analysis/private_output/ss_processing_pipeline/i2QTL_final/lumpy_ab_filt_msq.pkl').pipe(prep_lumpy_ab, lumpy_cnvs)\n",
    "\n",
    "\n",
    "# gs_info_new = pd.read_pickle('/frazer01/projects/hipsci/analysis/i2QTL-sv-analysis/private_output/gs_qc_analysis/gs_info_stitch_annot_qual_sc_batch_hwe.pkl').pipe(filter_info_all_annot)\n",
    "\n",
    "# gs_cns_new = pd.read_pickle('/frazer01/projects/hipsci/analysis/i2QTL-sv-analysis/private_output/gs_processing_V3/i2QTL_combined/gs_cns_stitch_filt_final.pkl').pipe(prep_lumpy_ab,gs_info_new)\n",
    "\n",
    "# sample_info = pd.read_pickle('/frazer01/projects/hipsci/analysis/i2QTL-sv-analysis/private_output/sample_info_combined/sample_info.pkl')\n",
    "\n",
    "# samps = sample_info[sample_info.CELL_TYPE != 'iPSC'].WGS_ID.tolist()"
   ]
  },
  {
   "cell_type": "code",
   "execution_count": 36,
   "metadata": {
    "collapsed": false
   },
   "outputs": [],
   "source": [
    "# lumpy_cnvs, lumpy_info_pruned = pd.read_pickle('/frazer01/projects/hipsci/analysis/i2QTL-sv-analysis/private_output/ss_qc_analysis/lumpy_info_filt_msq_pruned_batch_hwe.pkl').pipe(prep_lumpy_info)\n",
    "\n",
    "# ab_filt_cnv = pd.read_pickle('/frazer01/projects/hipsci/analysis/i2QTL-sv-analysis/private_output/ss_processing_pipeline/i2QTL_final/lumpy_ab_filt_msq.pkl').pipe(prep_lumpy_ab, lumpy_cnvs)\n",
    "\n",
    "\n",
    "# gs_info_new = pd.read_pickle('/frazer01/projects/hipsci/analysis/i2QTL-sv-analysis/private_output/gs_processing_V4/i2QTL_combined/gs_info_stitch_annot_qual_sc_batch_hwe.pkl').pipe(filter_info_all_annot)\n",
    "\n",
    "# gs_cns_new = pd.read_pickle('/frazer01/projects/hipsci/analysis/i2QTL-sv-analysis/private_output/gs_processing_V4/i2QTL_combined/gs_cns_stitch_filt_final.pkl').pipe(prep_lumpy_ab,gs_info_new)\n",
    "\n",
    "# sample_info = pd.read_pickle('/frazer01/projects/hipsci/analysis/i2QTL-sv-analysis/private_output/sample_info_combined/sample_info.pkl')\n",
    "\n",
    "# samps = sample_info[sample_info.CELL_TYPE != 'iPSC'].WGS_ID.tolist()"
   ]
  },
  {
   "cell_type": "code",
   "execution_count": 34,
   "metadata": {
    "collapsed": true
   },
   "outputs": [],
   "source": [
    "lumpy_cnvs, lumpy_info_pruned = pd.read_pickle('/frazer01/projects/hipsci/analysis/i2QTL-sv-analysis/private_output/ss_qc_analysis/lumpy_info_filt_msq_pruned_batch_hwe.pkl').pipe(prep_lumpy_info)\n",
    "\n",
    "ab_filt_cnv = pd.read_pickle('/frazer01/projects/hipsci/analysis/i2QTL-sv-analysis/private_output/ss_processing_pipeline/i2QTL_final/lumpy_ab_filt_msq.pkl').pipe(prep_lumpy_ab, lumpy_cnvs)\n",
    "\n",
    "\n",
    "gs_info_new = pd.read_pickle('/frazer01/projects/hipsci/analysis/i2QTL-sv-analysis/private_output/gs_processing_V4/i2QTL_combined/gs_info_stitch_annot_qual_sc_batch_hwe.pkl').pipe(filter_info_all_annot)\n",
    "\n",
    "gs_cns_new = pd.read_pickle('/frazer01/projects/hipsci/analysis/i2QTL-sv-analysis/private_output/gs_processing_V4/i2QTL_combined/cns_all_with_stitch.pkl').pipe(prep_lumpy_ab,gs_info_new)\n",
    "\n",
    "sample_info = pd.read_pickle('/frazer01/projects/hipsci/analysis/i2QTL-sv-analysis/private_output/sample_info_combined/sample_info.pkl')\n",
    "\n",
    "samps = sample_info[sample_info.CELL_TYPE != 'iPSC'].WGS_ID.tolist()"
   ]
  },
  {
   "cell_type": "code",
   "execution_count": 36,
   "metadata": {
    "collapsed": true
   },
   "outputs": [],
   "source": [
    "# going to use the combined df of all allele ballances and CNs for site comparisons\n",
    "gts_all = pd.concat([ab_filt_cnv, gs_cns_new])\n",
    "gts_all_t = gts_all.T\n",
    "\n",
    "# dictionaries of SVLEN, SVTYPE, CALLER for easy access later\n",
    "length_dict = gs_info_new.Length.to_dict()\n",
    "lumpy_lengths = lumpy_cnvs.Length.to_dict()\n",
    "length_dict.update(lumpy_lengths)\n",
    "\n",
    "type_dict = {i:'GS' for i in gs_info_new.index.tolist()}\n",
    "type_dict_lumpy = {i:'lumpy' for i in lumpy_cnvs.index.tolist()}\n",
    "type_dict.update(type_dict_lumpy)\n",
    "\n",
    "svtype_dict = gs_info_new.cnv_class.to_dict()\n",
    "svtype_dict_lumpy = lumpy_cnvs.SVTYPE.to_dict()\n",
    "svtype_dict.update(svtype_dict_lumpy)"
   ]
  },
  {
   "cell_type": "code",
   "execution_count": 100,
   "metadata": {
    "collapsed": false
   },
   "outputs": [],
   "source": [
    "# intersect filtered calls from lumpy and GS and annotate\n",
    "intersect = lumpy_gs_intersect(gs_info_new, lumpy_cnvs, ab_filt_cnv, gs_cns_new, samps)"
   ]
  },
  {
   "cell_type": "code",
   "execution_count": 101,
   "metadata": {
    "collapsed": false
   },
   "outputs": [],
   "source": [
    "# add more annotations such as correlations/overlap etc\n",
    "d = compare_sites_intersect(intersect, gts_all_t, samps)"
   ]
  },
  {
   "cell_type": "code",
   "execution_count": 102,
   "metadata": {
    "collapsed": false
   },
   "outputs": [],
   "source": [
    "d['max_length'] = d[['Length_A', 'Length_B']].max(axis = 1)"
   ]
  },
  {
   "cell_type": "code",
   "execution_count": 103,
   "metadata": {
    "collapsed": true
   },
   "outputs": [],
   "source": [
    "d['proportion_max'] = d['overlap']/d['max_length']"
   ]
  },
  {
   "cell_type": "code",
   "execution_count": 88,
   "metadata": {
    "collapsed": false
   },
   "outputs": [],
   "source": [
    "int_contain = d[((d.RO_A > 0.5) & (d.RO_B > 0.5)) | (((d.RO_A == 1.0) | (d.RO_B == 1.0)) & (d.proportion_max >= 0.2)) & (d.class_match == True)]\n"
   ]
  },
  {
   "cell_type": "code",
   "execution_count": 126,
   "metadata": {
    "collapsed": false
   },
   "outputs": [],
   "source": [
    "# run cluster identification\n",
    "g =  process_all_cnvs(d, svtype_dict)"
   ]
  },
  {
   "cell_type": "code",
   "execution_count": 127,
   "metadata": {
    "collapsed": false
   },
   "outputs": [],
   "source": [
    "# annotate the number of sites of different subtypes\n",
    "g['num_lumpy'] = g.lumpy_sites.apply(lambda x: len(x))\n",
    "g['num_gs'] = g.gs_sites.apply(lambda x: len(x))\n",
    "g['num_del_gs'] = g.dels_gs.apply(lambda x: len(x))\n",
    "g['num_del_lumpy'] = g.dels_lumpy.apply(lambda x: len(x))\n",
    "g['num_dup_gs'] = g.dup_gs.apply(lambda x: len(x))\n",
    "g['num_dup_lumpy'] = g.dup_lumpy.apply(lambda x: len(x))\n",
    "g['non_redundant_svtype'] = g.non_redundant_primary_site.apply(lambda x: svtype_dict[x])"
   ]
  },
  {
   "cell_type": "code",
   "execution_count": 128,
   "metadata": {
    "collapsed": false
   },
   "outputs": [
    {
     "data": {
      "text/plain": [
       "(6341, 45)"
      ]
     },
     "execution_count": 128,
     "metadata": {},
     "output_type": "execute_result"
    }
   ],
   "source": [
    "# 40% min overlap\n",
    "g.shape"
   ]
  },
  {
   "cell_type": "code",
   "execution_count": 119,
   "metadata": {
    "collapsed": false
   },
   "outputs": [
    {
     "data": {
      "text/plain": [
       "(6400, 45)"
      ]
     },
     "execution_count": 119,
     "metadata": {},
     "output_type": "execute_result"
    }
   ],
   "source": [
    "# 20% min overlap\n",
    "g.shape"
   ]
  },
  {
   "cell_type": "code",
   "execution_count": 121,
   "metadata": {
    "collapsed": false
   },
   "outputs": [
    {
     "data": {
      "text/plain": [
       "<matplotlib.axes._subplots.AxesSubplot at 0x7fa3b52c98d0>"
      ]
     },
     "execution_count": 121,
     "metadata": {},
     "output_type": "execute_result"
    },
    {
     "data": {
      "image/png": "[encoded data removed]",
      "text/plain": [
       "<Figure size 600x400 with 1 Axes>"
      ]
     },
     "metadata": {},
     "output_type": "display_data"
    }
   ],
   "source": [
    "g.mean_corr.hist()"
   ]
  },
  {
   "cell_type": "code",
   "execution_count": 50,
   "metadata": {
    "collapsed": false
   },
   "outputs": [
    {
     "data": {
      "text/html": [
       "<div>\n",
       "<style scoped>\n",
       "    .dataframe tbody tr th:only-of-type {\n",
       "        vertical-align: middle;\n",
       "    }\n",
       "\n",
       "    .dataframe tbody tr th {\n",
       "        vertical-align: top;\n",
       "    }\n",
       "\n",
       "    .dataframe thead th {\n",
       "        text-align: right;\n",
       "    }\n",
       "</style>\n",
       "<table border=\"1\" class=\"dataframe\">\n",
       "  <thead>\n",
       "    <tr style=\"text-align: right;\">\n",
       "      <th></th>\n",
       "      <th>cnv_clust</th>\n",
       "      <th>num_in_set</th>\n",
       "      <th>mean_corr</th>\n",
       "      <th>ro_average</th>\n",
       "      <th>max_len_cnv</th>\n",
       "      <th>max_length_ID</th>\n",
       "      <th>both_present</th>\n",
       "      <th>types</th>\n",
       "      <th>lumpy_sites</th>\n",
       "      <th>gs_sites</th>\n",
       "      <th>max_qual_lumpy</th>\n",
       "      <th>max_qual_gs</th>\n",
       "      <th>max_degree_cnvs</th>\n",
       "      <th>num_max_degree_cnvs</th>\n",
       "      <th>max_degree</th>\n",
       "      <th>degree_dict</th>\n",
       "      <th>max_degree_cnv_gs</th>\n",
       "      <th>num_max_degree_gs</th>\n",
       "      <th>degree_max_gs</th>\n",
       "      <th>max_degree_cnv_lumpy</th>\n",
       "      <th>num_max_degree_lumpy</th>\n",
       "      <th>degree_max_lumpy</th>\n",
       "      <th>max_deg_max_qual_gs</th>\n",
       "      <th>max_deg_max_qual_lumpy</th>\n",
       "      <th>svtypes_present</th>\n",
       "      <th>num_svtypes</th>\n",
       "      <th>dup_lumpy</th>\n",
       "      <th>dels_lumpy</th>\n",
       "      <th>rmei_lumpy</th>\n",
       "      <th>dup_gs</th>\n",
       "      <th>dels_gs</th>\n",
       "      <th>mcnvs_gs</th>\n",
       "      <th>non_redundant_primary_site</th>\n",
       "      <th>cluster_num</th>\n",
       "      <th>Chr</th>\n",
       "      <th>Start</th>\n",
       "      <th>End</th>\n",
       "      <th>MC_cluster_ID</th>\n",
       "      <th>num_lumpy</th>\n",
       "      <th>num_gs</th>\n",
       "      <th>num_del_gs</th>\n",
       "      <th>num_del_lumpy</th>\n",
       "      <th>num_dup_gs</th>\n",
       "      <th>num_dup_lumpy</th>\n",
       "      <th>non_redundant_svtype</th>\n",
       "    </tr>\n",
       "    <tr>\n",
       "      <th>cluster_num</th>\n",
       "      <th></th>\n",
       "      <th></th>\n",
       "      <th></th>\n",
       "      <th></th>\n",
       "      <th></th>\n",
       "      <th></th>\n",
       "      <th></th>\n",
       "      <th></th>\n",
       "      <th></th>\n",
       "      <th></th>\n",
       "      <th></th>\n",
       "      <th></th>\n",
       "      <th></th>\n",
       "      <th></th>\n",
       "      <th></th>\n",
       "      <th></th>\n",
       "      <th></th>\n",
       "      <th></th>\n",
       "      <th></th>\n",
       "      <th></th>\n",
       "      <th></th>\n",
       "      <th></th>\n",
       "      <th></th>\n",
       "      <th></th>\n",
       "      <th></th>\n",
       "      <th></th>\n",
       "      <th></th>\n",
       "      <th></th>\n",
       "      <th></th>\n",
       "      <th></th>\n",
       "      <th></th>\n",
       "      <th></th>\n",
       "      <th></th>\n",
       "      <th></th>\n",
       "      <th></th>\n",
       "      <th></th>\n",
       "      <th></th>\n",
       "      <th></th>\n",
       "      <th></th>\n",
       "      <th></th>\n",
       "      <th></th>\n",
       "      <th></th>\n",
       "      <th></th>\n",
       "      <th></th>\n",
       "      <th></th>\n",
       "    </tr>\n",
       "  </thead>\n",
       "  <tbody>\n",
       "    <tr>\n",
       "      <th>1218</th>\n",
       "      <td>[CNV_10_81785477_81792148_HipSci, DEL_10_81785...</td>\n",
       "      <td>2</td>\n",
       "      <td>0.792356</td>\n",
       "      <td>0.96814</td>\n",
       "      <td>7125</td>\n",
       "      <td>DEL_10_81785095_81792220</td>\n",
       "      <td>True</td>\n",
       "      <td>{u'lumpy': 1, u'GS': 1}</td>\n",
       "      <td>[DEL_10_81785095_81792220]</td>\n",
       "      <td>[CNV_10_81785477_81792148_HipSci]</td>\n",
       "      <td>DEL_10_81785095_81792220</td>\n",
       "      <td>CNV_10_81785477_81792148_HipSci</td>\n",
       "      <td>[CNV_10_81785477_81792148_HipSci, DEL_10_81785...</td>\n",
       "      <td>2</td>\n",
       "      <td>1</td>\n",
       "      <td>{u'CNV_10_81785477_81792148_HipSci': 1, u'DEL_...</td>\n",
       "      <td>[CNV_10_81785477_81792148_HipSci]</td>\n",
       "      <td>1</td>\n",
       "      <td>1</td>\n",
       "      <td>[DEL_10_81785095_81792220]</td>\n",
       "      <td>1</td>\n",
       "      <td>1</td>\n",
       "      <td>CNV_10_81785477_81792148_HipSci</td>\n",
       "      <td>DEL_10_81785095_81792220</td>\n",
       "      <td>DEL,mCNV</td>\n",
       "      <td>2</td>\n",
       "      <td>[]</td>\n",
       "      <td>[DEL_10_81785095_81792220]</td>\n",
       "      <td>[]</td>\n",
       "      <td>[]</td>\n",
       "      <td>[]</td>\n",
       "      <td>[CNV_10_81785477_81792148_HipSci]</td>\n",
       "      <td>CNV_10_81785477_81792148_HipSci</td>\n",
       "      <td>1218</td>\n",
       "      <td>10</td>\n",
       "      <td>81785477</td>\n",
       "      <td>81792148</td>\n",
       "      <td>557</td>\n",
       "      <td>1</td>\n",
       "      <td>1</td>\n",
       "      <td>0</td>\n",
       "      <td>1</td>\n",
       "      <td>0</td>\n",
       "      <td>0</td>\n",
       "      <td>mCNV</td>\n",
       "    </tr>\n",
       "  </tbody>\n",
       "</table>\n",
       "</div>"
      ],
      "text/plain": [
       "                                                     cnv_clust  num_in_set  \\\n",
       "cluster_num                                                                  \n",
       "1218         [CNV_10_81785477_81792148_HipSci, DEL_10_81785...           2   \n",
       "\n",
       "             mean_corr  ro_average  max_len_cnv             max_length_ID  \\\n",
       "cluster_num                                                                 \n",
       "1218          0.792356     0.96814         7125  DEL_10_81785095_81792220   \n",
       "\n",
       "             both_present                    types  \\\n",
       "cluster_num                                          \n",
       "1218                 True  {u'lumpy': 1, u'GS': 1}   \n",
       "\n",
       "                            lumpy_sites                           gs_sites  \\\n",
       "cluster_num                                                                  \n",
       "1218         [DEL_10_81785095_81792220]  [CNV_10_81785477_81792148_HipSci]   \n",
       "\n",
       "                       max_qual_lumpy                      max_qual_gs  \\\n",
       "cluster_num                                                              \n",
       "1218         DEL_10_81785095_81792220  CNV_10_81785477_81792148_HipSci   \n",
       "\n",
       "                                               max_degree_cnvs  \\\n",
       "cluster_num                                                      \n",
       "1218         [CNV_10_81785477_81792148_HipSci, DEL_10_81785...   \n",
       "\n",
       "             num_max_degree_cnvs  max_degree  \\\n",
       "cluster_num                                    \n",
       "1218                           2           1   \n",
       "\n",
       "                                                   degree_dict  \\\n",
       "cluster_num                                                      \n",
       "1218         {u'CNV_10_81785477_81792148_HipSci': 1, u'DEL_...   \n",
       "\n",
       "                             max_degree_cnv_gs  num_max_degree_gs  \\\n",
       "cluster_num                                                         \n",
       "1218         [CNV_10_81785477_81792148_HipSci]                  1   \n",
       "\n",
       "             degree_max_gs        max_degree_cnv_lumpy  num_max_degree_lumpy  \\\n",
       "cluster_num                                                                    \n",
       "1218                     1  [DEL_10_81785095_81792220]                     1   \n",
       "\n",
       "             degree_max_lumpy              max_deg_max_qual_gs  \\\n",
       "cluster_num                                                      \n",
       "1218                        1  CNV_10_81785477_81792148_HipSci   \n",
       "\n",
       "               max_deg_max_qual_lumpy svtypes_present  num_svtypes dup_lumpy  \\\n",
       "cluster_num                                                                    \n",
       "1218         DEL_10_81785095_81792220        DEL,mCNV            2        []   \n",
       "\n",
       "                             dels_lumpy rmei_lumpy dup_gs dels_gs  \\\n",
       "cluster_num                                                         \n",
       "1218         [DEL_10_81785095_81792220]         []     []      []   \n",
       "\n",
       "                                      mcnvs_gs  \\\n",
       "cluster_num                                      \n",
       "1218         [CNV_10_81785477_81792148_HipSci]   \n",
       "\n",
       "                  non_redundant_primary_site  cluster_num Chr     Start  \\\n",
       "cluster_num                                                               \n",
       "1218         CNV_10_81785477_81792148_HipSci         1218  10  81785477   \n",
       "\n",
       "                  End  MC_cluster_ID  num_lumpy  num_gs  num_del_gs  \\\n",
       "cluster_num                                                           \n",
       "1218         81792148            557          1       1           0   \n",
       "\n",
       "             num_del_lumpy  num_dup_gs  num_dup_lumpy non_redundant_svtype  \n",
       "cluster_num                                                                 \n",
       "1218                     1           0              0                 mCNV  "
      ]
     },
     "execution_count": 50,
     "metadata": {},
     "output_type": "execute_result"
    }
   ],
   "source": [
    "g[g.non_redundant_primary_site == 'CNV_10_81785477_81792148_HipSci']"
   ]
  },
  {
   "cell_type": "code",
   "execution_count": 83,
   "metadata": {
    "collapsed": false
   },
   "outputs": [
    {
     "data": {
      "text/plain": [
       "DEL             5565\n",
       "DUP              574\n",
       "DEL,mCNV         188\n",
       "DUP,mCNV          38\n",
       "DEL,DUP,mCNV      25\n",
       "DEL,rMEI          10\n",
       "Name: svtypes_present, dtype: int64"
      ]
     },
     "execution_count": 83,
     "metadata": {},
     "output_type": "execute_result"
    }
   ],
   "source": [
    "g.svtypes_present.value_counts()"
   ]
  },
  {
   "cell_type": "code",
   "execution_count": 79,
   "metadata": {
    "collapsed": false
   },
   "outputs": [],
   "source": [
    "t =g[g.svtypes_present == 'DEL,DUP,mCNV']"
   ]
  },
  {
   "cell_type": "code",
   "execution_count": 53,
   "metadata": {
    "collapsed": false
   },
   "outputs": [
    {
     "data": {
      "text/plain": [
       "{'./.': 0, '0/0': 408, '0/1': 7, '1/1': 0}"
      ]
     },
     "execution_count": 53,
     "metadata": {},
     "output_type": "execute_result"
    }
   ],
   "source": [
    "lumpy_cnvs.loc['DEL_10_81785095_81792220']['Alleles_Dist_has_rna']"
   ]
  },
  {
   "cell_type": "code",
   "execution_count": 55,
   "metadata": {
    "collapsed": false
   },
   "outputs": [
    {
     "data": {
      "text/plain": [
       "{1: 7, 2: 407, 3: 1}"
      ]
     },
     "execution_count": 55,
     "metadata": {},
     "output_type": "execute_result"
    }
   ],
   "source": [
    "gs_info_new.loc['CNV_10_81785477_81792148_HipSci']['alleles_dist_has_rna']"
   ]
  },
  {
   "cell_type": "code",
   "execution_count": 42,
   "metadata": {
    "collapsed": false
   },
   "outputs": [
    {
     "data": {
      "text/html": [
       "<div>\n",
       "<style scoped>\n",
       "    .dataframe tbody tr th:only-of-type {\n",
       "        vertical-align: middle;\n",
       "    }\n",
       "\n",
       "    .dataframe tbody tr th {\n",
       "        vertical-align: top;\n",
       "    }\n",
       "\n",
       "    .dataframe thead th {\n",
       "        text-align: right;\n",
       "    }\n",
       "</style>\n",
       "<table border=\"1\" class=\"dataframe\">\n",
       "  <thead>\n",
       "    <tr style=\"text-align: right;\">\n",
       "      <th></th>\n",
       "      <th>cnv_clust</th>\n",
       "      <th>num_in_set</th>\n",
       "      <th>mean_corr</th>\n",
       "      <th>ro_average</th>\n",
       "      <th>max_len_cnv</th>\n",
       "      <th>max_length_ID</th>\n",
       "      <th>both_present</th>\n",
       "      <th>types</th>\n",
       "      <th>lumpy_sites</th>\n",
       "      <th>gs_sites</th>\n",
       "      <th>max_qual_lumpy</th>\n",
       "      <th>max_qual_gs</th>\n",
       "      <th>max_degree_cnvs</th>\n",
       "      <th>num_max_degree_cnvs</th>\n",
       "      <th>max_degree</th>\n",
       "      <th>degree_dict</th>\n",
       "      <th>max_degree_cnv_gs</th>\n",
       "      <th>num_max_degree_gs</th>\n",
       "      <th>degree_max_gs</th>\n",
       "      <th>max_degree_cnv_lumpy</th>\n",
       "      <th>num_max_degree_lumpy</th>\n",
       "      <th>degree_max_lumpy</th>\n",
       "      <th>max_deg_max_qual_gs</th>\n",
       "      <th>max_deg_max_qual_lumpy</th>\n",
       "      <th>svtypes_present</th>\n",
       "      <th>num_svtypes</th>\n",
       "      <th>dup_lumpy</th>\n",
       "      <th>dels_lumpy</th>\n",
       "      <th>rmei_lumpy</th>\n",
       "      <th>dup_gs</th>\n",
       "      <th>dels_gs</th>\n",
       "      <th>mcnvs_gs</th>\n",
       "      <th>non_redundant_primary_site</th>\n",
       "      <th>cluster_num</th>\n",
       "      <th>Chr</th>\n",
       "      <th>Start</th>\n",
       "      <th>End</th>\n",
       "      <th>MC_cluster_ID</th>\n",
       "      <th>num_lumpy</th>\n",
       "      <th>num_gs</th>\n",
       "      <th>num_del_gs</th>\n",
       "      <th>num_del_lumpy</th>\n",
       "      <th>num_dup_gs</th>\n",
       "      <th>num_dup_lumpy</th>\n",
       "      <th>non_redundant_svtype</th>\n",
       "    </tr>\n",
       "    <tr>\n",
       "      <th>cluster_num</th>\n",
       "      <th></th>\n",
       "      <th></th>\n",
       "      <th></th>\n",
       "      <th></th>\n",
       "      <th></th>\n",
       "      <th></th>\n",
       "      <th></th>\n",
       "      <th></th>\n",
       "      <th></th>\n",
       "      <th></th>\n",
       "      <th></th>\n",
       "      <th></th>\n",
       "      <th></th>\n",
       "      <th></th>\n",
       "      <th></th>\n",
       "      <th></th>\n",
       "      <th></th>\n",
       "      <th></th>\n",
       "      <th></th>\n",
       "      <th></th>\n",
       "      <th></th>\n",
       "      <th></th>\n",
       "      <th></th>\n",
       "      <th></th>\n",
       "      <th></th>\n",
       "      <th></th>\n",
       "      <th></th>\n",
       "      <th></th>\n",
       "      <th></th>\n",
       "      <th></th>\n",
       "      <th></th>\n",
       "      <th></th>\n",
       "      <th></th>\n",
       "      <th></th>\n",
       "      <th></th>\n",
       "      <th></th>\n",
       "      <th></th>\n",
       "      <th></th>\n",
       "      <th></th>\n",
       "      <th></th>\n",
       "      <th></th>\n",
       "      <th></th>\n",
       "      <th></th>\n",
       "      <th></th>\n",
       "      <th></th>\n",
       "    </tr>\n",
       "  </thead>\n",
       "  <tbody>\n",
       "  </tbody>\n",
       "</table>\n",
       "</div>"
      ],
      "text/plain": [
       "Empty DataFrame\n",
       "Columns: [cnv_clust, num_in_set, mean_corr, ro_average, max_len_cnv, max_length_ID, both_present, types, lumpy_sites, gs_sites, max_qual_lumpy, max_qual_gs, max_degree_cnvs, num_max_degree_cnvs, max_degree, degree_dict, max_degree_cnv_gs, num_max_degree_gs, degree_max_gs, max_degree_cnv_lumpy, num_max_degree_lumpy, degree_max_lumpy, max_deg_max_qual_gs, max_deg_max_qual_lumpy, svtypes_present, num_svtypes, dup_lumpy, dels_lumpy, rmei_lumpy, dup_gs, dels_gs, mcnvs_gs, non_redundant_primary_site, cluster_num, Chr, Start, End, MC_cluster_ID, num_lumpy, num_gs, num_del_gs, num_del_lumpy, num_dup_gs, num_dup_lumpy, non_redundant_svtype]\n",
       "Index: []"
      ]
     },
     "execution_count": 42,
     "metadata": {},
     "output_type": "execute_result"
    }
   ],
   "source": [
    "g[g.non_redundant_primary_site == 'CNV_3_4030964_4090968_iPSCORE']"
   ]
  },
  {
   "cell_type": "code",
   "execution_count": 129,
   "metadata": {
    "collapsed": true
   },
   "outputs": [],
   "source": [
    "out_dir = '/frazer01/projects/hipsci/analysis/i2QTL-sv-analysis/private_output/gs_processing_V4/i2QTL_combined'"
   ]
  },
  {
   "cell_type": "code",
   "execution_count": 130,
   "metadata": {
    "collapsed": false
   },
   "outputs": [
    {
     "name": "stdout",
     "output_type": "stream",
     "text": [
      "unify_sv_gs_ss_info_v4 = pd.read_pickle('/frazer01/projects/hipsci/analysis/i2QTL-sv-analysis/private_output/gs_processing_V4/i2QTL_combined/unify_sv_gs_ss_info_v4.pkl')\n",
      "unify_sv_gs_ss_info_v4 = pd.read_csv('/frazer01/projects/hipsci/analysis/i2QTL-sv-analysis/private_output/gs_processing_V4/i2QTL_combined/unify_sv_gs_ss_info_v4.tsv', sep='\\t')\n",
      "# all vars recorded: /frazer01/projects/hipsci/analysis/i2QTL-sv-analysis/private_output/gs_processing_V4/i2QTL_combined/load_saved_nb_variables.py\n",
      "# pickled vars recorded:/frazer01/projects/hipsci/analysis/i2QTL-sv-analysis/private_output/gs_processing_V4/i2QTL_combined/load_pickled_nb_variables.py\n"
     ]
    }
   ],
   "source": [
    "CM.save_dataframe('unify_sv_gs_ss_info_v4', g, out_dir)"
   ]
  },
  {
   "cell_type": "code",
   "execution_count": 131,
   "metadata": {
    "collapsed": false
   },
   "outputs": [
    {
     "name": "stdout",
     "output_type": "stream",
     "text": [
      "unify_sv_gs_ss_info_v4 = pd.read_pickle('/frazer01/projects/hipsci/analysis/i2QTL-sv-analysis/private_output/unify_sv_callsets/unify_sv_gs_ss_info_v4.pkl')\n",
      "unify_sv_gs_ss_info_v4 = pd.read_csv('/frazer01/projects/hipsci/analysis/i2QTL-sv-analysis/private_output/unify_sv_callsets/unify_sv_gs_ss_info_v4.tsv', sep='\\t')\n",
      "# all vars recorded: /frazer01/projects/hipsci/analysis/i2QTL-sv-analysis/private_output/unify_sv_callsets/load_saved_nb_variables.py\n",
      "# pickled vars recorded:/frazer01/projects/hipsci/analysis/i2QTL-sv-analysis/private_output/unify_sv_callsets/load_pickled_nb_variables.py\n"
     ]
    }
   ],
   "source": [
    "# in the regular private out folder- should probably access from here because both lumpy and GS need it\n",
    "CM.save_dataframe('unify_sv_gs_ss_info_v4', g, private_out)"
   ]
  },
  {
   "cell_type": "code",
   "execution_count": 132,
   "metadata": {
    "collapsed": false
   },
   "outputs": [
    {
     "name": "stdout",
     "output_type": "stream",
     "text": [
      "unify_sv_site_pair_info_v4 = pd.read_pickle('/frazer01/projects/hipsci/analysis/i2QTL-sv-analysis/private_output/gs_processing_V4/i2QTL_combined/unify_sv_site_pair_info_v4.pkl')\n",
      "unify_sv_site_pair_info_v4 = pd.read_csv('/frazer01/projects/hipsci/analysis/i2QTL-sv-analysis/private_output/gs_processing_V4/i2QTL_combined/unify_sv_site_pair_info_v4.tsv', sep='\\t')\n",
      "# all vars recorded: /frazer01/projects/hipsci/analysis/i2QTL-sv-analysis/private_output/gs_processing_V4/i2QTL_combined/load_saved_nb_variables.py\n",
      "# pickled vars recorded:/frazer01/projects/hipsci/analysis/i2QTL-sv-analysis/private_output/gs_processing_V4/i2QTL_combined/load_pickled_nb_variables.py\n"
     ]
    }
   ],
   "source": [
    "CM.save_dataframe('unify_sv_site_pair_info_v4', d, out_dir)"
   ]
  },
  {
   "cell_type": "code",
   "execution_count": 52,
   "metadata": {
    "collapsed": true
   },
   "outputs": [],
   "source": [
    "unify_sv_gs_ss_info_v3 = pd.read_pickle('/frazer01/projects/hipsci/analysis/i2QTL-sv-analysis/private_output/gs_processing_V4/i2QTL_combined/unify_sv_gs_ss_info.pkl')"
   ]
  },
  {
   "cell_type": "code",
   "execution_count": null,
   "metadata": {
    "collapsed": true
   },
   "outputs": [],
   "source": [
    "# previous"
   ]
  },
  {
   "cell_type": "code",
   "execution_count": 42,
   "metadata": {
    "collapsed": false
   },
   "outputs": [
    {
     "name": "stdout",
     "output_type": "stream",
     "text": [
      "unify_sv_gs_ss_info = pd.read_pickle('/frazer01/projects/hipsci/analysis/i2QTL-sv-analysis/private_output/unify_sv_callsets/unify_sv_gs_ss_info.pkl')\n",
      "unify_sv_gs_ss_info = pd.read_csv('/frazer01/projects/hipsci/analysis/i2QTL-sv-analysis/private_output/unify_sv_callsets/unify_sv_gs_ss_info.tsv', sep='\\t')\n",
      "# all vars recorded: /frazer01/projects/hipsci/analysis/i2QTL-sv-analysis/private_output/unify_sv_callsets/load_saved_nb_variables.py\n",
      "# pickled vars recorded:/frazer01/projects/hipsci/analysis/i2QTL-sv-analysis/private_output/unify_sv_callsets/load_pickled_nb_variables.py\n"
     ]
    }
   ],
   "source": [
    "CM.save_dataframe('unify_sv_gs_ss_info', g, private_out)"
   ]
  },
  {
   "cell_type": "code",
   "execution_count": 85,
   "metadata": {
    "collapsed": false
   },
   "outputs": [
    {
     "data": {
      "text/plain": [
       "(6400, 45)"
      ]
     },
     "execution_count": 85,
     "metadata": {},
     "output_type": "execute_result"
    }
   ],
   "source": [
    "# clusters now broken up more\n",
    "g.shape"
   ]
  },
  {
   "cell_type": "code",
   "execution_count": 86,
   "metadata": {
    "collapsed": false
   },
   "outputs": [
    {
     "data": {
      "text/html": [
       "<div>\n",
       "<style scoped>\n",
       "    .dataframe tbody tr th:only-of-type {\n",
       "        vertical-align: middle;\n",
       "    }\n",
       "\n",
       "    .dataframe tbody tr th {\n",
       "        vertical-align: top;\n",
       "    }\n",
       "\n",
       "    .dataframe thead th {\n",
       "        text-align: right;\n",
       "    }\n",
       "</style>\n",
       "<table border=\"1\" class=\"dataframe\">\n",
       "  <thead>\n",
       "    <tr style=\"text-align: right;\">\n",
       "      <th></th>\n",
       "      <th>cnv_clust</th>\n",
       "      <th>num_in_set</th>\n",
       "      <th>mean_corr</th>\n",
       "      <th>ro_average</th>\n",
       "      <th>max_len_cnv</th>\n",
       "      <th>max_length_ID</th>\n",
       "      <th>both_present</th>\n",
       "      <th>types</th>\n",
       "      <th>lumpy_sites</th>\n",
       "      <th>gs_sites</th>\n",
       "      <th>max_qual_lumpy</th>\n",
       "      <th>max_qual_gs</th>\n",
       "      <th>max_degree_cnvs</th>\n",
       "      <th>num_max_degree_cnvs</th>\n",
       "      <th>max_degree</th>\n",
       "      <th>degree_dict</th>\n",
       "      <th>max_degree_cnv_gs</th>\n",
       "      <th>num_max_degree_gs</th>\n",
       "      <th>degree_max_gs</th>\n",
       "      <th>max_degree_cnv_lumpy</th>\n",
       "      <th>num_max_degree_lumpy</th>\n",
       "      <th>degree_max_lumpy</th>\n",
       "      <th>max_deg_max_qual_gs</th>\n",
       "      <th>max_deg_max_qual_lumpy</th>\n",
       "      <th>svtypes_present</th>\n",
       "      <th>num_svtypes</th>\n",
       "      <th>dup_lumpy</th>\n",
       "      <th>dels_lumpy</th>\n",
       "      <th>rmei_lumpy</th>\n",
       "      <th>dup_gs</th>\n",
       "      <th>dels_gs</th>\n",
       "      <th>mcnvs_gs</th>\n",
       "      <th>non_redundant_primary_site</th>\n",
       "      <th>cluster_num</th>\n",
       "      <th>Chr</th>\n",
       "      <th>Start</th>\n",
       "      <th>End</th>\n",
       "      <th>MC_cluster_ID</th>\n",
       "      <th>num_lumpy</th>\n",
       "      <th>num_gs</th>\n",
       "      <th>num_del_gs</th>\n",
       "      <th>num_del_lumpy</th>\n",
       "      <th>num_dup_gs</th>\n",
       "      <th>num_dup_lumpy</th>\n",
       "      <th>non_redundant_svtype</th>\n",
       "    </tr>\n",
       "    <tr>\n",
       "      <th>cluster_num</th>\n",
       "      <th></th>\n",
       "      <th></th>\n",
       "      <th></th>\n",
       "      <th></th>\n",
       "      <th></th>\n",
       "      <th></th>\n",
       "      <th></th>\n",
       "      <th></th>\n",
       "      <th></th>\n",
       "      <th></th>\n",
       "      <th></th>\n",
       "      <th></th>\n",
       "      <th></th>\n",
       "      <th></th>\n",
       "      <th></th>\n",
       "      <th></th>\n",
       "      <th></th>\n",
       "      <th></th>\n",
       "      <th></th>\n",
       "      <th></th>\n",
       "      <th></th>\n",
       "      <th></th>\n",
       "      <th></th>\n",
       "      <th></th>\n",
       "      <th></th>\n",
       "      <th></th>\n",
       "      <th></th>\n",
       "      <th></th>\n",
       "      <th></th>\n",
       "      <th></th>\n",
       "      <th></th>\n",
       "      <th></th>\n",
       "      <th></th>\n",
       "      <th></th>\n",
       "      <th></th>\n",
       "      <th></th>\n",
       "      <th></th>\n",
       "      <th></th>\n",
       "      <th></th>\n",
       "      <th></th>\n",
       "      <th></th>\n",
       "      <th></th>\n",
       "      <th></th>\n",
       "      <th></th>\n",
       "      <th></th>\n",
       "    </tr>\n",
       "  </thead>\n",
       "  <tbody>\n",
       "  </tbody>\n",
       "</table>\n",
       "</div>"
      ],
      "text/plain": [
       "Empty DataFrame\n",
       "Columns: [cnv_clust, num_in_set, mean_corr, ro_average, max_len_cnv, max_length_ID, both_present, types, lumpy_sites, gs_sites, max_qual_lumpy, max_qual_gs, max_degree_cnvs, num_max_degree_cnvs, max_degree, degree_dict, max_degree_cnv_gs, num_max_degree_gs, degree_max_gs, max_degree_cnv_lumpy, num_max_degree_lumpy, degree_max_lumpy, max_deg_max_qual_gs, max_deg_max_qual_lumpy, svtypes_present, num_svtypes, dup_lumpy, dels_lumpy, rmei_lumpy, dup_gs, dels_gs, mcnvs_gs, non_redundant_primary_site, cluster_num, Chr, Start, End, MC_cluster_ID, num_lumpy, num_gs, num_del_gs, num_del_lumpy, num_dup_gs, num_dup_lumpy, non_redundant_svtype]\n",
       "Index: []"
      ]
     },
     "execution_count": 86,
     "metadata": {},
     "output_type": "execute_result"
    }
   ],
   "source": [
    "g[g.non_redundant_primary_site == 'CNV_16_16661612_16682309_Stitched']"
   ]
  },
  {
   "cell_type": "code",
   "execution_count": 61,
   "metadata": {
    "collapsed": false
   },
   "outputs": [
    {
     "data": {
      "text/plain": [
       "(6327, 45)"
      ]
     },
     "execution_count": 61,
     "metadata": {},
     "output_type": "execute_result"
    }
   ],
   "source": [
    "# new\n",
    "g.shape"
   ]
  },
  {
   "cell_type": "code",
   "execution_count": 62,
   "metadata": {
    "collapsed": false
   },
   "outputs": [
    {
     "data": {
      "text/plain": [
       "13592"
      ]
     },
     "execution_count": 62,
     "metadata": {},
     "output_type": "execute_result"
    }
   ],
   "source": [
    "# new\n",
    "g.num_in_set.sum()"
   ]
  },
  {
   "cell_type": "code",
   "execution_count": 65,
   "metadata": {
    "collapsed": false
   },
   "outputs": [
    {
     "data": {
      "text/plain": [
       "(6479, 45)"
      ]
     },
     "execution_count": 65,
     "metadata": {},
     "output_type": "execute_result"
    }
   ],
   "source": [
    "# previous (v3)\n",
    "unify_sv_gs_ss_info_v3.shape"
   ]
  },
  {
   "cell_type": "code",
   "execution_count": 64,
   "metadata": {
    "collapsed": false
   },
   "outputs": [
    {
     "data": {
      "text/plain": [
       "13696"
      ]
     },
     "execution_count": 64,
     "metadata": {},
     "output_type": "execute_result"
    }
   ],
   "source": [
    "# previous (v3)\n",
    "unify_sv_gs_ss_info_v3.num_in_set.sum()"
   ]
  },
  {
   "cell_type": "markdown",
   "metadata": {},
   "source": [
    "Fewer merged - mistakes seem to be fixed with the correlation thresholds (wasn't filtering non-mCNV)"
   ]
  },
  {
   "cell_type": "code",
   "execution_count": 44,
   "metadata": {
    "collapsed": false
   },
   "outputs": [
    {
     "data": {
      "text/plain": [
       "(10953, 259)"
      ]
     },
     "execution_count": 44,
     "metadata": {},
     "output_type": "execute_result"
    }
   ],
   "source": [
    "gs_info_new.shape"
   ]
  },
  {
   "cell_type": "code",
   "execution_count": 1229,
   "metadata": {
    "collapsed": false
   },
   "outputs": [
    {
     "data": {
      "text/plain": [
       "(6468, 38)"
      ]
     },
     "execution_count": 1229,
     "metadata": {},
     "output_type": "execute_result"
    }
   ],
   "source": [
    "g.shape"
   ]
  },
  {
   "cell_type": "code",
   "execution_count": 1231,
   "metadata": {
    "collapsed": false
   },
   "outputs": [
    {
     "data": {
      "text/plain": [
       "13681"
      ]
     },
     "execution_count": 1231,
     "metadata": {},
     "output_type": "execute_result"
    }
   ],
   "source": [
    "g.num_in_set.sum()"
   ]
  },
  {
   "cell_type": "code",
   "execution_count": 1260,
   "metadata": {
    "collapsed": false
   },
   "outputs": [
    {
     "data": {
      "text/plain": [
       "5783"
      ]
     },
     "execution_count": 1260,
     "metadata": {},
     "output_type": "execute_result"
    }
   ],
   "source": [
    "g.num_del_gs.sum()"
   ]
  },
  {
   "cell_type": "code",
   "execution_count": 1268,
   "metadata": {
    "collapsed": false
   },
   "outputs": [
    {
     "data": {
      "text/plain": [
       "DEL     7420\n",
       "mCNV    1837\n",
       "DUP     1678\n",
       "Name: cnv_class, dtype: int64"
      ]
     },
     "execution_count": 1268,
     "metadata": {},
     "output_type": "execute_result"
    }
   ],
   "source": [
    "gs_info_new.cnv_class.value_counts()"
   ]
  },
  {
   "cell_type": "code",
   "execution_count": null,
   "metadata": {
    "collapsed": true
   },
   "outputs": [],
   "source": []
  },
  {
   "cell_type": "code",
   "execution_count": 1267,
   "metadata": {
    "collapsed": false
   },
   "outputs": [
    {
     "data": {
      "text/plain": [
       "1082"
      ]
     },
     "execution_count": 1267,
     "metadata": {},
     "output_type": "execute_result"
    }
   ],
   "source": [
    "1760 - 678"
   ]
  },
  {
   "cell_type": "code",
   "execution_count": 1266,
   "metadata": {
    "collapsed": false
   },
   "outputs": [
    {
     "data": {
      "text/plain": [
       "DEL     15667\n",
       "rMEI     2427\n",
       "DUP      1760\n",
       "Name: SVTYPE, dtype: int64"
      ]
     },
     "execution_count": 1266,
     "metadata": {},
     "output_type": "execute_result"
    }
   ],
   "source": [
    "lumpy_cnvs.SVTYPE.value_counts()"
   ]
  },
  {
   "cell_type": "code",
   "execution_count": 1265,
   "metadata": {
    "collapsed": false
   },
   "outputs": [
    {
     "data": {
      "text/plain": [
       "934"
      ]
     },
     "execution_count": 1265,
     "metadata": {},
     "output_type": "execute_result"
    }
   ],
   "source": [
    "1678 - 744"
   ]
  },
  {
   "cell_type": "code",
   "execution_count": 1264,
   "metadata": {
    "collapsed": false
   },
   "outputs": [
    {
     "data": {
      "text/plain": [
       "744"
      ]
     },
     "execution_count": 1264,
     "metadata": {},
     "output_type": "execute_result"
    }
   ],
   "source": [
    "g.num_dup_gs.sum()"
   ]
  },
  {
   "cell_type": "code",
   "execution_count": 1263,
   "metadata": {
    "collapsed": false
   },
   "outputs": [
    {
     "data": {
      "text/plain": [
       "678"
      ]
     },
     "execution_count": 1263,
     "metadata": {},
     "output_type": "execute_result"
    }
   ],
   "source": [
    "g.num_dup_lumpy.sum()"
   ]
  },
  {
   "cell_type": "code",
   "execution_count": 1262,
   "metadata": {
    "collapsed": false
   },
   "outputs": [
    {
     "data": {
      "text/plain": [
       "1637"
      ]
     },
     "execution_count": 1262,
     "metadata": {},
     "output_type": "execute_result"
    }
   ],
   "source": [
    "7420 - 5783"
   ]
  },
  {
   "cell_type": "code",
   "execution_count": 1261,
   "metadata": {
    "collapsed": false
   },
   "outputs": [
    {
     "data": {
      "text/plain": [
       "DEL     7420\n",
       "mCNV    1837\n",
       "DUP     1678\n",
       "Name: cnv_class, dtype: int64"
      ]
     },
     "execution_count": 1261,
     "metadata": {},
     "output_type": "execute_result"
    }
   ],
   "source": [
    "gs_info_new.cnv_class.value_counts()"
   ]
  },
  {
   "cell_type": "code",
   "execution_count": 1250,
   "metadata": {
    "collapsed": false
   },
   "outputs": [
    {
     "data": {
      "text/plain": [
       "678"
      ]
     },
     "execution_count": 1250,
     "metadata": {},
     "output_type": "execute_result"
    }
   ],
   "source": [
    "g.num_dup_lumpy.sum()"
   ]
  },
  {
   "cell_type": "code",
   "execution_count": 1252,
   "metadata": {
    "collapsed": false
   },
   "outputs": [
    {
     "data": {
      "text/plain": [
       "6012"
      ]
     },
     "execution_count": 1252,
     "metadata": {},
     "output_type": "execute_result"
    }
   ],
   "source": [
    "g.num_del_lumpy.sum()"
   ]
  },
  {
   "cell_type": "code",
   "execution_count": 1256,
   "metadata": {
    "collapsed": false
   },
   "outputs": [
    {
     "data": {
      "text/plain": [
       "9655"
      ]
     },
     "execution_count": 1256,
     "metadata": {},
     "output_type": "execute_result"
    }
   ],
   "source": [
    "15667 - 6012"
   ]
  },
  {
   "cell_type": "code",
   "execution_count": 1258,
   "metadata": {
    "collapsed": false
   },
   "outputs": [
    {
     "data": {
      "text/plain": [
       "count    19854.000000\n",
       "mean         0.080286\n",
       "std          1.397806\n",
       "min          0.000000\n",
       "25%          0.000000\n",
       "50%          0.000000\n",
       "75%          0.000000\n",
       "max         45.000000\n",
       "Name: Missing_non_ipsc, dtype: float64"
      ]
     },
     "execution_count": 1258,
     "metadata": {},
     "output_type": "execute_result"
    }
   ],
   "source": [
    "lumpy_cnvs.Missing_non_ipsc.describe()"
   ]
  },
  {
   "cell_type": "code",
   "execution_count": 1248,
   "metadata": {
    "collapsed": false
   },
   "outputs": [
    {
     "data": {
      "text/plain": [
       "DEL     15667\n",
       "rMEI     2427\n",
       "DUP      1760\n",
       "Name: SVTYPE, dtype: int64"
      ]
     },
     "execution_count": 1248,
     "metadata": {},
     "output_type": "execute_result"
    }
   ],
   "source": [
    "lumpy_cnvs.SVTYPE.value_counts()"
   ]
  },
  {
   "cell_type": "code",
   "execution_count": 1247,
   "metadata": {
    "collapsed": false
   },
   "outputs": [
    {
     "data": {
      "text/plain": [
       "744"
      ]
     },
     "execution_count": 1247,
     "metadata": {},
     "output_type": "execute_result"
    }
   ],
   "source": [
    "g.num_dup_gs.sum()"
   ]
  },
  {
   "cell_type": "code",
   "execution_count": 1245,
   "metadata": {
    "collapsed": false
   },
   "outputs": [
    {
     "data": {
      "text/plain": [
       "5783"
      ]
     },
     "execution_count": 1245,
     "metadata": {},
     "output_type": "execute_result"
    }
   ],
   "source": [
    "g['num_del_gs'].sum()"
   ]
  },
  {
   "cell_type": "code",
   "execution_count": 1242,
   "metadata": {
    "collapsed": false
   },
   "outputs": [
    {
     "data": {
      "text/plain": [
       "DEL     7420\n",
       "mCNV    1837\n",
       "DUP     1678\n",
       "Name: cnv_class, dtype: int64"
      ]
     },
     "execution_count": 1242,
     "metadata": {},
     "output_type": "execute_result"
    }
   ],
   "source": [
    "gs_info_new.cnv_class.value_counts()"
   ]
  },
  {
   "cell_type": "code",
   "execution_count": 1237,
   "metadata": {
    "collapsed": false
   },
   "outputs": [
    {
     "data": {
      "text/plain": [
       "6742"
      ]
     },
     "execution_count": 1237,
     "metadata": {},
     "output_type": "execute_result"
    }
   ],
   "source": [
    "g.num_lumpy.sum()"
   ]
  },
  {
   "cell_type": "code",
   "execution_count": 1238,
   "metadata": {
    "collapsed": false
   },
   "outputs": [
    {
     "data": {
      "text/plain": [
       "6939"
      ]
     },
     "execution_count": 1238,
     "metadata": {},
     "output_type": "execute_result"
    }
   ],
   "source": [
    "g.num_gs.sum()"
   ]
  },
  {
   "cell_type": "code",
   "execution_count": 1241,
   "metadata": {
    "collapsed": false
   },
   "outputs": [
    {
     "data": {
      "text/plain": [
       "DEL     5558\n",
       "DUP      583\n",
       "mCNV     276\n",
       "rMEI      51\n",
       "Name: non_redundant_svtype, dtype: int64"
      ]
     },
     "execution_count": 1241,
     "metadata": {},
     "output_type": "execute_result"
    }
   ],
   "source": [
    "g.non_redundant_svtype.value_counts()"
   ]
  },
  {
   "cell_type": "code",
   "execution_count": 1232,
   "metadata": {
    "collapsed": false
   },
   "outputs": [
    {
     "data": {
      "text/plain": [
       "(10935, 221)"
      ]
     },
     "execution_count": 1232,
     "metadata": {},
     "output_type": "execute_result"
    }
   ],
   "source": [
    "gs_info_new.shape"
   ]
  },
  {
   "cell_type": "code",
   "execution_count": 1233,
   "metadata": {
    "collapsed": false
   },
   "outputs": [
    {
     "data": {
      "text/plain": [
       "(19854, 106)"
      ]
     },
     "execution_count": 1233,
     "metadata": {},
     "output_type": "execute_result"
    }
   ],
   "source": [
    "lumpy_cnvs.shape"
   ]
  },
  {
   "cell_type": "code",
   "execution_count": 1224,
   "metadata": {
    "collapsed": false
   },
   "outputs": [
    {
     "name": "stdout",
     "output_type": "stream",
     "text": [
      "unify_sv_gs_ss_info = pd.read_pickle('/frazer01/projects/hipsci/analysis/i2QTL-sv-analysis/private_output/unify_sv_callsets/unify_sv_gs_ss_info.pkl')\n",
      "unify_sv_gs_ss_info = pd.read_csv('/frazer01/projects/hipsci/analysis/i2QTL-sv-analysis/private_output/unify_sv_callsets/unify_sv_gs_ss_info.tsv', sep='\\t')\n",
      "# all vars recorded: /frazer01/projects/hipsci/analysis/i2QTL-sv-analysis/private_output/unify_sv_callsets/load_saved_nb_variables.py\n",
      "# pickled vars recorded:/frazer01/projects/hipsci/analysis/i2QTL-sv-analysis/private_output/unify_sv_callsets/load_pickled_nb_variables.py\n"
     ]
    }
   ],
   "source": [
    "CM.save_dataframe('unify_sv_gs_ss_info', g, private_out)"
   ]
  },
  {
   "cell_type": "markdown",
   "metadata": {},
   "source": [
    "# Development"
   ]
  },
  {
   "cell_type": "code",
   "execution_count": 688,
   "metadata": {
    "collapsed": false
   },
   "outputs": [
    {
     "data": {
      "text/plain": [
       "Counter({1: 6545, 2: 5, 3: 22, 6: 1})"
      ]
     },
     "execution_count": 688,
     "metadata": {},
     "output_type": "execute_result"
    }
   ],
   "source": [
    "Counter(g[0])"
   ]
  },
  {
   "cell_type": "code",
   "execution_count": 700,
   "metadata": {
    "collapsed": false
   },
   "outputs": [
    {
     "data": {
      "image/png": "[encoded data removed]",
      "text/plain": [
       "<matplotlib.figure.Figure at 0x7f290e37ad50>"
      ]
     },
     "metadata": {},
     "output_type": "display_data"
    }
   ],
   "source": [
    "nx.draw_networkx(g)"
   ]
  },
  {
   "cell_type": "code",
   "execution_count": 676,
   "metadata": {
    "collapsed": false
   },
   "outputs": [
    {
     "data": {
      "text/html": [
       "<div>\n",
       "<style scoped>\n",
       "    .dataframe tbody tr th:only-of-type {\n",
       "        vertical-align: middle;\n",
       "    }\n",
       "\n",
       "    .dataframe tbody tr th {\n",
       "        vertical-align: top;\n",
       "    }\n",
       "\n",
       "    .dataframe thead th {\n",
       "        text-align: right;\n",
       "    }\n",
       "</style>\n",
       "<table border=\"1\" class=\"dataframe\">\n",
       "  <thead>\n",
       "    <tr style=\"text-align: right;\">\n",
       "      <th></th>\n",
       "      <th>CNV_12_38798360_38800563_iPSCORE</th>\n",
       "      <th>CNV_12_38798460_38801763_iPSCORE</th>\n",
       "      <th>CNV_12_38797306_38799563_iPSCORE</th>\n",
       "      <th>DUP_12_38798387_38800707</th>\n",
       "    </tr>\n",
       "  </thead>\n",
       "  <tbody>\n",
       "    <tr>\n",
       "      <th>CNV_12_38798360_38800563_iPSCORE</th>\n",
       "      <td>1.000000</td>\n",
       "      <td>0.948016</td>\n",
       "      <td>0.948016</td>\n",
       "      <td>0.911465</td>\n",
       "    </tr>\n",
       "    <tr>\n",
       "      <th>CNV_12_38798460_38801763_iPSCORE</th>\n",
       "      <td>0.948016</td>\n",
       "      <td>1.000000</td>\n",
       "      <td>1.000000</td>\n",
       "      <td>0.851500</td>\n",
       "    </tr>\n",
       "    <tr>\n",
       "      <th>CNV_12_38797306_38799563_iPSCORE</th>\n",
       "      <td>0.948016</td>\n",
       "      <td>1.000000</td>\n",
       "      <td>1.000000</td>\n",
       "      <td>0.851500</td>\n",
       "    </tr>\n",
       "    <tr>\n",
       "      <th>DUP_12_38798387_38800707</th>\n",
       "      <td>0.911465</td>\n",
       "      <td>0.851500</td>\n",
       "      <td>0.851500</td>\n",
       "      <td>1.000000</td>\n",
       "    </tr>\n",
       "  </tbody>\n",
       "</table>\n",
       "</div>"
      ],
      "text/plain": [
       "                                  CNV_12_38798360_38800563_iPSCORE  \\\n",
       "CNV_12_38798360_38800563_iPSCORE                          1.000000   \n",
       "CNV_12_38798460_38801763_iPSCORE                          0.948016   \n",
       "CNV_12_38797306_38799563_iPSCORE                          0.948016   \n",
       "DUP_12_38798387_38800707                                  0.911465   \n",
       "\n",
       "                                  CNV_12_38798460_38801763_iPSCORE  \\\n",
       "CNV_12_38798360_38800563_iPSCORE                          0.948016   \n",
       "CNV_12_38798460_38801763_iPSCORE                          1.000000   \n",
       "CNV_12_38797306_38799563_iPSCORE                          1.000000   \n",
       "DUP_12_38798387_38800707                                  0.851500   \n",
       "\n",
       "                                  CNV_12_38797306_38799563_iPSCORE  \\\n",
       "CNV_12_38798360_38800563_iPSCORE                          0.948016   \n",
       "CNV_12_38798460_38801763_iPSCORE                          1.000000   \n",
       "CNV_12_38797306_38799563_iPSCORE                          1.000000   \n",
       "DUP_12_38798387_38800707                                  0.851500   \n",
       "\n",
       "                                  DUP_12_38798387_38800707  \n",
       "CNV_12_38798360_38800563_iPSCORE                  0.911465  \n",
       "CNV_12_38798460_38801763_iPSCORE                  0.851500  \n",
       "CNV_12_38797306_38799563_iPSCORE                  0.851500  \n",
       "DUP_12_38798387_38800707                          1.000000  "
      ]
     },
     "execution_count": 676,
     "metadata": {},
     "output_type": "execute_result"
    }
   ],
   "source": [
    "gts_all_t[g.nodes()].corr()"
   ]
  },
  {
   "cell_type": "code",
   "execution_count": null,
   "metadata": {
    "collapsed": true
   },
   "outputs": [],
   "source": [
    "get_edge_data()"
   ]
  },
  {
   "cell_type": "code",
   "execution_count": 1047,
   "metadata": {
    "collapsed": false
   },
   "outputs": [
    {
     "data": {
      "text/plain": [
       "(['lumpy', 'GS', 'GS'],\n",
       " Counter({'GS': 2, 'lumpy': 1}),\n",
       " True,\n",
       " ['DEL_18_27133989_27371774'],\n",
       " ['CNV_18_27178234_27290892_HipSci', 'CNV_18_27215605_27222317_iPSCORE'])"
      ]
     },
     "execution_count": 1047,
     "metadata": {},
     "output_type": "execute_result"
    }
   ],
   "source": [
    "check_caller_types_present_of_cnvs(['DEL_18_27133989_27371774', 'CNV_18_27178234_27290892_HipSci', 'CNV_18_27215605_27222317_iPSCORE'])"
   ]
  },
  {
   "cell_type": "code",
   "execution_count": 706,
   "metadata": {
    "collapsed": false
   },
   "outputs": [],
   "source": [
    "c = nx.algorithms.find_cliques(g) \n",
    "\n",
    "\n",
    "means = []\n",
    "data = []\n",
    "subgraphs = []\n",
    "num_in_clique = []\n",
    "for l in c:\n",
    "    subgraphs.append(l)\n",
    "    n = len(l)\n",
    "    t, s2, both, lumpy, gs = check_caller_types_present_of_cnvs(l)\n",
    "    num_in_clique.append(n)\n",
    "    max_length, max_cnvs = get_max_length_var(l)\n",
    "    s = g.subgraph(l)\n",
    "    m = np.mean(get_edge_data(s, 'R2').values())\n",
    "    ro_a = np.mean(get_edge_data(s, 'RO_average').values())\n",
    "    data.append([l, n, m, ro_a, max_length, max_cnvs, both, s2, lumpy, gs])\n",
    "\n",
    "\n",
    "    \n",
    "    \n",
    "    \n",
    "\n",
    "df = pd.DataFrame(data, columns=['clique', 'num_in_clique', 'mean_corr', 'ro_average', 'max_len_cnv', 'max_length_ID', 'both_present', 'types'])\n",
    "\n",
    "# df = df[df.both_present == True]\n",
    "\n",
    "# max_num_cliques = df.num_in_clique.max()\n",
    "\n",
    "# df = df[(df.num_in_clique == df.num_in_clique.max())]\n",
    "\n",
    "# c = df[df.mean_corr == df.mean_corr.max()].clique.tolist()"
   ]
  },
  {
   "cell_type": "code",
   "execution_count": 708,
   "metadata": {
    "collapsed": false
   },
   "outputs": [
    {
     "data": {
      "text/html": [
       "<div>\n",
       "<style scoped>\n",
       "    .dataframe tbody tr th:only-of-type {\n",
       "        vertical-align: middle;\n",
       "    }\n",
       "\n",
       "    .dataframe tbody tr th {\n",
       "        vertical-align: top;\n",
       "    }\n",
       "\n",
       "    .dataframe thead th {\n",
       "        text-align: right;\n",
       "    }\n",
       "</style>\n",
       "<table border=\"1\" class=\"dataframe\">\n",
       "  <thead>\n",
       "    <tr style=\"text-align: right;\">\n",
       "      <th></th>\n",
       "      <th>clique</th>\n",
       "      <th>num_in_clique</th>\n",
       "      <th>mean_corr</th>\n",
       "      <th>ro_average</th>\n",
       "      <th>max_len_cnv</th>\n",
       "      <th>max_length_ID</th>\n",
       "      <th>both_present</th>\n",
       "      <th>types</th>\n",
       "    </tr>\n",
       "  </thead>\n",
       "  <tbody>\n",
       "    <tr>\n",
       "      <th>0</th>\n",
       "      <td>[CNV_12_38798360_38800563_iPSCORE, CNV_12_3879...</td>\n",
       "      <td>4</td>\n",
       "      <td>0.84639</td>\n",
       "      <td>0.674622</td>\n",
       "      <td>3303</td>\n",
       "      <td>CNV_12_38798460_38801763_iPSCORE</td>\n",
       "      <td>True</td>\n",
       "      <td>{u'lumpy': 1, u'GS': 3}</td>\n",
       "    </tr>\n",
       "  </tbody>\n",
       "</table>\n",
       "</div>"
      ],
      "text/plain": [
       "                                              clique  num_in_clique  \\\n",
       "0  [CNV_12_38798360_38800563_iPSCORE, CNV_12_3879...              4   \n",
       "\n",
       "   mean_corr  ro_average  max_len_cnv                     max_length_ID  \\\n",
       "0    0.84639    0.674622         3303  CNV_12_38798460_38801763_iPSCORE   \n",
       "\n",
       "   both_present                    types  \n",
       "0          True  {u'lumpy': 1, u'GS': 3}  "
      ]
     },
     "execution_count": 708,
     "metadata": {},
     "output_type": "execute_result"
    }
   ],
   "source": [
    "df"
   ]
  },
  {
   "cell_type": "code",
   "execution_count": 694,
   "metadata": {
    "collapsed": true
   },
   "outputs": [],
   "source": [
    "qual_dict_gs= gs_info_new.GSCNQUAL_max.to_dict()"
   ]
  },
  {
   "cell_type": "code",
   "execution_count": null,
   "metadata": {
    "collapsed": true
   },
   "outputs": [],
   "source": []
  },
  {
   "cell_type": "code",
   "execution_count": null,
   "metadata": {
    "collapsed": true
   },
   "outputs": [],
   "source": [
    "df[df.max_num]"
   ]
  },
  {
   "cell_type": "code",
   "execution_count": 609,
   "metadata": {
    "collapsed": false
   },
   "outputs": [
    {
     "data": {
      "text/html": [
       "<div>\n",
       "<style scoped>\n",
       "    .dataframe tbody tr th:only-of-type {\n",
       "        vertical-align: middle;\n",
       "    }\n",
       "\n",
       "    .dataframe tbody tr th {\n",
       "        vertical-align: top;\n",
       "    }\n",
       "\n",
       "    .dataframe thead th {\n",
       "        text-align: right;\n",
       "    }\n",
       "</style>\n",
       "<table border=\"1\" class=\"dataframe\">\n",
       "  <thead>\n",
       "    <tr style=\"text-align: right;\">\n",
       "      <th></th>\n",
       "      <th>clique</th>\n",
       "      <th>num_in_clique</th>\n",
       "      <th>mean_corr</th>\n",
       "      <th>ro_average</th>\n",
       "      <th>max_len_cnv</th>\n",
       "      <th>max_length_ID</th>\n",
       "    </tr>\n",
       "  </thead>\n",
       "  <tbody>\n",
       "    <tr>\n",
       "      <th>0</th>\n",
       "      <td>[DEL_10_134711341_134715564, CNV_10_134711219_...</td>\n",
       "      <td>2</td>\n",
       "      <td>0.347398</td>\n",
       "      <td>0.969222</td>\n",
       "      <td>4500</td>\n",
       "      <td>CNV_10_134711219_134715719_HipSci</td>\n",
       "    </tr>\n",
       "    <tr>\n",
       "      <th>1</th>\n",
       "      <td>[DUP_10_134692917_134797801, CNV_10_134691879_...</td>\n",
       "      <td>3</td>\n",
       "      <td>0.858836</td>\n",
       "      <td>0.669290</td>\n",
       "      <td>104884</td>\n",
       "      <td>DUP_10_134692917_134797801</td>\n",
       "    </tr>\n",
       "    <tr>\n",
       "      <th>2</th>\n",
       "      <td>[DUP_10_134692917_134797801, CNV_10_134691879_...</td>\n",
       "      <td>3</td>\n",
       "      <td>0.699066</td>\n",
       "      <td>0.676623</td>\n",
       "      <td>104884</td>\n",
       "      <td>DUP_10_134692917_134797801</td>\n",
       "    </tr>\n",
       "    <tr>\n",
       "      <th>3</th>\n",
       "      <td>[DUP_10_134692917_134797801, CNV_10_134691879_...</td>\n",
       "      <td>3</td>\n",
       "      <td>0.858929</td>\n",
       "      <td>0.674391</td>\n",
       "      <td>104884</td>\n",
       "      <td>DUP_10_134692917_134797801</td>\n",
       "    </tr>\n",
       "    <tr>\n",
       "      <th>4</th>\n",
       "      <td>[DUP_10_134692917_134797801, CNV_10_134691879_...</td>\n",
       "      <td>3</td>\n",
       "      <td>0.575992</td>\n",
       "      <td>0.669927</td>\n",
       "      <td>104884</td>\n",
       "      <td>DUP_10_134692917_134797801</td>\n",
       "    </tr>\n",
       "  </tbody>\n",
       "</table>\n",
       "</div>"
      ],
      "text/plain": [
       "                                              clique  num_in_clique  \\\n",
       "0  [DEL_10_134711341_134715564, CNV_10_134711219_...              2   \n",
       "1  [DUP_10_134692917_134797801, CNV_10_134691879_...              3   \n",
       "2  [DUP_10_134692917_134797801, CNV_10_134691879_...              3   \n",
       "3  [DUP_10_134692917_134797801, CNV_10_134691879_...              3   \n",
       "4  [DUP_10_134692917_134797801, CNV_10_134691879_...              3   \n",
       "\n",
       "   mean_corr  ro_average  max_len_cnv                      max_length_ID  \n",
       "0   0.347398    0.969222         4500  CNV_10_134711219_134715719_HipSci  \n",
       "1   0.858836    0.669290       104884         DUP_10_134692917_134797801  \n",
       "2   0.699066    0.676623       104884         DUP_10_134692917_134797801  \n",
       "3   0.858929    0.674391       104884         DUP_10_134692917_134797801  \n",
       "4   0.575992    0.669927       104884         DUP_10_134692917_134797801  "
      ]
     },
     "execution_count": 609,
     "metadata": {},
     "output_type": "execute_result"
    }
   ],
   "source": []
  },
  {
   "cell_type": "code",
   "execution_count": 565,
   "metadata": {
    "collapsed": false
   },
   "outputs": [
    {
     "data": {
      "text/plain": [
       "[('DEL_18_27215568_27222302', {}),\n",
       " ('DEL_18_27133989_27371774', {}),\n",
       " ('CNV_18_27294192_27370993_HipSci', {}),\n",
       " ('CNV_18_27178234_27290892_HipSci', {}),\n",
       " ('CNV_18_27215605_27222317_iPSCORE', {})]"
      ]
     },
     "execution_count": 565,
     "metadata": {},
     "output_type": "execute_result"
    }
   ],
   "source": [
    "g.nodes()"
   ]
  },
  {
   "cell_type": "code",
   "execution_count": 550,
   "metadata": {
    "collapsed": false
   },
   "outputs": [
    {
     "data": {
      "text/plain": [
       "['DEL_18_27215568_27222302', 'CNV_18_27215605_27222317_iPSCORE']"
      ]
     },
     "execution_count": 550,
     "metadata": {},
     "output_type": "execute_result"
    }
   ],
   "source": []
  },
  {
   "cell_type": "code",
   "execution_count": null,
   "metadata": {
    "collapsed": true
   },
   "outputs": [],
   "source": [
    "g."
   ]
  },
  {
   "cell_type": "code",
   "execution_count": 524,
   "metadata": {
    "collapsed": false
   },
   "outputs": [
    {
     "data": {
      "text/plain": [
       "Counter({1: 6791,\n",
       "         2: 85,\n",
       "         3: 110,\n",
       "         4: 45,\n",
       "         5: 17,\n",
       "         6: 13,\n",
       "         7: 5,\n",
       "         8: 5,\n",
       "         9: 6,\n",
       "         10: 1,\n",
       "         11: 3,\n",
       "         12: 2,\n",
       "         13: 1,\n",
       "         15: 1,\n",
       "         16: 1,\n",
       "         17: 1,\n",
       "         21: 1,\n",
       "         23: 1})"
      ]
     },
     "execution_count": 524,
     "metadata": {},
     "output_type": "execute_result"
    }
   ],
   "source": [
    "Counter(g[0])"
   ]
  },
  {
   "cell_type": "code",
   "execution_count": 410,
   "metadata": {
    "collapsed": false
   },
   "outputs": [],
   "source": [
    "z = gts_all_t.loc[samps, ['CNV_4_60540886_60546676_iPSCORE', 'CNV_4_60544676_60545776_HipSci']].corr()"
   ]
  },
  {
   "cell_type": "code",
   "execution_count": 411,
   "metadata": {
    "collapsed": false
   },
   "outputs": [
    {
     "data": {
      "text/html": [
       "<div>\n",
       "<style scoped>\n",
       "    .dataframe tbody tr th:only-of-type {\n",
       "        vertical-align: middle;\n",
       "    }\n",
       "\n",
       "    .dataframe tbody tr th {\n",
       "        vertical-align: top;\n",
       "    }\n",
       "\n",
       "    .dataframe thead th {\n",
       "        text-align: right;\n",
       "    }\n",
       "</style>\n",
       "<table border=\"1\" class=\"dataframe\">\n",
       "  <thead>\n",
       "    <tr style=\"text-align: right;\">\n",
       "      <th></th>\n",
       "      <th>CNV_4_60540886_60546676_iPSCORE</th>\n",
       "      <th>CNV_4_60544676_60545776_HipSci</th>\n",
       "    </tr>\n",
       "  </thead>\n",
       "  <tbody>\n",
       "    <tr>\n",
       "      <th>CNV_4_60540886_60546676_iPSCORE</th>\n",
       "      <td>1.000000</td>\n",
       "      <td>0.762096</td>\n",
       "    </tr>\n",
       "    <tr>\n",
       "      <th>CNV_4_60544676_60545776_HipSci</th>\n",
       "      <td>0.762096</td>\n",
       "      <td>1.000000</td>\n",
       "    </tr>\n",
       "  </tbody>\n",
       "</table>\n",
       "</div>"
      ],
      "text/plain": [
       "                                 CNV_4_60540886_60546676_iPSCORE  \\\n",
       "CNV_4_60540886_60546676_iPSCORE                         1.000000   \n",
       "CNV_4_60544676_60545776_HipSci                          0.762096   \n",
       "\n",
       "                                 CNV_4_60544676_60545776_HipSci  \n",
       "CNV_4_60540886_60546676_iPSCORE                        0.762096  \n",
       "CNV_4_60544676_60545776_HipSci                         1.000000  "
      ]
     },
     "execution_count": 411,
     "metadata": {},
     "output_type": "execute_result"
    }
   ],
   "source": [
    "z **2"
   ]
  },
  {
   "cell_type": "code",
   "execution_count": 412,
   "metadata": {
    "collapsed": false
   },
   "outputs": [
    {
     "data": {
      "text/html": [
       "<div>\n",
       "<style scoped>\n",
       "    .dataframe tbody tr th:only-of-type {\n",
       "        vertical-align: middle;\n",
       "    }\n",
       "\n",
       "    .dataframe tbody tr th {\n",
       "        vertical-align: top;\n",
       "    }\n",
       "\n",
       "    .dataframe thead th {\n",
       "        text-align: right;\n",
       "    }\n",
       "</style>\n",
       "<table border=\"1\" class=\"dataframe\">\n",
       "  <thead>\n",
       "    <tr style=\"text-align: right;\">\n",
       "      <th></th>\n",
       "      <th>CNV_4_60540886_60546676_iPSCORE</th>\n",
       "      <th>CNV_4_60544676_60545776_HipSci</th>\n",
       "    </tr>\n",
       "  </thead>\n",
       "  <tbody>\n",
       "    <tr>\n",
       "      <th>CNV_4_60540886_60546676_iPSCORE</th>\n",
       "      <td>1.000000</td>\n",
       "      <td>0.872981</td>\n",
       "    </tr>\n",
       "    <tr>\n",
       "      <th>CNV_4_60544676_60545776_HipSci</th>\n",
       "      <td>0.872981</td>\n",
       "      <td>1.000000</td>\n",
       "    </tr>\n",
       "  </tbody>\n",
       "</table>\n",
       "</div>"
      ],
      "text/plain": [
       "                                 CNV_4_60540886_60546676_iPSCORE  \\\n",
       "CNV_4_60540886_60546676_iPSCORE                         1.000000   \n",
       "CNV_4_60544676_60545776_HipSci                          0.872981   \n",
       "\n",
       "                                 CNV_4_60544676_60545776_HipSci  \n",
       "CNV_4_60540886_60546676_iPSCORE                        0.872981  \n",
       "CNV_4_60544676_60545776_HipSci                         1.000000  "
      ]
     },
     "execution_count": 412,
     "metadata": {},
     "output_type": "execute_result"
    }
   ],
   "source": [
    "z"
   ]
  },
  {
   "cell_type": "code",
   "execution_count": null,
   "metadata": {
    "collapsed": true
   },
   "outputs": [],
   "source": []
  },
  {
   "cell_type": "code",
   "execution_count": null,
   "metadata": {
    "collapsed": true
   },
   "outputs": [],
   "source": []
  },
  {
   "cell_type": "code",
   "execution_count": 416,
   "metadata": {
    "collapsed": false
   },
   "outputs": [
    {
     "data": {
      "text/plain": [
       "[[3, 235], [5, 233]]"
      ]
     },
     "execution_count": 416,
     "metadata": {},
     "output_type": "execute_result"
    }
   ],
   "source": [
    "sorted([[5, 233], [3, 235]], key = lambda x: [x[0], [x[1]]])"
   ]
  },
  {
   "cell_type": "code",
   "execution_count": 383,
   "metadata": {
    "collapsed": false
   },
   "outputs": [
    {
     "data": {
      "text/plain": [
       "(['DEL_3_22110265_22256348'],\n",
       " 1,\n",
       " 4,\n",
       " {'CNV_3_22125541_22185771_HipSci': 1,\n",
       "  'CNV_3_22131098_22143551_HipSci': 2,\n",
       "  'CNV_3_22146709_22151242_HipSci': 2,\n",
       "  'CNV_3_22183827_22226309_Stitched': 1,\n",
       "  'DEL_3_22110265_22256348': 4,\n",
       "  'DEL_3_22131385_22142173': 1,\n",
       "  'DEL_3_22146967_22151307': 1})"
      ]
     },
     "execution_count": 383,
     "metadata": {},
     "output_type": "execute_result"
    }
   ],
   "source": [
    "get_max_degree(g)"
   ]
  },
  {
   "cell_type": "code",
   "execution_count": 313,
   "metadata": {
    "collapsed": false
   },
   "outputs": [
    {
     "ename": "AttributeError",
     "evalue": "'DataFrame' object has no attribute 'np_id'",
     "output_type": "error",
     "traceback": [
      "\u001b[1;31m---------------------------------------------------------------------------\u001b[0m",
      "\u001b[1;31mAttributeError\u001b[0m                            Traceback (most recent call last)",
      "\u001b[1;32m<ipython-input-313-7a9cb4da841b>\u001b[0m in \u001b[0;36m<module>\u001b[1;34m()\u001b[0m\n\u001b[1;32m----> 1\u001b[1;33m \u001b[0msvtypes_b\u001b[0m \u001b[1;33m=\u001b[0m \u001b[0md\u001b[0m\u001b[1;33m.\u001b[0m\u001b[0mloc\u001b[0m\u001b[1;33m[\u001b[0m\u001b[0mget_edge_data\u001b[0m\u001b[1;33m(\u001b[0m\u001b[0mg\u001b[0m\u001b[1;33m,\u001b[0m \u001b[1;34m'np_id'\u001b[0m\u001b[1;33m)\u001b[0m\u001b[1;33m.\u001b[0m\u001b[0mvalues\u001b[0m\u001b[1;33m(\u001b[0m\u001b[1;33m)\u001b[0m\u001b[1;33m]\u001b[0m\u001b[1;33m.\u001b[0m\u001b[0mnp_id\u001b[0m\u001b[1;33m.\u001b[0m\u001b[0mtolist\u001b[0m\u001b[1;33m(\u001b[0m\u001b[1;33m)\u001b[0m\u001b[1;33m\u001b[0m\u001b[0m\n\u001b[0m",
      "\u001b[1;32m/frazer01/home/djakubosky/software/anaconda/lib/python2.7/site-packages/pandas/core/generic.pyc\u001b[0m in \u001b[0;36m__getattr__\u001b[1;34m(self, name)\u001b[0m\n\u001b[0;32m   3612\u001b[0m             \u001b[1;32mif\u001b[0m \u001b[0mname\u001b[0m \u001b[1;32min\u001b[0m \u001b[0mself\u001b[0m\u001b[1;33m.\u001b[0m\u001b[0m_info_axis\u001b[0m\u001b[1;33m:\u001b[0m\u001b[1;33m\u001b[0m\u001b[0m\n\u001b[0;32m   3613\u001b[0m                 \u001b[1;32mreturn\u001b[0m \u001b[0mself\u001b[0m\u001b[1;33m[\u001b[0m\u001b[0mname\u001b[0m\u001b[1;33m]\u001b[0m\u001b[1;33m\u001b[0m\u001b[0m\n\u001b[1;32m-> 3614\u001b[1;33m             \u001b[1;32mreturn\u001b[0m \u001b[0mobject\u001b[0m\u001b[1;33m.\u001b[0m\u001b[0m__getattribute__\u001b[0m\u001b[1;33m(\u001b[0m\u001b[0mself\u001b[0m\u001b[1;33m,\u001b[0m \u001b[0mname\u001b[0m\u001b[1;33m)\u001b[0m\u001b[1;33m\u001b[0m\u001b[0m\n\u001b[0m\u001b[0;32m   3615\u001b[0m \u001b[1;33m\u001b[0m\u001b[0m\n\u001b[0;32m   3616\u001b[0m     \u001b[1;32mdef\u001b[0m \u001b[0m__setattr__\u001b[0m\u001b[1;33m(\u001b[0m\u001b[0mself\u001b[0m\u001b[1;33m,\u001b[0m \u001b[0mname\u001b[0m\u001b[1;33m,\u001b[0m \u001b[0mvalue\u001b[0m\u001b[1;33m)\u001b[0m\u001b[1;33m:\u001b[0m\u001b[1;33m\u001b[0m\u001b[0m\n",
      "\u001b[1;31mAttributeError\u001b[0m: 'DataFrame' object has no attribute 'np_id'"
     ]
    }
   ],
   "source": [
    "svtypes_b = d.loc[get_edge_data(g, 'np_id').values()].np_id.tolist()"
   ]
  },
  {
   "cell_type": "code",
   "execution_count": null,
   "metadata": {
    "collapsed": true
   },
   "outputs": [],
   "source": []
  },
  {
   "cell_type": "code",
   "execution_count": 315,
   "metadata": {
    "collapsed": false
   },
   "outputs": [
    {
     "data": {
      "text/html": [
       "<div>\n",
       "<style scoped>\n",
       "    .dataframe tbody tr th:only-of-type {\n",
       "        vertical-align: middle;\n",
       "    }\n",
       "\n",
       "    .dataframe tbody tr th {\n",
       "        vertical-align: top;\n",
       "    }\n",
       "\n",
       "    .dataframe thead th {\n",
       "        text-align: right;\n",
       "    }\n",
       "</style>\n",
       "<table border=\"1\" class=\"dataframe\">\n",
       "  <thead>\n",
       "    <tr style=\"text-align: right;\">\n",
       "      <th></th>\n",
       "      <th>ID_A</th>\n",
       "      <th>ID_B</th>\n",
       "      <th>corr_coef</th>\n",
       "      <th>average_RO</th>\n",
       "      <th>RO_A</th>\n",
       "      <th>RO_B</th>\n",
       "      <th>SVTYPE_A</th>\n",
       "      <th>SVTYPE_B</th>\n",
       "      <th>overlap</th>\n",
       "      <th>node_pair_ID</th>\n",
       "      <th>Length_A</th>\n",
       "      <th>Length_B</th>\n",
       "      <th>covering</th>\n",
       "      <th>contained</th>\n",
       "      <th>GSCNQUAL</th>\n",
       "      <th>MSQ</th>\n",
       "      <th>SVTYPE_PAIR</th>\n",
       "      <th>r2</th>\n",
       "    </tr>\n",
       "    <tr>\n",
       "      <th>node_pair_ID</th>\n",
       "      <th></th>\n",
       "      <th></th>\n",
       "      <th></th>\n",
       "      <th></th>\n",
       "      <th></th>\n",
       "      <th></th>\n",
       "      <th></th>\n",
       "      <th></th>\n",
       "      <th></th>\n",
       "      <th></th>\n",
       "      <th></th>\n",
       "      <th></th>\n",
       "      <th></th>\n",
       "      <th></th>\n",
       "      <th></th>\n",
       "      <th></th>\n",
       "      <th></th>\n",
       "      <th></th>\n",
       "    </tr>\n",
       "  </thead>\n",
       "  <tbody>\n",
       "    <tr>\n",
       "      <th>CNV_4_60540886_60546676_iPSCORE-DEL_4_60477824_60552917</th>\n",
       "      <td>CNV_4_60540886_60546676_iPSCORE</td>\n",
       "      <td>DEL_4_60477824_60552917</td>\n",
       "      <td>-0.579366</td>\n",
       "      <td>0.538552</td>\n",
       "      <td>1.000000</td>\n",
       "      <td>0.077104</td>\n",
       "      <td>mCNV</td>\n",
       "      <td>DEL</td>\n",
       "      <td>5790</td>\n",
       "      <td>CNV_4_60540886_60546676_iPSCORE-DEL_4_60477824...</td>\n",
       "      <td>5790</td>\n",
       "      <td>75093</td>\n",
       "      <td>DEL_4_60477824_60552917</td>\n",
       "      <td>CNV_4_60540886_60546676_iPSCORE</td>\n",
       "      <td>32.0251</td>\n",
       "      <td>512.36</td>\n",
       "      <td>DEL_mCNV</td>\n",
       "      <td>0.335665</td>\n",
       "    </tr>\n",
       "    <tr>\n",
       "      <th>CNV_4_60478106_60552866_HipSci-DEL_4_60477824_60552917</th>\n",
       "      <td>CNV_4_60478106_60552866_HipSci</td>\n",
       "      <td>DEL_4_60477824_60552917</td>\n",
       "      <td>-1.000000</td>\n",
       "      <td>0.997783</td>\n",
       "      <td>1.000000</td>\n",
       "      <td>0.995565</td>\n",
       "      <td>DEL</td>\n",
       "      <td>DEL</td>\n",
       "      <td>74760</td>\n",
       "      <td>CNV_4_60478106_60552866_HipSci-DEL_4_60477824_...</td>\n",
       "      <td>74760</td>\n",
       "      <td>75093</td>\n",
       "      <td>DEL_4_60477824_60552917</td>\n",
       "      <td>CNV_4_60478106_60552866_HipSci</td>\n",
       "      <td>68.2452</td>\n",
       "      <td>512.36</td>\n",
       "      <td>DEL</td>\n",
       "      <td>1.000000</td>\n",
       "    </tr>\n",
       "    <tr>\n",
       "      <th>CNV_4_60540886_60546676_iPSCORE-DUP_4_60542790_60546768</th>\n",
       "      <td>CNV_4_60540886_60546676_iPSCORE</td>\n",
       "      <td>DUP_4_60542790_60546768</td>\n",
       "      <td>0.778184</td>\n",
       "      <td>0.824015</td>\n",
       "      <td>0.671157</td>\n",
       "      <td>0.976873</td>\n",
       "      <td>mCNV</td>\n",
       "      <td>DUP</td>\n",
       "      <td>3886</td>\n",
       "      <td>CNV_4_60540886_60546676_iPSCORE-DUP_4_60542790...</td>\n",
       "      <td>5790</td>\n",
       "      <td>3978</td>\n",
       "      <td>False</td>\n",
       "      <td>False</td>\n",
       "      <td>32.0251</td>\n",
       "      <td>573.08</td>\n",
       "      <td>DUP_mCNV</td>\n",
       "      <td>0.605570</td>\n",
       "    </tr>\n",
       "    <tr>\n",
       "      <th>CNV_4_60544676_60545776_HipSci-DUP_4_60542790_60546768</th>\n",
       "      <td>CNV_4_60544676_60545776_HipSci</td>\n",
       "      <td>DUP_4_60542790_60546768</td>\n",
       "      <td>0.844619</td>\n",
       "      <td>0.638260</td>\n",
       "      <td>1.000000</td>\n",
       "      <td>0.276521</td>\n",
       "      <td>mCNV</td>\n",
       "      <td>DUP</td>\n",
       "      <td>1100</td>\n",
       "      <td>CNV_4_60544676_60545776_HipSci-DUP_4_60542790_...</td>\n",
       "      <td>1100</td>\n",
       "      <td>3978</td>\n",
       "      <td>DUP_4_60542790_60546768</td>\n",
       "      <td>CNV_4_60544676_60545776_HipSci</td>\n",
       "      <td>16.7604</td>\n",
       "      <td>573.08</td>\n",
       "      <td>DUP_mCNV</td>\n",
       "      <td>0.713381</td>\n",
       "    </tr>\n",
       "  </tbody>\n",
       "</table>\n",
       "</div>"
      ],
      "text/plain": [
       "                                                                               ID_A  \\\n",
       "node_pair_ID                                                                          \n",
       "CNV_4_60540886_60546676_iPSCORE-DEL_4_60477824_...  CNV_4_60540886_60546676_iPSCORE   \n",
       "CNV_4_60478106_60552866_HipSci-DEL_4_60477824_6...   CNV_4_60478106_60552866_HipSci   \n",
       "CNV_4_60540886_60546676_iPSCORE-DUP_4_60542790_...  CNV_4_60540886_60546676_iPSCORE   \n",
       "CNV_4_60544676_60545776_HipSci-DUP_4_60542790_6...   CNV_4_60544676_60545776_HipSci   \n",
       "\n",
       "                                                                       ID_B  \\\n",
       "node_pair_ID                                                                  \n",
       "CNV_4_60540886_60546676_iPSCORE-DEL_4_60477824_...  DEL_4_60477824_60552917   \n",
       "CNV_4_60478106_60552866_HipSci-DEL_4_60477824_6...  DEL_4_60477824_60552917   \n",
       "CNV_4_60540886_60546676_iPSCORE-DUP_4_60542790_...  DUP_4_60542790_60546768   \n",
       "CNV_4_60544676_60545776_HipSci-DUP_4_60542790_6...  DUP_4_60542790_60546768   \n",
       "\n",
       "                                                    corr_coef  average_RO  \\\n",
       "node_pair_ID                                                                \n",
       "CNV_4_60540886_60546676_iPSCORE-DEL_4_60477824_...  -0.579366    0.538552   \n",
       "CNV_4_60478106_60552866_HipSci-DEL_4_60477824_6...  -1.000000    0.997783   \n",
       "CNV_4_60540886_60546676_iPSCORE-DUP_4_60542790_...   0.778184    0.824015   \n",
       "CNV_4_60544676_60545776_HipSci-DUP_4_60542790_6...   0.844619    0.638260   \n",
       "\n",
       "                                                        RO_A      RO_B  \\\n",
       "node_pair_ID                                                             \n",
       "CNV_4_60540886_60546676_iPSCORE-DEL_4_60477824_...  1.000000  0.077104   \n",
       "CNV_4_60478106_60552866_HipSci-DEL_4_60477824_6...  1.000000  0.995565   \n",
       "CNV_4_60540886_60546676_iPSCORE-DUP_4_60542790_...  0.671157  0.976873   \n",
       "CNV_4_60544676_60545776_HipSci-DUP_4_60542790_6...  1.000000  0.276521   \n",
       "\n",
       "                                                   SVTYPE_A SVTYPE_B  overlap  \\\n",
       "node_pair_ID                                                                    \n",
       "CNV_4_60540886_60546676_iPSCORE-DEL_4_60477824_...     mCNV      DEL     5790   \n",
       "CNV_4_60478106_60552866_HipSci-DEL_4_60477824_6...      DEL      DEL    74760   \n",
       "CNV_4_60540886_60546676_iPSCORE-DUP_4_60542790_...     mCNV      DUP     3886   \n",
       "CNV_4_60544676_60545776_HipSci-DUP_4_60542790_6...     mCNV      DUP     1100   \n",
       "\n",
       "                                                                                         node_pair_ID  \\\n",
       "node_pair_ID                                                                                            \n",
       "CNV_4_60540886_60546676_iPSCORE-DEL_4_60477824_...  CNV_4_60540886_60546676_iPSCORE-DEL_4_60477824...   \n",
       "CNV_4_60478106_60552866_HipSci-DEL_4_60477824_6...  CNV_4_60478106_60552866_HipSci-DEL_4_60477824_...   \n",
       "CNV_4_60540886_60546676_iPSCORE-DUP_4_60542790_...  CNV_4_60540886_60546676_iPSCORE-DUP_4_60542790...   \n",
       "CNV_4_60544676_60545776_HipSci-DUP_4_60542790_6...  CNV_4_60544676_60545776_HipSci-DUP_4_60542790_...   \n",
       "\n",
       "                                                    Length_A  Length_B  \\\n",
       "node_pair_ID                                                             \n",
       "CNV_4_60540886_60546676_iPSCORE-DEL_4_60477824_...      5790     75093   \n",
       "CNV_4_60478106_60552866_HipSci-DEL_4_60477824_6...     74760     75093   \n",
       "CNV_4_60540886_60546676_iPSCORE-DUP_4_60542790_...      5790      3978   \n",
       "CNV_4_60544676_60545776_HipSci-DUP_4_60542790_6...      1100      3978   \n",
       "\n",
       "                                                                   covering  \\\n",
       "node_pair_ID                                                                  \n",
       "CNV_4_60540886_60546676_iPSCORE-DEL_4_60477824_...  DEL_4_60477824_60552917   \n",
       "CNV_4_60478106_60552866_HipSci-DEL_4_60477824_6...  DEL_4_60477824_60552917   \n",
       "CNV_4_60540886_60546676_iPSCORE-DUP_4_60542790_...                    False   \n",
       "CNV_4_60544676_60545776_HipSci-DUP_4_60542790_6...  DUP_4_60542790_60546768   \n",
       "\n",
       "                                                                          contained  \\\n",
       "node_pair_ID                                                                          \n",
       "CNV_4_60540886_60546676_iPSCORE-DEL_4_60477824_...  CNV_4_60540886_60546676_iPSCORE   \n",
       "CNV_4_60478106_60552866_HipSci-DEL_4_60477824_6...   CNV_4_60478106_60552866_HipSci   \n",
       "CNV_4_60540886_60546676_iPSCORE-DUP_4_60542790_...                            False   \n",
       "CNV_4_60544676_60545776_HipSci-DUP_4_60542790_6...   CNV_4_60544676_60545776_HipSci   \n",
       "\n",
       "                                                    GSCNQUAL     MSQ  \\\n",
       "node_pair_ID                                                           \n",
       "CNV_4_60540886_60546676_iPSCORE-DEL_4_60477824_...   32.0251  512.36   \n",
       "CNV_4_60478106_60552866_HipSci-DEL_4_60477824_6...   68.2452  512.36   \n",
       "CNV_4_60540886_60546676_iPSCORE-DUP_4_60542790_...   32.0251  573.08   \n",
       "CNV_4_60544676_60545776_HipSci-DUP_4_60542790_6...   16.7604  573.08   \n",
       "\n",
       "                                                   SVTYPE_PAIR        r2  \n",
       "node_pair_ID                                                              \n",
       "CNV_4_60540886_60546676_iPSCORE-DEL_4_60477824_...    DEL_mCNV  0.335665  \n",
       "CNV_4_60478106_60552866_HipSci-DEL_4_60477824_6...         DEL  1.000000  \n",
       "CNV_4_60540886_60546676_iPSCORE-DUP_4_60542790_...    DUP_mCNV  0.605570  \n",
       "CNV_4_60544676_60545776_HipSci-DUP_4_60542790_6...    DUP_mCNV  0.713381  "
      ]
     },
     "execution_count": 315,
     "metadata": {},
     "output_type": "execute_result"
    }
   ],
   "source": [
    " d.loc[get_edge_data(g, 'np_id').values()]"
   ]
  },
  {
   "cell_type": "code",
   "execution_count": 294,
   "metadata": {
    "collapsed": false
   },
   "outputs": [],
   "source": [
    "d = zip(svtypes_a, svtypes_b)"
   ]
  },
  {
   "cell_type": "code",
   "execution_count": null,
   "metadata": {
    "collapsed": true
   },
   "outputs": [],
   "source": []
  },
  {
   "cell_type": "code",
   "execution_count": 290,
   "metadata": {
    "collapsed": false
   },
   "outputs": [
    {
     "data": {
      "text/plain": [
       "(-1, 60000000.0)"
      ]
     },
     "execution_count": 290,
     "metadata": {},
     "output_type": "execute_result"
    },
    {
     "data": {
      "image/png": "[encoded data removed]",
      "text/plain": [
       "<matplotlib.figure.Figure at 0x7f290e3ea9d0>"
      ]
     },
     "metadata": {},
     "output_type": "display_data"
    }
   ],
   "source": [
    "plt.scatter(gs_info_new.Length,gs_info_new.GSCNQUAL_max)\n",
    "plt.xlim(0,  1e7)\n",
    "plt.ylim(-1, 0.6e8)\n"
   ]
  }
 ],
 "metadata": {
  "kernelspec": {
   "display_name": "Python 2",
   "language": "python",
   "name": "python2"
  },
  "language_info": {
   "codemirror_mode": {
    "name": "ipython",
    "version": 2
   },
   "file_extension": ".py",
   "mimetype": "text/x-python",
   "name": "python",
   "nbconvert_exporter": "python",
   "pygments_lexer": "ipython2",
   "version": "2.7.15"
  }
 },
 "nbformat": 4,
 "nbformat_minor": 0
}
